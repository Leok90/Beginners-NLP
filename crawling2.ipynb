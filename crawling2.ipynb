{
 "cells": [
  {
   "cell_type": "code",
   "execution_count": 71,
   "id": "about-novel",
   "metadata": {
    "ExecuteTime": {
     "end_time": "2021-02-09T01:20:04.633202Z",
     "start_time": "2021-02-09T01:20:04.629767Z"
    }
   },
   "outputs": [],
   "source": [
    "import requests\n",
    "from bs4 import BeautifulSoup"
   ]
  },
  {
   "cell_type": "code",
   "execution_count": 72,
   "id": "outdoor-future",
   "metadata": {
    "ExecuteTime": {
     "end_time": "2021-02-09T01:20:05.008246Z",
     "start_time": "2021-02-09T01:20:04.635777Z"
    }
   },
   "outputs": [],
   "source": [
    "url = 'https://www.starbucks.co.kr/store/store_map.do'"
   ]
  },
  {
   "cell_type": "code",
   "execution_count": 73,
   "id": "frank-institution",
   "metadata": {
    "ExecuteTime": {
     "end_time": "2021-02-09T01:20:05.307929Z",
     "start_time": "2021-02-09T01:20:05.011580Z"
    }
   },
   "outputs": [],
   "source": [
    "star = requests.get(url)"
   ]
  },
  {
   "cell_type": "code",
   "execution_count": 74,
   "id": "alien-accuracy",
   "metadata": {
    "ExecuteTime": {
     "end_time": "2021-02-09T01:20:05.316721Z",
     "start_time": "2021-02-09T01:20:05.311882Z"
    }
   },
   "outputs": [
    {
     "data": {
      "text/plain": [
       "<Response [200]>"
      ]
     },
     "execution_count": 74,
     "metadata": {},
     "output_type": "execute_result"
    }
   ],
   "source": [
    "star"
   ]
  },
  {
   "cell_type": "code",
   "execution_count": 75,
   "id": "aquatic-parking",
   "metadata": {
    "ExecuteTime": {
     "end_time": "2021-02-09T01:20:05.449153Z",
     "start_time": "2021-02-09T01:20:05.318390Z"
    }
   },
   "outputs": [],
   "source": [
    "st_bs = BeautifulSoup(star.text, 'lxml')"
   ]
  },
  {
   "cell_type": "code",
   "execution_count": 76,
   "id": "opponent-cleanup",
   "metadata": {
    "ExecuteTime": {
     "end_time": "2021-02-09T01:20:05.512986Z",
     "start_time": "2021-02-09T01:20:05.450591Z"
    }
   },
   "outputs": [
    {
     "data": {
      "text/plain": [
       "[]"
      ]
     },
     "execution_count": 76,
     "metadata": {},
     "output_type": "execute_result"
    }
   ],
   "source": [
    "st_bs.select('li.quickResultLstCon')"
   ]
  },
  {
   "cell_type": "code",
   "execution_count": 77,
   "id": "virtual-annotation",
   "metadata": {
    "ExecuteTime": {
     "end_time": "2021-02-09T01:20:05.607449Z",
     "start_time": "2021-02-09T01:20:05.515431Z"
    }
   },
   "outputs": [],
   "source": [
    "from selenium import webdriver\n",
    "import time"
   ]
  },
  {
   "cell_type": "code",
   "execution_count": 78,
   "id": "arctic-compromise",
   "metadata": {
    "ExecuteTime": {
     "end_time": "2021-02-09T01:20:07.074604Z",
     "start_time": "2021-02-09T01:20:05.611687Z"
    }
   },
   "outputs": [],
   "source": [
    "driver = webdriver.Chrome('/home/leok/다운로드/chromedriver')"
   ]
  },
  {
   "cell_type": "code",
   "execution_count": 79,
   "id": "amino-intensity",
   "metadata": {
    "ExecuteTime": {
     "end_time": "2021-02-09T01:20:11.069094Z",
     "start_time": "2021-02-09T01:20:07.079246Z"
    }
   },
   "outputs": [],
   "source": [
    "driver.get(url)"
   ]
  },
  {
   "cell_type": "code",
   "execution_count": 80,
   "id": "incoming-championship",
   "metadata": {
    "ExecuteTime": {
     "end_time": "2021-02-09T01:20:11.097276Z",
     "start_time": "2021-02-09T01:20:11.071381Z"
    }
   },
   "outputs": [],
   "source": [
    "bu = driver.find_element_by_xpath('/html/body/div[4]/p/a')"
   ]
  },
  {
   "cell_type": "code",
   "execution_count": 81,
   "id": "steady-carpet",
   "metadata": {
    "ExecuteTime": {
     "end_time": "2021-02-09T01:20:11.863464Z",
     "start_time": "2021-02-09T01:20:11.100064Z"
    }
   },
   "outputs": [],
   "source": [
    "bu.click()"
   ]
  },
  {
   "cell_type": "code",
   "execution_count": 82,
   "id": "rapid-roller",
   "metadata": {
    "ExecuteTime": {
     "end_time": "2021-02-09T01:20:11.886667Z",
     "start_time": "2021-02-09T01:20:11.866064Z"
    }
   },
   "outputs": [],
   "source": [
    "bu = driver.find_element_by_xpath('//*[@id=\"container\"]/div/form/fieldset/div/section/article[1]/article/header[2]/h3/a')"
   ]
  },
  {
   "cell_type": "code",
   "execution_count": 83,
   "id": "logical-clone",
   "metadata": {
    "ExecuteTime": {
     "end_time": "2021-02-09T01:20:12.292629Z",
     "start_time": "2021-02-09T01:20:11.889337Z"
    }
   },
   "outputs": [],
   "source": [
    "bu.click()"
   ]
  },
  {
   "cell_type": "code",
   "execution_count": 84,
   "id": "through-bonus",
   "metadata": {
    "ExecuteTime": {
     "end_time": "2021-02-09T01:20:12.316729Z",
     "start_time": "2021-02-09T01:20:12.295506Z"
    }
   },
   "outputs": [],
   "source": [
    "li = driver.find_element_by_class_name('sido_arae_box')"
   ]
  },
  {
   "cell_type": "code",
   "execution_count": 85,
   "id": "israeli-order",
   "metadata": {
    "ExecuteTime": {
     "end_time": "2021-02-09T01:20:12.401047Z",
     "start_time": "2021-02-09T01:20:12.318795Z"
    }
   },
   "outputs": [],
   "source": [
    "lis = li.find_elements_by_tag_name('li')"
   ]
  },
  {
   "cell_type": "code",
   "execution_count": 86,
   "id": "varying-ordering",
   "metadata": {
    "ExecuteTime": {
     "end_time": "2021-02-09T01:20:12.518094Z",
     "start_time": "2021-02-09T01:20:12.403537Z"
    }
   },
   "outputs": [],
   "source": [
    "lis[5].click()"
   ]
  },
  {
   "cell_type": "code",
   "execution_count": 88,
   "id": "mexican-remark",
   "metadata": {
    "ExecuteTime": {
     "end_time": "2021-02-09T01:26:31.466258Z",
     "start_time": "2021-02-09T01:26:31.443756Z"
    }
   },
   "outputs": [],
   "source": [
    "gu = driver.find_element_by_class_name('gugun_arae_box')"
   ]
  },
  {
   "cell_type": "code",
   "execution_count": null,
   "id": "assumed-pulse",
   "metadata": {},
   "outputs": [],
   "source": [
    "lis = gu.find_element_by_tag()"
   ]
  },
  {
   "cell_type": "code",
   "execution_count": null,
   "id": "failing-branch",
   "metadata": {
    "ExecuteTime": {
     "end_time": "2021-02-09T01:20:12.609600Z",
     "start_time": "2021-02-09T01:20:04.646Z"
    }
   },
   "outputs": [],
   "source": [
    "time.sleep(10)"
   ]
  },
  {
   "cell_type": "code",
   "execution_count": null,
   "id": "arbitrary-swing",
   "metadata": {
    "ExecuteTime": {
     "end_time": "2021-02-09T01:20:12.610378Z",
     "start_time": "2021-02-09T01:20:04.647Z"
    }
   },
   "outputs": [],
   "source": [
    "st_bs = BeautifulSoup(driver.page_source, 'lxml')"
   ]
  },
  {
   "cell_type": "code",
   "execution_count": null,
   "id": "portuguese-certification",
   "metadata": {
    "ExecuteTime": {
     "end_time": "2021-02-09T01:20:12.611209Z",
     "start_time": "2021-02-09T01:20:04.652Z"
    }
   },
   "outputs": [],
   "source": [
    "st_bs.select('li.quickResultLstCon')"
   ]
  },
  {
   "cell_type": "code",
   "execution_count": null,
   "id": "revised-smith",
   "metadata": {},
   "outputs": [],
   "source": []
  }
 ],
 "metadata": {
  "kernelspec": {
   "display_name": "tf2-gpu",
   "language": "python",
   "name": "tf2-gpu"
  },
  "language_info": {
   "codemirror_mode": {
    "name": "ipython",
    "version": 3
   },
   "file_extension": ".py",
   "mimetype": "text/x-python",
   "name": "python",
   "nbconvert_exporter": "python",
   "pygments_lexer": "ipython3",
   "version": "3.8.2"
  },
  "toc": {
   "base_numbering": 1,
   "nav_menu": {},
   "number_sections": true,
   "sideBar": true,
   "skip_h1_title": false,
   "title_cell": "Table of Contents",
   "title_sidebar": "Contents",
   "toc_cell": false,
   "toc_position": {},
   "toc_section_display": true,
   "toc_window_display": false
  },
  "varInspector": {
   "cols": {
    "lenName": 16,
    "lenType": 16,
    "lenVar": 40
   },
   "kernels_config": {
    "python": {
     "delete_cmd_postfix": "",
     "delete_cmd_prefix": "del ",
     "library": "var_list.py",
     "varRefreshCmd": "print(var_dic_list())"
    },
    "r": {
     "delete_cmd_postfix": ") ",
     "delete_cmd_prefix": "rm(",
     "library": "var_list.r",
     "varRefreshCmd": "cat(var_dic_list()) "
    }
   },
   "types_to_exclude": [
    "module",
    "function",
    "builtin_function_or_method",
    "instance",
    "_Feature"
   ],
   "window_display": false
  }
 },
 "nbformat": 4,
 "nbformat_minor": 5
}
