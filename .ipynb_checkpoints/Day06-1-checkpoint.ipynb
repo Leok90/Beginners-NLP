{
 "cells": [
  {
   "cell_type": "markdown",
   "id": "crazy-daughter",
   "metadata": {},
   "source": [
    "### 출처: Won Joon Yoo, Introduction to Deep Learning for Natural Language Processing, Wikidocs</br>\n",
    "### https://wikidocs.net/44249"
   ]
  },
  {
   "cell_type": "markdown",
   "id": "impaired-instrument",
   "metadata": {},
   "source": [
    "### # 네이버 영화 리뷰 감성 분류하기"
   ]
  },
  {
   "cell_type": "code",
   "execution_count": 32,
   "id": "strategic-cosmetic",
   "metadata": {},
   "outputs": [
    {
     "data": {
      "application/javascript": [
       "IPython.notebook.set_autosave_interval(60000)"
      ]
     },
     "metadata": {},
     "output_type": "display_data"
    },
    {
     "name": "stdout",
     "output_type": "stream",
     "text": [
      "Autosaving every 60 seconds\n"
     ]
    }
   ],
   "source": [
    "%autosave 60"
   ]
  },
  {
   "cell_type": "code",
   "execution_count": 33,
   "id": "twenty-immigration",
   "metadata": {},
   "outputs": [],
   "source": [
    "import pandas as pd\n",
    "import numpy as np\n",
    "%matplotlib inline\n",
    "import matplotlib.pyplot as plt\n",
    "import re\n",
    "import urllib.request\n",
    "from konlpy.tag import Okt\n",
    "from tensorflow.keras.preprocessing.text import Tokenizer\n",
    "from tensorflow.keras.preprocessing.sequence import pad_sequences"
   ]
  },
  {
   "cell_type": "code",
   "execution_count": 34,
   "id": "certain-attachment",
   "metadata": {},
   "outputs": [
    {
     "data": {
      "text/plain": [
       "('ratings_test.txt', <http.client.HTTPMessage at 0x7f59a5f91970>)"
      ]
     },
     "execution_count": 34,
     "metadata": {},
     "output_type": "execute_result"
    }
   ],
   "source": [
    "urllib.request.urlretrieve(\"https://raw.githubusercontent.com/e9t/nsmc/master/ratings_train.txt\", filename=\"ratings_train.txt\")\n",
    "urllib.request.urlretrieve(\"https://raw.githubusercontent.com/e9t/nsmc/master/ratings_test.txt\", filename=\"ratings_test.txt\")"
   ]
  },
  {
   "cell_type": "code",
   "execution_count": 35,
   "id": "viral-tyler",
   "metadata": {},
   "outputs": [],
   "source": [
    "# .read_table(): 데이터프레임 형식으로 불러오는 함수\n",
    "train_data = pd.read_table('ratings_train.txt')\n",
    "test_data = pd.read_table('ratings_test.txt')"
   ]
  },
  {
   "cell_type": "markdown",
   "id": "billion-meditation",
   "metadata": {},
   "source": [
    "### # 데이터 전처리"
   ]
  },
  {
   "cell_type": "code",
   "execution_count": 36,
   "id": "applicable-alberta",
   "metadata": {},
   "outputs": [
    {
     "name": "stdout",
     "output_type": "stream",
     "text": [
      "훈련용 리뷰 개수 : 150000\n"
     ]
    }
   ],
   "source": [
    "print('훈련용 리뷰 개수 :',len(train_data)) # 훈련용 리뷰 개수 출력"
   ]
  },
  {
   "cell_type": "code",
   "execution_count": 37,
   "id": "sporting-success",
   "metadata": {},
   "outputs": [
    {
     "data": {
      "text/html": [
       "<div>\n",
       "<style scoped>\n",
       "    .dataframe tbody tr th:only-of-type {\n",
       "        vertical-align: middle;\n",
       "    }\n",
       "\n",
       "    .dataframe tbody tr th {\n",
       "        vertical-align: top;\n",
       "    }\n",
       "\n",
       "    .dataframe thead th {\n",
       "        text-align: right;\n",
       "    }\n",
       "</style>\n",
       "<table border=\"1\" class=\"dataframe\">\n",
       "  <thead>\n",
       "    <tr style=\"text-align: right;\">\n",
       "      <th></th>\n",
       "      <th>id</th>\n",
       "      <th>document</th>\n",
       "      <th>label</th>\n",
       "    </tr>\n",
       "  </thead>\n",
       "  <tbody>\n",
       "    <tr>\n",
       "      <th>0</th>\n",
       "      <td>9976970</td>\n",
       "      <td>아 더빙.. 진짜 짜증나네요 목소리</td>\n",
       "      <td>0</td>\n",
       "    </tr>\n",
       "    <tr>\n",
       "      <th>1</th>\n",
       "      <td>3819312</td>\n",
       "      <td>흠...포스터보고 초딩영화줄....오버연기조차 가볍지 않구나</td>\n",
       "      <td>1</td>\n",
       "    </tr>\n",
       "    <tr>\n",
       "      <th>2</th>\n",
       "      <td>10265843</td>\n",
       "      <td>너무재밓었다그래서보는것을추천한다</td>\n",
       "      <td>0</td>\n",
       "    </tr>\n",
       "    <tr>\n",
       "      <th>3</th>\n",
       "      <td>9045019</td>\n",
       "      <td>교도소 이야기구먼 ..솔직히 재미는 없다..평점 조정</td>\n",
       "      <td>0</td>\n",
       "    </tr>\n",
       "    <tr>\n",
       "      <th>4</th>\n",
       "      <td>6483659</td>\n",
       "      <td>사이몬페그의 익살스런 연기가 돋보였던 영화!스파이더맨에서 늙어보이기만 했던 커스틴 ...</td>\n",
       "      <td>1</td>\n",
       "    </tr>\n",
       "  </tbody>\n",
       "</table>\n",
       "</div>"
      ],
      "text/plain": [
       "         id                                           document  label\n",
       "0   9976970                                아 더빙.. 진짜 짜증나네요 목소리      0\n",
       "1   3819312                  흠...포스터보고 초딩영화줄....오버연기조차 가볍지 않구나      1\n",
       "2  10265843                                  너무재밓었다그래서보는것을추천한다      0\n",
       "3   9045019                      교도소 이야기구먼 ..솔직히 재미는 없다..평점 조정      0\n",
       "4   6483659  사이몬페그의 익살스런 연기가 돋보였던 영화!스파이더맨에서 늙어보이기만 했던 커스틴 ...      1"
      ]
     },
     "execution_count": 37,
     "metadata": {},
     "output_type": "execute_result"
    }
   ],
   "source": [
    "train_data.head()"
   ]
  },
  {
   "cell_type": "code",
   "execution_count": 38,
   "id": "consolidated-antibody",
   "metadata": {},
   "outputs": [
    {
     "name": "stdout",
     "output_type": "stream",
     "text": [
      "<class 'pandas.core.frame.DataFrame'>\n",
      "RangeIndex: 150000 entries, 0 to 149999\n",
      "Data columns (total 3 columns):\n",
      " #   Column    Non-Null Count   Dtype \n",
      "---  ------    --------------   ----- \n",
      " 0   id        150000 non-null  int64 \n",
      " 1   document  149995 non-null  object\n",
      " 2   label     150000 non-null  int64 \n",
      "dtypes: int64(2), object(1)\n",
      "memory usage: 3.4+ MB\n"
     ]
    }
   ],
   "source": [
    "train_data.info()"
   ]
  },
  {
   "cell_type": "code",
   "execution_count": 39,
   "id": "civic-myrtle",
   "metadata": {},
   "outputs": [
    {
     "data": {
      "text/html": [
       "<div>\n",
       "<style scoped>\n",
       "    .dataframe tbody tr th:only-of-type {\n",
       "        vertical-align: middle;\n",
       "    }\n",
       "\n",
       "    .dataframe tbody tr th {\n",
       "        vertical-align: top;\n",
       "    }\n",
       "\n",
       "    .dataframe thead th {\n",
       "        text-align: right;\n",
       "    }\n",
       "</style>\n",
       "<table border=\"1\" class=\"dataframe\">\n",
       "  <thead>\n",
       "    <tr style=\"text-align: right;\">\n",
       "      <th></th>\n",
       "      <th>id</th>\n",
       "      <th>document</th>\n",
       "      <th>label</th>\n",
       "    </tr>\n",
       "  </thead>\n",
       "  <tbody>\n",
       "    <tr>\n",
       "      <th>27537</th>\n",
       "      <td>8792807</td>\n",
       "      <td>공자 왜평점이 9점대도안되요 ;; 이건말이안됩니다 와... 아침에 1리터눈물을흘렸습...</td>\n",
       "      <td>1</td>\n",
       "    </tr>\n",
       "    <tr>\n",
       "      <th>3188</th>\n",
       "      <td>9620100</td>\n",
       "      <td>미국여성이 지휘한작전아래 아랍여성이 의미없이 죽는 장면이 나올땐 왠지모를 구역질이 ...</td>\n",
       "      <td>0</td>\n",
       "    </tr>\n",
       "    <tr>\n",
       "      <th>738</th>\n",
       "      <td>9881162</td>\n",
       "      <td>성인으로선 점수를 줄수 없다.그만큼 유치하기에...다만 아이들 눈높이에선 어떻지는 ...</td>\n",
       "      <td>0</td>\n",
       "    </tr>\n",
       "    <tr>\n",
       "      <th>32</th>\n",
       "      <td>9251651</td>\n",
       "      <td>평점1점도 주기싫어지는 영화 배우나 감독이라는 사람이나 영화판에서 안봐으면 한다 그...</td>\n",
       "      <td>0</td>\n",
       "    </tr>\n",
       "  </tbody>\n",
       "</table>\n",
       "</div>"
      ],
      "text/plain": [
       "            id                                           document  label\n",
       "27537  8792807  공자 왜평점이 9점대도안되요 ;; 이건말이안됩니다 와... 아침에 1리터눈물을흘렸습...      1\n",
       "3188   9620100  미국여성이 지휘한작전아래 아랍여성이 의미없이 죽는 장면이 나올땐 왠지모를 구역질이 ...      0\n",
       "738    9881162  성인으로선 점수를 줄수 없다.그만큼 유치하기에...다만 아이들 눈높이에선 어떻지는 ...      0\n",
       "32     9251651  평점1점도 주기싫어지는 영화 배우나 감독이라는 사람이나 영화판에서 안봐으면 한다 그...      0"
      ]
     },
     "execution_count": 39,
     "metadata": {},
     "output_type": "execute_result"
    }
   ],
   "source": [
    "# .sample(): 랜덤으로 보여주는 함수\n",
    "test_data.sample(4)"
   ]
  },
  {
   "cell_type": "code",
   "execution_count": 40,
   "id": "opponent-disclosure",
   "metadata": {},
   "outputs": [
    {
     "name": "stdout",
     "output_type": "stream",
     "text": [
      "<class 'pandas.core.frame.DataFrame'>\n",
      "RangeIndex: 50000 entries, 0 to 49999\n",
      "Data columns (total 3 columns):\n",
      " #   Column    Non-Null Count  Dtype \n",
      "---  ------    --------------  ----- \n",
      " 0   id        50000 non-null  int64 \n",
      " 1   document  49997 non-null  object\n",
      " 2   label     50000 non-null  int64 \n",
      "dtypes: int64(2), object(1)\n",
      "memory usage: 1.1+ MB\n"
     ]
    }
   ],
   "source": [
    "test_data.info()"
   ]
  },
  {
   "cell_type": "markdown",
   "id": "toxic-advance",
   "metadata": {},
   "source": [
    "### 데이터 정제"
   ]
  },
  {
   "cell_type": "code",
   "execution_count": 41,
   "id": "smaller-stanford",
   "metadata": {},
   "outputs": [
    {
     "data": {
      "text/plain": [
       "(146182, 2)"
      ]
     },
     "execution_count": 41,
     "metadata": {},
     "output_type": "execute_result"
    }
   ],
   "source": [
    "# 중복 데이터 확인\n",
    "train_data['document'].nunique(), train_data['label'].nunique()"
   ]
  },
  {
   "cell_type": "code",
   "execution_count": 42,
   "id": "ancient-transaction",
   "metadata": {},
   "outputs": [],
   "source": [
    "# document 열에서 중복값이 있는 행 제거\n",
    "train_data.drop_duplicates(subset=['document'], inplace=True)"
   ]
  },
  {
   "cell_type": "code",
   "execution_count": 43,
   "id": "sudden-visiting",
   "metadata": {},
   "outputs": [
    {
     "name": "stdout",
     "output_type": "stream",
     "text": [
      "총 샘플의 수 : 146183\n"
     ]
    }
   ],
   "source": [
    "print('총 샘플의 수 :',len(train_data))"
   ]
  },
  {
   "cell_type": "code",
   "execution_count": 44,
   "id": "recent-genealogy",
   "metadata": {},
   "outputs": [
    {
     "data": {
      "text/plain": [
       "<AxesSubplot:>"
      ]
     },
     "execution_count": 44,
     "metadata": {},
     "output_type": "execute_result"
    },
    {
     "data": {
      "image/png": "[encoded data removed]",
      "text/plain": [
       "<Figure size 432x288 with 1 Axes>"
      ]
     },
     "metadata": {
      "needs_background": "light"
     },
     "output_type": "display_data"
    }
   ],
   "source": [
    "# 긍정, 부정 데이터 분포 확인\n",
    "train_data['label'].value_counts().plot(kind = 'bar')"
   ]
  },
  {
   "cell_type": "code",
   "execution_count": 45,
   "id": "according-strip",
   "metadata": {},
   "outputs": [
    {
     "name": "stdout",
     "output_type": "stream",
     "text": [
      "   label  count\n",
      "0      0  73342\n",
      "1      1  72841\n"
     ]
    }
   ],
   "source": [
    "# 정확하게 몇 개인지 확인\n",
    "print(train_data.groupby('label').size().reset_index(name = 'count'))"
   ]
  },
  {
   "cell_type": "code",
   "execution_count": 46,
   "id": "simple-housing",
   "metadata": {},
   "outputs": [
    {
     "data": {
      "text/plain": [
       "True"
      ]
     },
     "execution_count": 46,
     "metadata": {},
     "output_type": "execute_result"
    }
   ],
   "source": [
    "# Null 값을 가진 샘플이 있는 지 확인\n",
    "train_data.isnull().values.any()"
   ]
  },
  {
   "cell_type": "code",
   "execution_count": 47,
   "id": "consolidated-football",
   "metadata": {},
   "outputs": [
    {
     "data": {
      "text/plain": [
       "id          0\n",
       "document    1\n",
       "label       0\n",
       "dtype: int64"
      ]
     },
     "execution_count": 47,
     "metadata": {},
     "output_type": "execute_result"
    }
   ],
   "source": [
    "# Null 값이 어느 열에 존재하는 지 확인\n",
    "train_data.isnull().sum()"
   ]
  },
  {
   "cell_type": "code",
   "execution_count": 48,
   "id": "detected-conclusion",
   "metadata": {},
   "outputs": [
    {
     "name": "stdout",
     "output_type": "stream",
     "text": [
      "<class 'pandas.core.frame.DataFrame'>\n",
      "Int64Index: 146183 entries, 0 to 149999\n",
      "Data columns (total 3 columns):\n",
      " #   Column    Non-Null Count   Dtype \n",
      "---  ------    --------------   ----- \n",
      " 0   id        146183 non-null  int64 \n",
      " 1   document  146182 non-null  object\n",
      " 2   label     146183 non-null  int64 \n",
      "dtypes: int64(2), object(1)\n",
      "memory usage: 4.5+ MB\n"
     ]
    }
   ],
   "source": [
    "train_data.info()"
   ]
  },
  {
   "cell_type": "code",
   "execution_count": 49,
   "id": "infrared-whale",
   "metadata": {},
   "outputs": [
    {
     "data": {
      "text/html": [
       "<div>\n",
       "<style scoped>\n",
       "    .dataframe tbody tr th:only-of-type {\n",
       "        vertical-align: middle;\n",
       "    }\n",
       "\n",
       "    .dataframe tbody tr th {\n",
       "        vertical-align: top;\n",
       "    }\n",
       "\n",
       "    .dataframe thead th {\n",
       "        text-align: right;\n",
       "    }\n",
       "</style>\n",
       "<table border=\"1\" class=\"dataframe\">\n",
       "  <thead>\n",
       "    <tr style=\"text-align: right;\">\n",
       "      <th></th>\n",
       "      <th>id</th>\n",
       "      <th>document</th>\n",
       "      <th>label</th>\n",
       "    </tr>\n",
       "  </thead>\n",
       "  <tbody>\n",
       "    <tr>\n",
       "      <th>25857</th>\n",
       "      <td>2172111</td>\n",
       "      <td>NaN</td>\n",
       "      <td>1</td>\n",
       "    </tr>\n",
       "  </tbody>\n",
       "</table>\n",
       "</div>"
      ],
      "text/plain": [
       "            id document  label\n",
       "25857  2172111      NaN      1"
      ]
     },
     "execution_count": 49,
     "metadata": {},
     "output_type": "execute_result"
    }
   ],
   "source": [
    "# Null 값을 가진 샘플이 어느 인덱스의 위치에 존재하는 지 출력\n",
    "train_data.loc[train_data.document.isnull()]"
   ]
  },
  {
   "cell_type": "code",
   "execution_count": 50,
   "id": "resident-egyptian",
   "metadata": {},
   "outputs": [],
   "source": [
    "# Null 값이 존재하는 행 제거\n",
    "train_data = train_data.dropna(how = 'any')"
   ]
  },
  {
   "cell_type": "code",
   "execution_count": 51,
   "id": "opened-metro",
   "metadata": {},
   "outputs": [
    {
     "name": "stdout",
     "output_type": "stream",
     "text": [
      "<class 'pandas.core.frame.DataFrame'>\n",
      "Int64Index: 146182 entries, 0 to 149999\n",
      "Data columns (total 3 columns):\n",
      " #   Column    Non-Null Count   Dtype \n",
      "---  ------    --------------   ----- \n",
      " 0   id        146182 non-null  int64 \n",
      " 1   document  146182 non-null  object\n",
      " 2   label     146182 non-null  int64 \n",
      "dtypes: int64(2), object(1)\n",
      "memory usage: 4.5+ MB\n"
     ]
    }
   ],
   "source": [
    "train_data.info()"
   ]
  },
  {
   "cell_type": "code",
   "execution_count": 52,
   "id": "intimate-casino",
   "metadata": {},
   "outputs": [
    {
     "data": {
      "text/plain": [
       "'do you expect people to read the FAQ etc and actually accept hard atheism'"
      ]
     },
     "execution_count": 52,
     "metadata": {},
     "output_type": "execute_result"
    }
   ],
   "source": [
    "# 정규 표현식으로 영어 외에 구두점이나 특수문자 제거 예제\n",
    "text = 'do!!! you expect... people~ to~ read~ the FAQ, etc. and actually accept hard~! atheism?@@'\n",
    "re.sub(r'[^a-zA-Z ]', '', text) #알파벳과 공백을 제외하고 모두 제거"
   ]
  },
  {
   "cell_type": "code",
   "execution_count": 53,
   "id": "metallic-entrance",
   "metadata": {},
   "outputs": [
    {
     "name": "stderr",
     "output_type": "stream",
     "text": [
      "<ipython-input-53-663401652d3b>:2: FutureWarning: The default value of regex will change from True to False in a future version.\n",
      "  train_data['document'] = train_data['document'].str.replace(\"[^ㄱ-ㅎㅏ-ㅣ가-힣 ]\",\"\")\n"
     ]
    }
   ],
   "source": [
    "# 한글과 공백을 제외하고 모두 제거하는 정규 표현식\n",
    "train_data['document'] = train_data['document'].str.replace(\"[^ㄱ-ㅎㅏ-ㅣ가-힣 ]\",\"\")"
   ]
  },
  {
   "cell_type": "code",
   "execution_count": 54,
   "id": "recent-snake",
   "metadata": {},
   "outputs": [
    {
     "data": {
      "text/html": [
       "<div>\n",
       "<style scoped>\n",
       "    .dataframe tbody tr th:only-of-type {\n",
       "        vertical-align: middle;\n",
       "    }\n",
       "\n",
       "    .dataframe tbody tr th {\n",
       "        vertical-align: top;\n",
       "    }\n",
       "\n",
       "    .dataframe thead th {\n",
       "        text-align: right;\n",
       "    }\n",
       "</style>\n",
       "<table border=\"1\" class=\"dataframe\">\n",
       "  <thead>\n",
       "    <tr style=\"text-align: right;\">\n",
       "      <th></th>\n",
       "      <th>id</th>\n",
       "      <th>document</th>\n",
       "      <th>label</th>\n",
       "    </tr>\n",
       "  </thead>\n",
       "  <tbody>\n",
       "    <tr>\n",
       "      <th>0</th>\n",
       "      <td>9976970</td>\n",
       "      <td>아 더빙 진짜 짜증나네요 목소리</td>\n",
       "      <td>0</td>\n",
       "    </tr>\n",
       "    <tr>\n",
       "      <th>1</th>\n",
       "      <td>3819312</td>\n",
       "      <td>흠포스터보고 초딩영화줄오버연기조차 가볍지 않구나</td>\n",
       "      <td>1</td>\n",
       "    </tr>\n",
       "    <tr>\n",
       "      <th>2</th>\n",
       "      <td>10265843</td>\n",
       "      <td>너무재밓었다그래서보는것을추천한다</td>\n",
       "      <td>0</td>\n",
       "    </tr>\n",
       "    <tr>\n",
       "      <th>3</th>\n",
       "      <td>9045019</td>\n",
       "      <td>교도소 이야기구먼 솔직히 재미는 없다평점 조정</td>\n",
       "      <td>0</td>\n",
       "    </tr>\n",
       "    <tr>\n",
       "      <th>4</th>\n",
       "      <td>6483659</td>\n",
       "      <td>사이몬페그의 익살스런 연기가 돋보였던 영화스파이더맨에서 늙어보이기만 했던 커스틴 던...</td>\n",
       "      <td>1</td>\n",
       "    </tr>\n",
       "  </tbody>\n",
       "</table>\n",
       "</div>"
      ],
      "text/plain": [
       "         id                                           document  label\n",
       "0   9976970                                  아 더빙 진짜 짜증나네요 목소리      0\n",
       "1   3819312                         흠포스터보고 초딩영화줄오버연기조차 가볍지 않구나      1\n",
       "2  10265843                                  너무재밓었다그래서보는것을추천한다      0\n",
       "3   9045019                          교도소 이야기구먼 솔직히 재미는 없다평점 조정      0\n",
       "4   6483659  사이몬페그의 익살스런 연기가 돋보였던 영화스파이더맨에서 늙어보이기만 했던 커스틴 던...      1"
      ]
     },
     "execution_count": 54,
     "metadata": {},
     "output_type": "execute_result"
    }
   ],
   "source": [
    "train_data.head()"
   ]
  },
  {
   "cell_type": "code",
   "execution_count": 55,
   "id": "measured-vienna",
   "metadata": {},
   "outputs": [],
   "source": [
    "# 빈 값이 된 리뷰를 Null 값으로 변경하고, Null 값이 존재하는 지 확인\n",
    "train_data['document'].replace('', np.nan, inplace=True)"
   ]
  },
  {
   "cell_type": "code",
   "execution_count": 56,
   "id": "effective-press",
   "metadata": {},
   "outputs": [
    {
     "data": {
      "text/plain": [
       "id            0\n",
       "document    391\n",
       "label         0\n",
       "dtype: int64"
      ]
     },
     "execution_count": 56,
     "metadata": {},
     "output_type": "execute_result"
    }
   ],
   "source": [
    "train_data.isnull().sum()"
   ]
  },
  {
   "cell_type": "code",
   "execution_count": 57,
   "id": "noted-lending",
   "metadata": {},
   "outputs": [
    {
     "data": {
      "text/html": [
       "<div>\n",
       "<style scoped>\n",
       "    .dataframe tbody tr th:only-of-type {\n",
       "        vertical-align: middle;\n",
       "    }\n",
       "\n",
       "    .dataframe tbody tr th {\n",
       "        vertical-align: top;\n",
       "    }\n",
       "\n",
       "    .dataframe thead th {\n",
       "        text-align: right;\n",
       "    }\n",
       "</style>\n",
       "<table border=\"1\" class=\"dataframe\">\n",
       "  <thead>\n",
       "    <tr style=\"text-align: right;\">\n",
       "      <th></th>\n",
       "      <th>id</th>\n",
       "      <th>document</th>\n",
       "      <th>label</th>\n",
       "    </tr>\n",
       "  </thead>\n",
       "  <tbody>\n",
       "    <tr>\n",
       "      <th>584</th>\n",
       "      <td>7117896</td>\n",
       "      <td>NaN</td>\n",
       "      <td>0</td>\n",
       "    </tr>\n",
       "    <tr>\n",
       "      <th>593</th>\n",
       "      <td>6478189</td>\n",
       "      <td>NaN</td>\n",
       "      <td>0</td>\n",
       "    </tr>\n",
       "    <tr>\n",
       "      <th>638</th>\n",
       "      <td>9364602</td>\n",
       "      <td>NaN</td>\n",
       "      <td>0</td>\n",
       "    </tr>\n",
       "    <tr>\n",
       "      <th>668</th>\n",
       "      <td>1600635</td>\n",
       "      <td>NaN</td>\n",
       "      <td>0</td>\n",
       "    </tr>\n",
       "    <tr>\n",
       "      <th>1559</th>\n",
       "      <td>6918082</td>\n",
       "      <td>NaN</td>\n",
       "      <td>1</td>\n",
       "    </tr>\n",
       "  </tbody>\n",
       "</table>\n",
       "</div>"
      ],
      "text/plain": [
       "           id document  label\n",
       "584   7117896      NaN      0\n",
       "593   6478189      NaN      0\n",
       "638   9364602      NaN      0\n",
       "668   1600635      NaN      0\n",
       "1559  6918082      NaN      1"
      ]
     },
     "execution_count": 57,
     "metadata": {},
     "output_type": "execute_result"
    }
   ],
   "source": [
    "train_data.loc[train_data.document.isnull()].head()"
   ]
  },
  {
   "cell_type": "code",
   "execution_count": 58,
   "id": "controlling-colombia",
   "metadata": {},
   "outputs": [],
   "source": [
    "# Null 값이 있는 행 제거\n",
    "train_data = train_data.dropna(how = 'any')"
   ]
  },
  {
   "cell_type": "code",
   "execution_count": 59,
   "id": "outdoor-henry",
   "metadata": {},
   "outputs": [
    {
     "data": {
      "text/plain": [
       "145791"
      ]
     },
     "execution_count": 59,
     "metadata": {},
     "output_type": "execute_result"
    }
   ],
   "source": [
    "len(train_data)"
   ]
  },
  {
   "cell_type": "code",
   "execution_count": 60,
   "id": "valuable-imaging",
   "metadata": {},
   "outputs": [
    {
     "name": "stdout",
     "output_type": "stream",
     "text": [
      "전처리 후 테스트용 샘플의 개수 : 48995\n"
     ]
    },
    {
     "name": "stderr",
     "output_type": "stream",
     "text": [
      "<ipython-input-60-68bbda35d9d4>:2: FutureWarning: The default value of regex will change from True to False in a future version.\n",
      "  test_data['document'] = test_data['document'].str.replace(\"[^ㄱ-ㅎㅏ-ㅣ가-힣 ]\",\"\") # 정규 표현식 수행\n"
     ]
    }
   ],
   "source": [
    "test_data.drop_duplicates(subset = ['document'], inplace=True) # document 열에서 중복인 내용이 있다면 중복 제거\n",
    "test_data['document'] = test_data['document'].str.replace(\"[^ㄱ-ㅎㅏ-ㅣ가-힣 ]\",\"\") # 정규 표현식 수행\n",
    "test_data['document'].replace('', np.nan, inplace=True) # 공백은 Null 값으로 변경\n",
    "test_data = test_data.dropna(how='any') # Null 값 제거\n",
    "print('전처리 후 테스트용 샘플의 개수 :',len(test_data))"
   ]
  },
  {
   "cell_type": "markdown",
   "id": "heavy-crack",
   "metadata": {},
   "source": [
    "### 토큰화"
   ]
  },
  {
   "cell_type": "code",
   "execution_count": 61,
   "id": "alpine-coordinate",
   "metadata": {},
   "outputs": [],
   "source": [
    "stopwords = ['의','가','이','은','들','는','좀','잘','걍','과','도','를','으로','자','에','와','한','하다']"
   ]
  },
  {
   "cell_type": "code",
   "execution_count": 62,
   "id": "strong-bulgarian",
   "metadata": {},
   "outputs": [
    {
     "data": {
      "text/plain": [
       "['오다', '이렇다', '것', '도', '영화', '라고', '차라리', '뮤직비디오', '를', '만들다', '게', '나다', '뻔']"
      ]
     },
     "execution_count": 62,
     "metadata": {},
     "output_type": "execute_result"
    }
   ],
   "source": [
    "okt = Okt()\n",
    "okt.morphs('와 이런 것도 영화라고 차라리 뮤직비디오를 만드는 게 나을 뻔', stem = True)"
   ]
  },
  {
   "cell_type": "code",
   "execution_count": 63,
   "id": "stretch-bidder",
   "metadata": {},
   "outputs": [],
   "source": [
    "X_train = []\n",
    "for sentence in train_data['document']:\n",
    "    temp_X = []\n",
    "    temp_X = okt.morphs(sentence, stem=True) # 토큰화\n",
    "    temp_X = [word for word in temp_X if not word in stopwords] # 불용어 제거\n",
    "    X_train.append(temp_X)"
   ]
  },
  {
   "cell_type": "code",
   "execution_count": 64,
   "id": "frequent-fraud",
   "metadata": {},
   "outputs": [
    {
     "data": {
      "text/plain": [
       "[['아', '더빙', '진짜', '짜증나다', '목소리'],\n",
       " ['흠', '포스터', '보고', '초딩', '영화', '줄', '오버', '연기', '조차', '가볍다', '않다'],\n",
       " ['너', '무재', '밓었', '다그', '래서', '보다', '추천', '다']]"
      ]
     },
     "execution_count": 64,
     "metadata": {},
     "output_type": "execute_result"
    }
   ],
   "source": [
    "X_train[:3]"
   ]
  },
  {
   "cell_type": "code",
   "execution_count": 65,
   "id": "underlying-thursday",
   "metadata": {},
   "outputs": [],
   "source": [
    "X_test = []\n",
    "for sentence in test_data['document']:\n",
    "    temp_X = []\n",
    "    temp_X = okt.morphs(sentence, stem=True) # 토큰화\n",
    "    temp_X = [word for word in temp_X if not word in stopwords] # 불용어 제거\n",
    "    X_test.append(temp_X)"
   ]
  },
  {
   "cell_type": "markdown",
   "id": "mexican-proceeding",
   "metadata": {},
   "source": [
    "### 정수 인코딩"
   ]
  },
  {
   "cell_type": "code",
   "execution_count": 66,
   "id": "willing-floor",
   "metadata": {},
   "outputs": [],
   "source": [
    "tokenizer = Tokenizer()\n",
    "tokenizer.fit_on_texts(X_train)"
   ]
  },
  {
   "cell_type": "code",
   "execution_count": 67,
   "id": "prompt-routine",
   "metadata": {},
   "outputs": [],
   "source": [
    "# 빈도수가 3회 미만인 단어들이 데이터에서 얼마만큼의 비중을 차지하는 지 확인\n",
    "threshold = 3\n",
    "total_cnt = len(tokenizer.word_index) # 단어의 수\n",
    "rare_cnt = 0 # 등장 빈도수가 threshold보다 작은 단어의 개수를 카운트\n",
    "total_freq = 0 # 훈련 데이터의 전체 단어 빈도수 총 합\n",
    "rare_freq = 0 # 등장 빈도수가 threshold보다 작은 단어의 등장 빈도수의 총 합\n",
    "\n",
    "# 단어와 빈도수의 쌍(pair)을 key와 value로 받는다.\n",
    "for key, value in tokenizer.word_counts.items():\n",
    "    total_freq = total_freq + value\n",
    "\n",
    "    # 단어의 등장 빈도수가 threshold보다 작으면\n",
    "    if(value < threshold):\n",
    "        rare_cnt = rare_cnt + 1\n",
    "        rare_freq = rare_freq + value"
   ]
  },
  {
   "cell_type": "code",
   "execution_count": 68,
   "id": "duplicate-touch",
   "metadata": {},
   "outputs": [
    {
     "name": "stdout",
     "output_type": "stream",
     "text": [
      "단어 집합(vocabulary)의 크기 : 43752\n",
      "등장 빈도가 2번 이하인 희귀 단어의 수: 24337\n",
      "단어 집합에서 희귀 단어의 비율: 55.62488571950996\n",
      "전체 등장 빈도에서 희귀 단어 등장 빈도 비율: 1.8715872104872904\n"
     ]
    }
   ],
   "source": [
    "print('단어 집합(vocabulary)의 크기 :',total_cnt)\n",
    "print('등장 빈도가 %s번 이하인 희귀 단어의 수: %s'%(threshold - 1, rare_cnt))\n",
    "print(\"단어 집합에서 희귀 단어의 비율:\", (rare_cnt / total_cnt)*100)\n",
    "print(\"전체 등장 빈도에서 희귀 단어 등장 빈도 비율:\", (rare_freq / total_freq)*100)"
   ]
  },
  {
   "cell_type": "code",
   "execution_count": 69,
   "id": "casual-cargo",
   "metadata": {},
   "outputs": [
    {
     "name": "stdout",
     "output_type": "stream",
     "text": [
      "단어 집합의 크기 : 19417\n"
     ]
    }
   ],
   "source": [
    "# 전체 단어 개수 중 빈도수 2이하인 단어 개수는 제거.\n",
    "# 0번 패딩 토큰과 1번 OOV 토큰을 고려하여 +2\n",
    "# OOV: Out Of Vocabulary 사전에 없는 단어\n",
    "vocab_size = total_cnt - rare_cnt + 2\n",
    "print('단어 집합의 크기 :',vocab_size)"
   ]
  },
  {
   "cell_type": "code",
   "execution_count": 70,
   "id": "governmental-darwin",
   "metadata": {},
   "outputs": [],
   "source": [
    "tokenizer = Tokenizer(vocab_size, oov_token = 'OOV') \n",
    "tokenizer.fit_on_texts(X_train)\n",
    "X_train = tokenizer.texts_to_sequences(X_train)\n",
    "X_test = tokenizer.texts_to_sequences(X_test)"
   ]
  },
  {
   "cell_type": "code",
   "execution_count": 73,
   "id": "miniature-kingston",
   "metadata": {},
   "outputs": [
    {
     "data": {
      "text/plain": [
       "1"
      ]
     },
     "execution_count": 73,
     "metadata": {},
     "output_type": "execute_result"
    }
   ],
   "source": [
    "# OOV는 정수인코딩 후 1에 할당\n",
    "tokenizer.word_index['OOV']"
   ]
  },
  {
   "cell_type": "code",
   "execution_count": 74,
   "id": "electoral-narrow",
   "metadata": {},
   "outputs": [
    {
     "name": "stdout",
     "output_type": "stream",
     "text": [
      "[[51, 455, 17, 261, 660], [934, 458, 42, 603, 2, 215, 1450, 25, 962, 676, 20], [387, 2445, 1, 2316, 5672, 3, 223, 10]]\n"
     ]
    }
   ],
   "source": [
    "print(X_train[:3])"
   ]
  },
  {
   "cell_type": "code",
   "execution_count": 75,
   "id": "classical-sunday",
   "metadata": {},
   "outputs": [],
   "source": [
    "# nd.array 형태로 변환\n",
    "y_train = np.array(train_data['label'])\n",
    "y_test = np.array(test_data['label'])"
   ]
  },
  {
   "cell_type": "code",
   "execution_count": 76,
   "id": "brown-witness",
   "metadata": {},
   "outputs": [
    {
     "data": {
      "text/plain": [
       "list"
      ]
     },
     "execution_count": 76,
     "metadata": {},
     "output_type": "execute_result"
    }
   ],
   "source": [
    "type(X_train)"
   ]
  },
  {
   "cell_type": "code",
   "execution_count": 77,
   "id": "empty-walker",
   "metadata": {},
   "outputs": [
    {
     "data": {
      "text/plain": [
       "numpy.ndarray"
      ]
     },
     "execution_count": 77,
     "metadata": {},
     "output_type": "execute_result"
    }
   ],
   "source": [
    "type(y_train)"
   ]
  },
  {
   "cell_type": "markdown",
   "id": "ambient-brush",
   "metadata": {},
   "source": [
    "### 빈 샘플(empty samples) 제거"
   ]
  },
  {
   "cell_type": "code",
   "execution_count": 78,
   "id": "approved-clause",
   "metadata": {},
   "outputs": [],
   "source": [
    "drop_train = [index for index, sentence in enumerate(X_train) if len(sentence) < 1]"
   ]
  },
  {
   "cell_type": "code",
   "execution_count": 79,
   "id": "opened-violence",
   "metadata": {
    "collapsed": true,
    "jupyter": {
     "outputs_hidden": true
    }
   },
   "outputs": [
    {
     "data": {
      "text/plain": [
       "[404,\n",
       " 412,\n",
       " 470,\n",
       " 1305,\n",
       " 1541,\n",
       " 2199,\n",
       " 2280,\n",
       " 3538,\n",
       " 4620,\n",
       " 4691,\n",
       " 4854,\n",
       " 4929,\n",
       " 4982,\n",
       " 5068,\n",
       " 5088,\n",
       " 5173,\n",
       " 5719,\n",
       " 6195,\n",
       " 6399,\n",
       " 7499,\n",
       " 8541,\n",
       " 8696,\n",
       " 9147,\n",
       " 9413,\n",
       " 9476,\n",
       " 9523,\n",
       " 9567,\n",
       " 10596,\n",
       " 10632,\n",
       " 11169,\n",
       " 11618,\n",
       " 11893,\n",
       " 12001,\n",
       " 12381,\n",
       " 13041,\n",
       " 13604,\n",
       " 13733,\n",
       " 13745,\n",
       " 13927,\n",
       " 14255,\n",
       " 14536,\n",
       " 14670,\n",
       " 15210,\n",
       " 15873,\n",
       " 16044,\n",
       " 16342,\n",
       " 17535,\n",
       " 17792,\n",
       " 17929,\n",
       " 18517,\n",
       " 19327,\n",
       " 19428,\n",
       " 19654,\n",
       " 20455,\n",
       " 20836,\n",
       " 21790,\n",
       " 22201,\n",
       " 22312,\n",
       " 22474,\n",
       " 22489,\n",
       " 22801,\n",
       " 22818,\n",
       " 22838,\n",
       " 23014,\n",
       " 23066,\n",
       " 23099,\n",
       " 24416,\n",
       " 24834,\n",
       " 25864,\n",
       " 26604,\n",
       " 27794,\n",
       " 28594,\n",
       " 29259,\n",
       " 29628,\n",
       " 29641,\n",
       " 29642,\n",
       " 29670,\n",
       " 30191,\n",
       " 30218,\n",
       " 30472,\n",
       " 30487,\n",
       " 30562,\n",
       " 30574,\n",
       " 30988,\n",
       " 31138,\n",
       " 31405,\n",
       " 31521,\n",
       " 31608,\n",
       " 31680,\n",
       " 32111,\n",
       " 32549,\n",
       " 32645,\n",
       " 32850,\n",
       " 32898,\n",
       " 33430,\n",
       " 33466,\n",
       " 33533,\n",
       " 34037,\n",
       " 34465,\n",
       " 34618,\n",
       " 35277,\n",
       " 35469,\n",
       " 35603,\n",
       " 35622,\n",
       " 35720,\n",
       " 36149,\n",
       " 36856,\n",
       " 37364,\n",
       " 37816,\n",
       " 38002,\n",
       " 38239,\n",
       " 39768,\n",
       " 40142,\n",
       " 40224,\n",
       " 40974,\n",
       " 41040,\n",
       " 41746,\n",
       " 41785,\n",
       " 41990,\n",
       " 42489,\n",
       " 42780,\n",
       " 43308,\n",
       " 43531,\n",
       " 43632,\n",
       " 43936,\n",
       " 44043,\n",
       " 44213,\n",
       " 44257,\n",
       " 44393,\n",
       " 44886,\n",
       " 44993,\n",
       " 45295,\n",
       " 46114,\n",
       " 46422,\n",
       " 46793,\n",
       " 47179,\n",
       " 47290,\n",
       " 47414,\n",
       " 47681,\n",
       " 47822,\n",
       " 48136,\n",
       " 48770,\n",
       " 48842,\n",
       " 49019,\n",
       " 49120,\n",
       " 49671,\n",
       " 50249,\n",
       " 50442,\n",
       " 50951,\n",
       " 51877,\n",
       " 52152,\n",
       " 52404,\n",
       " 52532,\n",
       " 52538,\n",
       " 52641,\n",
       " 52909,\n",
       " 54264,\n",
       " 54307,\n",
       " 54544,\n",
       " 54862,\n",
       " 55621,\n",
       " 55701,\n",
       " 55897,\n",
       " 56164,\n",
       " 56443,\n",
       " 56675,\n",
       " 56862,\n",
       " 56891,\n",
       " 57081,\n",
       " 57117,\n",
       " 57661,\n",
       " 58049,\n",
       " 58138,\n",
       " 58381,\n",
       " 58722,\n",
       " 58943,\n",
       " 59061,\n",
       " 59353,\n",
       " 59379,\n",
       " 59690,\n",
       " 60245,\n",
       " 60515,\n",
       " 60643,\n",
       " 60868,\n",
       " 61178,\n",
       " 61256,\n",
       " 61259,\n",
       " 62649,\n",
       " 62859,\n",
       " 62921,\n",
       " 63062,\n",
       " 64046,\n",
       " 64230,\n",
       " 66099,\n",
       " 66408,\n",
       " 67326,\n",
       " 67338,\n",
       " 68359,\n",
       " 69034,\n",
       " 69879,\n",
       " 70203,\n",
       " 70595,\n",
       " 70923,\n",
       " 70982,\n",
       " 71116,\n",
       " 71444,\n",
       " 71588,\n",
       " 71840,\n",
       " 71988,\n",
       " 71994,\n",
       " 72401,\n",
       " 72787,\n",
       " 73077,\n",
       " 73281,\n",
       " 73879,\n",
       " 74506,\n",
       " 74690,\n",
       " 74729,\n",
       " 76918,\n",
       " 77847,\n",
       " 78266,\n",
       " 78347,\n",
       " 78527,\n",
       " 78543,\n",
       " 79105,\n",
       " 79513,\n",
       " 79873,\n",
       " 80180,\n",
       " 80507,\n",
       " 80749,\n",
       " 81240,\n",
       " 81287,\n",
       " 81634,\n",
       " 81992,\n",
       " 82597,\n",
       " 82982,\n",
       " 83716,\n",
       " 83992,\n",
       " 84077,\n",
       " 84356,\n",
       " 84815,\n",
       " 85192,\n",
       " 85854,\n",
       " 86376,\n",
       " 87734,\n",
       " 87917,\n",
       " 87945,\n",
       " 88542,\n",
       " 89022,\n",
       " 90715,\n",
       " 90737,\n",
       " 91441,\n",
       " 91569,\n",
       " 92274,\n",
       " 92562,\n",
       " 92599,\n",
       " 92624,\n",
       " 92626,\n",
       " 92647,\n",
       " 93616,\n",
       " 93835,\n",
       " 94205,\n",
       " 94267,\n",
       " 94270,\n",
       " 94318,\n",
       " 94532,\n",
       " 94820,\n",
       " 94909,\n",
       " 95239,\n",
       " 95293,\n",
       " 97923,\n",
       " 98404,\n",
       " 98464,\n",
       " 98539,\n",
       " 98610,\n",
       " 99254,\n",
       " 99837,\n",
       " 99891,\n",
       " 100060,\n",
       " 100087,\n",
       " 100106,\n",
       " 100180,\n",
       " 100230,\n",
       " 100408,\n",
       " 101412,\n",
       " 101513,\n",
       " 102361,\n",
       " 102670,\n",
       " 102928,\n",
       " 103514,\n",
       " 104095,\n",
       " 104651,\n",
       " 104734,\n",
       " 104778,\n",
       " 105118,\n",
       " 105516,\n",
       " 106540,\n",
       " 106615,\n",
       " 106994,\n",
       " 107082,\n",
       " 107382,\n",
       " 107957,\n",
       " 108044,\n",
       " 109239,\n",
       " 109767,\n",
       " 109819,\n",
       " 110762,\n",
       " 111169,\n",
       " 111326,\n",
       " 111735,\n",
       " 112101,\n",
       " 112551,\n",
       " 113122,\n",
       " 113204,\n",
       " 113245,\n",
       " 113517,\n",
       " 113961,\n",
       " 114447,\n",
       " 114709,\n",
       " 114865,\n",
       " 115407,\n",
       " 115894,\n",
       " 115927,\n",
       " 116214,\n",
       " 116878,\n",
       " 117796,\n",
       " 118438,\n",
       " 118581,\n",
       " 118837,\n",
       " 118996,\n",
       " 119627,\n",
       " 120396,\n",
       " 121438,\n",
       " 121795,\n",
       " 122151,\n",
       " 122604,\n",
       " 123033,\n",
       " 123220,\n",
       " 123819,\n",
       " 124218,\n",
       " 124239,\n",
       " 124408,\n",
       " 124654,\n",
       " 124741,\n",
       " 125180,\n",
       " 125333,\n",
       " 125891,\n",
       " 126133,\n",
       " 126333,\n",
       " 126831,\n",
       " 126869,\n",
       " 127190,\n",
       " 127836,\n",
       " 127954,\n",
       " 128061,\n",
       " 128191,\n",
       " 128728,\n",
       " 128877,\n",
       " 129101,\n",
       " 129534,\n",
       " 129683,\n",
       " 130542,\n",
       " 131671,\n",
       " 131798,\n",
       " 131810,\n",
       " 131904,\n",
       " 132053,\n",
       " 132149,\n",
       " 132297,\n",
       " 132770,\n",
       " 133524,\n",
       " 133527,\n",
       " 133818,\n",
       " 133838,\n",
       " 133990,\n",
       " 134000,\n",
       " 134182,\n",
       " 134274,\n",
       " 134654,\n",
       " 135229,\n",
       " 135244,\n",
       " 135313,\n",
       " 135442,\n",
       " 135744,\n",
       " 136193,\n",
       " 136411,\n",
       " 136829,\n",
       " 136837,\n",
       " 137482,\n",
       " 137534,\n",
       " 137805,\n",
       " 138029,\n",
       " 138595,\n",
       " 139077,\n",
       " 139382,\n",
       " 139851,\n",
       " 140596,\n",
       " 140612,\n",
       " 140972,\n",
       " 141165,\n",
       " 141478,\n",
       " 142474,\n",
       " 143599,\n",
       " 143853,\n",
       " 144117,\n",
       " 144155,\n",
       " 144398,\n",
       " 144412,\n",
       " 145136,\n",
       " 145439,\n",
       " 145577]"
      ]
     },
     "execution_count": 79,
     "metadata": {},
     "output_type": "execute_result"
    }
   ],
   "source": [
    "drop_train"
   ]
  },
  {
   "cell_type": "code",
   "execution_count": 80,
   "id": "stock-angel",
   "metadata": {},
   "outputs": [
    {
     "name": "stdout",
     "output_type": "stream",
     "text": [
      "145380\n",
      "145380\n"
     ]
    }
   ],
   "source": [
    "X_train = np.delete(X_train, drop_train, axis=0)\n",
    "y_train = np.delete(y_train, drop_train, axis=0)\n",
    "print(len(X_train))\n",
    "print(len(y_train))"
   ]
  },
  {
   "cell_type": "markdown",
   "id": "intense-departure",
   "metadata": {},
   "source": [
    "### 패딩"
   ]
  },
  {
   "cell_type": "code",
   "execution_count": 81,
   "id": "competitive-frederick",
   "metadata": {},
   "outputs": [
    {
     "name": "stdout",
     "output_type": "stream",
     "text": [
      "리뷰의 최대 길이 : 72\n",
      "리뷰의 평균 길이 : 11.002187371027652\n"
     ]
    },
    {
     "data": {
      "image/png": "[encoded data removed]",
      "text/plain": [
       "<Figure size 432x288 with 1 Axes>"
      ]
     },
     "metadata": {
      "needs_background": "light"
     },
     "output_type": "display_data"
    }
   ],
   "source": [
    "print('리뷰의 최대 길이 :',max(len(l) for l in X_train))\n",
    "print('리뷰의 평균 길이 :',sum(map(len, X_train))/len(X_train))\n",
    "plt.hist([len(s) for s in X_train], bins=50)\n",
    "plt.xlabel('length of samples')\n",
    "plt.ylabel('number of samples')\n",
    "plt.show()"
   ]
  },
  {
   "cell_type": "code",
   "execution_count": 82,
   "id": "welsh-personality",
   "metadata": {},
   "outputs": [],
   "source": [
    "# max_len 이하인 샘플의 비율을 확인하는 함수\n",
    "def below_threshold_len(max_len, nested_list):\n",
    "  cnt = 0\n",
    "  for s in nested_list:\n",
    "    if(len(s) <= max_len):\n",
    "        cnt = cnt + 1\n",
    "  print('전체 샘플 중 길이가 %s 이하인 샘플의 비율: %s'%(max_len, (cnt / len(nested_list))*100))"
   ]
  },
  {
   "cell_type": "code",
   "execution_count": 83,
   "id": "delayed-microphone",
   "metadata": {},
   "outputs": [
    {
     "name": "stdout",
     "output_type": "stream",
     "text": [
      "전체 샘플 중 길이가 30 이하인 샘플의 비율: 94.0830925849498\n"
     ]
    }
   ],
   "source": [
    "max_len = 30\n",
    "below_threshold_len(max_len, X_train)"
   ]
  },
  {
   "cell_type": "code",
   "execution_count": 84,
   "id": "intensive-husband",
   "metadata": {},
   "outputs": [],
   "source": [
    "X_train = pad_sequences(X_train, maxlen = max_len)\n",
    "X_test = pad_sequences(X_test, maxlen = max_len)"
   ]
  },
  {
   "cell_type": "markdown",
   "id": "engaged-florence",
   "metadata": {},
   "source": [
    "### LSTM으로 네이버 영화 리뷰 감성 분류"
   ]
  },
  {
   "cell_type": "code",
   "execution_count": 85,
   "id": "neither-device",
   "metadata": {},
   "outputs": [],
   "source": [
    "from tensorflow.keras.layers import Embedding, Dense, LSTM\n",
    "from tensorflow.keras.models import Sequential\n",
    "from tensorflow.keras.models import load_model\n",
    "from tensorflow.keras.callbacks import EarlyStopping, ModelCheckpoint"
   ]
  },
  {
   "cell_type": "code",
   "execution_count": 86,
   "id": "changed-romance",
   "metadata": {},
   "outputs": [],
   "source": [
    "model = Sequential()\n",
    "model.add(Embedding(vocab_size, 100))\n",
    "model.add(LSTM(128))\n",
    "model.add(Dense(1, activation='sigmoid'))"
   ]
  },
  {
   "cell_type": "markdown",
   "id": "sublime-thunder",
   "metadata": {},
   "source": [
    "#### *검증 데이터 손실(val_loss)이 증가하면, 과적합 징후이므로 검증 데이터 손실이 4회 증가하면 학습을 조기 종료(Early Stopping)함'\n",
    "#### *ModelCheckpoint를 사용하여 검증 데이터의 정확도(val_acc)가 이전보다 좋아질 경우에만 모델을 저장"
   ]
  },
  {
   "cell_type": "code",
   "execution_count": 87,
   "id": "breeding-performer",
   "metadata": {},
   "outputs": [],
   "source": [
    "es = EarlyStopping(monitor='val_loss', mode='min', verbose=1, patience=4)\n",
    "mc = ModelCheckpoint('best_model.h5', monitor='val_acc', mode='max', verbose=1, save_best_only=True)"
   ]
  },
  {
   "cell_type": "code",
   "execution_count": 88,
   "id": "civilian-courage",
   "metadata": {},
   "outputs": [
    {
     "name": "stdout",
     "output_type": "stream",
     "text": [
      "Epoch 1/15\n",
      "1938/1939 [============================>.] - ETA: 0s - loss: 0.3905 - acc: 0.8227\n",
      "Epoch 00001: val_acc improved from -inf to 0.83963, saving model to best_model.h5\n",
      "1939/1939 [==============================] - 75s 39ms/step - loss: 0.3904 - acc: 0.8227 - val_loss: 0.3827 - val_acc: 0.8396\n",
      "Epoch 2/15\n",
      "1939/1939 [==============================] - ETA: 0s - loss: 0.3281 - acc: 0.8573\n",
      "Epoch 00002: val_acc improved from 0.83963 to 0.85510, saving model to best_model.h5\n",
      "1939/1939 [==============================] - 74s 38ms/step - loss: 0.3281 - acc: 0.8573 - val_loss: 0.3351 - val_acc: 0.8551\n",
      "Epoch 3/15\n",
      "1939/1939 [==============================] - ETA: 0s - loss: 0.3021 - acc: 0.8711\n",
      "Epoch 00003: val_acc improved from 0.85510 to 0.85882, saving model to best_model.h5\n",
      "1939/1939 [==============================] - 74s 38ms/step - loss: 0.3021 - acc: 0.8711 - val_loss: 0.3296 - val_acc: 0.8588\n",
      "Epoch 4/15\n",
      "1939/1939 [==============================] - ETA: 0s - loss: 0.2840 - acc: 0.8807\n",
      "Epoch 00004: val_acc did not improve from 0.85882\n",
      "1939/1939 [==============================] - 74s 38ms/step - loss: 0.2840 - acc: 0.8807 - val_loss: 0.3439 - val_acc: 0.8524\n",
      "Epoch 5/15\n",
      "1939/1939 [==============================] - ETA: 0s - loss: 0.2677 - acc: 0.8904\n",
      "Epoch 00005: val_acc did not improve from 0.85882\n",
      "1939/1939 [==============================] - 74s 38ms/step - loss: 0.2677 - acc: 0.8904 - val_loss: 0.3281 - val_acc: 0.8586\n",
      "Epoch 6/15\n",
      "1939/1939 [==============================] - ETA: 0s - loss: 0.2522 - acc: 0.8970\n",
      "Epoch 00006: val_acc did not improve from 0.85882\n",
      "1939/1939 [==============================] - 74s 38ms/step - loss: 0.2522 - acc: 0.8970 - val_loss: 0.3339 - val_acc: 0.8565\n",
      "Epoch 7/15\n",
      "1939/1939 [==============================] - ETA: 0s - loss: 0.2372 - acc: 0.9047\n",
      "Epoch 00007: val_acc did not improve from 0.85882\n",
      "1939/1939 [==============================] - 74s 38ms/step - loss: 0.2372 - acc: 0.9047 - val_loss: 0.3481 - val_acc: 0.8569\n",
      "Epoch 8/15\n",
      "1939/1939 [==============================] - ETA: 0s - loss: 0.2211 - acc: 0.9126\n",
      "Epoch 00008: val_acc did not improve from 0.85882\n",
      "1939/1939 [==============================] - 74s 38ms/step - loss: 0.2211 - acc: 0.9126 - val_loss: 0.3561 - val_acc: 0.8527\n",
      "Epoch 9/15\n",
      "1939/1939 [==============================] - ETA: 0s - loss: 0.2047 - acc: 0.9200\n",
      "Epoch 00009: val_acc did not improve from 0.85882\n",
      "1939/1939 [==============================] - 74s 38ms/step - loss: 0.2047 - acc: 0.9200 - val_loss: 0.3619 - val_acc: 0.8485\n",
      "Epoch 00009: early stopping\n"
     ]
    }
   ],
   "source": [
    "model.compile(optimizer='rmsprop', loss='binary_crossentropy', metrics=['acc'])\n",
    "history = model.fit(X_train, y_train, epochs=15, callbacks=[es, mc], batch_size=60, validation_split=0.2)"
   ]
  },
  {
   "cell_type": "code",
   "execution_count": 89,
   "id": "royal-norman",
   "metadata": {},
   "outputs": [
    {
     "name": "stdout",
     "output_type": "stream",
     "text": [
      "1532/1532 [==============================] - 18s 12ms/step - loss: 0.3357 - acc: 0.8521\n",
      "\n",
      " 테스트 정확도: 0.8521\n"
     ]
    }
   ],
   "source": [
    "# 검증 데이터의 정확도가 가장 높았을 때 저장된 모델을 로드\n",
    "loaded_model = load_model('best_model.h5')\n",
    "print(\"\\n 테스트 정확도: %.4f\" % (loaded_model.evaluate(X_test, y_test)[1]))"
   ]
  },
  {
   "cell_type": "markdown",
   "id": "important-wallpaper",
   "metadata": {},
   "source": [
    "### 리뷰 예측하기"
   ]
  },
  {
   "cell_type": "code",
   "execution_count": 90,
   "id": "russian-muslim",
   "metadata": {},
   "outputs": [],
   "source": [
    "def sentiment_predict(new_sentence):\n",
    "  new_sentence = okt.morphs(new_sentence, stem=True) # 토큰화\n",
    "  new_sentence = [word for word in new_sentence if not word in stopwords] # 불용어 제거\n",
    "  encoded = tokenizer.texts_to_sequences([new_sentence]) # 정수 인코딩\n",
    "  pad_new = pad_sequences(encoded, maxlen = max_len) # 패딩\n",
    "  score = float(loaded_model.predict(pad_new)) # 예측\n",
    "  if(score > 0.5):\n",
    "    print(\"{:.2f}% 확률로 긍정 리뷰입니다.\\n\".format(score * 100))\n",
    "  else:\n",
    "    print(\"{:.2f}% 확률로 부정 리뷰입니다.\\n\".format((1 - score) * 100))"
   ]
  },
  {
   "cell_type": "code",
   "execution_count": 91,
   "id": "collect-qualification",
   "metadata": {},
   "outputs": [
    {
     "name": "stdout",
     "output_type": "stream",
     "text": [
      "86.98% 확률로 긍정 리뷰입니다.\n",
      "\n"
     ]
    }
   ],
   "source": [
    "sentiment_predict('이 영화 개꿀잼 ㅋㅋㅋ')"
   ]
  },
  {
   "cell_type": "code",
   "execution_count": 92,
   "id": "standard-mining",
   "metadata": {},
   "outputs": [
    {
     "name": "stdout",
     "output_type": "stream",
     "text": [
      "97.92% 확률로 부정 리뷰입니다.\n",
      "\n"
     ]
    }
   ],
   "source": [
    "sentiment_predict('이 영화 핵노잼 ㅠㅠ')"
   ]
  },
  {
   "cell_type": "code",
   "execution_count": 93,
   "id": "colored-underground",
   "metadata": {},
   "outputs": [
    {
     "name": "stdout",
     "output_type": "stream",
     "text": [
      "99.72% 확률로 부정 리뷰입니다.\n",
      "\n"
     ]
    }
   ],
   "source": [
    "sentiment_predict('이딴게 영화냐 ㅉㅉ')"
   ]
  },
  {
   "cell_type": "code",
   "execution_count": 94,
   "id": "guided-elizabeth",
   "metadata": {},
   "outputs": [
    {
     "name": "stdout",
     "output_type": "stream",
     "text": [
      "94.50% 확률로 부정 리뷰입니다.\n",
      "\n"
     ]
    }
   ],
   "source": [
    "sentiment_predict('감독 뭐하는 놈이냐?')"
   ]
  },
  {
   "cell_type": "code",
   "execution_count": 95,
   "id": "intended-joseph",
   "metadata": {},
   "outputs": [
    {
     "name": "stdout",
     "output_type": "stream",
     "text": [
      "69.03% 확률로 긍정 리뷰입니다.\n",
      "\n"
     ]
    }
   ],
   "source": [
    "sentiment_predict('와 개쩐다 정말 세계관 최강자들의 영화다')"
   ]
  },
  {
   "cell_type": "code",
   "execution_count": 96,
   "id": "hollow-college",
   "metadata": {},
   "outputs": [],
   "source": [
    "# 객체 저장\n",
    "import pickle"
   ]
  },
  {
   "cell_type": "code",
   "execution_count": 97,
   "id": "specific-semiconductor",
   "metadata": {},
   "outputs": [],
   "source": [
    "f = open('test.txt', 'wb')\n",
    "data = {'stopword': stopwords}\n",
    "pickle.dump(data, f)\n",
    "# dump vs. dumps\n",
    "# dump는 파일 객체\n",
    "# dumps는 메모리 상 객체로 존재하는 것\n",
    "f.close()"
   ]
  },
  {
   "cell_type": "code",
   "execution_count": 98,
   "id": "adequate-rates",
   "metadata": {
    "collapsed": true,
    "jupyter": {
     "outputs_hidden": true
    }
   },
   "outputs": [
    {
     "data": {
      "text/plain": [
       "['의',\n",
       " '가',\n",
       " '이',\n",
       " '은',\n",
       " '들',\n",
       " '는',\n",
       " '좀',\n",
       " '잘',\n",
       " '걍',\n",
       " '과',\n",
       " '도',\n",
       " '를',\n",
       " '으로',\n",
       " '자',\n",
       " '에',\n",
       " '와',\n",
       " '한',\n",
       " '하다']"
      ]
     },
     "execution_count": 98,
     "metadata": {},
     "output_type": "execute_result"
    }
   ],
   "source": [
    "stopwords"
   ]
  },
  {
   "cell_type": "code",
   "execution_count": 99,
   "id": "whole-submission",
   "metadata": {},
   "outputs": [],
   "source": [
    "f = open('test.txt', 'rb')\n",
    "data1 = pickle.load(f)\n",
    "f.close()"
   ]
  },
  {
   "cell_type": "code",
   "execution_count": 100,
   "id": "suspected-stephen",
   "metadata": {},
   "outputs": [
    {
     "data": {
      "text/plain": [
       "['의',\n",
       " '가',\n",
       " '이',\n",
       " '은',\n",
       " '들',\n",
       " '는',\n",
       " '좀',\n",
       " '잘',\n",
       " '걍',\n",
       " '과',\n",
       " '도',\n",
       " '를',\n",
       " '으로',\n",
       " '자',\n",
       " '에',\n",
       " '와',\n",
       " '한',\n",
       " '하다']"
      ]
     },
     "execution_count": 100,
     "metadata": {},
     "output_type": "execute_result"
    }
   ],
   "source": [
    "data['stopword']"
   ]
  },
  {
   "cell_type": "code",
   "execution_count": null,
   "id": "hollow-tongue",
   "metadata": {},
   "outputs": [],
   "source": []
  }
 ],
 "metadata": {
  "kernelspec": {
   "display_name": "tf2-gpu",
   "language": "python",
   "name": "tf2-gpu"
  },
  "language_info": {
   "codemirror_mode": {
    "name": "ipython",
    "version": 3
   },
   "file_extension": ".py",
   "mimetype": "text/x-python",
   "name": "python",
   "nbconvert_exporter": "python",
   "pygments_lexer": "ipython3",
   "version": "3.8.2"
  },
  "toc": {
   "base_numbering": 1,
   "nav_menu": {},
   "number_sections": true,
   "sideBar": true,
   "skip_h1_title": false,
   "title_cell": "Table of Contents",
   "title_sidebar": "Contents",
   "toc_cell": false,
   "toc_position": {},
   "toc_section_display": true,
   "toc_window_display": false
  },
  "varInspector": {
   "cols": {
    "lenName": 16,
    "lenType": 16,
    "lenVar": 40
   },
   "kernels_config": {
    "python": {
     "delete_cmd_postfix": "",
     "delete_cmd_prefix": "del ",
     "library": "var_list.py",
     "varRefreshCmd": "print(var_dic_list())"
    },
    "r": {
     "delete_cmd_postfix": ") ",
     "delete_cmd_prefix": "rm(",
     "library": "var_list.r",
     "varRefreshCmd": "cat(var_dic_list()) "
    }
   },
   "types_to_exclude": [
    "module",
    "function",
    "builtin_function_or_method",
    "instance",
    "_Feature"
   ],
   "window_display": false
  }
 },
 "nbformat": 4,
 "nbformat_minor": 5
}
