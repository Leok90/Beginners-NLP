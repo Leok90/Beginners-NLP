{
 "cells": [
  {
   "cell_type": "markdown",
   "id": "cognitive-roller",
   "metadata": {},
   "source": [
    "### 출처: Won Joon Yoo, Introduction to Deep Learning for Natural Language Processing, Wikidocs</br>\n",
    "### https://wikidocs.net/book/2155"
   ]
  },
  {
   "cell_type": "markdown",
   "id": "alike-vietnamese",
   "metadata": {},
   "source": [
    "### 글자 단위 RNN(Char RNN)으로 텍스트 생성하기"
   ]
  },
  {
   "cell_type": "markdown",
   "id": "technical-tenant",
   "metadata": {},
   "source": [
    "#### 다 대 일 예측"
   ]
  },
  {
   "cell_type": "code",
   "execution_count": 2,
   "id": "joined-mills",
   "metadata": {},
   "outputs": [],
   "source": [
    "import numpy as np\n",
    "import tensorflow\n",
    "from tensorflow.keras.utils import to_categorical"
   ]
  },
  {
   "cell_type": "code",
   "execution_count": 3,
   "id": "permanent-czech",
   "metadata": {},
   "outputs": [],
   "source": [
    "text='''\n",
    "I get on with life as a programmer,\n",
    "I like to contemplate beer.\n",
    "But when I start to daydream,\n",
    "My mind turns straight to wine.\n",
    "\n",
    "Do I love wine more than beer?\n",
    "\n",
    "I like to use words about beer.\n",
    "But when I stop my talking,\n",
    "My mind turns straight to wine.\n",
    "\n",
    "I hate bugs and errors.\n",
    "But I just think back to wine,\n",
    "And I'm happy once again.\n",
    "\n",
    "I like to hang out with programming and deep learning.\n",
    "But when left alone,\n",
    "My mind turns straight to wine.\n",
    "'''\n"
   ]
  },
  {
   "cell_type": "code",
   "execution_count": 4,
   "id": "upper-trout",
   "metadata": {},
   "outputs": [
    {
     "name": "stdout",
     "output_type": "stream",
     "text": [
      "I get on with life as a programmer, I like to contemplate beer. But when I start to daydream, My mind turns straight to wine. Do I love wine more than beer? I like to use words about beer. But when I stop my talking, My mind turns straight to wine. I hate bugs and errors. But I just think back to wine, And I'm happy once again. I like to hang out with programming and deep learning. But when left alone, My mind turns straight to wine.\n"
     ]
    }
   ],
   "source": [
    "# 단락 구분을 없애고 하나의 문자열로 저장\n",
    "tokens = text.split() # '\\n 제거'\n",
    "text = ' '.join(tokens)\n",
    "print(text)"
   ]
  },
  {
   "cell_type": "code",
   "execution_count": 5,
   "id": "ancient-german",
   "metadata": {},
   "outputs": [
    {
     "name": "stdout",
     "output_type": "stream",
     "text": [
      "[' ', \"'\", ',', '.', '?', 'A', 'B', 'D', 'I', 'M', 'a', 'b', 'c', 'd', 'e', 'f', 'g', 'h', 'i', 'j', 'k', 'l', 'm', 'n', 'o', 'p', 'r', 's', 't', 'u', 'v', 'w', 'y']\n"
     ]
    }
   ],
   "source": [
    "char_vocab = sorted(list(set(text))) # 중복을 제거한 글자 집합 생성\n",
    "print(char_vocab)"
   ]
  },
  {
   "cell_type": "code",
   "execution_count": 6,
   "id": "statistical-bowling",
   "metadata": {},
   "outputs": [
    {
     "name": "stdout",
     "output_type": "stream",
     "text": [
      "글자 집합의 크기 : 33\n"
     ]
    }
   ],
   "source": [
    "vocab_size=len(char_vocab)\n",
    "print ('글자 집합의 크기 : {}'.format(vocab_size))"
   ]
  },
  {
   "cell_type": "code",
   "execution_count": 7,
   "id": "collective-situation",
   "metadata": {},
   "outputs": [
    {
     "name": "stdout",
     "output_type": "stream",
     "text": [
      "{' ': 0, \"'\": 1, ',': 2, '.': 3, '?': 4, 'A': 5, 'B': 6, 'D': 7, 'I': 8, 'M': 9, 'a': 10, 'b': 11, 'c': 12, 'd': 13, 'e': 14, 'f': 15, 'g': 16, 'h': 17, 'i': 18, 'j': 19, 'k': 20, 'l': 21, 'm': 22, 'n': 23, 'o': 24, 'p': 25, 'r': 26, 's': 27, 't': 28, 'u': 29, 'v': 30, 'w': 31, 'y': 32}\n"
     ]
    }
   ],
   "source": [
    "char_to_index = dict((c, i) for i, c in enumerate(char_vocab)) # 글자에 고유한 정수 인덱스 부여\n",
    "print(char_to_index)"
   ]
  },
  {
   "cell_type": "markdown",
   "id": "individual-killer",
   "metadata": {},
   "source": [
    "### Example) 5개의 입력 글자 시퀀스로부터 다음 글자 시퀀스를 예측. 즉, RNN의 time step은 5번\n",
    "### 다대일 예측\n",
    "stude -> n  \n",
    "tuden -> t"
   ]
  },
  {
   "cell_type": "code",
   "execution_count": 8,
   "id": "moving-seattle",
   "metadata": {},
   "outputs": [
    {
     "name": "stdout",
     "output_type": "stream",
     "text": [
      "총 훈련 샘플의 수: 426\n"
     ]
    }
   ],
   "source": [
    "# 입력 시퀀스의 길이를 10으로 임의 설정. 예측 대상 글자 길이 11\n",
    "length = 11\n",
    "sequences = []\n",
    "for i in range(length, len(text)):\n",
    "    seq = text[i-length:i] # 길이 11의 문자열을 지속적으로 만든다.\n",
    "    sequences.append(seq)\n",
    "print('총 훈련 샘플의 수: %d' % len(sequences))"
   ]
  },
  {
   "cell_type": "code",
   "execution_count": 9,
   "id": "overall-expert",
   "metadata": {},
   "outputs": [
    {
     "data": {
      "text/plain": [
       "['I get on wi',\n",
       " ' get on wit',\n",
       " 'get on with',\n",
       " 'et on with ',\n",
       " 't on with l',\n",
       " ' on with li',\n",
       " 'on with lif',\n",
       " 'n with life',\n",
       " ' with life ',\n",
       " 'with life a']"
      ]
     },
     "execution_count": 9,
     "metadata": {},
     "output_type": "execute_result"
    }
   ],
   "source": [
    "sequences[:10]"
   ]
  },
  {
   "cell_type": "code",
   "execution_count": 10,
   "id": "indie-identity",
   "metadata": {},
   "outputs": [],
   "source": [
    "X = []\n",
    "for line in sequences: # 전체 데이터에서 문장 샘플을 1개씩 꺼낸다.\n",
    "    temp_X = [char_to_index[char] for char in line] # 문장 샘플에서 각 글자에 대해서 정수 인코딩을 수행.\n",
    "    X.append(temp_X)"
   ]
  },
  {
   "cell_type": "code",
   "execution_count": 11,
   "id": "labeled-petite",
   "metadata": {},
   "outputs": [
    {
     "name": "stdout",
     "output_type": "stream",
     "text": [
      "[8, 0, 16, 14, 28, 0, 24, 23, 0, 31, 18]\n",
      "[0, 16, 14, 28, 0, 24, 23, 0, 31, 18, 28]\n",
      "[16, 14, 28, 0, 24, 23, 0, 31, 18, 28, 17]\n",
      "[14, 28, 0, 24, 23, 0, 31, 18, 28, 17, 0]\n",
      "[28, 0, 24, 23, 0, 31, 18, 28, 17, 0, 21]\n"
     ]
    }
   ],
   "source": [
    "for line in X[:5]:\n",
    "    print(line)"
   ]
  },
  {
   "cell_type": "code",
   "execution_count": 12,
   "id": "minus-assumption",
   "metadata": {},
   "outputs": [],
   "source": [
    "# feature와 label 분리\n",
    "sequences = np.array(X)\n",
    "X = sequences[:,:-1]\n",
    "y = sequences[:,-1] # 맨 마지막 위치의 글자를 분리"
   ]
  },
  {
   "cell_type": "code",
   "execution_count": 13,
   "id": "flying-issue",
   "metadata": {},
   "outputs": [
    {
     "name": "stdout",
     "output_type": "stream",
     "text": [
      "[ 8  0 16 14 28  0 24 23  0 31]\n",
      "[ 0 16 14 28  0 24 23  0 31 18]\n",
      "[16 14 28  0 24 23  0 31 18 28]\n",
      "[14 28  0 24 23  0 31 18 28 17]\n",
      "[28  0 24 23  0 31 18 28 17  0]\n"
     ]
    }
   ],
   "source": [
    "for line in X[:5]:\n",
    "    print(line)"
   ]
  },
  {
   "cell_type": "code",
   "execution_count": 14,
   "id": "entitled-collector",
   "metadata": {},
   "outputs": [
    {
     "name": "stdout",
     "output_type": "stream",
     "text": [
      "[18 28 17  0 21]\n"
     ]
    }
   ],
   "source": [
    "print(y[:5])"
   ]
  },
  {
   "cell_type": "code",
   "execution_count": 15,
   "id": "first-killer",
   "metadata": {},
   "outputs": [],
   "source": [
    "# 원-핫 인코딩\n",
    "sequences = [to_categorical(x, num_classes=vocab_size) for x in X] # X에 대한 원-핫 인코딩\n",
    "X = np.array(sequences)\n",
    "y = to_categorical(y, num_classes=vocab_size) # y에 대한 원-핫 인코딩"
   ]
  },
  {
   "cell_type": "code",
   "execution_count": 16,
   "id": "configured-emission",
   "metadata": {},
   "outputs": [
    {
     "name": "stdout",
     "output_type": "stream",
     "text": [
      "(426, 10, 33)\n"
     ]
    }
   ],
   "source": [
    "# (a, b, c)\n",
    "# a = 샘플의 수 = No. of samples = batch_size\n",
    "# b = 입력 시퀀스의 길이 = input_length = timeseries = timesteps\n",
    "# c = 각 벡터의 차원 = input dim = Dimensionality of word representation\n",
    "print(X.shape)"
   ]
  },
  {
   "cell_type": "markdown",
   "id": "later-health",
   "metadata": {},
   "source": [
    "### 모델 설계"
   ]
  },
  {
   "cell_type": "code",
   "execution_count": 17,
   "id": "novel-thinking",
   "metadata": {},
   "outputs": [],
   "source": [
    "from tensorflow.keras.models import Sequential\n",
    "from tensorflow.keras.layers import Dense, LSTM\n",
    "from tensorflow.keras.preprocessing.sequence import pad_sequences"
   ]
  },
  {
   "cell_type": "code",
   "execution_count": 18,
   "id": "median-avenue",
   "metadata": {},
   "outputs": [],
   "source": [
    "model = Sequential()\n",
    "model.add(LSTM(80, input_shape=(X.shape[1], X.shape[2]))) # X.shape[1]은 10, X.shape[2]는 33\n",
    "# 출력층에 단어 집합의 크기만큼의 뉴런을 배치\n",
    "model.add(Dense(vocab_size, activation='softmax'))"
   ]
  },
  {
   "cell_type": "code",
   "execution_count": 19,
   "id": "original-egyptian",
   "metadata": {
    "collapsed": true,
    "jupyter": {
     "outputs_hidden": true
    }
   },
   "outputs": [
    {
     "name": "stdout",
     "output_type": "stream",
     "text": [
      "Epoch 1/100\n",
      "14/14 - 0s - loss: 3.4678 - accuracy: 0.1432\n",
      "Epoch 2/100\n",
      "14/14 - 0s - loss: 3.3298 - accuracy: 0.1972\n",
      "Epoch 3/100\n",
      "14/14 - 0s - loss: 3.0678 - accuracy: 0.1972\n",
      "Epoch 4/100\n",
      "14/14 - 0s - loss: 2.9806 - accuracy: 0.1972\n",
      "Epoch 5/100\n",
      "14/14 - 0s - loss: 2.9558 - accuracy: 0.1972\n",
      "Epoch 6/100\n",
      "14/14 - 0s - loss: 2.9387 - accuracy: 0.1972\n",
      "Epoch 7/100\n",
      "14/14 - 0s - loss: 2.9263 - accuracy: 0.1972\n",
      "Epoch 8/100\n",
      "14/14 - 0s - loss: 2.8956 - accuracy: 0.1972\n",
      "Epoch 9/100\n",
      "14/14 - 0s - loss: 2.8689 - accuracy: 0.1972\n",
      "Epoch 10/100\n",
      "14/14 - 0s - loss: 2.8551 - accuracy: 0.1972\n",
      "Epoch 11/100\n",
      "14/14 - 0s - loss: 2.8155 - accuracy: 0.1972\n",
      "Epoch 12/100\n",
      "14/14 - 0s - loss: 2.7789 - accuracy: 0.1972\n",
      "Epoch 13/100\n",
      "14/14 - 0s - loss: 2.7324 - accuracy: 0.1995\n",
      "Epoch 14/100\n",
      "14/14 - 0s - loss: 2.6813 - accuracy: 0.2066\n",
      "Epoch 15/100\n",
      "14/14 - 0s - loss: 2.6215 - accuracy: 0.2559\n",
      "Epoch 16/100\n",
      "14/14 - 0s - loss: 2.5835 - accuracy: 0.2582\n",
      "Epoch 17/100\n",
      "14/14 - 0s - loss: 2.5295 - accuracy: 0.2418\n",
      "Epoch 18/100\n",
      "14/14 - 0s - loss: 2.4725 - accuracy: 0.3005\n",
      "Epoch 19/100\n",
      "14/14 - 0s - loss: 2.4392 - accuracy: 0.3075\n",
      "Epoch 20/100\n",
      "14/14 - 0s - loss: 2.3817 - accuracy: 0.3099\n",
      "Epoch 21/100\n",
      "14/14 - 0s - loss: 2.3315 - accuracy: 0.3310\n",
      "Epoch 22/100\n",
      "14/14 - 0s - loss: 2.2837 - accuracy: 0.3709\n",
      "Epoch 23/100\n",
      "14/14 - 0s - loss: 2.2301 - accuracy: 0.3498\n",
      "Epoch 24/100\n",
      "14/14 - 0s - loss: 2.1809 - accuracy: 0.3850\n",
      "Epoch 25/100\n",
      "14/14 - 0s - loss: 2.1348 - accuracy: 0.4343\n",
      "Epoch 26/100\n",
      "14/14 - 0s - loss: 2.0919 - accuracy: 0.3967\n",
      "Epoch 27/100\n",
      "14/14 - 0s - loss: 2.0333 - accuracy: 0.4343\n",
      "Epoch 28/100\n",
      "14/14 - 0s - loss: 1.9853 - accuracy: 0.4507\n",
      "Epoch 29/100\n",
      "14/14 - 0s - loss: 1.9380 - accuracy: 0.4460\n",
      "Epoch 30/100\n",
      "14/14 - 0s - loss: 1.9083 - accuracy: 0.4648\n",
      "Epoch 31/100\n",
      "14/14 - 0s - loss: 1.8536 - accuracy: 0.4671\n",
      "Epoch 32/100\n",
      "14/14 - 0s - loss: 1.7950 - accuracy: 0.5117\n",
      "Epoch 33/100\n",
      "14/14 - 0s - loss: 1.7311 - accuracy: 0.5023\n",
      "Epoch 34/100\n",
      "14/14 - 0s - loss: 1.7037 - accuracy: 0.5282\n",
      "Epoch 35/100\n",
      "14/14 - 0s - loss: 1.6284 - accuracy: 0.5610\n",
      "Epoch 36/100\n",
      "14/14 - 0s - loss: 1.5951 - accuracy: 0.5610\n",
      "Epoch 37/100\n",
      "14/14 - 0s - loss: 1.5480 - accuracy: 0.6009\n",
      "Epoch 38/100\n",
      "14/14 - 0s - loss: 1.4972 - accuracy: 0.5869\n",
      "Epoch 39/100\n",
      "14/14 - 0s - loss: 1.4408 - accuracy: 0.6244\n",
      "Epoch 40/100\n",
      "14/14 - 0s - loss: 1.4014 - accuracy: 0.6385\n",
      "Epoch 41/100\n",
      "14/14 - 0s - loss: 1.3616 - accuracy: 0.6408\n",
      "Epoch 42/100\n",
      "14/14 - 0s - loss: 1.3091 - accuracy: 0.6690\n",
      "Epoch 43/100\n",
      "14/14 - 0s - loss: 1.2703 - accuracy: 0.6784\n",
      "Epoch 44/100\n",
      "14/14 - 0s - loss: 1.2277 - accuracy: 0.7160\n",
      "Epoch 45/100\n",
      "14/14 - 0s - loss: 1.1928 - accuracy: 0.6901\n",
      "Epoch 46/100\n",
      "14/14 - 0s - loss: 1.1296 - accuracy: 0.7183\n",
      "Epoch 47/100\n",
      "14/14 - 0s - loss: 1.1012 - accuracy: 0.7371\n",
      "Epoch 48/100\n",
      "14/14 - 0s - loss: 1.0712 - accuracy: 0.7512\n",
      "Epoch 49/100\n",
      "14/14 - 0s - loss: 1.0330 - accuracy: 0.7394\n",
      "Epoch 50/100\n",
      "14/14 - 0s - loss: 0.9802 - accuracy: 0.7770\n",
      "Epoch 51/100\n",
      "14/14 - 0s - loss: 0.9501 - accuracy: 0.7864\n",
      "Epoch 52/100\n",
      "14/14 - 0s - loss: 0.9013 - accuracy: 0.7981\n",
      "Epoch 53/100\n",
      "14/14 - 0s - loss: 0.8838 - accuracy: 0.7981\n",
      "Epoch 54/100\n",
      "14/14 - 0s - loss: 0.8382 - accuracy: 0.8286\n",
      "Epoch 55/100\n",
      "14/14 - 0s - loss: 0.8154 - accuracy: 0.8404\n",
      "Epoch 56/100\n",
      "14/14 - 0s - loss: 0.7662 - accuracy: 0.8474\n",
      "Epoch 57/100\n",
      "14/14 - 0s - loss: 0.7422 - accuracy: 0.8545\n",
      "Epoch 58/100\n",
      "14/14 - 0s - loss: 0.7192 - accuracy: 0.8638\n",
      "Epoch 59/100\n",
      "14/14 - 0s - loss: 0.6854 - accuracy: 0.8592\n",
      "Epoch 60/100\n",
      "14/14 - 0s - loss: 0.6507 - accuracy: 0.8967\n",
      "Epoch 61/100\n",
      "14/14 - 0s - loss: 0.6281 - accuracy: 0.9038\n",
      "Epoch 62/100\n",
      "14/14 - 0s - loss: 0.5873 - accuracy: 0.9014\n",
      "Epoch 63/100\n",
      "14/14 - 0s - loss: 0.5622 - accuracy: 0.9225\n",
      "Epoch 64/100\n",
      "14/14 - 0s - loss: 0.5473 - accuracy: 0.9296\n",
      "Epoch 65/100\n",
      "14/14 - 0s - loss: 0.5288 - accuracy: 0.9225\n",
      "Epoch 66/100\n",
      "14/14 - 0s - loss: 0.4983 - accuracy: 0.9272\n",
      "Epoch 67/100\n",
      "14/14 - 0s - loss: 0.4887 - accuracy: 0.9390\n",
      "Epoch 68/100\n",
      "14/14 - 0s - loss: 0.4668 - accuracy: 0.9343\n",
      "Epoch 69/100\n",
      "14/14 - 0s - loss: 0.4379 - accuracy: 0.9577\n",
      "Epoch 70/100\n",
      "14/14 - 0s - loss: 0.4137 - accuracy: 0.9601\n",
      "Epoch 71/100\n",
      "14/14 - 0s - loss: 0.4112 - accuracy: 0.9531\n",
      "Epoch 72/100\n",
      "14/14 - 0s - loss: 0.4007 - accuracy: 0.9484\n",
      "Epoch 73/100\n",
      "14/14 - 0s - loss: 0.3791 - accuracy: 0.9437\n",
      "Epoch 74/100\n",
      "14/14 - 0s - loss: 0.3581 - accuracy: 0.9624\n",
      "Epoch 75/100\n",
      "14/14 - 0s - loss: 0.3485 - accuracy: 0.9554\n",
      "Epoch 76/100\n",
      "14/14 - 0s - loss: 0.3301 - accuracy: 0.9695\n",
      "Epoch 77/100\n",
      "14/14 - 0s - loss: 0.3074 - accuracy: 0.9671\n",
      "Epoch 78/100\n",
      "14/14 - 0s - loss: 0.3065 - accuracy: 0.9742\n",
      "Epoch 79/100\n",
      "14/14 - 0s - loss: 0.2934 - accuracy: 0.9742\n",
      "Epoch 80/100\n",
      "14/14 - 0s - loss: 0.2769 - accuracy: 0.9718\n",
      "Epoch 81/100\n",
      "14/14 - 0s - loss: 0.2643 - accuracy: 0.9718\n",
      "Epoch 82/100\n",
      "14/14 - 0s - loss: 0.2564 - accuracy: 0.9718\n",
      "Epoch 83/100\n",
      "14/14 - 0s - loss: 0.2472 - accuracy: 0.9765\n",
      "Epoch 84/100\n",
      "14/14 - 0s - loss: 0.2341 - accuracy: 0.9765\n",
      "Epoch 85/100\n",
      "14/14 - 0s - loss: 0.2239 - accuracy: 0.9836\n",
      "Epoch 86/100\n",
      "14/14 - 0s - loss: 0.2182 - accuracy: 0.9765\n",
      "Epoch 87/100\n",
      "14/14 - 0s - loss: 0.2139 - accuracy: 0.9742\n",
      "Epoch 88/100\n",
      "14/14 - 0s - loss: 0.2131 - accuracy: 0.9836\n",
      "Epoch 89/100\n",
      "14/14 - 0s - loss: 0.2135 - accuracy: 0.9789\n",
      "Epoch 90/100\n",
      "14/14 - 0s - loss: 0.2071 - accuracy: 0.9836\n",
      "Epoch 91/100\n",
      "14/14 - 0s - loss: 0.1904 - accuracy: 0.9812\n",
      "Epoch 92/100\n",
      "14/14 - 0s - loss: 0.1774 - accuracy: 0.9812\n",
      "Epoch 93/100\n",
      "14/14 - 0s - loss: 0.1768 - accuracy: 0.9812\n",
      "Epoch 94/100\n",
      "14/14 - 0s - loss: 0.1815 - accuracy: 0.9836\n",
      "Epoch 95/100\n",
      "14/14 - 0s - loss: 0.1875 - accuracy: 0.9812\n",
      "Epoch 96/100\n",
      "14/14 - 0s - loss: 0.1847 - accuracy: 0.9789\n",
      "Epoch 97/100\n",
      "14/14 - 0s - loss: 0.1697 - accuracy: 0.9789\n",
      "Epoch 98/100\n",
      "14/14 - 0s - loss: 0.1638 - accuracy: 0.9742\n",
      "Epoch 99/100\n",
      "14/14 - 0s - loss: 0.1535 - accuracy: 0.9859\n",
      "Epoch 100/100\n",
      "14/14 - 0s - loss: 0.1444 - accuracy: 0.9836\n"
     ]
    },
    {
     "data": {
      "text/plain": [
       "<tensorflow.python.keras.callbacks.History at 0x7fecc026d190>"
      ]
     },
     "execution_count": 19,
     "metadata": {},
     "output_type": "execute_result"
    }
   ],
   "source": [
    "model.compile(loss='categorical_crossentropy', optimizer='adam', metrics=['accuracy'])\n",
    "model.fit(X, y, epochs=100, verbose=2)"
   ]
  },
  {
   "cell_type": "code",
   "execution_count": 21,
   "id": "outstanding-behalf",
   "metadata": {},
   "outputs": [],
   "source": [
    "def sentence_generation(model, char_to_index, seq_length, seed_text, n):\n",
    "# 모델, 인덱스 정보, 문장 길이, 초기 시퀀스, 반복 횟수\n",
    "    init_text = seed_text # 문장 생성에 사용할 초기 시퀀스\n",
    "    sentence = ''\n",
    "\n",
    "    for _ in range(n): # n번 반복\n",
    "        encoded = [char_to_index[char] for char in seed_text] # 현재 시퀀스에 대한 정수 인코딩\n",
    "        encoded = pad_sequences([encoded], maxlen=seq_length, padding='pre') # 데이터에 대한 패딩\n",
    "        encoded = to_categorical(encoded, num_classes=len(char_to_index))\n",
    "        result = model.predict_classes(encoded, verbose=0)\n",
    "        # 입력한 X(현재 시퀀스)에 대해서 y를 예측하고 y(예측한 글자)를 result에 저장.\n",
    "        for char, index in char_to_index.items(): # 만약 예측한 글자와 인덱스와 동일한 글자가 있다면\n",
    "            if index == result: # 해당 글자가 예측 글자이므로 break\n",
    "                break\n",
    "        seed_text=seed_text + char # 현재 시퀀스 + 예측 글자를 현재 시퀀스로 변경\n",
    "        sentence=sentence + char # 예측 글자를 문장에 저장\n",
    "        # for문이므로 이 작업을 다시 반복\n",
    "\n",
    "    sentence = init_text + sentence\n",
    "    return sentence"
   ]
  },
  {
   "cell_type": "code",
   "execution_count": 22,
   "id": "crude-florist",
   "metadata": {},
   "outputs": [
    {
     "name": "stdout",
     "output_type": "stream",
     "text": [
      "WARNING:tensorflow:From <ipython-input-21-650eec5cfb39>:10: Sequential.predict_classes (from tensorflow.python.keras.engine.sequential) is deprecated and will be removed after 2021-01-01.\n",
      "Instructions for updating:\n",
      "Please use instead:* `np.argmax(model.predict(x), axis=-1)`,   if your model does multi-class classification   (e.g. if it uses a `softmax` last-layer activation).* `(model.predict(x) > 0.5).astype(\"int32\")`,   if your model does binary classification   (e.g. if it uses a `sigmoid` last-layer activation).\n",
      "I get on with life as a programmer, I like to use words about beer. But when I stapt to ag\n"
     ]
    }
   ],
   "source": [
    "print(sentence_generation(model, char_to_index, 10, 'I get on w', 80))"
   ]
  },
  {
   "cell_type": "code",
   "execution_count": null,
   "id": "breeding-occupation",
   "metadata": {},
   "outputs": [],
   "source": []
  }
 ],
 "metadata": {
  "kernelspec": {
   "display_name": "tf2-gpu",
   "language": "python",
   "name": "tf2-gpu"
  },
  "language_info": {
   "codemirror_mode": {
    "name": "ipython",
    "version": 3
   },
   "file_extension": ".py",
   "mimetype": "text/x-python",
   "name": "python",
   "nbconvert_exporter": "python",
   "pygments_lexer": "ipython3",
   "version": "3.8.2"
  }
 },
 "nbformat": 4,
 "nbformat_minor": 5
}
