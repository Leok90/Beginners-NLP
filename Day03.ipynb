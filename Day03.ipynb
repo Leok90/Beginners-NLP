{
 "cells": [
  {
   "cell_type": "markdown",
   "metadata": {},
   "source": [
    "### 출처: Won Joon Yoo, Introduction to Deep Learning for Natural Language Processing, Wikidocs</br>\n",
    "### https://wikidocs.net/book/2155"
   ]
  },
  {
   "cell_type": "markdown",
   "metadata": {},
   "source": [
    "### 4) TF-IDF(Term Frequency-Inverse Document Frequency)"
   ]
  },
  {
   "cell_type": "markdown",
   "metadata": {},
   "source": [
    "#### tf(d,t) : 특정 문서 d에서의 특정 단어 t의 등장 횟수."
   ]
  },
  {
   "cell_type": "markdown",
   "metadata": {},
   "source": [
    "#### df(t) : 특정 단어 t가 등장한 문서의 수."
   ]
  },
  {
   "cell_type": "markdown",
   "metadata": {},
   "source": [
    "#### idf(d, t) : df(t)에 반비례하는 수."
   ]
  },
  {
   "cell_type": "markdown",
   "metadata": {},
   "source": [
    "**idf(d,t)=log(n/1+df(t))**"
   ]
  },
  {
   "cell_type": "code",
   "execution_count": 2,
   "metadata": {},
   "outputs": [],
   "source": [
    "# import math\n",
    "# # n: 총 문서의 수\n",
    "# # d: 특정 문서\n",
    "# # t: 특정 단어\n",
    "\n",
    "# def tf_idf(d, t, n):\n",
    "#     return math.log(n / (1 + df(t))\n",
    "                    \n",
    "# # 특정 단어                    \n",
    "# def tf(d, t):"
   ]
  },
  {
   "cell_type": "code",
   "execution_count": 3,
   "metadata": {},
   "outputs": [],
   "source": [
    "import pandas as pd\n",
    "from math import log"
   ]
  },
  {
   "cell_type": "code",
   "execution_count": 4,
   "metadata": {},
   "outputs": [],
   "source": [
    "docs = [\n",
    "  '먹고 싶은 사과',\n",
    "  '먹고 싶은 바나나',\n",
    "  '길고 노란 바나나 바나나',\n",
    "  '저는 과일이 좋아요'\n",
    "] "
   ]
  },
  {
   "cell_type": "code",
   "execution_count": 5,
   "metadata": {},
   "outputs": [],
   "source": [
    "vocab = list(set(w for doc in docs for w in doc.split()))"
   ]
  },
  {
   "cell_type": "code",
   "execution_count": 6,
   "metadata": {},
   "outputs": [
    {
     "data": {
      "text/plain": [
       "['저는', '과일이', '사과', '길고', '바나나', '좋아요', '먹고', '노란', '싶은']"
      ]
     },
     "execution_count": 6,
     "metadata": {},
     "output_type": "execute_result"
    }
   ],
   "source": [
    "vocab"
   ]
  },
  {
   "cell_type": "code",
   "execution_count": 7,
   "metadata": {},
   "outputs": [],
   "source": [
    "vocab.sort()"
   ]
  },
  {
   "cell_type": "code",
   "execution_count": 8,
   "metadata": {},
   "outputs": [
    {
     "data": {
      "text/plain": [
       "['과일이', '길고', '노란', '먹고', '바나나', '사과', '싶은', '저는', '좋아요']"
      ]
     },
     "execution_count": 8,
     "metadata": {},
     "output_type": "execute_result"
    }
   ],
   "source": [
    "vocab"
   ]
  },
  {
   "cell_type": "code",
   "execution_count": 9,
   "metadata": {},
   "outputs": [],
   "source": [
    "N = len(docs) # 총 문서의 수"
   ]
  },
  {
   "cell_type": "code",
   "execution_count": 10,
   "metadata": {},
   "outputs": [
    {
     "data": {
      "text/plain": [
       "4"
      ]
     },
     "execution_count": 10,
     "metadata": {},
     "output_type": "execute_result"
    }
   ],
   "source": [
    "N"
   ]
  },
  {
   "cell_type": "code",
   "execution_count": 11,
   "metadata": {},
   "outputs": [],
   "source": [
    "# N: 총 문서의 수\n",
    "# d: 특정 문서\n",
    "# t: 특정 단어\n",
    "def tf(t, d):\n",
    "    return d.count(t)"
   ]
  },
  {
   "cell_type": "code",
   "execution_count": 12,
   "metadata": {},
   "outputs": [],
   "source": [
    "# df(t) : 특정 단어 t가 등장한 문서의 수\n",
    "# idf(t)는 모든 문서에서 빈도수가 높은 단어의 가중치를 낮추는 역할\n",
    "def idf(t):\n",
    "    df = 0\n",
    "    for doc in docs:\n",
    "        df += t in doc # 문장에 단어가 있으면 True(1)이므로 df의 값이 1씩 증가\n",
    "    return log(N/(df + 1))"
   ]
  },
  {
   "cell_type": "code",
   "execution_count": 13,
   "metadata": {},
   "outputs": [],
   "source": [
    "def tfidf(t, d):\n",
    "    return tf(t, d) * idf(t)"
   ]
  },
  {
   "cell_type": "code",
   "execution_count": 14,
   "metadata": {},
   "outputs": [],
   "source": [
    "# DTM 출력\n",
    "result = []\n",
    "for i in range(N): # 각 문서에 대해서 아래 명령을 수행\n",
    "    result.append([])\n",
    "    d = docs[i]\n",
    "    for j in range(len(vocab)):\n",
    "        t = vocab[j]\n",
    "        result[-1].append(tf(t, d))"
   ]
  },
  {
   "cell_type": "code",
   "execution_count": 15,
   "metadata": {},
   "outputs": [
    {
     "data": {
      "text/plain": [
       "[[0, 0, 0, 1, 0, 1, 1, 0, 0],\n",
       " [0, 0, 0, 1, 1, 0, 1, 0, 0],\n",
       " [0, 1, 1, 0, 2, 0, 0, 0, 0],\n",
       " [1, 0, 0, 0, 0, 0, 0, 1, 1]]"
      ]
     },
     "execution_count": 15,
     "metadata": {},
     "output_type": "execute_result"
    }
   ],
   "source": [
    "result"
   ]
  },
  {
   "cell_type": "code",
   "execution_count": 16,
   "metadata": {},
   "outputs": [],
   "source": [
    "tf_ = pd.DataFrame(result, columns = vocab)"
   ]
  },
  {
   "cell_type": "code",
   "execution_count": 17,
   "metadata": {},
   "outputs": [
    {
     "data": {
      "text/html": [
       "<div>\n",
       "<style scoped>\n",
       "    .dataframe tbody tr th:only-of-type {\n",
       "        vertical-align: middle;\n",
       "    }\n",
       "\n",
       "    .dataframe tbody tr th {\n",
       "        vertical-align: top;\n",
       "    }\n",
       "\n",
       "    .dataframe thead th {\n",
       "        text-align: right;\n",
       "    }\n",
       "</style>\n",
       "<table border=\"1\" class=\"dataframe\">\n",
       "  <thead>\n",
       "    <tr style=\"text-align: right;\">\n",
       "      <th></th>\n",
       "      <th>과일이</th>\n",
       "      <th>길고</th>\n",
       "      <th>노란</th>\n",
       "      <th>먹고</th>\n",
       "      <th>바나나</th>\n",
       "      <th>사과</th>\n",
       "      <th>싶은</th>\n",
       "      <th>저는</th>\n",
       "      <th>좋아요</th>\n",
       "    </tr>\n",
       "  </thead>\n",
       "  <tbody>\n",
       "    <tr>\n",
       "      <th>0</th>\n",
       "      <td>0</td>\n",
       "      <td>0</td>\n",
       "      <td>0</td>\n",
       "      <td>1</td>\n",
       "      <td>0</td>\n",
       "      <td>1</td>\n",
       "      <td>1</td>\n",
       "      <td>0</td>\n",
       "      <td>0</td>\n",
       "    </tr>\n",
       "    <tr>\n",
       "      <th>1</th>\n",
       "      <td>0</td>\n",
       "      <td>0</td>\n",
       "      <td>0</td>\n",
       "      <td>1</td>\n",
       "      <td>1</td>\n",
       "      <td>0</td>\n",
       "      <td>1</td>\n",
       "      <td>0</td>\n",
       "      <td>0</td>\n",
       "    </tr>\n",
       "    <tr>\n",
       "      <th>2</th>\n",
       "      <td>0</td>\n",
       "      <td>1</td>\n",
       "      <td>1</td>\n",
       "      <td>0</td>\n",
       "      <td>2</td>\n",
       "      <td>0</td>\n",
       "      <td>0</td>\n",
       "      <td>0</td>\n",
       "      <td>0</td>\n",
       "    </tr>\n",
       "    <tr>\n",
       "      <th>3</th>\n",
       "      <td>1</td>\n",
       "      <td>0</td>\n",
       "      <td>0</td>\n",
       "      <td>0</td>\n",
       "      <td>0</td>\n",
       "      <td>0</td>\n",
       "      <td>0</td>\n",
       "      <td>1</td>\n",
       "      <td>1</td>\n",
       "    </tr>\n",
       "  </tbody>\n",
       "</table>\n",
       "</div>"
      ],
      "text/plain": [
       "   과일이  길고  노란  먹고  바나나  사과  싶은  저는  좋아요\n",
       "0    0   0   0   1    0   1   1   0    0\n",
       "1    0   0   0   1    1   0   1   0    0\n",
       "2    0   1   1   0    2   0   0   0    0\n",
       "3    1   0   0   0    0   0   0   1    1"
      ]
     },
     "execution_count": 17,
     "metadata": {},
     "output_type": "execute_result"
    }
   ],
   "source": [
    "tf_"
   ]
  },
  {
   "cell_type": "code",
   "execution_count": 18,
   "metadata": {},
   "outputs": [],
   "source": [
    "# IDF\n",
    "result = []\n",
    "for j in range(len(vocab)):\n",
    "    t = vocab[j]\n",
    "    result.append(idf(t))"
   ]
  },
  {
   "cell_type": "code",
   "execution_count": 19,
   "metadata": {},
   "outputs": [
    {
     "data": {
      "text/plain": [
       "[0.6931471805599453,\n",
       " 0.6931471805599453,\n",
       " 0.6931471805599453,\n",
       " 0.28768207245178085,\n",
       " 0.28768207245178085,\n",
       " 0.6931471805599453,\n",
       " 0.28768207245178085,\n",
       " 0.6931471805599453,\n",
       " 0.6931471805599453]"
      ]
     },
     "execution_count": 19,
     "metadata": {},
     "output_type": "execute_result"
    }
   ],
   "source": [
    "# 각 단어별 가중치\n",
    "result"
   ]
  },
  {
   "cell_type": "code",
   "execution_count": 20,
   "metadata": {},
   "outputs": [],
   "source": [
    "# DTM과 IDF를 행렬곱(내적)하기 위해서 행과 열을 맞춰줌\n",
    "idf_ = pd.DataFrame(result, index = vocab, columns = [\"IDF\"])"
   ]
  },
  {
   "cell_type": "code",
   "execution_count": 21,
   "metadata": {},
   "outputs": [
    {
     "data": {
      "text/html": [
       "<div>\n",
       "<style scoped>\n",
       "    .dataframe tbody tr th:only-of-type {\n",
       "        vertical-align: middle;\n",
       "    }\n",
       "\n",
       "    .dataframe tbody tr th {\n",
       "        vertical-align: top;\n",
       "    }\n",
       "\n",
       "    .dataframe thead th {\n",
       "        text-align: right;\n",
       "    }\n",
       "</style>\n",
       "<table border=\"1\" class=\"dataframe\">\n",
       "  <thead>\n",
       "    <tr style=\"text-align: right;\">\n",
       "      <th></th>\n",
       "      <th>IDF</th>\n",
       "    </tr>\n",
       "  </thead>\n",
       "  <tbody>\n",
       "    <tr>\n",
       "      <th>과일이</th>\n",
       "      <td>0.693147</td>\n",
       "    </tr>\n",
       "    <tr>\n",
       "      <th>길고</th>\n",
       "      <td>0.693147</td>\n",
       "    </tr>\n",
       "    <tr>\n",
       "      <th>노란</th>\n",
       "      <td>0.693147</td>\n",
       "    </tr>\n",
       "    <tr>\n",
       "      <th>먹고</th>\n",
       "      <td>0.287682</td>\n",
       "    </tr>\n",
       "    <tr>\n",
       "      <th>바나나</th>\n",
       "      <td>0.287682</td>\n",
       "    </tr>\n",
       "    <tr>\n",
       "      <th>사과</th>\n",
       "      <td>0.693147</td>\n",
       "    </tr>\n",
       "    <tr>\n",
       "      <th>싶은</th>\n",
       "      <td>0.287682</td>\n",
       "    </tr>\n",
       "    <tr>\n",
       "      <th>저는</th>\n",
       "      <td>0.693147</td>\n",
       "    </tr>\n",
       "    <tr>\n",
       "      <th>좋아요</th>\n",
       "      <td>0.693147</td>\n",
       "    </tr>\n",
       "  </tbody>\n",
       "</table>\n",
       "</div>"
      ],
      "text/plain": [
       "          IDF\n",
       "과일이  0.693147\n",
       "길고   0.693147\n",
       "노란   0.693147\n",
       "먹고   0.287682\n",
       "바나나  0.287682\n",
       "사과   0.693147\n",
       "싶은   0.287682\n",
       "저는   0.693147\n",
       "좋아요  0.693147"
      ]
     },
     "execution_count": 21,
     "metadata": {},
     "output_type": "execute_result"
    }
   ],
   "source": [
    "idf_"
   ]
  },
  {
   "cell_type": "code",
   "execution_count": 22,
   "metadata": {},
   "outputs": [],
   "source": [
    "result = []\n",
    "for i in range(N): # 문서의 개수만큼 반복\n",
    "    result.append([])\n",
    "    d = docs[i]\n",
    "    for j in range(len(vocab)): # 전체 단어 개수만큼 반복\n",
    "        t = vocab[j] # 단어\n",
    "        result[-1].append(tfidf(t,d)) # result[-1]는 위에서 추가한 빈 리스트"
   ]
  },
  {
   "cell_type": "code",
   "execution_count": 23,
   "metadata": {},
   "outputs": [
    {
     "data": {
      "text/plain": [
       "[[0.0,\n",
       "  0.0,\n",
       "  0.0,\n",
       "  0.28768207245178085,\n",
       "  0.0,\n",
       "  0.6931471805599453,\n",
       "  0.28768207245178085,\n",
       "  0.0,\n",
       "  0.0],\n",
       " [0.0,\n",
       "  0.0,\n",
       "  0.0,\n",
       "  0.28768207245178085,\n",
       "  0.28768207245178085,\n",
       "  0.0,\n",
       "  0.28768207245178085,\n",
       "  0.0,\n",
       "  0.0],\n",
       " [0.0,\n",
       "  0.6931471805599453,\n",
       "  0.6931471805599453,\n",
       "  0.0,\n",
       "  0.5753641449035617,\n",
       "  0.0,\n",
       "  0.0,\n",
       "  0.0,\n",
       "  0.0],\n",
       " [0.6931471805599453,\n",
       "  0.0,\n",
       "  0.0,\n",
       "  0.0,\n",
       "  0.0,\n",
       "  0.0,\n",
       "  0.0,\n",
       "  0.6931471805599453,\n",
       "  0.6931471805599453]]"
      ]
     },
     "execution_count": 23,
     "metadata": {},
     "output_type": "execute_result"
    }
   ],
   "source": [
    "result"
   ]
  },
  {
   "cell_type": "code",
   "execution_count": 24,
   "metadata": {},
   "outputs": [],
   "source": [
    "tfidf_ = pd.DataFrame(result, columns = vocab)"
   ]
  },
  {
   "cell_type": "code",
   "execution_count": 25,
   "metadata": {},
   "outputs": [
    {
     "data": {
      "text/html": [
       "<div>\n",
       "<style scoped>\n",
       "    .dataframe tbody tr th:only-of-type {\n",
       "        vertical-align: middle;\n",
       "    }\n",
       "\n",
       "    .dataframe tbody tr th {\n",
       "        vertical-align: top;\n",
       "    }\n",
       "\n",
       "    .dataframe thead th {\n",
       "        text-align: right;\n",
       "    }\n",
       "</style>\n",
       "<table border=\"1\" class=\"dataframe\">\n",
       "  <thead>\n",
       "    <tr style=\"text-align: right;\">\n",
       "      <th></th>\n",
       "      <th>과일이</th>\n",
       "      <th>길고</th>\n",
       "      <th>노란</th>\n",
       "      <th>먹고</th>\n",
       "      <th>바나나</th>\n",
       "      <th>사과</th>\n",
       "      <th>싶은</th>\n",
       "      <th>저는</th>\n",
       "      <th>좋아요</th>\n",
       "    </tr>\n",
       "  </thead>\n",
       "  <tbody>\n",
       "    <tr>\n",
       "      <th>0</th>\n",
       "      <td>0.000000</td>\n",
       "      <td>0.000000</td>\n",
       "      <td>0.000000</td>\n",
       "      <td>0.287682</td>\n",
       "      <td>0.000000</td>\n",
       "      <td>0.693147</td>\n",
       "      <td>0.287682</td>\n",
       "      <td>0.000000</td>\n",
       "      <td>0.000000</td>\n",
       "    </tr>\n",
       "    <tr>\n",
       "      <th>1</th>\n",
       "      <td>0.000000</td>\n",
       "      <td>0.000000</td>\n",
       "      <td>0.000000</td>\n",
       "      <td>0.287682</td>\n",
       "      <td>0.287682</td>\n",
       "      <td>0.000000</td>\n",
       "      <td>0.287682</td>\n",
       "      <td>0.000000</td>\n",
       "      <td>0.000000</td>\n",
       "    </tr>\n",
       "    <tr>\n",
       "      <th>2</th>\n",
       "      <td>0.000000</td>\n",
       "      <td>0.693147</td>\n",
       "      <td>0.693147</td>\n",
       "      <td>0.000000</td>\n",
       "      <td>0.575364</td>\n",
       "      <td>0.000000</td>\n",
       "      <td>0.000000</td>\n",
       "      <td>0.000000</td>\n",
       "      <td>0.000000</td>\n",
       "    </tr>\n",
       "    <tr>\n",
       "      <th>3</th>\n",
       "      <td>0.693147</td>\n",
       "      <td>0.000000</td>\n",
       "      <td>0.000000</td>\n",
       "      <td>0.000000</td>\n",
       "      <td>0.000000</td>\n",
       "      <td>0.000000</td>\n",
       "      <td>0.000000</td>\n",
       "      <td>0.693147</td>\n",
       "      <td>0.693147</td>\n",
       "    </tr>\n",
       "  </tbody>\n",
       "</table>\n",
       "</div>"
      ],
      "text/plain": [
       "        과일이        길고        노란        먹고       바나나        사과        싶은  \\\n",
       "0  0.000000  0.000000  0.000000  0.287682  0.000000  0.693147  0.287682   \n",
       "1  0.000000  0.000000  0.000000  0.287682  0.287682  0.000000  0.287682   \n",
       "2  0.000000  0.693147  0.693147  0.000000  0.575364  0.000000  0.000000   \n",
       "3  0.693147  0.000000  0.000000  0.000000  0.000000  0.000000  0.000000   \n",
       "\n",
       "         저는       좋아요  \n",
       "0  0.000000  0.000000  \n",
       "1  0.000000  0.000000  \n",
       "2  0.000000  0.000000  \n",
       "3  0.693147  0.693147  "
      ]
     },
     "execution_count": 25,
     "metadata": {},
     "output_type": "execute_result"
    }
   ],
   "source": [
    "tfidf_"
   ]
  },
  {
   "cell_type": "markdown",
   "metadata": {},
   "source": [
    "### 사이킷런을 이용한 DTM과 TF-IDF 실습"
   ]
  },
  {
   "cell_type": "code",
   "execution_count": 26,
   "metadata": {},
   "outputs": [],
   "source": [
    "from sklearn.feature_extraction.text import CountVectorizer"
   ]
  },
  {
   "cell_type": "code",
   "execution_count": 27,
   "metadata": {},
   "outputs": [],
   "source": [
    "corpus = [\n",
    "    'you know I want your love',\n",
    "    'I like you',\n",
    "    'what should I do ',    \n",
    "]"
   ]
  },
  {
   "cell_type": "code",
   "execution_count": 28,
   "metadata": {},
   "outputs": [],
   "source": [
    "vector = CountVectorizer()"
   ]
  },
  {
   "cell_type": "code",
   "execution_count": 29,
   "metadata": {},
   "outputs": [
    {
     "data": {
      "text/plain": [
       "array([[0, 1, 0, 1, 0, 1, 0, 1, 1],\n",
       "       [0, 0, 1, 0, 0, 0, 0, 1, 0],\n",
       "       [1, 0, 0, 0, 1, 0, 1, 0, 0]], dtype=int64)"
      ]
     },
     "execution_count": 29,
     "metadata": {},
     "output_type": "execute_result"
    }
   ],
   "source": [
    "# DTM\n",
    "vector.fit_transform(corpus).toarray()"
   ]
  },
  {
   "cell_type": "code",
   "execution_count": 30,
   "metadata": {},
   "outputs": [
    {
     "data": {
      "text/plain": [
       "{'you': 7,\n",
       " 'know': 1,\n",
       " 'want': 5,\n",
       " 'your': 8,\n",
       " 'love': 3,\n",
       " 'like': 2,\n",
       " 'what': 6,\n",
       " 'should': 4,\n",
       " 'do': 0}"
      ]
     },
     "execution_count": 30,
     "metadata": {},
     "output_type": "execute_result"
    }
   ],
   "source": [
    "# 단어별 인덱스\n",
    "vector.vocabulary_"
   ]
  },
  {
   "cell_type": "code",
   "execution_count": 31,
   "metadata": {},
   "outputs": [],
   "source": [
    "from sklearn.feature_extraction.text import TfidfVectorizer"
   ]
  },
  {
   "cell_type": "code",
   "execution_count": 32,
   "metadata": {},
   "outputs": [],
   "source": [
    "corpus = [\n",
    "    'you know I want your love',\n",
    "    'I like you',\n",
    "    'what should I do ',    \n",
    "]"
   ]
  },
  {
   "cell_type": "code",
   "execution_count": 33,
   "metadata": {},
   "outputs": [],
   "source": [
    "tfidfv = TfidfVectorizer().fit(corpus)"
   ]
  },
  {
   "cell_type": "code",
   "execution_count": 34,
   "metadata": {},
   "outputs": [
    {
     "data": {
      "text/plain": [
       "array([[0.        , 0.46735098, 0.        , 0.46735098, 0.        ,\n",
       "        0.46735098, 0.        , 0.35543247, 0.46735098],\n",
       "       [0.        , 0.        , 0.79596054, 0.        , 0.        ,\n",
       "        0.        , 0.        , 0.60534851, 0.        ],\n",
       "       [0.57735027, 0.        , 0.        , 0.        , 0.57735027,\n",
       "        0.        , 0.57735027, 0.        , 0.        ]])"
      ]
     },
     "execution_count": 34,
     "metadata": {},
     "output_type": "execute_result"
    }
   ],
   "source": [
    "tfidfv.transform(corpus).toarray()"
   ]
  },
  {
   "cell_type": "code",
   "execution_count": 35,
   "metadata": {},
   "outputs": [
    {
     "data": {
      "text/plain": [
       "{'you': 7,\n",
       " 'know': 1,\n",
       " 'want': 5,\n",
       " 'your': 8,\n",
       " 'love': 3,\n",
       " 'like': 2,\n",
       " 'what': 6,\n",
       " 'should': 4,\n",
       " 'do': 0}"
      ]
     },
     "execution_count": 35,
     "metadata": {},
     "output_type": "execute_result"
    }
   ],
   "source": [
    "tfidfv.vocabulary_"
   ]
  },
  {
   "cell_type": "markdown",
   "metadata": {},
   "source": [
    "### 코사인 유사도(Cosine Similarity)"
   ]
  },
  {
   "cell_type": "code",
   "execution_count": 36,
   "metadata": {},
   "outputs": [],
   "source": [
    "from numpy import dot\n",
    "from numpy.linalg import norm\n",
    "import numpy as np\n",
    "# norm은 L2 regulation\n",
    "def cos_sim(A, B):\n",
    "    return dot(A, B)/(norm(A) * norm(B))"
   ]
  },
  {
   "cell_type": "code",
   "execution_count": 37,
   "metadata": {},
   "outputs": [],
   "source": [
    "doc1 = np.array([0,1,1,1])\n",
    "doc2 = np.array([1,0,1,1])\n",
    "doc3 = np.array([2,0,2,2])"
   ]
  },
  {
   "cell_type": "code",
   "execution_count": 38,
   "metadata": {},
   "outputs": [
    {
     "data": {
      "text/plain": [
       "0.6666666666666667"
      ]
     },
     "execution_count": 38,
     "metadata": {},
     "output_type": "execute_result"
    }
   ],
   "source": [
    "cos_sim(doc1, doc2)"
   ]
  },
  {
   "cell_type": "code",
   "execution_count": 39,
   "metadata": {},
   "outputs": [
    {
     "data": {
      "text/plain": [
       "0.6666666666666667"
      ]
     },
     "execution_count": 39,
     "metadata": {},
     "output_type": "execute_result"
    }
   ],
   "source": [
    "cos_sim(doc1, doc3)"
   ]
  },
  {
   "cell_type": "code",
   "execution_count": 40,
   "metadata": {},
   "outputs": [
    {
     "data": {
      "text/plain": [
       "1.0000000000000002"
      ]
     },
     "execution_count": 40,
     "metadata": {},
     "output_type": "execute_result"
    }
   ],
   "source": [
    "# theta값이 동일하므로 1\n",
    "cos_sim(doc2, doc3)"
   ]
  },
  {
   "cell_type": "markdown",
   "metadata": {},
   "source": [
    "### 유사도를 이용한 추천 시스템 구현하기(영화 줄거리 데이터)"
   ]
  },
  {
   "cell_type": "code",
   "execution_count": 41,
   "metadata": {},
   "outputs": [],
   "source": [
    "import pandas as pd\n",
    "from sklearn.feature_extraction.text import TfidfVectorizer\n",
    "from sklearn.metrics.pairwise import linear_kernel"
   ]
  },
  {
   "cell_type": "code",
   "execution_count": 42,
   "metadata": {},
   "outputs": [
    {
     "data": {
      "text/html": [
       "<div>\n",
       "<style scoped>\n",
       "    .dataframe tbody tr th:only-of-type {\n",
       "        vertical-align: middle;\n",
       "    }\n",
       "\n",
       "    .dataframe tbody tr th {\n",
       "        vertical-align: top;\n",
       "    }\n",
       "\n",
       "    .dataframe thead th {\n",
       "        text-align: right;\n",
       "    }\n",
       "</style>\n",
       "<table border=\"1\" class=\"dataframe\">\n",
       "  <thead>\n",
       "    <tr style=\"text-align: right;\">\n",
       "      <th></th>\n",
       "      <th>adult</th>\n",
       "      <th>belongs_to_collection</th>\n",
       "      <th>budget</th>\n",
       "      <th>genres</th>\n",
       "      <th>homepage</th>\n",
       "      <th>id</th>\n",
       "      <th>imdb_id</th>\n",
       "      <th>original_language</th>\n",
       "      <th>original_title</th>\n",
       "      <th>overview</th>\n",
       "      <th>...</th>\n",
       "      <th>release_date</th>\n",
       "      <th>revenue</th>\n",
       "      <th>runtime</th>\n",
       "      <th>spoken_languages</th>\n",
       "      <th>status</th>\n",
       "      <th>tagline</th>\n",
       "      <th>title</th>\n",
       "      <th>video</th>\n",
       "      <th>vote_average</th>\n",
       "      <th>vote_count</th>\n",
       "    </tr>\n",
       "  </thead>\n",
       "  <tbody>\n",
       "    <tr>\n",
       "      <th>0</th>\n",
       "      <td>False</td>\n",
       "      <td>{'id': 10194, 'name': 'Toy Story Collection', ...</td>\n",
       "      <td>30000000</td>\n",
       "      <td>[{'id': 16, 'name': 'Animation'}, {'id': 35, '...</td>\n",
       "      <td>http://toystory.disney.com/toy-story</td>\n",
       "      <td>862</td>\n",
       "      <td>tt0114709</td>\n",
       "      <td>en</td>\n",
       "      <td>Toy Story</td>\n",
       "      <td>Led by Woody, Andy's toys live happily in his ...</td>\n",
       "      <td>...</td>\n",
       "      <td>1995-10-30</td>\n",
       "      <td>373554033.0</td>\n",
       "      <td>81.0</td>\n",
       "      <td>[{'iso_639_1': 'en', 'name': 'English'}]</td>\n",
       "      <td>Released</td>\n",
       "      <td>NaN</td>\n",
       "      <td>Toy Story</td>\n",
       "      <td>False</td>\n",
       "      <td>7.7</td>\n",
       "      <td>5415.0</td>\n",
       "    </tr>\n",
       "    <tr>\n",
       "      <th>1</th>\n",
       "      <td>False</td>\n",
       "      <td>NaN</td>\n",
       "      <td>65000000</td>\n",
       "      <td>[{'id': 12, 'name': 'Adventure'}, {'id': 14, '...</td>\n",
       "      <td>NaN</td>\n",
       "      <td>8844</td>\n",
       "      <td>tt0113497</td>\n",
       "      <td>en</td>\n",
       "      <td>Jumanji</td>\n",
       "      <td>When siblings Judy and Peter discover an encha...</td>\n",
       "      <td>...</td>\n",
       "      <td>1995-12-15</td>\n",
       "      <td>262797249.0</td>\n",
       "      <td>104.0</td>\n",
       "      <td>[{'iso_639_1': 'en', 'name': 'English'}, {'iso...</td>\n",
       "      <td>Released</td>\n",
       "      <td>Roll the dice and unleash the excitement!</td>\n",
       "      <td>Jumanji</td>\n",
       "      <td>False</td>\n",
       "      <td>6.9</td>\n",
       "      <td>2413.0</td>\n",
       "    </tr>\n",
       "  </tbody>\n",
       "</table>\n",
       "<p>2 rows × 24 columns</p>\n",
       "</div>"
      ],
      "text/plain": [
       "   adult                              belongs_to_collection    budget  \\\n",
       "0  False  {'id': 10194, 'name': 'Toy Story Collection', ...  30000000   \n",
       "1  False                                                NaN  65000000   \n",
       "\n",
       "                                              genres  \\\n",
       "0  [{'id': 16, 'name': 'Animation'}, {'id': 35, '...   \n",
       "1  [{'id': 12, 'name': 'Adventure'}, {'id': 14, '...   \n",
       "\n",
       "                               homepage    id    imdb_id original_language  \\\n",
       "0  http://toystory.disney.com/toy-story   862  tt0114709                en   \n",
       "1                                   NaN  8844  tt0113497                en   \n",
       "\n",
       "  original_title                                           overview  ...  \\\n",
       "0      Toy Story  Led by Woody, Andy's toys live happily in his ...  ...   \n",
       "1        Jumanji  When siblings Judy and Peter discover an encha...  ...   \n",
       "\n",
       "  release_date      revenue runtime  \\\n",
       "0   1995-10-30  373554033.0    81.0   \n",
       "1   1995-12-15  262797249.0   104.0   \n",
       "\n",
       "                                    spoken_languages    status  \\\n",
       "0           [{'iso_639_1': 'en', 'name': 'English'}]  Released   \n",
       "1  [{'iso_639_1': 'en', 'name': 'English'}, {'iso...  Released   \n",
       "\n",
       "                                     tagline      title  video vote_average  \\\n",
       "0                                        NaN  Toy Story  False          7.7   \n",
       "1  Roll the dice and unleash the excitement!    Jumanji  False          6.9   \n",
       "\n",
       "  vote_count  \n",
       "0     5415.0  \n",
       "1     2413.0  \n",
       "\n",
       "[2 rows x 24 columns]"
      ]
     },
     "execution_count": 42,
     "metadata": {},
     "output_type": "execute_result"
    }
   ],
   "source": [
    "data = pd.read_csv('./movies_metadata.csv', low_memory=False)\n",
    "data.head(2)"
   ]
  },
  {
   "cell_type": "code",
   "execution_count": 43,
   "metadata": {},
   "outputs": [
    {
     "name": "stdout",
     "output_type": "stream",
     "text": [
      "<class 'pandas.core.frame.DataFrame'>\n",
      "RangeIndex: 45466 entries, 0 to 45465\n",
      "Data columns (total 24 columns):\n",
      " #   Column                 Non-Null Count  Dtype  \n",
      "---  ------                 --------------  -----  \n",
      " 0   adult                  45466 non-null  object \n",
      " 1   belongs_to_collection  4494 non-null   object \n",
      " 2   budget                 45466 non-null  object \n",
      " 3   genres                 45466 non-null  object \n",
      " 4   homepage               7782 non-null   object \n",
      " 5   id                     45466 non-null  object \n",
      " 6   imdb_id                45449 non-null  object \n",
      " 7   original_language      45455 non-null  object \n",
      " 8   original_title         45466 non-null  object \n",
      " 9   overview               44512 non-null  object \n",
      " 10  popularity             45461 non-null  object \n",
      " 11  poster_path            45080 non-null  object \n",
      " 12  production_companies   45463 non-null  object \n",
      " 13  production_countries   45463 non-null  object \n",
      " 14  release_date           45379 non-null  object \n",
      " 15  revenue                45460 non-null  float64\n",
      " 16  runtime                45203 non-null  float64\n",
      " 17  spoken_languages       45460 non-null  object \n",
      " 18  status                 45379 non-null  object \n",
      " 19  tagline                20412 non-null  object \n",
      " 20  title                  45460 non-null  object \n",
      " 21  video                  45460 non-null  object \n",
      " 22  vote_average           45460 non-null  float64\n",
      " 23  vote_count             45460 non-null  float64\n",
      "dtypes: float64(4), object(20)\n",
      "memory usage: 8.3+ MB\n"
     ]
    }
   ],
   "source": [
    "data.info()"
   ]
  },
  {
   "cell_type": "code",
   "execution_count": 44,
   "metadata": {},
   "outputs": [],
   "source": [
    "data = data.head(20000)"
   ]
  },
  {
   "cell_type": "code",
   "execution_count": 45,
   "metadata": {},
   "outputs": [
    {
     "name": "stdout",
     "output_type": "stream",
     "text": [
      "<class 'pandas.core.frame.DataFrame'>\n",
      "RangeIndex: 20000 entries, 0 to 19999\n",
      "Data columns (total 24 columns):\n",
      " #   Column                 Non-Null Count  Dtype  \n",
      "---  ------                 --------------  -----  \n",
      " 0   adult                  20000 non-null  object \n",
      " 1   belongs_to_collection  2399 non-null   object \n",
      " 2   budget                 20000 non-null  object \n",
      " 3   genres                 20000 non-null  object \n",
      " 4   homepage               3055 non-null   object \n",
      " 5   id                     20000 non-null  object \n",
      " 6   imdb_id                19993 non-null  object \n",
      " 7   original_language      19999 non-null  object \n",
      " 8   original_title         20000 non-null  object \n",
      " 9   overview               19865 non-null  object \n",
      " 10  popularity             19998 non-null  object \n",
      " 11  poster_path            19907 non-null  object \n",
      " 12  production_companies   19999 non-null  object \n",
      " 13  production_countries   19999 non-null  object \n",
      " 14  release_date           19983 non-null  object \n",
      " 15  revenue                19998 non-null  float64\n",
      " 16  runtime                19971 non-null  float64\n",
      " 17  spoken_languages       19998 non-null  object \n",
      " 18  status                 19979 non-null  object \n",
      " 19  tagline                11706 non-null  object \n",
      " 20  title                  19998 non-null  object \n",
      " 21  video                  19998 non-null  object \n",
      " 22  vote_average           19998 non-null  float64\n",
      " 23  vote_count             19998 non-null  float64\n",
      "dtypes: float64(4), object(20)\n",
      "memory usage: 3.7+ MB\n"
     ]
    }
   ],
   "source": [
    "data.info()"
   ]
  },
  {
   "cell_type": "code",
   "execution_count": 46,
   "metadata": {},
   "outputs": [
    {
     "data": {
      "text/plain": [
       "135"
      ]
     },
     "execution_count": 46,
     "metadata": {},
     "output_type": "execute_result"
    }
   ],
   "source": [
    "# 결측치 개수 확인\n",
    "data['overview'].isnull().sum()"
   ]
  },
  {
   "cell_type": "code",
   "execution_count": 47,
   "metadata": {},
   "outputs": [],
   "source": [
    "# overview 결측치를 빈문자열로 채움\n",
    "data['overview'] = data['overview'].fillna('')"
   ]
  },
  {
   "cell_type": "code",
   "execution_count": 48,
   "metadata": {},
   "outputs": [
    {
     "data": {
      "text/plain": [
       "0"
      ]
     },
     "execution_count": 48,
     "metadata": {},
     "output_type": "execute_result"
    }
   ],
   "source": [
    "data['overview'].isnull().sum()"
   ]
  },
  {
   "cell_type": "code",
   "execution_count": 49,
   "metadata": {},
   "outputs": [],
   "source": [
    "# 불용어 제거\n",
    "tfidf = TfidfVectorizer(stop_words='english')"
   ]
  },
  {
   "cell_type": "code",
   "execution_count": 50,
   "metadata": {},
   "outputs": [],
   "source": [
    "# overview에 대해서 tf-idf 수행\n",
    "tfidf_matrix = tfidf.fit_transform(data['overview'])"
   ]
  },
  {
   "cell_type": "code",
   "execution_count": 51,
   "metadata": {},
   "outputs": [
    {
     "data": {
      "text/plain": [
       "(20000, 47487)"
      ]
     },
     "execution_count": 51,
     "metadata": {},
     "output_type": "execute_result"
    }
   ],
   "source": [
    "tfidf_matrix.shape"
   ]
  },
  {
   "cell_type": "code",
   "execution_count": 52,
   "metadata": {},
   "outputs": [
    {
     "data": {
      "text/plain": [
       "{'led': 24361,\n",
       " 'woody': 46617,\n",
       " 'andy': 2051,\n",
       " 'toys': 43131,\n",
       " 'live': 24957,\n",
       " 'happily': 18727,\n",
       " 'room': 36185,\n",
       " 'birthday': 4736,\n",
       " 'brings': 5775,\n",
       " 'buzz': 6290,\n",
       " 'lightyear': 24759,\n",
       " 'scene': 37166,\n",
       " 'afraid': 1254,\n",
       " 'losing': 25229,\n",
       " 'place': 32291,\n",
       " 'heart': 19047,\n",
       " 'plots': 32424,\n",
       " 'circumstances': 7974,\n",
       " 'separate': 37778,\n",
       " 'owner': 30780,\n",
       " 'duo': 12920,\n",
       " 'eventually': 14393,\n",
       " 'learns': 24325,\n",
       " 'aside': 2811,\n",
       " 'differences': 11645,\n",
       " 'siblings': 38509,\n",
       " 'judy': 22536,\n",
       " 'peter': 31851,\n",
       " 'discover': 11888,\n",
       " 'enchanted': 13728,\n",
       " 'board': 5054,\n",
       " 'game': 16798,\n",
       " 'opens': 30240,\n",
       " 'door': 12442,\n",
       " 'magical': 25725,\n",
       " 'world': 46664,\n",
       " 'unwittingly': 44575,\n",
       " 'invite': 21663,\n",
       " 'alan': 1495,\n",
       " 'adult': 1135,\n",
       " 'trapped': 43304,\n",
       " 'inside': 21286,\n",
       " '26': 430,\n",
       " 'years': 46965,\n",
       " 'living': 24973,\n",
       " 'hope': 19854,\n",
       " 'freedom': 16355,\n",
       " 'finish': 15562,\n",
       " 'proves': 33496,\n",
       " 'risky': 35885,\n",
       " 'running': 36455,\n",
       " 'giant': 17265,\n",
       " 'rhinoceroses': 35691,\n",
       " 'evil': 14422,\n",
       " 'monkeys': 28035,\n",
       " 'terrifying': 42245,\n",
       " 'creatures': 9823,\n",
       " 'family': 14984,\n",
       " 'wedding': 45999,\n",
       " 'reignites': 34953,\n",
       " 'ancient': 2005,\n",
       " 'feud': 15375,\n",
       " 'neighbors': 29134,\n",
       " 'fishing': 15631,\n",
       " 'buddies': 6006,\n",
       " 'john': 22362,\n",
       " 'max': 26640,\n",
       " 'sultry': 40999,\n",
       " 'italian': 21854,\n",
       " 'divorcée': 12202,\n",
       " 'restaurant': 35450,\n",
       " 'local': 25028,\n",
       " 'bait': 3539,\n",
       " 'shop': 38350,\n",
       " 'alarming': 1499,\n",
       " 'locals': 25032,\n",
       " 'worry': 46679,\n",
       " 'll': 24988,\n",
       " 'scare': 37135,\n",
       " 'fish': 15622,\n",
       " 'away': 3303,\n",
       " 'interested': 21447,\n",
       " 'seafood': 37454,\n",
       " 'cooking': 9362,\n",
       " 'hot': 19964,\n",
       " 'time': 42680,\n",
       " 'cheated': 7531,\n",
       " 'mistreated': 27760,\n",
       " 'stepped': 40305,\n",
       " 'women': 46572,\n",
       " 'holding': 19699,\n",
       " 'breath': 5648,\n",
       " 'waiting': 45672,\n",
       " 'elusive': 13517,\n",
       " 'good': 17654,\n",
       " 'man': 25970,\n",
       " 'break': 5625,\n",
       " 'string': 40647,\n",
       " 'stellar': 40279,\n",
       " 'lovers': 25296,\n",
       " 'friends': 16442,\n",
       " 'confidants': 8951,\n",
       " 'vannah': 44879,\n",
       " 'bernie': 4451,\n",
       " 'glo': 17478,\n",
       " 'robin': 35997,\n",
       " 'talk': 41714,\n",
       " 'determined': 11414,\n",
       " 'better': 4530,\n",
       " 'way': 45929,\n",
       " 'breathe': 5649,\n",
       " 'just': 22644,\n",
       " 'george': 17150,\n",
       " 'banks': 3694,\n",
       " 'recovered': 34674,\n",
       " 'daughter': 10581,\n",
       " 'receives': 34572,\n",
       " 'news': 29291,\n",
       " 'pregnant': 32990,\n",
       " 'wife': 46298,\n",
       " 'nina': 29443,\n",
       " 'expecting': 14618,\n",
       " 'planning': 32323,\n",
       " 'selling': 37677,\n",
       " 'home': 19739,\n",
       " 'plan': 32311,\n",
       " 'like': 24763,\n",
       " 'change': 7360,\n",
       " 'arrival': 2692,\n",
       " 'grandchild': 17840,\n",
       " 'kid': 23164,\n",
       " 'obsessive': 29895,\n",
       " 'master': 26481,\n",
       " 'thief': 42424,\n",
       " 'neil': 29143,\n",
       " 'mccauley': 26723,\n",
       " 'leads': 24291,\n",
       " 'notch': 29656,\n",
       " 'crew': 9861,\n",
       " 'various': 44907,\n",
       " 'insane': 21263,\n",
       " 'heists': 19174,\n",
       " 'los': 25223,\n",
       " 'angeles': 2066,\n",
       " 'mentally': 27138,\n",
       " 'unstable': 44506,\n",
       " 'detective': 11401,\n",
       " 'vincent': 45287,\n",
       " 'hanna': 18684,\n",
       " 'pursues': 33772,\n",
       " 'rest': 35448,\n",
       " 'recognizes': 34629,\n",
       " 'respects': 35433,\n",
       " 'ability': 709,\n",
       " 'dedication': 10825,\n",
       " 'aware': 3299,\n",
       " 'cat': 7010,\n",
       " 'mouse': 28366,\n",
       " 'end': 13762,\n",
       " 'violence': 45324,\n",
       " 'ugly': 43928,\n",
       " 'duckling': 12836,\n",
       " 'having': 18945,\n",
       " 'undergone': 44130,\n",
       " 'remarkable': 35092,\n",
       " 'harbors': 18747,\n",
       " 'feelings': 15237,\n",
       " 'crush': 10034,\n",
       " 'carefree': 6766,\n",
       " 'playboy': 32362,\n",
       " 'business': 6233,\n",
       " 'focused': 15920,\n",
       " 'brother': 5876,\n",
       " 'say': 37069,\n",
       " 'mischievous': 27682,\n",
       " 'young': 47069,\n",
       " 'boy': 5472,\n",
       " 'tom': 42863,\n",
       " 'sawyer': 37063,\n",
       " 'witnesses': 46512,\n",
       " 'murder': 28569,\n",
       " 'deadly': 10650,\n",
       " 'injun': 21201,\n",
       " 'joe': 22342,\n",
       " 'huckleberry': 20087,\n",
       " 'finn': 15571,\n",
       " 'future': 16657,\n",
       " 'choose': 7774,\n",
       " 'honoring': 19817,\n",
       " 'friendship': 16443,\n",
       " 'oath': 29824,\n",
       " 'town': 43106,\n",
       " 'alcoholic': 1538,\n",
       " 'accused': 885,\n",
       " 'huck': 20085,\n",
       " 'adventures': 1157,\n",
       " 'trying': 43625,\n",
       " 'retrieve': 35547,\n",
       " 'evidence': 14416,\n",
       " 'international': 21483,\n",
       " 'action': 953,\n",
       " 'superstar': 41111,\n",
       " 'jean': 22125,\n",
       " 'claude': 8090,\n",
       " 'van': 44851,\n",
       " 'damme': 10411,\n",
       " 'teams': 41979,\n",
       " 'powers': 32874,\n",
       " 'boothe': 5284,\n",
       " 'tension': 42171,\n",
       " 'packed': 30838,\n",
       " 'suspense': 41267,\n",
       " 'thriller': 42525,\n",
       " 'set': 37882,\n",
       " 'drop': 12745,\n",
       " 'stanley': 40114,\n",
       " 'cup': 10144,\n",
       " 'portrays': 32744,\n",
       " 'father': 15119,\n",
       " 'suddenly': 40917,\n",
       " 'taken': 41678,\n",
       " 'championship': 7343,\n",
       " 'hockey': 19664,\n",
       " 'captors': 6712,\n",
       " 'demanding': 11052,\n",
       " 'billion': 4660,\n",
       " 'dollars': 12336,\n",
       " 'frantically': 16294,\n",
       " 'sets': 37889,\n",
       " 'motion': 28296,\n",
       " 'rescue': 35343,\n",
       " 'abort': 731,\n",
       " 'impending': 20664,\n",
       " 'explosion': 14684,\n",
       " 'final': 15521,\n",
       " 'buzzer': 6292,\n",
       " 'james': 22005,\n",
       " 'bond': 5201,\n",
       " 'unmask': 44385,\n",
       " 'mysterious': 28698,\n",
       " 'head': 18998,\n",
       " 'janus': 22053,\n",
       " 'syndicate': 41516,\n",
       " 'prevent': 33109,\n",
       " 'leader': 24286,\n",
       " 'utilizing': 44717,\n",
       " 'goldeneye': 17605,\n",
       " 'weapons': 45966,\n",
       " 'inflict': 21094,\n",
       " 'devastating': 11457,\n",
       " 'revenge': 35589,\n",
       " 'britain': 5787,\n",
       " 'widowed': 46278,\n",
       " 'president': 33063,\n",
       " 'andrew': 2030,\n",
       " 'shepherd': 38178,\n",
       " 'powerful': 32866,\n",
       " 'men': 27098,\n",
       " 'wants': 45775,\n",
       " 'covets': 9698,\n",
       " 'sydney': 41476,\n",
       " 'ellen': 13476,\n",
       " 'wade': 45629,\n",
       " 'washington': 45852,\n",
       " 'lobbyist': 25015,\n",
       " 'attempts': 3060,\n",
       " 'courting': 9667,\n",
       " 'spark': 39644,\n",
       " 'wild': 46320,\n",
       " 'rumors': 36437,\n",
       " 'decimate': 10767,\n",
       " 'approval': 2421,\n",
       " 'ratings': 34360,\n",
       " 'lawyer': 24244,\n",
       " 'shows': 38427,\n",
       " 'vampire': 44842,\n",
       " 'doorstep': 12447,\n",
       " 'falls': 14959,\n",
       " 'prey': 33118,\n",
       " 'charms': 7455,\n",
       " 'joins': 22378,\n",
       " 'search': 37478,\n",
       " 'fresh': 16406,\n",
       " 'blood': 4964,\n",
       " 'enter': 13955,\n",
       " 'dr': 12576,\n",
       " 'helsing': 19236,\n",
       " 'able': 713,\n",
       " 'vanquish': 44881,\n",
       " 'count': 9608,\n",
       " 'outcast': 30562,\n",
       " 'half': 18516,\n",
       " 'wolf': 46548,\n",
       " 'risks': 35884,\n",
       " 'life': 24713,\n",
       " 'epidemic': 14052,\n",
       " 'ravaging': 34388,\n",
       " 'nome': 29548,\n",
       " 'alaska': 1502,\n",
       " 'star': 40121,\n",
       " 'cast': 6983,\n",
       " 'epic': 14048,\n",
       " 'look': 25155,\n",
       " 'american': 1863,\n",
       " 'richard': 35733,\n",
       " 'nixon': 29485,\n",
       " 'carrying': 6895,\n",
       " 'fate': 15114,\n",
       " 'shoulders': 38392,\n",
       " 'battling': 3988,\n",
       " 'self': 37663,\n",
       " 'destructive': 11382,\n",
       " 'demands': 11053,\n",
       " 'spanning': 39635,\n",
       " 'troubled': 43551,\n",
       " 'boyhood': 5485,\n",
       " 'california': 6456,\n",
       " 'shocking': 38320,\n",
       " 'watergate': 45897,\n",
       " 'scandal': 37112,\n",
       " 'presidency': 33062,\n",
       " 'morgan': 28189,\n",
       " 'adams': 989,\n",
       " 'slave': 38967,\n",
       " 'william': 46360,\n",
       " 'shaw': 38112,\n",
       " 'quest': 33924,\n",
       " 'recover': 34673,\n",
       " 'portions': 32731,\n",
       " 'treasure': 43360,\n",
       " 'map': 26140,\n",
       " 'unfortunately': 44266,\n",
       " 'portion': 32730,\n",
       " 'held': 19182,\n",
       " 'murderous': 28576,\n",
       " 'uncle': 44061,\n",
       " 'dawg': 10608,\n",
       " 'skeptical': 38840,\n",
       " 'leadership': 24289,\n",
       " 'abilities': 708,\n",
       " 'complete': 8777,\n",
       " 'mutiny': 28666,\n",
       " 'difficult': 11654,\n",
       " 'efforts': 13277,\n",
       " 'british': 5790,\n",
       " 'crown': 9992,\n",
       " 'pirate': 32223,\n",
       " 'raids': 34134,\n",
       " 'gambling': 16795,\n",
       " 'paradise': 31067,\n",
       " 'las': 24113,\n",
       " 'vegas': 44968,\n",
       " 'dark': 10524,\n",
       " 'mafia': 25703,\n",
       " 'underbelly': 44113,\n",
       " 'rich': 35732,\n",
       " 'mr': 28415,\n",
       " 'dashwood': 10566,\n",
       " 'dies': 11633,\n",
       " 'leaving': 24339,\n",
       " 'second': 37518,\n",
       " 'daughters': 10582,\n",
       " 'poor': 32663,\n",
       " 'rules': 36424,\n",
       " 'inheritance': 21170,\n",
       " 'titular': 42773,\n",
       " 'opposites': 30282,\n",
       " 'ted': 42016,\n",
       " 'bellhop': 4288,\n",
       " 'night': 29386,\n",
       " 'job': 22322,\n",
       " 'hotel': 19970,\n",
       " 'unusual': 44552,\n",
       " 'guests': 18220,\n",
       " 'outrageous': 30615,\n",
       " 'predicaments': 32963,\n",
       " 'evening': 14383,\n",
       " 'service': 37864,\n",
       " 'serving': 37872,\n",
       " 'unbelievable': 44029,\n",
       " 'happening': 18721,\n",
       " 'summoned': 41020,\n",
       " 'ashram': 2806,\n",
       " 'tibet': 42599,\n",
       " 'ace': 892,\n",
       " 'finds': 15544,\n",
       " 'perilous': 31701,\n",
       " 'journey': 22477,\n",
       " 'jungles': 22605,\n",
       " 'africa': 1256,\n",
       " 'shikaka': 38227,\n",
       " 'missing': 27739,\n",
       " 'sacred': 36619,\n",
       " 'animal': 2115,\n",
       " 'friendly': 16441,\n",
       " 'wachati': 45616,\n",
       " 'tribe': 43428,\n",
       " 'accomplish': 848,\n",
       " 'princess': 33156,\n",
       " 'prince': 33154,\n",
       " 'warrior': 45831,\n",
       " 'wachootoos': 45617,\n",
       " 'fails': 14898,\n",
       " 'result': 35484,\n",
       " 'vicious': 45167,\n",
       " 'tribal': 43427,\n",
       " 'war': 45777,\n",
       " 'vengeful': 45017,\n",
       " 'new': 29263,\n",
       " 'york': 47047,\n",
       " 'transit': 43254,\n",
       " 'cop': 9397,\n",
       " 'decides': 10765,\n",
       " 'steal': 40235,\n",
       " 'trainload': 43196,\n",
       " 'subway': 40876,\n",
       " 'fares': 15049,\n",
       " 'foster': 16179,\n",
       " 'fellow': 15271,\n",
       " 'tries': 43454,\n",
       " 'protect': 33445,\n",
       " 'chili': 7699,\n",
       " 'palmer': 30955,\n",
       " 'miami': 27323,\n",
       " 'mobster': 27838,\n",
       " 'gets': 17214,\n",
       " 'sent': 37757,\n",
       " 'boss': 5358,\n",
       " 'psychopathic': 33593,\n",
       " 'bones': 5209,\n",
       " 'barboni': 3751,\n",
       " 'collect': 8475,\n",
       " 'bad': 3463,\n",
       " 'debt': 10711,\n",
       " 'harry': 18836,\n",
       " 'zimm': 47316,\n",
       " 'hollywood': 19725,\n",
       " 'producer': 33262,\n",
       " 'specializes': 39689,\n",
       " 'cheesy': 7563,\n",
       " 'horror': 19918,\n",
       " 'films': 15506,\n",
       " 'meets': 26980,\n",
       " 'leading': 24290,\n",
       " 'lady': 23909,\n",
       " 'romantic': 36140,\n",
       " 'sparks': 39650,\n",
       " 'fly': 15905,\n",
       " 'pitching': 32253,\n",
       " 'story': 40499,\n",
       " 'movie': 28387,\n",
       " 'idea': 20418,\n",
       " 'really': 34485,\n",
       " 'aren': 2539,\n",
       " 'different': 11646,\n",
       " 'agoraphobic': 1335,\n",
       " 'psychologist': 33587,\n",
       " 'female': 15280,\n",
       " 'work': 46646,\n",
       " 'serial': 37835,\n",
       " 'killer': 23214,\n",
       " 'copies': 9404,\n",
       " 'killers': 23215,\n",
       " 'past': 31287,\n",
       " 'assassin': 2854,\n",
       " 'robert': 35988,\n",
       " 'rath': 34356,\n",
       " 'arrives': 2696,\n",
       " 'funeral': 16597,\n",
       " 'kill': 23211,\n",
       " 'prominent': 33344,\n",
       " 'witness': 46510,\n",
       " 'rival': 35910,\n",
       " 'hired': 19562,\n",
       " 'gun': 18282,\n",
       " 'grisly': 18069,\n",
       " 'results': 35487,\n",
       " 'horrified': 19912,\n",
       " 'innocent': 21230,\n",
       " 'bystanders': 6316,\n",
       " 'return': 35558,\n",
       " 'civilian': 8005,\n",
       " 'finding': 15542,\n",
       " 'contract': 9256,\n",
       " 'killing': 23218,\n",
       " 'grows': 18138,\n",
       " 'dangerous': 10449,\n",
       " 'target': 41856,\n",
       " 'marked': 26272,\n",
       " 'harassed': 18739,\n",
       " 'classmates': 8085,\n",
       " 'won': 46574,\n",
       " 'accept': 810,\n",
       " 'appearance': 2358,\n",
       " 'shy': 38495,\n",
       " 'known': 23445,\n",
       " 'powder': 32860,\n",
       " 'struggles': 40698,\n",
       " 'fit': 15644,\n",
       " 'cruel': 10010,\n",
       " 'taunts': 41930,\n",
       " 'stop': 40471,\n",
       " 'displays': 12042,\n",
       " 'power': 32863,\n",
       " 'allows': 1690,\n",
       " 'incredible': 20914,\n",
       " 'things': 42436,\n",
       " 'phenomenon': 31935,\n",
       " 'changes': 7363,\n",
       " 'lives': 24969,\n",
       " 'ways': 45938,\n",
       " 'imagined': 20579,\n",
       " 'ben': 4323,\n",
       " 'sanderson': 36854,\n",
       " 'screenwriter': 37385,\n",
       " 'lost': 25232,\n",
       " 'drinking': 12722,\n",
       " 'drink': 12719,\n",
       " 'death': 10674,\n",
       " 'forms': 16123,\n",
       " 'uneasy': 44215,\n",
       " 'non': 29560,\n",
       " 'interference': 21454,\n",
       " 'pact': 30847,\n",
       " 'prostitute': 33435,\n",
       " 'sera': 37813,\n",
       " 'iago': 20371,\n",
       " 'pretends': 33096,\n",
       " 'friend': 16437,\n",
       " 'othello': 30522,\n",
       " 'order': 30359,\n",
       " 'manipulate': 26053,\n",
       " 'serve': 37859,\n",
       " 'film': 15493,\n",
       " 'version': 45106,\n",
       " 'shakespeare': 37998,\n",
       " 'classic': 8077,\n",
       " 'waxing': 45927,\n",
       " 'nostalgic': 29647,\n",
       " 'bittersweet': 4770,\n",
       " 'passage': 31264,\n",
       " 'childhood': 7685,\n",
       " 'puberty': 33616,\n",
       " 'tender': 42140,\n",
       " 'coming': 8625,\n",
       " 'age': 1285,\n",
       " 'tale': 41703,\n",
       " 'girlfriends': 17370,\n",
       " 'teeny': 42033,\n",
       " 'chrissy': 7812,\n",
       " 'samantha': 36804,\n",
       " 'roberta': 35989,\n",
       " 'recall': 34558,\n",
       " 'summer': 41013,\n",
       " '1970': 312,\n",
       " 'walk': 45701,\n",
       " 'memory': 27096,\n",
       " 'lane': 24026,\n",
       " 'reconcile': 34640,\n",
       " 'experiences': 14635,\n",
       " 'boys': 5493,\n",
       " 'secrets': 37536,\n",
       " 'bullies': 6085,\n",
       " 'adaptation': 996,\n",
       " 'jane': 22020,\n",
       " 'austen': 3168,\n",
       " 'novel': 29695,\n",
       " 'follows': 15959,\n",
       " 'anne': 2154,\n",
       " 'elliot': 13481,\n",
       " 'financially': 15532,\n",
       " 'aristocratic': 2586,\n",
       " 'persuaded': 31797,\n",
       " 'engagement': 13826,\n",
       " 'frederick': 16343,\n",
       " 'wentworth': 46095,\n",
       " 'sea': 37446,\n",
       " 'captain': 6701,\n",
       " 'meager': 26870,\n",
       " 'means': 26886,\n",
       " 'later': 24145,\n",
       " 'money': 28001,\n",
       " 'troubles': 43555,\n",
       " 'force': 16030,\n",
       " 'rent': 35204,\n",
       " 'estate': 14250,\n",
       " 'admiral': 1080,\n",
       " 'croft': 9939,\n",
       " 'thrown': 42551,\n",
       " 'company': 8723,\n",
       " 'successful': 40887,\n",
       " 'love': 25279,\n",
       " 'scientist': 37294,\n",
       " 'surrealist': 41214,\n",
       " 'society': 39307,\n",
       " 'kidnaps': 23181,\n",
       " 'children': 7692,\n",
       " 'dreams': 12670,\n",
       " 'hoping': 19866,\n",
       " 'slow': 39064,\n",
       " 'aging': 1313,\n",
       " 'process': 33236,\n",
       " 'provincial': 33506,\n",
       " 'related': 35013,\n",
       " 'shanghai': 38040,\n",
       " 'crime': 9874,\n",
       " 'recruited': 34687,\n",
       " 'cosmopolitan': 9552,\n",
       " '1930s': 269,\n",
       " 'servant': 37857,\n",
       " 'ganglord': 16826,\n",
       " 'mistress': 27763,\n",
       " 'marine': 26246,\n",
       " 'louanne': 25246,\n",
       " 'johnson': 22370,\n",
       " 'lands': 24020,\n",
       " 'gig': 17288,\n",
       " 'teaching': 41970,\n",
       " 'pilot': 32145,\n",
       " 'program': 33306,\n",
       " 'bright': 5756,\n",
       " 'underachieving': 44110,\n",
       " 'teens': 42031,\n",
       " 'notorious': 29676,\n",
       " 'inner': 21224,\n",
       " 'city': 7998,\n",
       " 'high': 19455,\n",
       " 'school': 37242,\n",
       " 'terrible': 42239,\n",
       " 'day': 10616,\n",
       " 'throw': 42547,\n",
       " 'decorum': 10809,\n",
       " 'wind': 46392,\n",
       " 'returns': 35561,\n",
       " 'classroom': 8086,\n",
       " 'does': 12295,\n",
       " 'armed': 2623,\n",
       " 'nonsense': 29572,\n",
       " 'attitude': 3082,\n",
       " 'informed': 21111,\n",
       " 'military': 27483,\n",
       " 'training': 43195,\n",
       " 'fearless': 15194,\n",
       " 'determination': 11412,\n",
       " 'students': 40715,\n",
       " 'matter': 26594,\n",
       " 'cost': 9559,\n",
       " 'year': 46957,\n",
       " '2035': 379,\n",
       " 'convict': 9331,\n",
       " 'cole': 8446,\n",
       " 'reluctantly': 35075,\n",
       " 'volunteers': 45524,\n",
       " 'origin': 30417,\n",
       " 'virus': 45370,\n",
       " 'wiped': 46463,\n",
       " 'nearly': 29047,\n",
       " 'earth': 13095,\n",
       " 'population': 32693,\n",
       " 'forced': 16031,\n",
       " 'survivors': 41246,\n",
       " 'underground': 44135,\n",
       " 'communities': 8711,\n",
       " 'mistakenly': 27755,\n",
       " '1990': 334,\n",
       " 'instead': 21335,\n",
       " '1996': 341,\n",
       " 'arrested': 2686,\n",
       " 'locked': 25044,\n",
       " 'mental': 27135,\n",
       " 'hospital': 19943,\n",
       " 'psychiatrist': 33574,\n",
       " 'kathryn': 22890,\n",
       " 'railly': 34136,\n",
       " 'patient': 31330,\n",
       " 'jeffrey': 22152,\n",
       " 'goines': 17594,\n",
       " 'son': 39441,\n",
       " 'famous': 14988,\n",
       " 'expert': 14645,\n",
       " 'hold': 19695,\n",
       " 'key': 23101,\n",
       " 'rogue': 36078,\n",
       " 'group': 18124,\n",
       " 'army': 2646,\n",
       " '12': 40,\n",
       " 'thought': 42496,\n",
       " 'responsible': 35445,\n",
       " 'unleashing': 44358,\n",
       " 'disease': 11915,\n",
       " 'babe': 3390,\n",
       " 'little': 24950,\n",
       " 'pig': 32105,\n",
       " 'doesn': 12296,\n",
       " 'quite': 33980,\n",
       " 'know': 23438,\n",
       " 'bunch': 6114,\n",
       " 'odd': 29970,\n",
       " 'ferdinand': 15311,\n",
       " 'duck': 12833,\n",
       " 'thinks': 42442,\n",
       " 'rooster': 36194,\n",
       " 'dog': 12298,\n",
       " 'calls': 6484,\n",
       " 'mom': 27956,\n",
       " 'realizes': 34483,\n",
       " 'makings': 25856,\n",
       " 'greatest': 17937,\n",
       " 'sheep': 38134,\n",
       " 'farmer': 15063,\n",
       " 'hogget': 19680,\n",
       " 'knows': 23447,\n",
       " 'help': 19223,\n",
       " 'dogs': 12314,\n",
       " 'relationship': 35018,\n",
       " 'painter': 30898,\n",
       " 'dora': 12460,\n",
       " 'carrington': 6886,\n",
       " 'author': 3184,\n",
       " 'lytton': 25548,\n",
       " 'strachey': 40517,\n",
       " 'england': 13841,\n",
       " 'cottages': 9578,\n",
       " 'countryside': 9631,\n",
       " 'platonic': 32352,\n",
       " 'homosexuality': 19781,\n",
       " 'deep': 10844,\n",
       " 'complicated': 8789,\n",
       " 'did': 11616,\n",
       " 'develop': 11463,\n",
       " 'physical': 32013,\n",
       " 'soldier': 39371,\n",
       " 'ralph': 34198,\n",
       " 'partridge': 31242,\n",
       " 'welcome': 46060,\n",
       " 'remained': 35083,\n",
       " 'somewhat': 39430,\n",
       " 'lifestyle': 24730,\n",
       " 'sexual': 37944,\n",
       " 'orientation': 30414,\n",
       " 'fact': 14860,\n",
       " 'conscientious': 9077,\n",
       " 'objector': 29849,\n",
       " 'justice': 22647,\n",
       " 'drama': 12613,\n",
       " 'based': 3894,\n",
       " 'true': 43588,\n",
       " 'row': 36329,\n",
       " 'days': 10625,\n",
       " 'strong': 40677,\n",
       " 'nun': 29749,\n",
       " 'teaches': 41969,\n",
       " 'forgiveness': 16099,\n",
       " 'gives': 17403,\n",
       " 'spirituality': 39810,\n",
       " 'accompanies': 841,\n",
       " 'execution': 14524,\n",
       " 'susan': 41249,\n",
       " 'sarandon': 36931,\n",
       " 'oscar': 30480,\n",
       " 'best': 4492,\n",
       " 'actress': 969,\n",
       " 'convincing': 9339,\n",
       " 'portrayal': 32740,\n",
       " 'sister': 38769,\n",
       " 'helen': 19184,\n",
       " 'prejean': 32992,\n",
       " 'russian': 36486,\n",
       " 'thomas': 42461,\n",
       " 'minton': 27615,\n",
       " 'travels': 43338,\n",
       " 'passenger': 31269,\n",
       " 'freighter': 16380,\n",
       " 'close': 8239,\n",
       " 'ellis': 13484,\n",
       " 'island': 21812,\n",
       " 'starts': 40171,\n",
       " 'america': 1861,\n",
       " 'immigrants': 20618,\n",
       " 'times': 42690,\n",
       " 'searching': 37482,\n",
       " 'ancestors': 1993,\n",
       " 'emigrated': 13615,\n",
       " 'decades': 10729,\n",
       " 'ago': 1327,\n",
       " 'letter': 24578,\n",
       " 'sample': 36825,\n",
       " 'profession': 33278,\n",
       " '3d': 480,\n",
       " 'photography': 32005,\n",
       " 'relative': 35020,\n",
       " 'traces': 43135,\n",
       " 'counter': 9611,\n",
       " 'checking': 7543,\n",
       " 'old': 30117,\n",
       " 'photographs': 32004,\n",
       " 'using': 44695,\n",
       " 'antique': 2265,\n",
       " 'viewer': 45220,\n",
       " 'places': 32294,\n",
       " 'today': 42804,\n",
       " 'audience': 3112,\n",
       " 'big': 4612,\n",
       " 'apple': 2374,\n",
       " 'identical': 20428,\n",
       " 'olds': 30121,\n",
       " 'backgrounds': 3429,\n",
       " 'orphaned': 30449,\n",
       " 'amanda': 1799,\n",
       " 'wealthy': 45961,\n",
       " 'alyssa': 1786,\n",
       " 'meet': 26977,\n",
       " 'camp': 6538,\n",
       " 'decide': 10762,\n",
       " 'switch': 41437,\n",
       " 'play': 32360,\n",
       " 'matchmaker': 26521,\n",
       " 'dad': 10325,\n",
       " 'roger': 36075,\n",
       " 'kind': 23248,\n",
       " 'social': 39294,\n",
       " 'worker': 46651,\n",
       " 'cares': 6775,\n",
       " 'shallow': 38008,\n",
       " 'socially': 39304,\n",
       " 'cher': 7600,\n",
       " 'beverly': 4538,\n",
       " 'hills': 19516,\n",
       " 'pecking': 31471,\n",
       " 'scale': 37092,\n",
       " 'seeing': 37582,\n",
       " 'coaxes': 8329,\n",
       " 'teachers': 41968,\n",
       " 'dating': 10577,\n",
       " 'emboldened': 13587,\n",
       " 'success': 40885,\n",
       " 'hopelessly': 19860,\n",
       " 'klutzy': 23401,\n",
       " 'student': 40714,\n",
       " 'tai': 41634,\n",
       " 'makeover': 25844,\n",
       " 'popular': 32688,\n",
       " 'disapproving': 11822,\n",
       " 'ex': 14451,\n",
       " 'stepbrother': 40288,\n",
       " 'right': 35804,\n",
       " 'misguided': 27708,\n",
       " 'south': 39576,\n",
       " 'african': 1258,\n",
       " 'preacher': 32926,\n",
       " 'goes': 17584,\n",
       " 'wayward': 45942,\n",
       " 'committed': 8682,\n",
       " 'transplanted': 43282,\n",
       " 'setting': 37892,\n",
       " 'depicts': 11194,\n",
       " 'heist': 19173,\n",
       " 'bills': 4664,\n",
       " 'retired': 35526,\n",
       " 'circulation': 7971,\n",
       " 'destined': 11368,\n",
       " 'government': 17763,\n",
       " 'burn': 6179,\n",
       " 'broadly': 5816,\n",
       " 'addresses': 1022,\n",
       " 'issues': 21845,\n",
       " 'black': 4785,\n",
       " 'americans': 1867,\n",
       " 'involvement': 21675,\n",
       " 'vietnam': 45214,\n",
       " 'subsequent': 40838,\n",
       " 'disillusionment': 11959,\n",
       " 'progress': 33313,\n",
       " 'civil': 8004,\n",
       " 'rights': 35811,\n",
       " 'united': 44332,\n",
       " 'states': 40192,\n",
       " '1960s': 302,\n",
       " 'aspiring': 2841,\n",
       " 'physician': 32016,\n",
       " 'merivel': 27189,\n",
       " 'king': 23261,\n",
       " 'charles': 7433,\n",
       " 'ii': 20497,\n",
       " 'saves': 37043,\n",
       " 'court': 9656,\n",
       " 'provided': 33498,\n",
       " 'position': 32764,\n",
       " 'ordered': 30360,\n",
       " 'marry': 26340,\n",
       " 'divert': 12179,\n",
       " 'queens': 33909,\n",
       " 'suspicions': 41273,\n",
       " 'given': 17400,\n",
       " 'fall': 14951,\n",
       " 'situation': 38786,\n",
       " 'worsens': 46683,\n",
       " 'relieves': 35053,\n",
       " 'wealth': 45959,\n",
       " 'grace': 17784,\n",
       " 'leaves': 24338,\n",
       " 'started': 40162,\n",
       " 'reunions': 35566,\n",
       " 'rediscovers': 34741,\n",
       " 'medicine': 26946,\n",
       " 'generations': 17079,\n",
       " 'sorcerer': 39501,\n",
       " 'victorious': 45186,\n",
       " 'hand': 18620,\n",
       " 'battle': 3977,\n",
       " 'mortal': 28244,\n",
       " 'enemies': 13799,\n",
       " 'wins': 46445,\n",
       " 'tenth': 42180,\n",
       " 'kombat': 23513,\n",
       " 'tournament': 43088,\n",
       " 'desolation': 11337,\n",
       " 'reign': 34947,\n",
       " 'multiverse': 28516,\n",
       " 'forever': 16081,\n",
       " 'save': 37041,\n",
       " 'warriors': 45832,\n",
       " 'overcome': 30666,\n",
       " 'seemingly': 37591,\n",
       " 'insurmountable': 21391,\n",
       " 'odds': 29976,\n",
       " 'demons': 11096,\n",
       " 'superhuman': 41087,\n",
       " 'foes': 15926,\n",
       " 'adventure': 1154,\n",
       " 'video': 45192,\n",
       " 'games': 16804,\n",
       " 'television': 42077,\n",
       " 'takes': 41684,\n",
       " 'husband': 20243,\n",
       " 'comedy': 8606,\n",
       " 'independent': 20946,\n",
       " 'director': 11782,\n",
       " 'gus': 18334,\n",
       " 'sant': 36897,\n",
       " 'brilliant': 5766,\n",
       " 'nicole': 29361,\n",
       " 'kidman': 23171,\n",
       " 'role': 36098,\n",
       " 'soon': 39480,\n",
       " 'wed': 45997,\n",
       " 'graduate': 17803,\n",
       " 'dodd': 12279,\n",
       " 'develops': 11472,\n",
       " 'cold': 8438,\n",
       " 'feet': 15241,\n",
       " 'suspects': 41264,\n",
       " 'fiancé': 15395,\n",
       " 'cheating': 7532,\n",
       " 'clear': 8123,\n",
       " 'visits': 45395,\n",
       " 'grandmother': 17857,\n",
       " 'hy': 20280,\n",
       " 'great': 17935,\n",
       " 'aunt': 3147,\n",
       " 'glady': 17421,\n",
       " 'cleary': 8131,\n",
       " 'grasse': 17894,\n",
       " 'calif': 6455,\n",
       " 'members': 27082,\n",
       " 'passionate': 31277,\n",
       " 'quilters': 33955,\n",
       " 'course': 9653,\n",
       " 'visit': 45386,\n",
       " 'regaled': 34864,\n",
       " 'tales': 41708,\n",
       " 'collected': 8476,\n",
       " 'wisdom': 46472,\n",
       " 'homicide': 19770,\n",
       " 'detectives': 11402,\n",
       " 'desperate': 11348,\n",
       " 'hunt': 20202,\n",
       " 'crimes': 9877,\n",
       " 'seven': 37908,\n",
       " 'sins': 38745,\n",
       " 'haunting': 18932,\n",
       " 'viewers': 45221,\n",
       " 'tortured': 43024,\n",
       " 'remains': 35085,\n",
       " 'victim': 45175,\n",
       " 'seasoned': 37492,\n",
       " 'det': 11386,\n",
       " 'sommerset': 39440,\n",
       " 'researches': 35353,\n",
       " 'sin': 38697,\n",
       " 'effort': 13275,\n",
       " 'mind': 27547,\n",
       " 'novice': 29706,\n",
       " 'partner': 31236,\n",
       " 'mills': 27514,\n",
       " 'scoffs': 37304,\n",
       " 'unravel': 44439,\n",
       " 'case': 6944,\n",
       " 'history': 19595,\n",
       " 'comes': 8610,\n",
       " ...}"
      ]
     },
     "execution_count": 52,
     "metadata": {},
     "output_type": "execute_result"
    }
   ],
   "source": [
    "# 단어별 인덱스 딕셔너리\n",
    "tfidf.vocabulary_"
   ]
  },
  {
   "cell_type": "code",
   "execution_count": 53,
   "metadata": {},
   "outputs": [
    {
     "data": {
      "text/plain": [
       "array([[0., 0., 0., ..., 0., 0., 0.],\n",
       "       [0., 0., 0., ..., 0., 0., 0.],\n",
       "       [0., 0., 0., ..., 0., 0., 0.],\n",
       "       ...,\n",
       "       [0., 0., 0., ..., 0., 0., 0.],\n",
       "       [0., 0., 0., ..., 0., 0., 0.],\n",
       "       [0., 0., 0., ..., 0., 0., 0.]])"
      ]
     },
     "execution_count": 53,
     "metadata": {},
     "output_type": "execute_result"
    }
   ],
   "source": [
    "tfidf_matrix.toarray()"
   ]
  },
  {
   "cell_type": "code",
   "execution_count": 54,
   "metadata": {},
   "outputs": [],
   "source": [
    "cosine_sim = linear_kernel(tfidf_matrix, tfidf_matrix)"
   ]
  },
  {
   "cell_type": "code",
   "execution_count": 55,
   "metadata": {},
   "outputs": [
    {
     "data": {
      "text/plain": [
       "array([[1.        , 0.01575748, 0.        , ..., 0.        , 0.        ,\n",
       "        0.        ],\n",
       "       [0.01575748, 1.        , 0.04907345, ..., 0.        , 0.        ,\n",
       "        0.        ],\n",
       "       [0.        , 0.04907345, 1.        , ..., 0.        , 0.        ,\n",
       "        0.        ],\n",
       "       ...,\n",
       "       [0.        , 0.        , 0.        , ..., 1.        , 0.        ,\n",
       "        0.08375766],\n",
       "       [0.        , 0.        , 0.        , ..., 0.        , 1.        ,\n",
       "        0.        ],\n",
       "       [0.        , 0.        , 0.        , ..., 0.08375766, 0.        ,\n",
       "        1.        ]])"
      ]
     },
     "execution_count": 55,
     "metadata": {},
     "output_type": "execute_result"
    }
   ],
   "source": [
    "cosine_sim"
   ]
  },
  {
   "cell_type": "code",
   "execution_count": 56,
   "metadata": {},
   "outputs": [
    {
     "data": {
      "text/plain": [
       "(20000, 20000)"
      ]
     },
     "execution_count": 56,
     "metadata": {},
     "output_type": "execute_result"
    }
   ],
   "source": [
    "cosine_sim.shape"
   ]
  },
  {
   "cell_type": "code",
   "execution_count": 57,
   "metadata": {},
   "outputs": [],
   "source": [
    "indices = pd.Series(data.index, index=data['title']).drop_duplicates()"
   ]
  },
  {
   "cell_type": "code",
   "execution_count": 58,
   "metadata": {},
   "outputs": [
    {
     "data": {
      "text/plain": [
       "title\n",
       "Toy Story                      0\n",
       "Jumanji                        1\n",
       "Grumpier Old Men               2\n",
       "Waiting to Exhale              3\n",
       "Father of the Bride Part II    4\n",
       "dtype: int64"
      ]
     },
     "execution_count": 58,
     "metadata": {},
     "output_type": "execute_result"
    }
   ],
   "source": [
    "indices.head()"
   ]
  },
  {
   "cell_type": "code",
   "execution_count": 59,
   "metadata": {},
   "outputs": [],
   "source": [
    "# 특정 영화 인덱스 확인\n",
    "idx = indices['Father of the Bride Part II']"
   ]
  },
  {
   "cell_type": "code",
   "execution_count": 60,
   "metadata": {},
   "outputs": [
    {
     "data": {
      "text/plain": [
       "4"
      ]
     },
     "execution_count": 60,
     "metadata": {},
     "output_type": "execute_result"
    }
   ],
   "source": [
    "idx"
   ]
  },
  {
   "cell_type": "code",
   "execution_count": 63,
   "metadata": {},
   "outputs": [],
   "source": [
    "def get_reco(title, cosine_sim=cosine_sim):\n",
    "    # 선택한 영화의 타이틀로부터 해당되는 인덱스를 받아옵니다. 이제 선택한 영화를 가지고 연산할 수 있습니다.\n",
    "    idx = indices[title]\n",
    "\n",
    "    # 모든 영화에 대해서 해당 영화와의 유사도를 구합니다.\n",
    "    sim_scores = list(enumerate(cosine_sim[idx]))\n",
    "\n",
    "    # 유사도에 따라 영화들을 정렬합니다.\n",
    "    sim_scores = sorted(sim_scores, key=lambda x: x[1], reverse=True)\n",
    "\n",
    "    # 가장 유사한 10개의 영화를 받아옵니다.\n",
    "    sim_scores = sim_scores[1:11]\n",
    "\n",
    "    # 가장 유사한 10개의 영화의 인덱스를 받아옵니다.\n",
    "    movie_indices = [i[0] for i in sim_scores]\n",
    "\n",
    "    # 가장 유사한 10개의 영화의 제목을 리턴합니다.\n",
    "    return data['title'].iloc[movie_indices]"
   ]
  },
  {
   "cell_type": "code",
   "execution_count": 64,
   "metadata": {},
   "outputs": [
    {
     "data": {
      "text/plain": [
       "12481                            The Dark Knight\n",
       "150                               Batman Forever\n",
       "1328                              Batman Returns\n",
       "15511                 Batman: Under the Red Hood\n",
       "585                                       Batman\n",
       "9230          Batman Beyond: Return of the Joker\n",
       "18035                           Batman: Year One\n",
       "19792    Batman: The Dark Knight Returns, Part 1\n",
       "3095                Batman: Mask of the Phantasm\n",
       "10122                              Batman Begins\n",
       "Name: title, dtype: object"
      ]
     },
     "execution_count": 64,
     "metadata": {},
     "output_type": "execute_result"
    }
   ],
   "source": [
    "get_reco('The Dark Knight Rises')"
   ]
  },
  {
   "cell_type": "markdown",
   "metadata": {},
   "source": [
    "### 유클리드 거리(Euclidean distance) 유사도"
   ]
  },
  {
   "cell_type": "code",
   "execution_count": 65,
   "metadata": {},
   "outputs": [],
   "source": [
    "import numpy as np"
   ]
  },
  {
   "cell_type": "code",
   "execution_count": 66,
   "metadata": {},
   "outputs": [],
   "source": [
    "def dist(x, y):\n",
    "    return np.sqrt(np.sum((x-y)**2))"
   ]
  },
  {
   "cell_type": "code",
   "execution_count": 67,
   "metadata": {},
   "outputs": [],
   "source": [
    "doc1 = np.array((2,3,0,1))\n",
    "doc2 = np.array((1,2,3,1))\n",
    "doc3 = np.array((2,1,2,2))\n",
    "docQ = np.array((1,1,0,1))"
   ]
  },
  {
   "cell_type": "code",
   "execution_count": 68,
   "metadata": {},
   "outputs": [
    {
     "name": "stdout",
     "output_type": "stream",
     "text": [
      "2.23606797749979\n",
      "3.1622776601683795\n",
      "2.449489742783178\n"
     ]
    }
   ],
   "source": [
    "print(dist(doc1,docQ))\n",
    "print(dist(doc2,docQ))\n",
    "print(dist(doc3,docQ))"
   ]
  },
  {
   "cell_type": "markdown",
   "metadata": {},
   "source": [
    "### 자카드 유사도(Jaccard similarity)"
   ]
  },
  {
   "cell_type": "markdown",
   "metadata": {},
   "source": [
    "합집합에서 교집합의 비율로 유사도를 구함\n",
    "</br>서로 다른 문서 간에 유사도를 구할 수 있음"
   ]
  },
  {
   "cell_type": "code",
   "execution_count": 69,
   "metadata": {},
   "outputs": [],
   "source": [
    "# 다음과 같은 두 개의 문서가 있습니다.\n",
    "# 두 문서 모두에서 등장한 단어는 apple과 banana 2개.\n",
    "doc1 = \"apple banana everyone like likey watch card holder\"\n",
    "doc2 = \"apple banana coupon passport love you\""
   ]
  },
  {
   "cell_type": "code",
   "execution_count": 70,
   "metadata": {},
   "outputs": [],
   "source": [
    "# 토큰화\n",
    "tokenized_doc1 = doc1.split()\n",
    "tokenized_doc2 = doc2.split()"
   ]
  },
  {
   "cell_type": "code",
   "execution_count": 71,
   "metadata": {},
   "outputs": [
    {
     "data": {
      "text/plain": [
       "['apple', 'banana', 'everyone', 'like', 'likey', 'watch', 'card', 'holder']"
      ]
     },
     "execution_count": 71,
     "metadata": {},
     "output_type": "execute_result"
    }
   ],
   "source": [
    "tokenized_doc1"
   ]
  },
  {
   "cell_type": "code",
   "execution_count": 72,
   "metadata": {},
   "outputs": [
    {
     "data": {
      "text/plain": [
       "['apple', 'banana', 'coupon', 'passport', 'love', 'you']"
      ]
     },
     "execution_count": 72,
     "metadata": {},
     "output_type": "execute_result"
    }
   ],
   "source": [
    "tokenized_doc2"
   ]
  },
  {
   "cell_type": "code",
   "execution_count": 73,
   "metadata": {},
   "outputs": [],
   "source": [
    "# 합집합\n",
    "union = set(tokenized_doc1).union(set(tokenized_doc2))"
   ]
  },
  {
   "cell_type": "code",
   "execution_count": 74,
   "metadata": {},
   "outputs": [
    {
     "data": {
      "text/plain": [
       "{'apple',\n",
       " 'banana',\n",
       " 'card',\n",
       " 'coupon',\n",
       " 'everyone',\n",
       " 'holder',\n",
       " 'like',\n",
       " 'likey',\n",
       " 'love',\n",
       " 'passport',\n",
       " 'watch',\n",
       " 'you'}"
      ]
     },
     "execution_count": 74,
     "metadata": {},
     "output_type": "execute_result"
    }
   ],
   "source": [
    "union"
   ]
  },
  {
   "cell_type": "code",
   "execution_count": 75,
   "metadata": {},
   "outputs": [],
   "source": [
    "# 교집합\n",
    "intersection = set(tokenized_doc1).intersection(set(tokenized_doc2))"
   ]
  },
  {
   "cell_type": "code",
   "execution_count": 76,
   "metadata": {},
   "outputs": [
    {
     "data": {
      "text/plain": [
       "{'apple', 'banana'}"
      ]
     },
     "execution_count": 76,
     "metadata": {},
     "output_type": "execute_result"
    }
   ],
   "source": [
    "intersection"
   ]
  },
  {
   "cell_type": "code",
   "execution_count": 77,
   "metadata": {},
   "outputs": [
    {
     "data": {
      "text/plain": [
       "0.16666666666666666"
      ]
     },
     "execution_count": 77,
     "metadata": {},
     "output_type": "execute_result"
    }
   ],
   "source": [
    "# 자카드 유사도\n",
    "len(intersection)/len(union)"
   ]
  },
  {
   "cell_type": "markdown",
   "metadata": {},
   "source": [
    "### 잠재 의미 분석(Latent Semantic Analysis, LSA)"
   ]
  },
  {
   "cell_type": "markdown",
   "metadata": {},
   "source": [
    "#### SVD 특이점 분해. 행렬 연산을 이용하여 연산 속도를 높임"
   ]
  },
  {
   "cell_type": "code",
   "execution_count": 78,
   "metadata": {},
   "outputs": [],
   "source": [
    "import numpy as np\n",
    "A=np.array([[0,0,0,1,0,1,1,0,0],[0,0,0,1,1,0,1,0,0],[0,1,1,0,2,0,0,0,0],[1,0,0,0,0,0,0,1,1]])"
   ]
  },
  {
   "cell_type": "code",
   "execution_count": 79,
   "metadata": {},
   "outputs": [
    {
     "data": {
      "text/plain": [
       "(4, 9)"
      ]
     },
     "execution_count": 79,
     "metadata": {},
     "output_type": "execute_result"
    }
   ],
   "source": [
    "np.shape(A)"
   ]
  },
  {
   "cell_type": "markdown",
   "metadata": {},
   "source": [
    "full SVD 수행"
   ]
  },
  {
   "cell_type": "code",
   "execution_count": 80,
   "metadata": {},
   "outputs": [],
   "source": [
    "U, s, VT = np.linalg.svd(A, full_matrices = True)"
   ]
  },
  {
   "cell_type": "code",
   "execution_count": 81,
   "metadata": {},
   "outputs": [
    {
     "data": {
      "text/plain": [
       "array([[-0.24,  0.75,  0.  , -0.62],\n",
       "       [-0.51,  0.44, -0.  ,  0.74],\n",
       "       [-0.83, -0.49, -0.  , -0.27],\n",
       "       [-0.  , -0.  ,  1.  ,  0.  ]])"
      ]
     },
     "execution_count": 81,
     "metadata": {},
     "output_type": "execute_result"
    }
   ],
   "source": [
    "U.round(2)"
   ]
  },
  {
   "cell_type": "code",
   "execution_count": 82,
   "metadata": {},
   "outputs": [
    {
     "data": {
      "text/plain": [
       "(4, 4)"
      ]
     },
     "execution_count": 82,
     "metadata": {},
     "output_type": "execute_result"
    }
   ],
   "source": [
    "U.shape"
   ]
  },
  {
   "cell_type": "code",
   "execution_count": 84,
   "metadata": {},
   "outputs": [
    {
     "data": {
      "text/plain": [
       "(9, 9)"
      ]
     },
     "execution_count": 84,
     "metadata": {},
     "output_type": "execute_result"
    }
   ],
   "source": [
    "VT.shape"
   ]
  },
  {
   "cell_type": "code",
   "execution_count": 87,
   "metadata": {},
   "outputs": [
    {
     "data": {
      "text/plain": [
       "array([2.68731789, 2.04508425, 1.73205081, 0.77197992])"
      ]
     },
     "execution_count": 87,
     "metadata": {},
     "output_type": "execute_result"
    }
   ],
   "source": [
    "# 대각행렬 주대각선에 있는 특이값만 나옴\n",
    "s"
   ]
  },
  {
   "cell_type": "code",
   "execution_count": 86,
   "metadata": {},
   "outputs": [
    {
     "data": {
      "text/plain": [
       "(4,)"
      ]
     },
     "execution_count": 86,
     "metadata": {},
     "output_type": "execute_result"
    }
   ],
   "source": [
    "s.shape"
   ]
  },
  {
   "cell_type": "code",
   "execution_count": 90,
   "metadata": {},
   "outputs": [
    {
     "data": {
      "text/plain": [
       "array([[2.68731789, 0.        , 0.        , 0.        ],\n",
       "       [0.        , 2.04508425, 0.        , 0.        ],\n",
       "       [0.        , 0.        , 1.73205081, 0.        ],\n",
       "       [0.        , 0.        , 0.        , 0.77197992]])"
      ]
     },
     "execution_count": 90,
     "metadata": {},
     "output_type": "execute_result"
    }
   ],
   "source": [
    "s1 = np.diag(s)\n",
    "s1"
   ]
  },
  {
   "cell_type": "code",
   "execution_count": 91,
   "metadata": {},
   "outputs": [
    {
     "data": {
      "text/plain": [
       "array([2.68731789, 2.04508425, 1.73205081, 0.77197992])"
      ]
     },
     "execution_count": 91,
     "metadata": {},
     "output_type": "execute_result"
    }
   ],
   "source": [
    "np.diag(s1)"
   ]
  },
  {
   "cell_type": "code",
   "execution_count": 92,
   "metadata": {},
   "outputs": [],
   "source": [
    "S = np.zeros((4, 9)) # 대각 행렬의 크기 4 x 9 맞춰주기"
   ]
  },
  {
   "cell_type": "code",
   "execution_count": 93,
   "metadata": {},
   "outputs": [
    {
     "data": {
      "text/plain": [
       "array([[0., 0., 0., 0., 0., 0., 0., 0., 0.],\n",
       "       [0., 0., 0., 0., 0., 0., 0., 0., 0.],\n",
       "       [0., 0., 0., 0., 0., 0., 0., 0., 0.],\n",
       "       [0., 0., 0., 0., 0., 0., 0., 0., 0.]])"
      ]
     },
     "execution_count": 93,
     "metadata": {},
     "output_type": "execute_result"
    }
   ],
   "source": [
    "S"
   ]
  },
  {
   "cell_type": "code",
   "execution_count": 94,
   "metadata": {},
   "outputs": [],
   "source": [
    "S[:4, :4] = np.diag(s)"
   ]
  },
  {
   "cell_type": "code",
   "execution_count": 95,
   "metadata": {},
   "outputs": [
    {
     "data": {
      "text/plain": [
       "array([[2.69, 0.  , 0.  , 0.  , 0.  , 0.  , 0.  , 0.  , 0.  ],\n",
       "       [0.  , 2.05, 0.  , 0.  , 0.  , 0.  , 0.  , 0.  , 0.  ],\n",
       "       [0.  , 0.  , 1.73, 0.  , 0.  , 0.  , 0.  , 0.  , 0.  ],\n",
       "       [0.  , 0.  , 0.  , 0.77, 0.  , 0.  , 0.  , 0.  , 0.  ]])"
      ]
     },
     "execution_count": 95,
     "metadata": {},
     "output_type": "execute_result"
    }
   ],
   "source": [
    "S.round(2)"
   ]
  },
  {
   "cell_type": "code",
   "execution_count": 96,
   "metadata": {
    "collapsed": true,
    "jupyter": {
     "outputs_hidden": true
    }
   },
   "outputs": [
    {
     "data": {
      "text/plain": [
       "array([[-9.05730252e-17, -3.08298331e-01, -3.08298331e-01,\n",
       "        -2.77536539e-01, -8.04917216e-01, -8.92159849e-02,\n",
       "        -2.77536539e-01, -4.41881458e-17, -4.41881458e-17],\n",
       "       [ 3.38857308e-17, -2.38904821e-01, -2.38904821e-01,\n",
       "         5.84383395e-01, -2.60689306e-01,  3.67263060e-01,\n",
       "         5.84383395e-01, -3.42420311e-17, -3.42420311e-17],\n",
       "       [ 5.77350269e-01, -5.50814942e-17,  5.81928632e-17,\n",
       "         1.38606015e-16, -1.41746067e-16,  1.66877179e-16,\n",
       "        -8.34385896e-17,  5.77350269e-01,  5.77350269e-01],\n",
       "       [ 2.32493354e-16, -3.54477649e-01, -3.54477649e-01,\n",
       "         1.60978141e-01,  2.48851639e-01, -7.96828796e-01,\n",
       "         1.60978141e-01, -5.08069894e-17, -5.08069894e-17],\n",
       "       [-9.71445147e-17, -7.79217669e-01, -1.33887309e-02,\n",
       "        -1.98151600e-01,  3.96303200e-01,  3.96303200e-01,\n",
       "        -1.98151600e-01,  4.26271409e-17,  4.26271409e-17],\n",
       "       [-2.88675135e-01,  3.11555335e-01, -7.80527867e-01,\n",
       "        -2.42243133e-01,  2.34486266e-01,  2.34486266e-01,\n",
       "         7.75686693e-03,  1.44337567e-01,  1.44337567e-01],\n",
       "       [-2.88675135e-01, -1.03851778e-01,  2.60175956e-01,\n",
       "        -5.85918956e-01, -7.81620887e-02, -7.81620887e-02,\n",
       "         6.64081044e-01,  1.44337567e-01,  1.44337567e-01],\n",
       "       [-5.00000000e-01, -5.99588521e-02,  1.50212658e-01,\n",
       "         2.39069802e-01, -4.51269030e-02, -4.51269030e-02,\n",
       "        -1.93942899e-01,  7.50000000e-01, -2.50000000e-01],\n",
       "       [-5.00000000e-01, -5.99588521e-02,  1.50212658e-01,\n",
       "         2.39069802e-01, -4.51269030e-02, -4.51269030e-02,\n",
       "        -1.93942899e-01, -2.50000000e-01,  7.50000000e-01]])"
      ]
     },
     "execution_count": 96,
     "metadata": {},
     "output_type": "execute_result"
    }
   ],
   "source": [
    "VT"
   ]
  },
  {
   "cell_type": "code",
   "execution_count": 97,
   "metadata": {},
   "outputs": [
    {
     "data": {
      "text/plain": [
       "array([[-0.  , -0.31, -0.31, -0.28, -0.8 , -0.09, -0.28, -0.  , -0.  ],\n",
       "       [ 0.  , -0.24, -0.24,  0.58, -0.26,  0.37,  0.58, -0.  , -0.  ],\n",
       "       [ 0.58, -0.  ,  0.  ,  0.  , -0.  ,  0.  , -0.  ,  0.58,  0.58],\n",
       "       [ 0.  , -0.35, -0.35,  0.16,  0.25, -0.8 ,  0.16, -0.  , -0.  ],\n",
       "       [-0.  , -0.78, -0.01, -0.2 ,  0.4 ,  0.4 , -0.2 ,  0.  ,  0.  ],\n",
       "       [-0.29,  0.31, -0.78, -0.24,  0.23,  0.23,  0.01,  0.14,  0.14],\n",
       "       [-0.29, -0.1 ,  0.26, -0.59, -0.08, -0.08,  0.66,  0.14,  0.14],\n",
       "       [-0.5 , -0.06,  0.15,  0.24, -0.05, -0.05, -0.19,  0.75, -0.25],\n",
       "       [-0.5 , -0.06,  0.15,  0.24, -0.05, -0.05, -0.19, -0.25,  0.75]])"
      ]
     },
     "execution_count": 97,
     "metadata": {},
     "output_type": "execute_result"
    }
   ],
   "source": [
    "VT.round(2)"
   ]
  },
  {
   "cell_type": "code",
   "execution_count": 101,
   "metadata": {},
   "outputs": [
    {
     "data": {
      "text/plain": [
       "True"
      ]
     },
     "execution_count": 101,
     "metadata": {},
     "output_type": "execute_result"
    }
   ],
   "source": [
    "# 기존 행렬 A와 동일한지 확인\n",
    "np.allclose(A, np.dot(np.dot(U, S), VT))"
   ]
  },
  {
   "cell_type": "code",
   "execution_count": 102,
   "metadata": {},
   "outputs": [],
   "source": [
    "S = S[:2, :2]"
   ]
  },
  {
   "cell_type": "code",
   "execution_count": 103,
   "metadata": {},
   "outputs": [
    {
     "data": {
      "text/plain": [
       "array([[2.68731789, 0.        ],\n",
       "       [0.        , 2.04508425]])"
      ]
     },
     "execution_count": 103,
     "metadata": {},
     "output_type": "execute_result"
    }
   ],
   "source": [
    "S"
   ]
  },
  {
   "cell_type": "code",
   "execution_count": 104,
   "metadata": {},
   "outputs": [],
   "source": [
    "U = U[:, :2]"
   ]
  },
  {
   "cell_type": "code",
   "execution_count": 105,
   "metadata": {},
   "outputs": [
    {
     "data": {
      "text/plain": [
       "array([[-2.39751712e-01,  7.51083898e-01],\n",
       "       [-5.06077194e-01,  4.44029376e-01],\n",
       "       [-8.28495619e-01, -4.88580485e-01],\n",
       "       [-7.19783140e-17, -2.24042335e-17]])"
      ]
     },
     "execution_count": 105,
     "metadata": {},
     "output_type": "execute_result"
    }
   ],
   "source": [
    "U"
   ]
  },
  {
   "cell_type": "code",
   "execution_count": 106,
   "metadata": {},
   "outputs": [],
   "source": [
    "VT = VT[:2, :]"
   ]
  },
  {
   "cell_type": "code",
   "execution_count": 107,
   "metadata": {},
   "outputs": [
    {
     "data": {
      "text/plain": [
       "array([[-9.05730252e-17, -3.08298331e-01, -3.08298331e-01,\n",
       "        -2.77536539e-01, -8.04917216e-01, -8.92159849e-02,\n",
       "        -2.77536539e-01, -4.41881458e-17, -4.41881458e-17],\n",
       "       [ 3.38857308e-17, -2.38904821e-01, -2.38904821e-01,\n",
       "         5.84383395e-01, -2.60689306e-01,  3.67263060e-01,\n",
       "         5.84383395e-01, -3.42420311e-17, -3.42420311e-17]])"
      ]
     },
     "execution_count": 107,
     "metadata": {},
     "output_type": "execute_result"
    }
   ],
   "source": [
    "VT"
   ]
  },
  {
   "cell_type": "code",
   "execution_count": 108,
   "metadata": {},
   "outputs": [
    {
     "data": {
      "text/plain": [
       "array([[-0.  , -0.31, -0.31, -0.28, -0.8 , -0.09, -0.28, -0.  , -0.  ],\n",
       "       [ 0.  , -0.24, -0.24,  0.58, -0.26,  0.37,  0.58, -0.  , -0.  ]])"
      ]
     },
     "execution_count": 108,
     "metadata": {},
     "output_type": "execute_result"
    }
   ],
   "source": [
    "VT.round(2)"
   ]
  },
  {
   "cell_type": "code",
   "execution_count": 110,
   "metadata": {},
   "outputs": [],
   "source": [
    "A_prime = np.dot(np.dot(U,S), VT)"
   ]
  },
  {
   "cell_type": "code",
   "execution_count": 111,
   "metadata": {},
   "outputs": [
    {
     "data": {
      "text/plain": [
       "array([[ 0.  , -0.17, -0.17,  1.08,  0.12,  0.62,  1.08, -0.  , -0.  ],\n",
       "       [ 0.  ,  0.2 ,  0.2 ,  0.91,  0.86,  0.45,  0.91,  0.  ,  0.  ],\n",
       "       [ 0.  ,  0.93,  0.93,  0.03,  2.05, -0.17,  0.03,  0.  ,  0.  ],\n",
       "       [ 0.  ,  0.  ,  0.  ,  0.  ,  0.  ,  0.  ,  0.  ,  0.  ,  0.  ]])"
      ]
     },
     "execution_count": 111,
     "metadata": {},
     "output_type": "execute_result"
    }
   ],
   "source": [
    "A_prime.round(2)"
   ]
  },
  {
   "cell_type": "code",
   "execution_count": 112,
   "metadata": {},
   "outputs": [
    {
     "data": {
      "text/plain": [
       "array([[0, 0, 0, 1, 0, 1, 1, 0, 0],\n",
       "       [0, 0, 0, 1, 1, 0, 1, 0, 0],\n",
       "       [0, 1, 1, 0, 2, 0, 0, 0, 0],\n",
       "       [1, 0, 0, 0, 0, 0, 0, 1, 1]])"
      ]
     },
     "execution_count": 112,
     "metadata": {},
     "output_type": "execute_result"
    }
   ],
   "source": [
    "A"
   ]
  },
  {
   "cell_type": "markdown",
   "metadata": {},
   "source": [
    "#### 뉴스그룹 데이터 실습"
   ]
  },
  {
   "cell_type": "code",
   "execution_count": 113,
   "metadata": {},
   "outputs": [],
   "source": [
    "import pandas as pd\n",
    "from sklearn.datasets import fetch_20newsgroups"
   ]
  },
  {
   "cell_type": "code",
   "execution_count": 114,
   "metadata": {},
   "outputs": [],
   "source": [
    "# random_state에 고정값을 주는 이유는 똑같은 결과를 얻기 위함\n",
    "dataset = fetch_20newsgroups(shuffle=True, random_state=1, remove=('headers', 'footers', 'quotes'))"
   ]
  },
  {
   "cell_type": "code",
   "execution_count": 116,
   "metadata": {},
   "outputs": [
    {
     "data": {
      "text/plain": [
       "dict_keys(['data', 'filenames', 'target_names', 'target', 'DESCR'])"
      ]
     },
     "execution_count": 116,
     "metadata": {},
     "output_type": "execute_result"
    }
   ],
   "source": [
    "dataset.keys()"
   ]
  },
  {
   "cell_type": "code",
   "execution_count": 184,
   "metadata": {},
   "outputs": [
    {
     "data": {
      "text/plain": [
       "20"
      ]
     },
     "execution_count": 184,
     "metadata": {},
     "output_type": "execute_result"
    }
   ],
   "source": [
    "len(dataset.target_names)"
   ]
  },
  {
   "cell_type": "code",
   "execution_count": 117,
   "metadata": {},
   "outputs": [
    {
     "data": {
      "text/plain": [
       "['alt.atheism',\n",
       " 'comp.graphics',\n",
       " 'comp.os.ms-windows.misc',\n",
       " 'comp.sys.ibm.pc.hardware',\n",
       " 'comp.sys.mac.hardware',\n",
       " 'comp.windows.x',\n",
       " 'misc.forsale',\n",
       " 'rec.autos',\n",
       " 'rec.motorcycles',\n",
       " 'rec.sport.baseball',\n",
       " 'rec.sport.hockey',\n",
       " 'sci.crypt',\n",
       " 'sci.electronics',\n",
       " 'sci.med',\n",
       " 'sci.space',\n",
       " 'soc.religion.christian',\n",
       " 'talk.politics.guns',\n",
       " 'talk.politics.mideast',\n",
       " 'talk.politics.misc',\n",
       " 'talk.religion.misc']"
      ]
     },
     "execution_count": 117,
     "metadata": {},
     "output_type": "execute_result"
    }
   ],
   "source": [
    "# 20개의 토픽\n",
    "dataset.target_names"
   ]
  },
  {
   "cell_type": "code",
   "execution_count": 118,
   "metadata": {},
   "outputs": [
    {
     "data": {
      "text/plain": [
       "array([17,  0, 17, ...,  9,  4,  9])"
      ]
     },
     "execution_count": 118,
     "metadata": {},
     "output_type": "execute_result"
    }
   ],
   "source": [
    "dataset.target"
   ]
  },
  {
   "cell_type": "code",
   "execution_count": 119,
   "metadata": {
    "collapsed": true,
    "jupyter": {
     "outputs_hidden": true
    }
   },
   "outputs": [
    {
     "data": {
      "text/plain": [
       "array(['C:\\\\Users\\\\leok8\\\\scikit_learn_data\\\\20news_home\\\\20news-bydate-train\\\\talk.politics.mideast\\\\76141',\n",
       "       'C:\\\\Users\\\\leok8\\\\scikit_learn_data\\\\20news_home\\\\20news-bydate-train\\\\alt.atheism\\\\53281',\n",
       "       'C:\\\\Users\\\\leok8\\\\scikit_learn_data\\\\20news_home\\\\20news-bydate-train\\\\talk.politics.mideast\\\\76350',\n",
       "       ...,\n",
       "       'C:\\\\Users\\\\leok8\\\\scikit_learn_data\\\\20news_home\\\\20news-bydate-train\\\\rec.sport.baseball\\\\105105',\n",
       "       'C:\\\\Users\\\\leok8\\\\scikit_learn_data\\\\20news_home\\\\20news-bydate-train\\\\comp.sys.mac.hardware\\\\51575',\n",
       "       'C:\\\\Users\\\\leok8\\\\scikit_learn_data\\\\20news_home\\\\20news-bydate-train\\\\rec.sport.baseball\\\\104908'],\n",
       "      dtype='<U95')"
      ]
     },
     "execution_count": 119,
     "metadata": {},
     "output_type": "execute_result"
    }
   ],
   "source": [
    "dataset.filenames"
   ]
  },
  {
   "cell_type": "code",
   "execution_count": 121,
   "metadata": {},
   "outputs": [],
   "source": [
    "documents = dataset.data"
   ]
  },
  {
   "cell_type": "code",
   "execution_count": 122,
   "metadata": {},
   "outputs": [
    {
     "data": {
      "text/plain": [
       "11314"
      ]
     },
     "execution_count": 122,
     "metadata": {},
     "output_type": "execute_result"
    }
   ],
   "source": [
    "len(documents)"
   ]
  },
  {
   "cell_type": "code",
   "execution_count": 124,
   "metadata": {},
   "outputs": [
    {
     "data": {
      "text/plain": [
       "\"Well i'm not sure about the story nad it did seem biased. What\\nI disagree with is your statement that the U.S. Media is out to\\nruin Israels reputation. That is rediculous. The U.S. media is\\nthe most pro-israeli media in the world. Having lived in Europe\\nI realize that incidences such as the one described in the\\nletter have occured. The U.S. media as a whole seem to try to\\nignore them. The U.S. is subsidizing Israels existance and the\\nEuropeans are not (at least not to the same degree). So I think\\nthat might be a reason they report more clearly on the\\natrocities.\\n\\tWhat is a shame is that in Austria, daily reports of\\nthe inhuman acts commited by Israeli soldiers and the blessing\\nreceived from the Government makes some of the Holocaust guilt\\ngo away. After all, look how the Jews are treating other races\\nwhen they got power. It is unfortunate.\\n\""
      ]
     },
     "execution_count": 124,
     "metadata": {},
     "output_type": "execute_result"
    }
   ],
   "source": [
    "documents[0]"
   ]
  },
  {
   "cell_type": "code",
   "execution_count": 125,
   "metadata": {},
   "outputs": [
    {
     "data": {
      "text/plain": [
       "\"\\n\\n\\n\\n\\n\\n\\nYeah, do you expect people to read the FAQ, etc. and actually accept hard\\natheism?  No, you need a little leap of faith, Jimmy.  Your logic runs out\\nof steam!\\n\\n\\n\\n\\n\\n\\n\\nJim,\\n\\nSorry I can't pity you, Jim.  And I'm sorry that you have these feelings of\\ndenial about the faith you need to get by.  Oh well, just pretend that it will\\nall end happily ever after anyway.  Maybe if you start a new newsgroup,\\nalt.atheist.hard, you won't be bummin' so much?\\n\\n\\n\\n\\n\\n\\nBye-Bye, Big Jim.  Don't forget your Flintstone's Chewables!  :) \\n--\\nBake Timmons, III\""
      ]
     },
     "execution_count": 125,
     "metadata": {},
     "output_type": "execute_result"
    }
   ],
   "source": [
    "documents[1]"
   ]
  },
  {
   "cell_type": "markdown",
   "metadata": {},
   "source": [
    "#### 텍스트 전처리"
   ]
  },
  {
   "cell_type": "code",
   "execution_count": 128,
   "metadata": {},
   "outputs": [],
   "source": [
    "news_df = pd.DataFrame({'document':documents})"
   ]
  },
  {
   "cell_type": "code",
   "execution_count": 129,
   "metadata": {},
   "outputs": [
    {
     "data": {
      "text/html": [
       "<div>\n",
       "<style scoped>\n",
       "    .dataframe tbody tr th:only-of-type {\n",
       "        vertical-align: middle;\n",
       "    }\n",
       "\n",
       "    .dataframe tbody tr th {\n",
       "        vertical-align: top;\n",
       "    }\n",
       "\n",
       "    .dataframe thead th {\n",
       "        text-align: right;\n",
       "    }\n",
       "</style>\n",
       "<table border=\"1\" class=\"dataframe\">\n",
       "  <thead>\n",
       "    <tr style=\"text-align: right;\">\n",
       "      <th></th>\n",
       "      <th>document</th>\n",
       "    </tr>\n",
       "  </thead>\n",
       "  <tbody>\n",
       "    <tr>\n",
       "      <th>0</th>\n",
       "      <td>Well i'm not sure about the story nad it did s...</td>\n",
       "    </tr>\n",
       "    <tr>\n",
       "      <th>1</th>\n",
       "      <td>\\n\\n\\n\\n\\n\\n\\nYeah, do you expect people to re...</td>\n",
       "    </tr>\n",
       "    <tr>\n",
       "      <th>2</th>\n",
       "      <td>Although I realize that principle is not one o...</td>\n",
       "    </tr>\n",
       "    <tr>\n",
       "      <th>3</th>\n",
       "      <td>Notwithstanding all the legitimate fuss about ...</td>\n",
       "    </tr>\n",
       "    <tr>\n",
       "      <th>4</th>\n",
       "      <td>Well, I will have to change the scoring on my ...</td>\n",
       "    </tr>\n",
       "    <tr>\n",
       "      <th>...</th>\n",
       "      <td>...</td>\n",
       "    </tr>\n",
       "    <tr>\n",
       "      <th>11309</th>\n",
       "      <td>Danny Rubenstein, an Israeli journalist, will ...</td>\n",
       "    </tr>\n",
       "    <tr>\n",
       "      <th>11310</th>\n",
       "      <td>\\n</td>\n",
       "    </tr>\n",
       "    <tr>\n",
       "      <th>11311</th>\n",
       "      <td>\\nI agree.  Home runs off Clemens are always m...</td>\n",
       "    </tr>\n",
       "    <tr>\n",
       "      <th>11312</th>\n",
       "      <td>I used HP DeskJet with Orange Micros Grappler ...</td>\n",
       "    </tr>\n",
       "    <tr>\n",
       "      <th>11313</th>\n",
       "      <td>^^^^^^\\n...</td>\n",
       "    </tr>\n",
       "  </tbody>\n",
       "</table>\n",
       "<p>11314 rows × 1 columns</p>\n",
       "</div>"
      ],
      "text/plain": [
       "                                                document\n",
       "0      Well i'm not sure about the story nad it did s...\n",
       "1      \\n\\n\\n\\n\\n\\n\\nYeah, do you expect people to re...\n",
       "2      Although I realize that principle is not one o...\n",
       "3      Notwithstanding all the legitimate fuss about ...\n",
       "4      Well, I will have to change the scoring on my ...\n",
       "...                                                  ...\n",
       "11309  Danny Rubenstein, an Israeli journalist, will ...\n",
       "11310                                                 \\n\n",
       "11311  \\nI agree.  Home runs off Clemens are always m...\n",
       "11312  I used HP DeskJet with Orange Micros Grappler ...\n",
       "11313                                        ^^^^^^\\n...\n",
       "\n",
       "[11314 rows x 1 columns]"
      ]
     },
     "execution_count": 129,
     "metadata": {},
     "output_type": "execute_result"
    }
   ],
   "source": [
    "news_df"
   ]
  },
  {
   "cell_type": "code",
   "execution_count": 132,
   "metadata": {},
   "outputs": [
    {
     "name": "stderr",
     "output_type": "stream",
     "text": [
      "<ipython-input-132-c0e97656cc44>:3: FutureWarning: The default value of regex will change from True to False in a future version.\n",
      "  news_df['clean_doc'] = news_df['document'].str.replace('[^a-zA-Z]', ' ')\n"
     ]
    }
   ],
   "source": [
    "# 데이터프레임 형식을 문자열 형식으로 변경\n",
    "# 정규표현식으로 특수문자 제거\n",
    "news_df['clean_doc'] = news_df['document'].str.replace('[^a-zA-Z]', ' ')"
   ]
  },
  {
   "cell_type": "code",
   "execution_count": 133,
   "metadata": {},
   "outputs": [
    {
     "data": {
      "text/html": [
       "<div>\n",
       "<style scoped>\n",
       "    .dataframe tbody tr th:only-of-type {\n",
       "        vertical-align: middle;\n",
       "    }\n",
       "\n",
       "    .dataframe tbody tr th {\n",
       "        vertical-align: top;\n",
       "    }\n",
       "\n",
       "    .dataframe thead th {\n",
       "        text-align: right;\n",
       "    }\n",
       "</style>\n",
       "<table border=\"1\" class=\"dataframe\">\n",
       "  <thead>\n",
       "    <tr style=\"text-align: right;\">\n",
       "      <th></th>\n",
       "      <th>document</th>\n",
       "      <th>clean_doc</th>\n",
       "    </tr>\n",
       "  </thead>\n",
       "  <tbody>\n",
       "    <tr>\n",
       "      <th>0</th>\n",
       "      <td>Well i'm not sure about the story nad it did s...</td>\n",
       "      <td>Well i m not sure about the story nad it did s...</td>\n",
       "    </tr>\n",
       "    <tr>\n",
       "      <th>1</th>\n",
       "      <td>\\n\\n\\n\\n\\n\\n\\nYeah, do you expect people to re...</td>\n",
       "      <td>Yeah  do you expect people to read the ...</td>\n",
       "    </tr>\n",
       "    <tr>\n",
       "      <th>2</th>\n",
       "      <td>Although I realize that principle is not one o...</td>\n",
       "      <td>Although I realize that principle is not one o...</td>\n",
       "    </tr>\n",
       "    <tr>\n",
       "      <th>3</th>\n",
       "      <td>Notwithstanding all the legitimate fuss about ...</td>\n",
       "      <td>Notwithstanding all the legitimate fuss about ...</td>\n",
       "    </tr>\n",
       "    <tr>\n",
       "      <th>4</th>\n",
       "      <td>Well, I will have to change the scoring on my ...</td>\n",
       "      <td>Well  I will have to change the scoring on my ...</td>\n",
       "    </tr>\n",
       "    <tr>\n",
       "      <th>...</th>\n",
       "      <td>...</td>\n",
       "      <td>...</td>\n",
       "    </tr>\n",
       "    <tr>\n",
       "      <th>11309</th>\n",
       "      <td>Danny Rubenstein, an Israeli journalist, will ...</td>\n",
       "      <td>Danny Rubenstein  an Israeli journalist  will ...</td>\n",
       "    </tr>\n",
       "    <tr>\n",
       "      <th>11310</th>\n",
       "      <td>\\n</td>\n",
       "      <td></td>\n",
       "    </tr>\n",
       "    <tr>\n",
       "      <th>11311</th>\n",
       "      <td>\\nI agree.  Home runs off Clemens are always m...</td>\n",
       "      <td>I agree   Home runs off Clemens are always me...</td>\n",
       "    </tr>\n",
       "    <tr>\n",
       "      <th>11312</th>\n",
       "      <td>I used HP DeskJet with Orange Micros Grappler ...</td>\n",
       "      <td>I used HP DeskJet with Orange Micros Grappler ...</td>\n",
       "    </tr>\n",
       "    <tr>\n",
       "      <th>11313</th>\n",
       "      <td>^^^^^^\\n...</td>\n",
       "      <td>N...</td>\n",
       "    </tr>\n",
       "  </tbody>\n",
       "</table>\n",
       "<p>11314 rows × 2 columns</p>\n",
       "</div>"
      ],
      "text/plain": [
       "                                                document  \\\n",
       "0      Well i'm not sure about the story nad it did s...   \n",
       "1      \\n\\n\\n\\n\\n\\n\\nYeah, do you expect people to re...   \n",
       "2      Although I realize that principle is not one o...   \n",
       "3      Notwithstanding all the legitimate fuss about ...   \n",
       "4      Well, I will have to change the scoring on my ...   \n",
       "...                                                  ...   \n",
       "11309  Danny Rubenstein, an Israeli journalist, will ...   \n",
       "11310                                                 \\n   \n",
       "11311  \\nI agree.  Home runs off Clemens are always m...   \n",
       "11312  I used HP DeskJet with Orange Micros Grappler ...   \n",
       "11313                                        ^^^^^^\\n...   \n",
       "\n",
       "                                               clean_doc  \n",
       "0      Well i m not sure about the story nad it did s...  \n",
       "1             Yeah  do you expect people to read the ...  \n",
       "2      Although I realize that principle is not one o...  \n",
       "3      Notwithstanding all the legitimate fuss about ...  \n",
       "4      Well  I will have to change the scoring on my ...  \n",
       "...                                                  ...  \n",
       "11309  Danny Rubenstein  an Israeli journalist  will ...  \n",
       "11310                                                     \n",
       "11311   I agree   Home runs off Clemens are always me...  \n",
       "11312  I used HP DeskJet with Orange Micros Grappler ...  \n",
       "11313                                               N...  \n",
       "\n",
       "[11314 rows x 2 columns]"
      ]
     },
     "execution_count": 133,
     "metadata": {},
     "output_type": "execute_result"
    }
   ],
   "source": [
    "news_df"
   ]
  },
  {
   "cell_type": "code",
   "execution_count": 134,
   "metadata": {},
   "outputs": [],
   "source": [
    "# 길이가 3이하인 단어는 제거 (길이가 짧은 단어 제거)\n",
    "news_df['clean_doc'] = news_df['clean_doc'].apply(lambda x: ' '.join([w for w in x.split() if len(w)>3]))"
   ]
  },
  {
   "cell_type": "code",
   "execution_count": 135,
   "metadata": {},
   "outputs": [
    {
     "data": {
      "text/plain": [
       "0        Well sure about story seem biased What disagre...\n",
       "1        Yeah expect people read actually accept hard a...\n",
       "2        Although realize that principle your strongest...\n",
       "3        Notwithstanding legitimate fuss about this pro...\n",
       "4        Well will have change scoring playoff pool Unf...\n",
       "                               ...                        \n",
       "11309    Danny Rubenstein Israeli journalist will speak...\n",
       "11310                                                     \n",
       "11311    agree Home runs Clemens always memorable Kinda...\n",
       "11312    used DeskJet with Orange Micros Grappler Syste...\n",
       "11313    argument with Murphy scared hell when came las...\n",
       "Name: clean_doc, Length: 11314, dtype: object"
      ]
     },
     "execution_count": 135,
     "metadata": {},
     "output_type": "execute_result"
    }
   ],
   "source": [
    "news_df['clean_doc']"
   ]
  },
  {
   "cell_type": "code",
   "execution_count": 136,
   "metadata": {},
   "outputs": [],
   "source": [
    "# 전체 단어 소문자 변환\n",
    "news_df['clean_doc'] = news_df['clean_doc'].apply(lambda x: x.lower())"
   ]
  },
  {
   "cell_type": "code",
   "execution_count": 139,
   "metadata": {},
   "outputs": [
    {
     "data": {
      "text/plain": [
       "0    well sure about story seem biased what disagre...\n",
       "1    yeah expect people read actually accept hard a...\n",
       "2    although realize that principle your strongest...\n",
       "Name: clean_doc, dtype: object"
      ]
     },
     "execution_count": 139,
     "metadata": {},
     "output_type": "execute_result"
    }
   ],
   "source": [
    "news_df.clean_doc[:3]"
   ]
  },
  {
   "cell_type": "code",
   "execution_count": 152,
   "metadata": {},
   "outputs": [],
   "source": [
    "from nltk.corpus import stopwords"
   ]
  },
  {
   "cell_type": "code",
   "execution_count": 153,
   "metadata": {},
   "outputs": [],
   "source": [
    "stop_words = stopwords.words('english')"
   ]
  },
  {
   "cell_type": "code",
   "execution_count": 154,
   "metadata": {},
   "outputs": [],
   "source": [
    "tokenized_doc = news_df['clean_doc'].apply(lambda x:x.split())"
   ]
  },
  {
   "cell_type": "code",
   "execution_count": 155,
   "metadata": {},
   "outputs": [],
   "source": [
    "tokenized_doc = tokenized_doc.apply(lambda x:[item for item in x if item not in stop_words])"
   ]
  },
  {
   "cell_type": "markdown",
   "metadata": {},
   "source": [
    "#### TF-IDF 행렬 만들기"
   ]
  },
  {
   "cell_type": "code",
   "execution_count": 156,
   "metadata": {},
   "outputs": [],
   "source": [
    "# 역 토큰화 작업\n",
    "detokenized_doc = []"
   ]
  },
  {
   "cell_type": "code",
   "execution_count": 157,
   "metadata": {},
   "outputs": [],
   "source": [
    "for i in range(len(news_df)):\n",
    "    t = ' '.join(tokenized_doc[i])\n",
    "    detokenized_doc.append(t)"
   ]
  },
  {
   "cell_type": "code",
   "execution_count": 159,
   "metadata": {
    "collapsed": true,
    "jupyter": {
     "outputs_hidden": true
    }
   },
   "outputs": [
    {
     "data": {
      "text/plain": [
       "['well sure story seem biased disagree statement media ruin israels reputation rediculous media israeli media world lived europe realize incidences described letter occured media whole seem ignore subsidizing israels existance europeans least degree think might reason report clearly atrocities shame austria daily reports inhuman acts commited israeli soldiers blessing received government makes holocaust guilt away look jews treating races power unfortunate',\n",
       " 'yeah expect people read actually accept hard atheism need little leap faith jimmy logic runs steam sorry pity sorry feelings denial faith need well pretend happily ever anyway maybe start newsgroup atheist hard bummin much forget flintstone chewables bake timmons',\n",
       " 'although realize principle strongest points would still like know question sort arab countries want continue think tank charade fixation israel must stop might start asking sort questions arab countries well realize would work arab countries treatment jews last several decades fixation israel would begin look like biased attack everyone group recognizes stupid center policy research nothing fancy name bigot hates israel',\n",
       " 'notwithstanding legitimate fuss proposal much change last product area priced suspect clipper phones came customer automatically preregistered government authorities thus aside attempting legitimize solidify posture clipper seems rather direction technology eventually drive cost thereby promote widespread present street going purchase crypto telephone especially probably anyway missing something real question year tight voice privacy phone line close nearest problematic scenario even extent usage never surpasses underground stature',\n",
       " 'well change scoring playoff pool unfortunately time right certainly post scoring rules tomorrow matter enter anyway good keith keller rangers quakers kkeller mail upenn league champs',\n",
       " 'read somewhere think morton smith jesus magician lazarus dead going tomb part initiation rite magi cult jesus also part appears stay normal wonder',\n",
       " 'record shows iisi without cache small enough attach also measured real programs without cache speedup varies ranging think average right subjective difference great sometimes noticable simple cache card certainly transform iisi something enormously better conventional wisdom says cache cards makers offer speedup much difference caches bought mine third wave well absolutely problems complete speedometer runs cache like check conventional wisdom called performance rating numbers interest cheers file must converted binhex kbfkp cfgigfh qsqbuc squu qscfphghl kjqtu ucucj hgik hcakr spij ucld quutqc quubut tuuqcq ucfj acsl cqfm vxmhha irdjpcvr lucvsz xrhjf vipiqkfdk lghf milc gesp bhmdhll qbqsrmm jpgxqcpr pclhrsg eiymc trafa mcbikfqc bddt egtyknxh btbhjlex khgzc bhhnv cxhkel pyyy rjtcymi pubq mihg eung msap dinq mqjza mimq padk sthlia idhhm fruq zkxi pqrqkcu qciuk zmef bqmeffkt jhyl pxve iejf ajcy qetfvk zviq rcdpaxafrl xrhf nmlp kiara bufflgj lefr kpdgj bijhnadh qpjiteram jjxdk jkrq icrc vrbjcx frchypk chjjij mbmupg xkuex irnykb rsbn fhrc rfhy jjxb cljkfb mclee mhpf qrmms cpjy ddap eipbd pexj zkgn vbkj qckrpm pqxjnlyrlpq mpvs qasr xrmrzf ilxsv ppvjicfmrrekxddi fhmt aalm chgur yaridi hpai fhnfmq qlchvc duajj ndih jqed cgdtvmdy aacvkc abfb qqlk lkqrh mkhnya kajhr efqr slfg tpmif admicj',\n",
       " 'sounds like wishful guessing called mean would peace process palestineans negociate well founded predictions know well founded test table months prove anything always side fault right know palestineans want israel known accepted terms israelis maybe palestinenans ready statehood maybe much politics within palestinean leadership many fractions saying reasons indeed real could make arabs stall negotiations like california oranges feelings sharper table regards',\n",
       " 'nobody saying allowed force others food want enhance table like salt option eater make commerical product leave include packet like salt packets desire salt pepper mustard ketchup pickles table options treat shove condiments throat shove mine',\n",
       " 'wondering anyone shed light electronic odometers remember total elapsed mileage kind memory stable reliable enough volatile enough independent enough outside battery power last years life vehicle amazed anything like could expected work length time especially light gizmos work good work months without breaking somehow side question legal ramifications selling used replaced odometer starts miles actual miles looks like fraud would fairly easy price odometer however many miles want tell buyer thanks insight',\n",
       " 'archive name graphics resources list part last modified computer graphics resource listing weekly posting part last change april many faqs including listing available archive site manager alias rtfm directory usenet news answers name archived appears archive name line article archived graphics resources list part mail server machine send mail message mail server manager containing keyword help without quotes message body many places listing item places find resource listing information items changed arranged subjects order better article limit plan changing headers soon careful resource listing keys sure remain subject line places find resource listing graphics editors public domain free shareware systems plotting packages molecular visualization stuff thinking making post weekly think lines changed character front added lines prepended removed lines removed diff locate changes text copyright nikolaos fotis copy freely file provided keep copyright notice intact compiled nikolaos nick fotis mail nfotis theseas ntua please contact updates corrections disclaimer guarantee accuracy document risk mainly guide computer graphics software would suggest reading comp graphics image analysis stuff entitled date comp graphics frequently asked questions john grieggs grieggs devvax nasa poster official comp graphics included comments within braces nikolaos fotis contents resource listing part places find resource listing archie notes computer graphics site list eric haines mail servers graphics oriented bbses tracing graphics related mailing lists graphics editors public domain free shareware systems commercial systems scene description languages solids description formats part plotting packages image analysis software image processing display part scene generators geographical data maps data files scanners digitized data background imagery textures datafiles introduction rendering algorithms tracing buffer depth buffer others find geometric data teapot space shuttle image annotation software scientific visualization stuff molecular visualization stuff geographical information systems software future additions please send updates info places find resource listing file crossposted comp graphics comp answers news answers locate comp graphics advised search comp answers news answers latter groups usually archived site contact sysadmin info articles posted comp graphics times month kept many places many faqs including available archive site manager alias rtfm directory usenet news answers name archived appears archive name line article archived graphics resources list part mail server machine send mail message mail server manager containing help subject field inria graphlib mail server mirrors posting subject mail servers resource listing accesible wais machine enuxva port name graphics resources list digest type line every numbered item purposes indexing another place monitors listing maasinfo files info contact robert maas another place search faqs general switch swiss academic research network system switzerland interactive telnet switch login info move info service usenet periodic postings directory search index file typing word look read faqs directory decide fetch following methods login switch user anonymous enter internet style address prompted password info service usenet periodic postings mail send mail archive server switch archive server switch prmd switch admd arcom enter help bodypart receive instructions information required subject header line archie archie service system locate places requested files appreciated archie asking help newsgroups archie servers archie aussie archie funet finland archie darmstadt huji israel archie kuis kyoto japan archie sogang korea archie telnet archie ireland archie sura archie password archie archie archie rutgers archie zealand connect archie server telnet type archie username help type help xarchie archie clients call archie without burden telnet session xarchie contrib tape archie comp sources misc information archie mail send mail subject help archie account sites note janet users united kingdom archie site accessible janet host connect specify archie host name archie username notes excerpted article please post mail messages saying could someone mail number automated mail servers send things like response message number sites archive usenet sources newsgroups make available email query system send message automated server saying something like send comp sources unix hours days later file mail computer graphics site list eric haines computer graphics related sites maintainers compiled eric haines erich nick fotis nfotis theseas ntua tracers rayshade great tracer workstations also amiga successor trace written compuservers questions call drew wells compuserve dave buck david buck carleton tracer good range surface types part vort package dkbtrace another good tracer reports amiga unix last previewer rtrace portugese tracer bicubic patches text version djgpp extender exists also port vivid shareware raytracer binary author stephen boeing source version available registered users direct author steve hollasch dimensional tracer renders hyperspheres hypertetrahedra hyperplanes hyperparallelepipeds separate real time wireframe viewer written called wire tracers interesting features distributed parallel raytracers xdart distributed tracer runs server binaries work decstations sparcs snakes series next clients distributed binaries source inetray network version rayshade needs newer contact andreas thurnherr ethz pray parallel tracers volume renderers vrend cornell volume renderer kartch devine caffey warren fortran radiosity diffuse lighting renderers radiance tracer radiosity effects greg ward excellent shading models physically based lighting simulation unix based though ported amiga india indian radiosity package based radiance interactive radiosity package runs machines spaceball includes house database author moreillon moreillo ligsg epfl simple public domain radiosity package solution stand alone unix walk requires author bernard kwok kwok yorku renderers raytracers graphics libraries sipp scan line buffer phong shading renderer uses shadow buffer algorithm sipp command interface sipp rendering program sipp commands used programmed sipp without write compile code commands used specify surfaces objects scenes rendering options renders either format utah raster toolkit format photo widget based applications vogle graphics learning environment device portable vogl like library based vogle rend fast polygon renderer intel version photorealistic rather real time renderer xsharp dobb journal renderer source code budget texture mapping modellers wireframe viewers vision modeler output radiance rayshade files irit solid modeler support freeform surfaces wireframe viewer wireframe graphics toolkit source objects stuff look major archives like wuarchive file dkit shareware front modeler povray still beta test french docs price registering french francs save disabled extra utilities files registered version geometric viewers salem based package dobkin exploring mathematical structures geomview based package looking interactively manipulating objects geometry center minnesota geobench experimental geometry zurich workbench geometric computation macintosh computers wire wireframe previewer steve hollasch data formats data sets tracing procedural databases testing tracers simplistic file format used another file format lispy file format tddd imagine modeler format converters rayshade also includes nice postscript object displayer great models ttdddlib converts tddd ttddd rayshade imagine vort objects also outputs framemaker files isometric views postscript registered users font converter superquadric surfaces generator glenn lewis glewis pcocd intel note ttdddlib also known dlib chvrtd chapel hill volume rendering test datasets includes volume sets heads brain knee electron density maps others written material rendering news collections articles tracing references articles tracing refer format references articles radiosity global illumination speer rick speer cross referenced postscript abstracts collection wilson abstracts many articles paper bank project various technical papers electronic form contact juhana kouhia online bibliography project siggraph online bibliography project database unique computer graphics computational geometry references bibtex format available computer graphics community research educational resource database located siggraph users download bibtex files peruse offline telnet siggraph biblio interactively search database entries interest keyword people without internet access also mail server send mail archive server siggraph subject body message include message send followed topic subtopic wish good place start command send index give date list available information additions corrections suggestions directed admin bibadmin siggraph image manipulation libraries utah raster toolkit nice image manipulation tools pbmplus great package image conversion manipulation libtiff library reading writing tiff images imagemagick package display interactive manipulation images uses format miff includes converters based image display manipulation format converter xloadimage displays various formats screen khoros huge excellent system image processing visual programming interface much much uses windows another image manipulation tools somewhat image manipulation displays screen xflick plays animation xanim plays resolution along including animation extensions amiga animations pictures including color cycling sdsc sdsc image tools package diego supercomputing center image manipulation conversion clrpaint paint program workstations indigos libraries code graphics graphics gems code ever useful books spline patch spline patch intersection routines sean graves kaleido computation display uniform polyhedra mirrored wuarchive package computes displays metrical properties polyhedra author mail gauss technion means site official distributor date north america please look things continent first wuarchive wustl graphics graphics contents file roadmap graphics graphics objects tddd ttddd objects converters mirrors unix graphics rayshade tracer tracer vort tracer pbmplus popi utah raster toolkit mirrors msdos graphics tracer raytracker demos graphics graphics radiosity radiance indian radiosity package msdos ddjmag version xsharp fast texture mapping lots including bibs graphics gems code radiance sipp spline patch intersection routines textbook errata source code hall book illumination color computer generated imagery graphics graphics packages kaleido kaleido george kyriazis kyriazis turing princeton graphics note capital rayshade tracer separate executable color quantization code news wilson abstracts utah raster toolkit newer graphics gems code graphics directory salem stuff craig kolb princeton replaces weedeater math yale note capital graphics trouble princeton incoming area upload rayshade specific stuff weedeater math yale alfred carleton dkbtrace tracer pvray compuserve group tracer david buck david buck carleton avalon chinalake navy objects multiple formats utilities file format documents site created object repository francisco dejesus dejesus archimedes chinalake navy omicron softlab chvrtd chapel hill volume rendering test datasets official repository xsharp peipa essex pilot european image processing archive directory synth something like image synthesis packages adrian clarke alien essex barkley berkeley extensions tsipp sipp mark diekhans markd grizzly markd neosoft sass window fonts converter rayshade polygons rayshade animation tool sass sass hobbes radiance trace radiosity package greg ward gjward geom geomview geomview contact geomview software geom latest version icol source manual pages binaries irix included real time volume renderer contains also many volume datasets chin purcell ahpcrc graphics holl steve hollasch thesis graphics graphics wire wire mirror avalon mirror avalon objects repository steve hollasch hollasch swedishchef lerc nasa programs hollasch explorer modules postscript manual zamenhof rice graphics formats various electronic documents many object image formats mark hall rice apparently longer maintaining ncsa uiuc rascal utexas misc inqueue vision facet based modeller output rayshade radiance files ncsa uiuc misc file formats graphics formats contains various image object format descriptions many scivi tools various directories alpha shape alvis alpha shape visualizer machines polyview polyview interactive visualization analysis geometrical structures quincey koziol koziol ncsa uiuc tucana noao iraf iraf astronomy package sigma erich images haines thesis images images various image stills sequences kevin martin sigma lispy scene language renderers joel welling welling seurat pbmplus rayshade data files poskanzer george complex conversion system standard software interface image processing hanauma stanford graphics comp graphics best comp graphics extensive tracers dellinger hanauma stanford graphics irit news back issues complete nurbs models graphics related material graphics jpeg jpegsrc independent jpeg group package reading writing jpeg files freebie engin umich utah raster toolkit spencer thomas thomas eecs umich export contrib pbmplus image magick xloadimage lots untarred demos ncga graphics performance characterization suite life pawl kyriazis stochastic tracer george kyriazis kyriazis turing utah utah raster toolkit nurbs databases jamie painter jamie utah gatekeeper models also benchmark files planned checked randi rost rost hubcap clemson amiga incoming imagine stuff amiga imagine turbo silver tracers amiga ttdddlib ttdddlib amiga incoming imagine objects many objects glenn lewis glewis pcocd intel pprg eece khoros khoros image processing package huge great danielle argiro danielle bullwinkle expo contrib pbmplus portable bitmap package poskbitmaptars bitmap collection raveling xloadimage poskanzer well venera image manipulation images separation photos paul raveling raveling venera ucsd graphics utah toolkit pbmplus databases tracers world stuff updated much recently castlab engr wisc xdart xdart mark spychalla castlab engr wisc graphics tiff tiff spec libtiff software pics also much related stuff opengl manuals leffler supercedes okeeffe berkeley libtiff stuff surya waterloo graphics tracers sdsc sdscpub sdsc information package tracer images various test images texture library also begun butler butler cicero umass texture temp grayscale brodatz textures julien flack julien leeds karazm math graphics rtabs shar wilson abstracts pray eric townsend karazm math nasa pitt users qralston images image archive small james ralston crawford qralston pitt cornell vrend sunee waterloo raytracers vivid rend sunee uwaterloo archive umich msdos graphics graphics stuff msdos graphics raytrace vivid apple apple archivevol research netlib graphics package polyhedra polyhedra databases netlib automatic mail replier uucp research netlib internet netlib ornl send line message send index info send haines graphics siggraph siggraph archive site publications online bibliography project conference proceedings various electronic formats papers panels siggraph video review information order forms stuff various directories automatic mailer archive server siggraph send index reaction diffusion greg turk work reaction diffusion textures windows code siggraph ncsc volvis volume datasets boston workshop volume visualization site also international center terry myerson ncsc uvacs virginia suit demo sparc suit simple user interface toolkit finger suit uvacs virginia detailed instructions nexus yorku reports radiosity code reports radiosity thesis thesis site changed yorku near future milton washington public veos veos virtual reality distributed applications prototyping environment unix veos software support veos support hitl washington oldpublic visualization software demo package built throughs various datasets near real time binaries many platforms also much virtual reality stuff csmil umich xpecs files glass shutter amiga computers great stuff sugrfx various stereo pair images closed sunsite academic computer science virtual reality final copy sugrfx archive ceased exist contains powerglove code papers images research material jonathan magid sunsite archive ohio state siggraph code siggraph course procedural modeling rendering techniques david ebert ebert ohio state lyapunov ucsd machine considered repository preprints programs nonlinear dynamics signal processing related subjects fractals course matt kennel inls ucsd nosc grid ascii short survey methods interpolate contour bivariate data honig various stereo pair images movie animates movie display mono digital subtraction taurus navy dabro cyberware demo human head data pioneer texture maps hans grayscale test textures aerial swatches brodatz textures synthetic swatches space planetary image repository provides access roms data images line time info beginner info start browsing colby kraybill opus pioneer brown srgp sphigs info srgp sphigs mail software distribution graphtext brown data various organic molecules bonds different atoms atomic coordinates load stuff contained files actual atomic dimemsions seem missing could convert data rayshade biome renoir paintings escher pictures umanitoba specmark sample images images edge images atomic landscapes advanced semiconductors superconductors experimental surface chemistry among others contact ruskin umanitoba explorer toronto clrpaint clrpaint clrview clrview tool aids visualization datasets formats like info ames nasa space cdrom images magellan viking missions space index first spacelink spacelink service data mail server available send mail archive server ames nasa ames archive server subject help send space index without quotes peter ames nasa pubinfo nasa images data missions modem access parity data bits stop newsdesk jplpost nasa phone spacelink msfc nasa passwd guest space graphics images nasa planetary probes hubble telescope main function support teachers telnet also site dial access baud bits parity stop stsci hubble space telescope stuff images data read readme first pete reppert reppert stsci chris odea stsci manager usenet news answers land faqs graphics pictures directories particular interest also available mail server manager sending mail message containing help uucp archive avatar news back issues details write kory hamzeh kory avatar avatar europe funet papers paper bank project including pete shirley entire thesis pics wilson abstracts misc worldmap world data bank comp graphics research archive india much much juhana kouhia dasun epfl radiance good european sites carry available radiance sipp sipp sipp scan line buffer phong shading renderer jonas yngvesson jonas irisa ipsc pray tracer many format scenes rayshade data files didier badouel badouel irisa irisa disappeared phoenix oulu raytracker animation files also flis rayscene demos americans check wuarchive first animations come jari kahkonen hole phoenix oulu graphics traces many tracers including pray rayshade news files jari toivanen toivanen garbo uwasa much stuff source contour fortran program contour scattered data using linear triangle based interpolation asterix inescn rtrace rtrace nffutils utilities rtrace medical data converters autocad autolisp code autocad rtrace language converter goodies antonio costa asterix inescn vega graphics archive tracers others models shut months check funet nfotis nluug graphics raytrace microray unix hensa misc unix ralcgm ralcgm viewer converter mail server also mail archive unix hensa message body send misc unix ralcgm ralcgm maeglin luth graphics raytracing others wilson abstracts vivid berlin unix graphics rayshade inputs rayshade aquarium americans check princeton first heiko schlichting heiko math berlin maggia ethz inetray inetray code andreas thurnherr ethz osgiliath amiga graphics radiance amiga port radiance bojsen bojsen ithil informatik oldenburg raytracer mirrored wuarchive many goods dkbtrace incoming polyray polyray raytracer dkbtrace incoming amiga raytracing imagine mirror hubcap imagine files neptune ethz geobench peter schorn schorn ethz iamsun unibe graphics graphtal system interpreter christoph streit streit unibe amiga physik unizh amiga graphics stuff amiga computer stesis line access huge astronomical database login starcat passwd decnet stesis space telescope european coordination facility benoit pirenne bpirenne phone middle east gauss technion kaleida australia gondwana vort tracer vogle wilson tracing abstracts contrib artscenes scenes italy images haines haines thesis images graphics gems code databases previewers plus images lots stuff bernie kirby bernie munnari graphics vort vort algebraic surface tracer vogle pbmplus graphics room scenes italy david hook munnari marsh curtin graphics bibliography facial animation graphics bibliography morph graphics bibliography stuff facial animation morphing user interfaces fascia fred parke fascia program valerie hall lillee curtin oceania asia aukland architec vision facet based modeller output rayshade files many neat things macs paul bourke pdbourke aukland scslwide sony facial animation steve franks site facial animation steve franks stevef sony stevef mail servers graphics oriented bbses please check first places archie help overuse mail servers troubles wrong return addresses many mail servers command like path valid return mail address hint sending back stuff ftpmail send line message ftpmail decwrl without subject field line containing word help back message detailing relevant procedures must follow order files want note reply answer command mailer work message mail receive ftpmail send requests ftpmail send original mail message reply complaints sent ftpmail request uucp address rather postmaster since decwrl postmaster responsible fixing ftpmail problems bitftp bitnet sites bitftp pucc send line help message address info lightwave mail based file server mail based file server objects jpeg images images image maps online internet mail access server official archive site lightwave mail list contains many shareware graphics utilities several computer platforms including amiga atari macintosh server resides called graphics operational hours days week phone number upgraded modem hayes ultra speeds would like submit objects scenes images server please pack uuencode mail files address server bobsbox rent information obtaining files server send mail message address file server graphics rent following body message help help file describing server complete directory listing sent mail includes cyberware head shouders ttddd format check nfotis inria graphlib pierre jancene sabine coquillart launched inria graphlib mail server months echo help mail inria graphlib inria give quick summary inria graphlib contains browse among files echo send contents mail inria graphlib inria return extended summary example echo send cgrl misc mail inria graphlib inria return computer graphics resource listing mirrored comp graphics bbses many bbses store datafiles guide beyond scope listing resources author point internet mail accessible bbses carry interesting stuff send info studio amiga modelling tracing specific hours online jeff walkup pwappy well castle pacifica dang close francisco california user password base castle anim video lazerus lindabury operates entry graphics call tracing related chicago suburbs digital pixel sysop mark mcng descartes waterloo based toronto ontario canada phone storage space megs modem type baud zyxel access none free system supported amiga netmail currently echo mail topics raytracing fractals graphics programming comp graphics related david tiberio dtiberio sunysb amiga graphics long island york running hours megs line also subscribe mailing lists originate added soon include lightwave imagine real tracing database files include imagine objects renderings scalable fonts music modules sound samples demos animations utilities text databases pending lightwave objects graphics alternative graphics alternative cerrito running hours online user base runs nodes node public access includes free trial subscription west coast host pcgnet profesional graphics network supporting nodes across continental alaska zealand australia france file database includes executables vivid rtrace rayshade polyray others also numerous graphics utilities viewers conversion utilities registered vivid users also download latest vivid aeta code special vivid conference scott bethke sbathkey access digex intersection dedicated supporting animators system provided free charge commercialized anyway users given full access first call features usenet news internet mail fidonet echo netmail megs online modem platforms interest amiga videotoaster macintosh unix workstations atari alfonso hermida afanh robots gsfc nasa square maryland supports raytracers vivid runs megs hard drive runs change soon topics graphics programming animation raytracing programming general lynn falkow roxxie delphi vertech design graphic connection portland oregon aside carrying typical services like message bases topic specific files graphics related hundreds megabytes also offers material texture files full color seamlessly tiling photo realistic images samples available first time callers subscription system although callers hours must subscribe several subscription rates available people interested materials subscribe library addition basic subscription rate purchased time download whichever materials wish tracing graphics related mailing lists imagine modeling animation system amiga send subscription requests imagine request email paramax send material imagine email paramax dave wickard substituted steve worley maintenance mailing list please note unisys address longer valid lightwave amiga part newtek video toaster send subscription requests lightwave request bobsbox rent send material lightwave bobsbox rent lindabury toaster send subscription requests listserv karazm math body subscribe toaster list real another modeling animation system amiga subscribe send mail containing body subscribe real full name listserv rayshade send subscription requests rayshade request princeton send material rayshade users princeton craig kolb alladin amiga send subscription requests subscribe xamiga linet body message write alladin username domain radiance greg ward author sends registered mail users digests correspodence notes fixes updates address gjward rend send subscription requests rend request sunee waterloo send material rend sunee waterloo raytracers subscribe send mail containing body subscribe full name listserv trearn bitnet send material trearn bitnet mailing list massively parallel rendering send subscription requests render request icase send material render icase graphics editors public domain free shareware systems vision based program written paul bourke pdbourke aukland program used generate models directly rayshade radiance file formats polygons shareware listed list solid modeling system environments including nurbs plus support manifold geometry whatever free signing returning relevant license found uses tracing engineering analyses contact carla moyer dist mail snail mail distribution surviac aberdeen satellite office philadelphia road suite aberdeen irit constructive solid geometry modeling program includes freeform surface support free list find surfmodel solid modeling program written turbo pascal camp available simtel msdos srfmodl directory noodles namely fritz printz levent gursoz styx edrc based manifold topology info know give away interactive editor builder written dale stocker create objects surfacemodel automove raytracer packages free found example simtel msdos surfmodl dmod msdos program check barnacle clarkson msdos graphics dmod undocumented file format dmod micah silverman pierrepoint postdam york northcad shareware msdos ncad simtel undocumented file format vertex amiga shareware send check money order machine nickolas sterling heights addition standard file formats including lightwave imagine sculpt turbo silver wavefront release offers professional rayshade support rayshade supported primitive triangle easily include output rayshade scripts latest demo version available fred fish information contact author alex deburie sycom phone icoons amiga spline based object modeller icoons interactive coons path editor amiga physik unizh icoons free licence requires program look feel cross journeyman imagine generates objects ttddd format possible load journeyman objects icoons program used convert jman objects imagine format author helge rasmussen compel phone also fred fish disk series nfotis protocad trius shareware wsmr simtel army oakland pcad menu layout file file handling load save import xport draw draw objects line circle draw objects mesh sphere block edit editing features copy move surface modify objects revolve xtrude sweep image image zooming features update window half option global defaults grid toggles axis plot print drawing picture image render shade objects frame lighting tune layer layer options select active layer colors sculptura runs windows outputs files demo found wuarchive wustl mirrors demo demo author michael gibson gibsonm stein washington commercial systems alpha spline based modeling program written university utah features splines trimmed nurbs support boolean operations sweeps bending warping flattening groups objects transformations extensible object types applications include machining animation utilities dimensioning analysis rendering subsystem support animations support following platforms machines irix sparcstation sunos licensing distribution handled glenn mcminn president engineering geometry systems east south temple suite salt lake city mcminn utah educational pricing charge platform system many different workstations type wish platform also licensing portable standard lisp bundled system need obtain additional license university utah following address professor robert kessler computer science department university utah salt lake city utah handle licensing institutions nominal nfotis vertigo educational institution program package used industrial design architectural scientific visualization educational broadcast imaging post production fields quoting letter sent nfotis donate fully configured vertigo graphics software worth package qualified educational institutions licencing number silicon graphics personal iris power series workstations iris indigo station also licence vertigo revolution software worth interested participating program please send letter mail institution letterhead briefly outlining potential uses vertigo together following information unix version model number systems peripheral devices third party software participants asked contribute institution cover costs manual administration shipping recommend vertigo users subscribe technical support services annual receive technical assistance support hotline fixes software upgrades manual updates educational institution waive administration support purchased annual support plus following cost additional machines number machines additional cost machine also training program nfotis contact vertigo technology suite west georgia vancouver canada phone anyone know offers alias softimage wavefront would interesting part nfotis padl basically solid modeling kernel build application available license cornell programmable automation cornell university engineering theory center ithaca license fees educational institutions agencies internal commercial licenses dissemination licenses available information packet write address send address marisa cornell richard marisa acis spatial technology solid modelling kernel callable heard many universities free copies company person contact regarding acis academic institutions scott owens mail spatial address spatial technology bldg boulder phone movie cquel basically understanding post proccessor system fairly today still serves people mech depts superseded cquel pronounced sequel complete modelling animation visualization package runs usual workstation environments others demo version days trial period either sending address blank tape costs full time licence contact engineering computer graphics clyde building brigham young univ provo phone mail cquel twixt soon stuff reply voxblast volume renderer marketed vaytek fairfield iowa phone running least call vaytek info voxelbox volume renderer windows features include direct traced volume rendering color alpha mapping gradient lighting animation reflections shadows runs higher least video card svga fine windows costs contact jaguar software main suite winchester world john poduska scene description languages neutral file format eric haines simple procedural database generators package many objects floating various sites also previewer written starbase haines also written vogle devices vogle output check sites carrying vogle like gondwana object file format randy rost rost object archive server seems mothballed future version remove nfotis available also mail server obtain help using service send message subject line containing word help null message body object archive server decwrl places relevant place previewer machines called preview godzilla rmit previewers xview sunview also gondwana tddd library objects translators rayshade imagine vort objects edited copy announcement follows raytracing news library objects available steve worley worley portal assembled objects binary format called tddd objects range human figures airplanes semi trucks lampposts objects freely distributable readmes describe order convert objects human readable format file specification tddd included directory objects also shareware system called ttdddlib officially hubcap clemson convert various object formats imagine ttddd extension tddd rayshade vort source included amiga unix executables amiga also outputs framemaker files isometric views postscript pittsburgh supercomputing center uses lisp slight extensions store three dimensional models simple lisp interpreter included release need access vendor lisp software mouse driven user interfaces motif open look silicon graphics drawp subroutine library generating without ever looking underlying lisp software currently supports nine renderers painter painter algorithm dore silicon graphics language generic phigs phigs phigs rayshade tracer vort package pixar renderman code available anonymous machines directory funet directory graphics programs renderman pixar renderman free call pixar details solids description formats esprit project interfaces developed neutral file format transfer data curves surfaces solid models systems computer aided analysis computer aided manufacturing iges tries define standard tranfer solid models brep current standard number ansi documentation might want contact nancy flower ncga technical services standards cost standard available electronic format pdes step slowly emerging standard tries encompass geometrical information also things like main bodies besides standard nist darpa information pdes sending mail nptserver nist putting line send index body subject area message people rutherford appleton also working step tools express compiler exchange file parser available source form free research purposes soon also express based database system tools contact mike mead phone mail mcsun uknet rlinf nsfnet relay part resource listing',\n",
       " 'roberto clemente topps baseball card sale near mint condition really close mint condition lists recent baseball card pricelist offering certified postage ship',\n",
       " 'diet evangelist good term fits atkins gordon banks skepticism chastity intellect cadre pitt shameful surrender soon',\n",
       " 'damon matter system explanation creation wish accept always start premises creation nothing creation something alternatives accept premises alternatives either creation random according plan random unable accept complex nature world interrelated interdependent organisms creatures could exist therefore left creation control intelligence capable devising scheme call intelligence also prefer creatio nihilo rather chaos cleaner obviously prove either neither must come somewhere choose whatever explanation feel comfortable damon live choice shalom howard',\n",
       " 'title says need know versions',\n",
       " 'move political bickering appropriate group brad kepley internet kepley photon phys unca work days voice',\n",
       " 'exactly another observation chip become standard algorithm remain secret leaving government remaining option make escrowed keys illegal begin bother terrorists child abusers government fond referring note federalist papers stress reason right citizens bear arms defend army army imho primary purpose private crypto defend government terrorist worried goverment damages quality life every',\n",
       " 'course mike ramsey time captain buffalo prior traded pittsburgh currently penguins former captains real captain lemieux playing rotate season even mario even troy loney worn pens',\n",
       " 'texas well corpus christi anyway pick phone dial phone company read back number might work',\n",
       " 'sorry thought discussing heresy assumed heresy meant departure orthodoxy case generally accepted belief indeed important issue case definition word create great importance since creation issue discussed said given mormon belief disagree mormon belief creation function organization eternally existent substance nihilo creation important point correction interpret bible mean something specific terms always cracks anti mormons presume tell mormons believe mormons fact believe people including christ lucifer children sense created organized whatever also believe offspring symbolic sense applied spiritually born thus word used convey different meanings language works robert making someone offender word dangerous contrary robert herring show rely wholly bible cannot seem agree says must simply look bible teaches centuries people really sure says believe really understands scriptures clarify time refer mormon belief jesus needed saved rather mcconkie belief keep trying point bruce mcconkie source mormon doctrine keep ignoring contrary robert quoting mcconkie words mormon canon question whether canon great importance fact whether indicate general mormon belief would ascertainable interviewing large number mormons',\n",
       " 'like info well wavelength think primarily going find usually either common seen also heard sure another make great deal difference another suggestion find brand uses remote look sams photofact often find detailed schematics parts list receiver transmitter well including carrier freq specs tone decoding specs system uses',\n",
       " 'shot never know bought real cheap equalizer power tape player motel room truckload sales sounded great channel quit entirely opened amplifier chip channel simply melted solder joints attaching soldered back worked fine keep volume lower probably lousy heat sinking said nice alpine sure orders higher quality point look inside scrap since occasionally find something repair maybe even thing found',\n",
       " 'likely veto proof majority house senate unfortunately different story vowed bill voted power addition senate much smaller readily manipulated body ther hand semi automatic likely live least fifty cent house currently opposes bill order senate believe addressed bill thought political science class waste time',\n",
       " 'trust princes biblical proverb modern analog governments time founding idea citizens rights government common explicit writings founders considerable extent englishmen also rights times change technology changes possibility governments enserfing mankind possible quite recently feudal system lord almost restricted serfs people enserf make anything better feudal lords even slaveowners mistreat freedom speech freedom religion real attack',\n",
       " 'promised would give name panther president huizenga announced team name announced bill torrey named first president panthers little sentinel torrey architect four consecutive stanley champions persident general manager york islanders throughout years bill torrey ties become much signature andre agassi hair panthers introduce uniform insignia ticket price information early next month meantime huizenga leaves operation hands torrey clarke florida panthers chosen name south florida team focus attention endangered species florida panthers everglades national park cypress national preserve parts southwestern florida panther quickest striking cats torrey said hopefully play torrey huizenga first hired expansion islanders responsible guiding islanders four consecutive stanley championships first eight seasons consecutive winning seasons executive vice president california golden seals torrey watched seals play offs second season guess completes personal trick said torrey native montreal resident bear lakes country club palm beach accounts gorycki jimg cybernet repeat stress repeat stress repeat stress repeat stress repeat adrian belew indicipline',\n",
       " 'concept teacher indeed interesting grade curve cheat interesting mention thought provoking concept father children loves love never understand bible says looks heart final measure perspective grading context heart final test specifically christians would agree heaven hell perspective heaven hell either grading pass fail basis done father intervention jesus others sees heart bible says heart know would always always unchanging method makes relationship christ secure uncertain ever changing landscape always yesterday today tomorrow concerning whether childhoods considerd part test conviction case certainly going heaven bible speaks plainly love care jesus children reality children bigger bodies grey hair father father always like fathers wants best maybe decipline love sometimes looks like christianity test makes pass heaven place really much experts travelers looking light home praying bring others',\n",
       " 'really strike funny rather indicative crisis economy imagine desparate need markets sustain industries people nolonger central control government rosenkranz rosen kranz enet',\n",
       " 'know willing speculate anyone several people suggested chips public cryptography another possibility diffie hellman exchange algorithm similar effect allows ends agree session symmetric cryptography something like encryption could back door keys work system possibilities like algorithm property session deduced eavesdropper knows back door keys possibly communicants perhaps random numbers used seeded back door another possibility suggested earlier chips simply broadcast session encrypted chip internal secret system back door keys secret keys usable decrypting session broadcast actually chip secret need public usage identical secret back door proposal seems straightforward still another possibility encryption algorithm used message dual property possession either keys used decrypt would session exchange would back door chip worth noting proposals dorothy denning raised amazingly prescient line discussion last november december variation diffie hellman third party would participate deriving session keys quite know clipper works hints early knowledge clipper whose thinking somehow synchronized clipper designers diffie hellman minds',\n",
       " 'game adirondack adirondack leads series first round springfield indians providence bruins springfield providence springfield providence providence springfield providence springfield springfield providence providence springfield springfield providence islanders adirondack wings adirondack adirondack adirondack adirondack adirondack adirondack adirondack baltimore skipjacks binghamton rangers baltimore binghamton baltimore binghamton binghamton baltimore binghamton baltimore baltimore binghamton binghmaton baltimore baltimore binghamton utica devils rochester americans utica rochester utica rochester rochester utica rochester utica utica rochester rochester utica utica rochester moncton hawks john maple leafs john moncton moncton john halifax john moncton john moncton moncton john halifax john moncton moncton john halifax cape breton oilers fredericton canadiens fredericton cape breton cape breton fredericton fredericton cape breton fredericton cape breton cape breton fredericton fredericton cape breton cape breton fredericton',\n",
       " 'coast portland really nice sure even better ways watch weather though good drenching possible oregon coast range',\n",
       " 'clipper comes cellular phones along legal proscriptions using cipher systems phones potentially dangerous class crime created aside possession terrorist tools unapproved encryption devices programs criminals badly want inscrutable tactical communications specifically terrorists drug dealers proponents escrow cite threats highly motivated steal cipher phone legitimate user kill person hold hostage discovery compromise device delayed suitable collection devices stolen criminals communicate impunity assuming cipher system carries trapdoors apart escrow unless compromise discovered means life cheap criminals currently willing kill people steal large conspicuous property luxury cars reasonable assume willing kill people steal small inconspicuous property cipher cellular phone seen past blue technology present modified cellular phones expect among high stakes criminals lucrative market stolen cipher phones used days high stakes criminals life cheap types substantial amounts stolen instruments person typically discovered missing dead days stolen instrument usable days continuing demand fresh phones fresh bodies since clinton also going full bore deny unconnected citizens means defend protect good enough perverting trashing second amendment targeted individuals guaranteed easy prey bodies compared greater good able defeat citizen security impunity think exist means usual eavesdropping scanning keywords without court order keys great florida real estate might interested perhaps idea escrowed keys meant divert discussion safeguarded away basic fact government systematically taking away right privacy secure means self defense every right spelled bill rights nawwww government trust words clipper similar systems potential turn current inconvenience enforcement direct vicious persistent threat general public important government enforcement people control safety general public control issue answer look good works making cities safer places worst regard also places best control government public good control never forget founding fathers sure concerned remainder deleted',\n",
       " 'doubt quadra specific problem venerable bernoulli last year enough cartridges purchased make whole thing worth whole computer tech support guys ocean microsystems suggested third party drivers might problem case cartridges format mount partition',\n",
       " 'terry recently bought lciii datadesk remember trying rebuild desktop however give strange problem held shift startup disable extensions nothing happened tried another keyboard using connector cable worked keyboard shift datadesk keyboard worked well otherwise checked dipswitches fine disabling extensions tell works annoyed datadesk sent keyboard mail inspection repair replacement technician phone said turn around time meaning receive inspected repaired keyboard time well keyboard weeks still gotten little info annoying cost send keyboard refund money costumer service lines toll calls tell similar experience david',\n",
       " 'gift think basically reasoning tradition church held mary also without jesus tenets faith developed particularly augustine equated thus mary assumed virgin life since never sinned since spouse since also notion original born predisposition since mary predisposition ever original science discovered process conception next step assume mary conceived without original immaculate conception mary time appeared girl named bernadette lourdes refered immaculate conception since nine year would knowing doctrine apparition deemed true sealed case doctrine hold revelation comes equally important sources sacred scripture holy tradition case mostly tradition',\n",
       " 'answer dorin questions even though addressed specifically feel concerned thread since southern lebanese village often receiving israel bombs first place death three soldiers patrol occupied lebanese terrritory terrorism murder disingeneous compare death athletes munich terrorism mrder exercise aimed solely diverting issue truth seems dorin remote ignorant problem ground comments charactrized irrelevant heavily colored preconceptions misinformation paint accurate picture situation really south lebanon back home village last summer information people bunch indiscriminate terrorists people village regular inhabitants daily business work fields small shops others older coffe shop drink coffee hard imagine terrorist camp israelis like view villages small communities kids playing soccer streets women preparing lunch playing cards young usually aged years members lebanese resistance even inhabitants village know secretive people often suspect young supported financially iran time sneak arms ammunitions occupied zone booby traps israeli patrols every time israeli soldier killed injured traps israel retalliates indiscriminately bombing villages choosing often killing innocent civilians back announce bombed terrorist hideout year girl happened accustomed israeli tactics figure israeli telling gonna hurt soldiers gonna price accept price free land israel knows well really hurting resistance much militarily strikes rather keeping pressure villagers demand young stop attacking israeli soldiers since attacks taking heavy toll lives civilian villagers israel retalliation policy cold hearted reality come accept deal lebanese resistance hand going stop attacks occupying israeli soldiers withdraw real leverage force israel withdraw people south lebanon occupied shelled israel regular basis want occupied israel insists called security zone necessary protection northern israel price occupation blood soldiers israel interested peace withdraw land asking establishment lebanese occupied zone northern israel protect villages attacked regular basis israel best policy seems removal israeli occupation establishment peace keeping troops along border written newsgroup real solution come result comprehensive peace settlement whereby israel withdraws borders peace keeping troops stationed along border insure either side border shelled realistic solution time israel realize concept buffer zone aimed protecting northern cities failed fact caused much israeli deaths occasional shelling northern israel would resulted israel really wants save israeli lives would withdraw unilaterally called security zone conclusion peace talks move would save israeli lives advance peace efforts give israel great moral lift better israel public image abroad give edge peace negociations since israel rightly claim genuinely interested peace already offered important concessions along withdrawal israel could demand hizbollah disarmed lebanese government warn accept attacks northern cities shelling occurs consider taking buffer zone hold lebanese syrian government responsible seems little incentive syrian lebanese goovernment allow hizbollah bomb israel proper circumstances lebanese government proven capable controlling disarming militias parts lebanon agree case isareli soldiers killing cannot qualified murder matter feeling able make quarrel jews israeli civilians real problem occupying israeli soldiers brave israeli pilots bomb civilian villages every time occupying soldier attacked',\n",
       " 'think manta european name pretty sure kadett sold pontiac lemans think early manta',\n",
       " 'interesting posted lyrics thinking like lyrics since whenever approached judgemental pharisitical evangelical fundamentalists throw bible long hair wear black leather jacket listen black sabbath something throw back usually chins drop come speechless satanic lyrics goes show important evils world battle rock lyrics',\n",
       " 'well atheism hope arent convert anyone many would disagree well give particular book much weight actually think statements correct likely jesus fame attributed death strong motives prophecy significant think understand well sell computer donate life religion waste time',\n",
       " 'battery powered devices like powerbook sometimes sensitive serial port weirdness trouble connecting plus handheld everything else worked okay port runs penlite batteries turned plus accident design flaw putting volt bias serial port weird things worked fine connected printer port screen anything connected device tried using printer port good luck jamie',\n",
       " 'lloking prizm today nice anyway questions salesperson answer theft deterrent prizm audio systems work find answer lterature thanks advance',\n",
       " 'terminated possible connect another internal hard disk macintosh find space iisi came quantum drive space problems slapped another quantum sitting shelf first concerned space since drives quantum quarter height drives finally decided logical place stacked upon fine snugly problem heat drives running together months next problem connecting drive spare internal hard disk power cable half troubles splice extra cable square motherboard connector hard disk power connectors spare cable wires connectors found good electronics store would suggest properly soldering heatshrinking connections reduce possibility shorts connections next need ribbon cable connection spare hard disk ribbon cable wanted careful case word purchase crimp cable connector gave another male connector middle spare cable part cost easily attached good wood vice theory behind using crimp connector work original cable damaged back original setup done bothered check notes power consumption plugged works like charm everything work careful drive ensure terminating resistors drives intact without terminating resistors seemed logical splitting scsi chain signal terminated ends know questions',\n",
       " 'medline search turmeric potent lipoxygenase inhibitor investigated number areas cardiology years cardiothoracic surgery hospital compared effect teaspoon dissolved turmeric bolus preventing myocardial reperfusion injury perfused langendorff sheep heart turmeric effective colleague mine school pharmacy kohen paper press free radical scavenging activity antioxidant activity josh backon huji',\n",
       " 'asked thread lines large hole current thru resistor cooling instead heating anyone design amplifier preferentially amplifies hole currents normal electron currents semiconductor materials highest ratio hole mobility electron mobility please quote actual test samples rather estimates based theory also limited semiconductors consider also insulators resistors dielectrics piezo electrics conductors magnets metal ceramic magnetostrictives notes summarize thread stated area holes detectable vacuum hole particles exist presence matter previous threads stated holes exist certain semi conductors question naturally arises hole currents inside semi conductor vanish point semiconductor joined conductor copper want theoretical discussion whether holes could exist inside metal conductors rather experimental discussion amplify detect currents exist also note cross posted electronics since becoming electronic discussion thanx eric force nature',\n",
       " 'interested writing program generate sird picture know stereogram cross eyes picture becomes anyone know please mail steveq sndcrft dialix replies many thanks help',\n",
       " 'chris',\n",
       " 'reminder plan andrew conference date dates noted changed submission extension still accepting papers tutorial topic converting andrew source code tutorial discuss steps necessary convert site extended classc conversion source code requires couple steps converter fill missing type information describing take long remainder spent learning write objects practicing andrew technical conference consortium annual meeting june carnegie mellon university pittsburgh conference held last thursday friday june tutorial thursday conference proper annual meeting dinner evening days conference attendees welcome annual meeting though consortium members able vote year theme application construction programmers much effort toolkits aimed programmer construction applications however excellent uims systems built papers addressing theme consider questions needed application construction programmers avoid programming altogether simple language needed sufficient create applications must users able create widgets widgets applications able print participation conference welcome papers appropriate theme aspect andrew user interface system including applications experience users objects reviews proposals revision internal andrew protocols expect video projector available would like demonstration paper proposals submitted acceptance june final papers june send papers electronic mail andrew',\n",
       " 'anybody info monitor manufacturers help mail please',\n",
       " 'twin size mattress spring frame sale medico pedic type mattress excellent condition well maintained come pick stuff located paloalto asking contact suresh mail suresh',\n",
       " 'allmartin mccormickwhat exactly flour martin datacomm okstate martin mccormick organization oklahoma state university stillwater sort lamp little glass bulb found inside starter sort reminds neon lamp starters appear open meter little lamp either neon capacit series seen things life never read really good description happening inside little know metallic strip case strips different metals bonded together heated bend side check blinker globe christmas tree lights turn power causes bulb work like neon heating shorting thus providing loop power heaters main tube tube fires insufficient current runs starter keep heat metalic strip straightens thought nothing small neon neon sisters digital flip metal squares type clock broke flimsy leads replaced starter well powering made mess clock',\n",
       " 'question simple enough answer stumped others external cache card already large cache control panel simms iici external video card simm default apple cache card believe cache good measly cache card could actually slow things dividing cache card simm still speed things providing secondary staging area data normally passed directly simm cache confused seems like cache cards memory really good compared daystar fastcache numbers show around performance boost operations chips cache card simply faster simm accesses please help trying find optimum memory settings iici system described',\n",
       " 'reading much confusion whether atmanager lately packages buying included atmanager bonus desktop publishing using pagemaker coreldraw coreldraw comes nifty laser disk contains diff types ttfonts come decent amount fonts print creations postcript resolution resolution enhancement technology well darn good copies good diff whether atmanager turned worth especially better printer technologies',\n",
       " '',\n",
       " 'topic name incribed disk encoded even editor find write licensed change name underneth think wish change would pirate going promote robert dubinski aliases include robb regal marquette university math computer science double major internet address dubinski milwaukee',\n",
       " 'speedo triggered reed switch magnet assembly differential would think signal would easy reproduce',\n",
       " 'sounds liek sign year lease certain parts space station built designed commerical company consortium companies like alyeska small amount rent return certain incentives right also monopoly certain products commerical builders would certain perks given make easier taxes contracts regulatory concesions workable might work china lease hong kong people hong kong make money could work',\n",
       " 'purpose contest things could like fuel entry kind heat shielding even still contest participants fund development probably worth develop contest give cheapest heaviest lift rated least booster development great back contest goals recent article cost relative manned return moon general dynamics scheme involving titan shuttle lift centaur upper stage crew capsule mission consists delivering unmanned payloads lunar surface followed manned mission total cost billion joint nasa project billion share find mention long crew could stay around days total payload delivered metric tonnes ignore scientific payload hitch ride crew habitation module return trip toss tonnes additional consumables last another months might able year visit tonnes case obvious wild guess pretty boring visit since every trip outdoors eats certain home brewed college brewed life support system could last year round tonnes convient since plan talks payloads delivered lunar surface adds centaurs levs shuttle flights single moon year hmmm really practical anyone cheaper better delivering tonnes lunar surface within decade anyone precise guess much year supply consumables equipment would weigh wondering reusable discarded burn return discarded could refueled henry know anything noted uses engines reusable restartable would forgotten ever knew cargo dimensions certain single goal prize staying moon year wise useful prize first government sponsered unmanned moon landing another manned moon landing another system extract consumables lunar soil another reusable earth moon shuttle forth find build civilian moonbase infrastructure single goal might result bunch contestents giving person appeared give find something little scary half dozen people huddling rickety little moon shelters like much reward operation competition lastly fifteen years back seem recall english space magazine going discussion moonbases cheap recalled discussed things like much heat human body produced much lunar material need protection solar flares unfortunately remember name magazine ring bell anyone',\n",
       " 'toneau covers thinking building chipboard roadtrips comment affect mileage highway travel charles',\n",
       " 'crazy question anyone ever wonder birds drop load going took stop trip shitted four times every time hitting windshield even open sunroof guess conscientious birds going used galaxie convertible sitting light waiting turn green turned green hesitated little sleeping guess bird bombed landed directly front level guess bird miscalculated thought going take right away still trying figure rear bumper well bird flying fancy acrobatics decided drop executing perfect loop mustang george kirkaldie pioneer audio control gkirkaldie sanity tdkcs waterloo phoenix gold kicker flowmaster motorsport cambridge ontario canada',\n",
       " 'exist even photosynthetic varieties economical time though',\n",
       " 'maybe baseball business responsible fiscal aspects game preach gloom doom allegedly intelligent people seem predict times losing money bankruptcies alarming rate going increased degradation product produce could imagine problems promoting major league baseball stock would plummet unthinkable depths would happen would admitted cutting corners producing inferior product alleged labor problems think shows lack confidence people game forget word three divisions wild card done deal decided soon since negotiations networks also begin soon',\n",
       " 'chips perform voice compression expansion expensive exist many phones connected pbxs line cards well equipment compresses voice grade circuits save cost long distance leased satellite circuits remember generic term chips impression deal years circuits gotten cheap done much codecs compression samples squeeze played around lossless shorten program last night managed specimen celp code obvious runs real time think proof concept code mucking file formats sample looks like current option voice mail modem built chip hardware means modems system putting cost upwards ouch maybe soon able software high powered games consoles acorn risc machine inside runs like shit shovel nicely mass market',\n",
       " 'think bowling green toledo well cable decided totally empt game tape delay nothing stupid telethon hockey around listen penguins radio parking thankful strong radio miles pittsburgh reception usually good believe picked middle',\n",
       " 'hmmmm prefix peri greek latin usually used greek form name body orbited perihelion rather perisol perigee rather periterr pericynthion rather perilune jupiter expect something like perizeon',\n",
       " 'still mean cheer deaths policemen also line fire includes possibility getting killed happy said question whether agree policies israel wish israelis cease occupation rejoice death',\n",
       " 'global plus chip user choose session phone call makes chip knows three keys user government whole knows every apparently message encrypted system described possibly work happens someone plugs ciphertext receiving chip receiving chip needs receiving chip needs information work computed system cryptographically useless escrow bullshit otherwise message decrypted',\n",
       " 'want alot comics selling overstreet price guide comic condition',\n",
       " 'return place probably incorrect pointer integer xgetwindowproperty allocates memory copies data returns pointer memory free memory done',\n",
       " 'anyone really believes caps beat honest pens loose game definitely lose game remember regular season mean much comes playoff time caps shot least flyers sure',\n",
       " 'admitting admitting morals situational admitting actions people situation help determine judge moral significance actions employ degree force moral employ degree force previously someone else employed degree force situation thus moral quite different saying employing force people immoral period unfortunately time time obliged immoral thing reasons self preservation bear moral consequences worth know claim agnostic ability label things immoral moral find least attractive qualities religious mind',\n",
       " 'medical info without name body attached completely useless treatment thus making secure cash purposes less secure others sure prospective sitter nasty habit molesting kids three four months references known long enough picked remember criminal conviction info public going argue card people going strong argument disclose public info thus making useless negative information yeah right going keep doctors spilling beans already know keep cops disclosing info least info typically supposed public anyway article discusses technology appropriate policy also fails deal happens folks secrets blab andy',\n",
       " 'depends bike found bike interested call insurance companies rates bikes much cheaper insure might think costs year louis first bike recommend less bike short enough feet ground stop piece advice everyone give take motorcycle safety foundation rider course dealer details states completion course give break insurance also teach ride properly beginning learn habits good luck riding motorcycle naked otherwise',\n",
       " 'chain mike',\n",
       " 'friend think family extra laserjet iiip sitting around connect make work without postscript cartridge told random friend mentioned something software package could translation rick',\n",
       " 'basically agree tigers favorite team actually pitching might actually better year last htat saying hole bout home opener tuesday sparky goes today',\n",
       " 'alesis drum machine sale includes velocity sensitive pads digital sounds pattern memory song memory interested make offer please respond zmed amoco thanks',\n",
       " 'last attempt take different tack seem agreement explanations handlebars lean moving motorcycle question effect dominant idea would design experiment would seaprate characteristics effect produces similar result bikes familiar look sparked controversy gyroscopic precession examine alone would contact patch effect allowing contact patches transmit force wheels steering mechanism would remain attached vehicle weight bike suspension wheels transmit forces bike similar bikes experiment would ride bike along road moving wheels spinning change surfaces something transmit forces contact patches steering manoeuvre bike leans probably would since know easy fall good idea well feels like without contact patches turn maybe better besides even contact patch forces altogether find really frictionless surface wheels locked really know rotation looking contact patch effect however fairly simple find vehicle gets magnitude direction cantact patch forces motorcycle transmits vehicle without rotating wheels gets contact patch forces irrelevant looking something contact patches straight sideways skis skates would fine know snow skate bikes suzuki wetbike arranged like motorcycle water skis wheels think propellor front rear something like could coast effect admit second hand info although love review local cycle bike shop sells machine handles much like motorcycle countersteer turn contact patches transmit similar forces bike similar suspension arrangement gyroscopes countersteering conclusion need gyroscopes countersteer vehicles motorcycle like contact patch arrangements still know real effect gyroscopes observations handlebar angle force relate steering general willing dominant factor countersteering like conclusion accept motorcycle behaviour consistent someone prove otherwise ahead',\n",
       " 'really understanding brad appears killing knows',\n",
       " 'finally decided update planning buying centris monitor guidelines wife uses pagemaker occasionally excel sometimes alot telecommuting home work word processing greater inches looked radius color pivot bought heard good things machines older model super little others',\n",
       " 'agent interviewed street stories reported raid planned went ahead even knew coming believe raid planned days plan continued failure obvious part much larger political agenda president clinton would even suggest loss agents inconsequential context political agenda might even beneficial agenda helps point evil assualt weapons proof might denied agents street stories report requests sufficient fire power important dates assembly votes overturn assault weapon compound waco attacked jersey assembly voted overturn assault weapon state looked like might tight vote senate going vote overturn would well eastern state overturn assault weapon given clintons stated agenda control suspect clinton gave order someone group assualt weapons press present initially incident waco record event audience agent street stories reported supervisor urging ready fast know coming believe attack continued even probablility failure high came assembly vote limited amount time come something wackos waco bill nicely',\n",
       " 'master habits cannot break seem unable master lack desire understand even slightest concept bible seems ignorance mastered sexual sins gotta secret desires head harbor control dehumanize women walk past degrade object head master kind thinking insult people unknowingly regret later next time opportunity presents truly master admitted master thought life times sometimes things want repeat mistake unwantingly admitted cannot control every aspect times know something anyway times simply forget lesson fact master need help jesus promised help took offer willfully jesus master jesus knows better creator know creation better creation toyota know better corolla corolla guess ignorance bliss brian enjoy clue bible witness motherly love senses caring concern register senses nothing registers taste smell hear touch better become vulcan fast better emotions good reason believe topic lack knowledge says says cease existing life forever choose either live hell eternal torment communication whatsoever choose live paradise says issue made theism made wishful thinking religion kendigianism people christian people including christians fond feeling imperfect world undesireable place doctrine kendigianism nothing kendigism magical mystical prayers part worship mine kendigianism believe world holy mine kendigianism also dictate must obey priest tells like good little sheep mine bunch lies tell justify ignorant bible brian following christ nothing doctrines kendigianism would find doctrines bible follow kendigianism follow christ also show ignorance christ bible regards priests read sole melchizedek priest hebrews read purpose testament levitical priesthood priests today guess catholics messed follow catholicism follow christ would want live good life contradict reason live good life good life anybody else good either everyone dies anyway reason lead good life leading good life meaningless meaningless thing resurrection sunk jesus alive jesus dead jesus sacrified fufill testament sacrificial system every detail jesus death like seed needed fall ground many lives would take root miss entire john passage well forget person forget know type forget know sentence together forget know send mail forget existence proove exist',\n",
       " 'neil williams writes long subject several years others riding front toyota pickup heading south interstate north seattle someone threw rock overpass windshield accident sure impossible overpass quickly figured kids reported left couple years happend killed company fourties left behind wife children turned reformatory juviniles blocks away caught year cover overpass else could think forget story neil williams boeing computer services bellevue neil year caught insurance company could significant case interesting followups parents teens fred bach operations group internet music erich triumf triumf university meson facility voice wesbrook mall campus university british columbia vancouver canada',\n",
       " 'data point tennessee friend mine police officer essentially recommends fade away even perfectly justified likely great deal hassle side note carrying concealed misdemeanor state things pretty much',\n",
       " 'char name null unsigned long value xgetfontproperty font font value name xgetatomname value display connection font xfontstruct pointer',\n",
       " 'alliance long time comfortable sluggish used horn stalk couple months worth getting used bought next chevy took ever used horn steering wheel grey',\n",
       " 'none need vram simms cost favorite memory distributor soldered logic board simm slots expansion',\n",
       " 'thing everyone spliting thing actually like program launcher file manager seperate make things easier figure mean take look flames personally hate cause much trouble figuring simple things like file copy drag icon cause hate icons first place much trouble telling little push buttons mean want although know minority swyatt brahms udel disclaimer blame everything someone else',\n",
       " 'greetings seeing word storage mentioned around oscilliscopes curious mean life depended scope uses long persistance phosphor keep successive taces screen unit time store live also shopping decent used scope since portable heathkit single trace need like least maybe shopping hamfests problem scope terminology imagine mainframe plug things like storage coax input probe fits fiddle mine week anything resembling good trace come connectors unblanking like manuals many changes made along schematic scopes even identical model numbers different better response performance others pick better rule higher better apply take care',\n",
       " 'following giants closely season newspapers notesgroup first close personal last night stick watching giants hitters struggle last year barry swing impressive quick swing seems effortless even compared clark particularly clark late interesting bonds maddux well sure barry revenge braves stroked three pretty hits giants team surprising things year addition bonds good pitching hitters seem swinging much better clayton defense superb mcgee seems like leading year manwaring driving ball forth hope continues think need continue well june people really sold real particularly pitching think fresh start magowan baker really wiped negatives last years real factor helping significantly improve last year',\n",
       " 'please enlighten omnipotence contradictory definition occur universe governed rules nature thus cannot break anything must allowed rules somewhere therefore omnipotence cannot exist contradicts rules nature obviously omnipotent change rules definition exactly defined certainly omnipotence seem saying rules nature existant somehow define nature actually cause mean like hear thoughts question',\n",
       " '',\n",
       " 'display millions colors monitor need vram correct amount board vram comes possible technically need take vram simms leaving anything cannot really anything vram knows correct putting vram simms vram simm slots motherboard',\n",
       " 'site major commercial activity know materials cheaper right earth asteroids comets aside semi mythic might useful grade fusion reactors problem aside difficulty making fusion reactor work concentration lunar regolith small order average thread reminds wingo claims time moon source titanium earth recall wingo even basalts trillions tons concentrations factor less lunar high basalts difficult disadvantages moon could overcome small increase concentration never mind richer less common terrestrial ores mined today paul obvious chlorine chemistry banned earth advocated groups prices sharply increase course allowed assume developments processing lunar eminently competitive trendy jewelry market certain applications national importance oops space wrong rules debate seriously flaw gary analysis assumes export oriented economy maybe lunatics want native local lunar natives cost effective analysis shown critical providing sheltered manufacturing base technological innovation critical materials manpower allies central powers hundred years',\n",
       " 'stuff deleted stuff deleted calculate figure assume even personal computers board designers would bank switching optimistically quadruple access speed missing something',\n",
       " 'hmmmm think really large keyspaces like need alter strategy discussed attempt decryption several blocks check disctribution contents think feasible keep encryptions known plaintext block amount tape certainly encrypted blocks anyone know cheap converting every atom solar system storage device actually keysearch kind much worse simpler kind terms speed every encrypted message dumb question anyone ever done serious research many legitimate ascii encoded byte blocks could part english sentence attacking mode seems like dictionary kind might pretty valuable',\n",
       " 'cjackson glad know none judgemental little shits cjackson ridden driven tired sleepy hungover angry distracted cjackson last years might guilty judgmental little shits drive ride impaired stopped sort thing good friend mine killed drunk driver failed stop drove side volvo caddy suspect responsible adults bother posting flame wars moto cjackson justification taking away individuals freedom cjackson guise public safety thomas jefferson also owned slaves kept forced concubines enough resources wanted without fear reprisal also smoked dope',\n",
       " 'follow mark last posting current investigations church recently declared crying statue corresponding messages mary akita japan approved found month proof department start appearances mary fatima among things pictures taken miracle appeared major american newspaper york times believe well major european newspapers could talk post hours topic thesis write bless mike walker',\n",
       " 'could folk song clementine memory serves part goes cavern canyon excavating mine dwelt miner forty niner daughter clementine anyone watched huckleberry hound sing chorus story real person behind song',\n",
       " 'first chip runs megabits second beyond need voice obviously intended data well high speed lines second advantage processing phone care fancy chip fancy roomful analyzers fort meade running program years update every clipper chip',\n",
       " 'created image gaea therefore must pinnacle creation creates births continues religious crap woman thanks sexism started road atheism maddi hausmann madhaus netcom centigram communications corp jose california',\n",
       " 'sale pontiac grand prix white white rims gray interior miles mostly highway litre multi port fuel injected engine speed manual transmission options include rear defogger power steering power brakes power windows power locks power mirrors cruise control power glass moonroof sunshade power seat recliner driver power seat comfort lumbar headrest cassette stero electronic monitor service system graphic compass stereo controls duplicated steering wheel remote keyless entry others asking looks rides like rolled dealers garaged pampered gets average highway sometimes better city around depending driven selling baby coming soon need door family consider trade partial trade ford taurus mercury sable door pontiac grand similar american',\n",
       " 'intent nren spectator nren years commercial software vendor really professional opinion nren point irrelevant private sector networking deployed five years would major development however upgrade nsfnet attempt revive lagging national supercomputer centers could nsfnet completely internet would continue chugging along without hiccup aside universities long haul networking internet connectivity long since ceased federal sponsorship regulation least success commercial internet exchange prime example dear promoting data superhighway private sector building without nsfnet restrictions illustrate connection machine desk machine article posted pizzabox demon involves commercial providers hits amsterdam nsfnet nren appropriate restrictions even mbps hits eunet gateway',\n",
       " 'fluke beeps take current measuring range still lead plugged current sense socket solve problem unless noisy environment johnh electronics department school mpce macquarie university sydney australia email johnh mpce',\n",
       " 'someone tell switch window screen resolution quickly easily know back install really like ability change couple startup configuration files resolution changed already video drivers need system problem thanks sean',\n",
       " 'posted without code excerpts noone able help problem main fine create detail receive initial expose events main receives event relevent calls main xcreatesimplewindow mydisplay defaultrootwindow mydisplay myhint myhint myhint width myhint height main line thick xsetstandardproperties mydisplay main main text main text none argv argc myhint main xcreategc mydisplay main xmapraised mydisplay detail xmapsubwindows mydisplay main event mask main pposition psize structurenotifymask exposuremask keypressmask enterwindowmask leavewindowmask flags pposition psize create detail following calls hints values detail xcreatesimplewindow mydisplay defaultrootwindow mydisplay myhint myhint myhint width myhint height detail line thick xsetstandardproperties mydisplay main detail text detail text none argv argc myhint detail xcreategc mydisplay detail xmapraised mydisplay detail event mask flags identical main flags event mask anybody idea initial expose events detail received main receives event love hear everything works great must detail overseeing thanks tips robert rgasch oracle',\n",
       " 'folks first seagate second future domain like change controller scsi least could controll companies many possible select divide cache example using like reserve cache',\n",
       " 'understanding freezing start occur growing distance pluto charon elliptical orbit shadowing effects pluto shadow charon vice versa george krumins',\n",
       " 'wondering anyone land opinions general know reliable cars around summer approaching convertibles interested opinions would appreciated thanks',\n",
       " 'well want pick morgan attack wood frame hand bent metal skin replacement thought kingpost suspension better features',\n",
       " 'wait already accelerated card colour mock cards quickly enough wait difference current system stuff enough warrant changing instance upgrading eisa board performance difference linux great enough worthwhile time buying graphic card scsi controller buying card fast enough drivers vram like weitek card also much cheaper affordable cards arrive last year done much need monitor memory enough disk space left well stay single smoke afford year',\n",
       " 'please satisfy curiosity interested finding using mail system please flood mail april thanks maria alice ruth psuvm bitnet psuvm male female long using mail system access work school taught system person male female helped anyone learn system person male female find questions nets interested',\n",
       " 'whoops wrong group soooooooooooooooorry folks',\n",
       " 'read betting spreads baseball tend something like means must runs spread means underdog favorite',\n",
       " 'straight nice long rant people need take personal responsibility economic social lives sudden radicals guess responsible poor people lifestyles tell works think poor people dumb think many reasons disintegration family support systems general among nation poor somehow think murphy brown janis joplin sane person list want generation vaunted cultural revolution lasting change worse called relevant values education seemed like good idea time know needed real education first mean took granted generation spoiled irresponsible depression create mothers fathers determined kids would want anything going overboard creating nation brats consider contrast famous events july apollo woodstock group large numbers people could feed reverted cultural level primitives defecation public group assembled took care dispersed damage deaths large numbers drug problems actually people still believe love canal kind environmental disaster weird',\n",
       " 'could someone please tell drivers windows soundblaster drivers sufficient would appreciate info',\n",
       " 'missing anything right models ship without ethernet ejeklint also right repeat centris sold zealand assume europe ethernet',\n",
       " 'bunch well meaning maybe cynnical text screw thread sizes rights people standards right regulate screw threads well funny little comment seem little personal privacy citizen governemnt able look everything ever typed computer point another clipper chip stuff seeds nightmares make nightmare elmstreet cheese celluloid movies look like episodes roger neighborhood establishes cryptography standard used everyone everyone personal divided segments stored separate albeit easy find places bits begin screwed pardon allusion affore mentioned article believe many others probably already cracking chips clipper chip made hell probably based encoder chip cracks easier break code since classified algorythm knows crack easily quite scared kind thing plan support organizations even disorganizations fighting clipper chip want government able access even search warrant keys want keys bits long begin nate sammons',\n",
       " 'think find active linux communities populated enthusiasts would object paying money software otherwise would probably gone commercial unix important factor linux community source code always available probably similar community however really involved many people using linux like stay cutting bleeding edge kernel patches library compiler patches come people like rebuild entire systems prime requirement linux software available style public license hence linux software uses either athena widgets xview individuals write software requiring motif doubt widely adopted regards',\n",
       " 'well folks thought answer struck flat face would apple release dock processor people hounded apple notebook processor apple deliver right saps much power radiates much heat large notebook around without designing chipset existing powerbook technology best advantage dock gives apple unique ability give users power semi portable fashion plunking dock quadra power desk road able handle needs okay best solution answer situation mean able powerbook processor parallel dock processor okay getting really hypothetical',\n",
       " 'handful anti zealots telling public right self defense less importance interests handgun control action comes local state federal enforcement officials continue assault branch davidian compound assault already resulted death year child hands federal agents highlighted need citizens able defend children excesses government suggestion opponents bill increase crime distortion facts best aggressive outreach officials central florida train women dramatic drop level assault rape area course program rare many enforcement officials apparently believe unarmed citizenry easier control thus favor tighter restrictions vote today tribute good sense public large putting lives line every lawful affairs entire country knows vulnerable average citizen attacks criminals armed assault police texas lawmakers voted concealed handgun bill shown total understanding innocent abiding citizens front lines families fallen urge house representatives attention needs constituents stampeded conceived arguments ideological fanatics propaganda',\n",
       " 'referring manual motherboard bios beeps cmos shutdown register read write error system stops beeps system continues keyboard error michael',\n",
       " 'sure blues played hawks pretty well season twice stadium blues give hawks hard time series best first round matchups could either hawks probably prevail seven games',\n",
       " 'pull ratio rboc sorry unit current ampere name french named ampere studied electrical current term abbreviation company came ampere unit already know sound right well thing right hello john nevermind jeff',\n",
       " 'bought system little years satisfied everything zeos computer went grad school replaced mbhd diamond viper level cache tower upgrades delete monitor monitor employee purchase great system fast quiet solidly built single glitch bringing tech support seems busier years called configuration question called back hours later right answer think slight premium gateway prices imho zeos worth enough lines never gotten busy signal calling sales customer service tech support usually wait minutes talk someone least queue wait dime',\n",
       " 'could rear ratio also usually automatics different rear ends manuals limited experience anyways david',\n",
       " 'well fair amount evidence floating around indicates around since least late long crowley ever heard long amorc around know claim existed organization clear prehistory doubt organizational paperwork profit carbon dated lizard',\n",
       " 'rvenkate uiuc ravikuma venkateswar writes benchmarks marketing dweebs envy make happy faster architectures nearing lifetimes especially architecture good riddance point processor speed many aspects computers performance clock speed processor memory speed architecture systems even application program contribute overall system performance look',\n",
       " 'help computer gateway freezing gateway tech support help want specifics freezes anyway keyboard left idle minutes type command line soon carraige return computer locks happen almost every time whether booted reset finished using program everything works fine windows different story machine windows minutes freeze however frequent application errors kick application unexpectedly losing work know hardware software problem help diagnosis things would greatly appreciated tsrs except smartdrive qaplus diagnostics says everything good system crystalscan gateway monitor ultra using mach driver build winchester microsoft mouse thanks',\n",
       " 'catcher weakest position possible exception second base chance simultaneously replace biggest offensive problem spot well average offensive player acclimate highly promising potential star pressure carry team want play olson berryhill instead catcher defensive reputation inversely proportional recent offensive level performance thus mickey tettleton goes media defensive whiz slugging thumb finger short years rule apply perceived superstars gold glove offensive transfer effect instead greg olson probably considered good defensive catcher precisely thing either stupidity course could make sort argument cases pete rose pursuing cobb record huge gate attraction national media magnet reds made money also wasted prime eric davis good business mean loathe',\n",
       " 'mind recently purchased elite really like needs much describe addition wanted could access appletalk eliminated line inexpensive printers apple print quality good excellent based font using paper still experimenting different papers medium grade laser printer paper seems work fine printing envelopes transpariencies letter head single feed jobs easy adjustable automatic centering guide sheet feeder aligns paper properly feed sheet sheet feeder affiliation satisfied customer earl fife department mathematics fife calvin calvin college grand rapids',\n",
       " 'chris chelios montreal captain carbonneau traded chicago denis savard peter stastny captain quebec nordiques traded jersey also mark messier captain edmonton oilers traded york dale hawerchuk winnipeg traded buffalo captain think forget wayne know traded captain strip wendel clark capta incy toronto updates thoughts cheer daniel piche design ericsson communications decarie blvd floor town mont royal quebec mail lmcdapi ericsson memoid lmcdapi cheers',\n",
       " 'everyone recently posted received vram chip lciii someone responded actually vram chip thus work properly computer wondering anyone interpret codes figure type chip macconnection sent back card says believe numbers means chip figure size supposed anyone help grateful please email response thanks hillel sims simsh rensselaer polytechnic institute',\n",
       " 'think copy need create floppy drive turn modify switch copy boot using diskette message appears system disk replace disk another boot harddisk switch drives reboot becomes becomes type choice select third item boot called seems work good example booting drdos installation disks format problem friend mine drive hope helps robert copy shareware easy newest version seems',\n",
       " 'rule thumb person making claim wrong reading john morning think right chapter anyway close bible work check jesus talking disciples impending death says going away later said something along lines cannot provide exact quote citation anyway understanding second coming outward event inward event christ come live hearts live look person deceived seems jews looking messiah would political military leader recognize jesus came jesus tried show kingdom earth seen written second coming seems based expectation christ coming back finally taking world running sounds like jews looking first coming like reason second coming like either expect happen second coming little ones every time christ comes someones heart christ come peace',\n",
       " 'evidenced previous stages withdrawal area reductions troops currently troops kept level consistent light armored patrols permanent installations built area planned prodigal water question continue waste time looking existent proof accept testimony people lebanese acknowledged know evidence allegations depends territories refer general settlers moved territories time context situations seemed logical move views change mistakes made currently would disputed territory appear temporary eastern northern jerusalem',\n",
       " 'couple years comparison products changed goes phigs implementation figaro fine phigs personally hate phigs find level also dislike structure editing find impossible enough phigs found hoops system full featured easy support rendering methods software hardware support documentation good easily portable systems would happy elaborate specific questions',\n",
       " 'something unusual happen first background system mitsubishi hard drive running smartdrv version comes windows rarely windows program called disk technician gold diagnostics live time hard drive works device driver detect whenever read necessary file anything else wrong minor problems fully checked upon rebooting hard drive notorious sectors usually sectors week happened program broke emergency warning recommended reboot gave message twice program fully loaded exited program went bootup process examining errors screen popped said something sectors brief period time went back program executed exact error detected rebooted tried error happened removed memory went program could detect anything wrong sure enough number read attempts rebooted reloaded removed cache executed program read errors either audible detected quit program loaded cache program errors detected errors detects cache loaded cache loaded errors cache interfering files went xtree gold tagged files searched random string words wanted program completely read every file hard drive detected least errors recommended reboot anybody idea smartdrv causing misreads hard drive exactly misreads file every files affected originally posted message disk technician corp system figured someone netland know enough smartdrv help',\n",
       " 'kirlian imaging believe skeptics nice write would certainly supportive helping build device connect kvolt supply take serious look aura filipe santos cern european laboratory particle physics switzerland generally accepted method using common physics equipment find certain answers questions afterlifes heavens hells purgatory gods krillean photography probably ignored insignificant compared larger eternal verities publishing results could problem though',\n",
       " 'believe rules blood blood products donations anyone malarial area years platelet donor thailand trip blood bank disappointed find years necessarily rules apply organ donation blood donation fact sure gordon banks skepticism chastity intellect cadre pitt shameful surrender soon',\n",
       " 'could someone explain difference gaskins books pexlib programming manual phigs programming manual would want book book running unix desktop access variety systems alliant cray network mostly would like modeling visualization rabbit monkey human brain structure thanks alexander james annala principal investigator neuroscience image analysis network hedco neuroscience building fifth floor university southern california university park angeles',\n",
       " 'anyone heard game espn showing tonight said show whatever game means playoff wise would assume would blues tampa game minnesota wings game anyone heard sure',\n",
       " 'definitely dobbs numero touch knock kills everyday close segundo subliminal infamous paul birthname saul evangeline became famous result numerous trampoline tours eastern mediterranean',\n",
       " 'became called turbo quattro model come wagon quick wagon rare also',\n",
       " 'thousands tens thousands arithmetic please skipjack possible keys assume brute force engine like hypothesized microsecond trial million chips trials second years trials well maybe chips running trial nanosecond build machine million chips sure years solution idea uses keys shall bother calculations hint multiply years idea speed setup takes much long surprised case skipjack though knowing used feasible technology modern chips',\n",
       " 'watch mean fault rear ending bike know following closely reckless driving',\n",
       " 'apologies read solved posting sorry problems creating cursor bigger using motif running functions return valid results cursor appears bitmap bigger aforementioned size tried using following code unsigned xquerybestcursor xtdisplay programarea xtwindow programarea return nearest size require however returns width height respectively wrong round problem',\n",
       " 'true also read peter peter warns scriptures often hard understand learned subject',\n",
       " 'following packages meet criteria present aesthetically pleasant graphical interface users xview openlook interviews looks little like motif gopath nice toolkit athena widgets motif simpler better interviews enjoy technical support bull mail nice draw program uses motif used create graphical front programs data format called streams feed programs ported gopath internet machine gone minimal effort gopath ported last least gopath interfaces toolkits driver module windows driver module instance also many written extensions thus allowing powerful applications instance snmp extensions ease combine snmp network operations graphs photo widget graphical interface file operations database operations author mail simple network management application lines long displayed various environmental parameters router wrote simple strip chart script displaying real time received packets seconds hope helps amancio hasty',\n",
       " 'looking version xterm handles color style status lines anyone help',\n",
       " 'henrik armenians nagarno karabagh simply defending henrik rights keep homeland azeris henrik invading homeland homeland first nagarno karabagh armenians homeland today fizuli lacin several villages azerbadjan homeland great armenia dream facist methods like killing raping bombing villages last move blast truck kurdish refugees trying escape lacin city given kurds armenians nagorno karabakh azerbaijan armenia armenians lived nagorno karabakh ever since armenians armenians used live areas armenia nagorno karabakh area used invade nagorno karabakh armenians defending azeris dying policy attacking armenians something wrong policy recall correctly stalin caused problem land first place armenians henrik however hope armenians force turkish airplane henrik land purposes searching arms similar henrik happened last summer turkey searched american plane henrik carrying humanitarian bound armenia speak things know cargo planes heading armenia turkish authorities announced going search cargo planes planes returned base germany planes searched turkey content planes hard guess sure humanitarian story talking planes sending armenian years would like guess planes story would like find search turkish planes know talking turkey government announced giving weapons azerbadjan since armenia started attack azerbadjan self karabag province search plane weapons since content announced weapons',\n",
       " 'always possible case think blatant discrimination going clearly selig allowing opposition baseballs dodgers almost impressive also intentional walk stretch farm animal beyond natural length paula koufax paul andresen hewlett packard',\n",
       " '',\n",
       " 'freeware hard drive utility handle compressed drive without screwwing need document occasional failures reading writing check overall integrity disk hardware sectors believe problems windows isolated drive getting occasional corrupted files even smartdrive access turned problems drive drive failure file control winword drive utilities available report problems another symptom took forever kicked suspension till times thanks',\n",
       " 'need help binding value home keys keyboard running dist using running exceed windows xterminal home keys send value application needs defined used xdefaults define keys varnet translations override home string string xterm name varnet works perfect however keypad also defined ideas help please thanks',\n",
       " 'list large integer arithmetic packages elided thought would note except lenstra packages none large integer packages public domain alternative straightforward implementation knuth algorithms found part arizona icon distribution',\n",
       " 'hello transporter sale work either apple however installation also processor installed comes latest software drive transporter problems runs great installation video tape instructions needed harware color adapter monitor processor installed board manuals software aepc drive hook brian laakso',\n",
       " 'anyone particular mind jody',\n",
       " 'never knew valentine made comment viola signing boston gonna bring world series title boston think valentine ever said boston year talk sensitive insecure toronto fans case think viola would made better signing viola younger left handed many left handed starters toronto',\n",
       " 'excellent discussion landing techniques henry deleted take horizontally takes vertically several reasons vertical landings require miles runway limit noise pollution require wheels wings turn engines touch course henry pointed vetical landings quite simple well blunt least learning soyuz vehicles parachutes descent fire small rockets ground parachutes however especially practical want reuse something without much effort landings also comfortable however words georgy grechko prefer bruises sink',\n",
       " 'finance since paid cash last bought worry whether good amount insurance bank loan amount wanted bank would wanted friends telling banks require kind insurance protect since collateral loans true insurance gotten part insurance assume dealer extra insurance regular insurance correct hear accident health type insurance dealers pretty sure money makers want verify types extras license anything else',\n",
       " 'subject says brother wants please reply posting numbers daytime',\n",
       " 'life flesh blood given upon altar make atonement souls blood makes atonement soul testament business makes sense leviticus would support physical injury repay moral wrongdoing know sanctification taught sunday school catechism class theology classes even still accept maybe still understanding maybe understanding well bottom heart know punishment innocent wrong tried repeatedly course several years accept means accept premise would allow perfectly good explain death jesus good thing would glad hear might even convert warned however heard common arguments convince',\n",
       " 'switzerland situation exactly cable companies even tried stop amateur radio switzerland beginning cable seem stupid know anything international frequency conferences even today cheapest possible coax running problems solve anymore bill noted look solution neighbours calling cable guys chance find neighbours sense reason bigger people especially first ones anywhere administration people like tell work money problem radio amateurs power trough rights cases hope start soon optical fibers freqencies cheers robert',\n",
       " 'regular season intensity many teams forwards continually park front opposing teams inadequacy leafs defense regard thus matter however playoffs different story every good team going players going become potted plants front potvin leafs relatively unphysical defensive core finally exposed weak inept hard work long regular season almost points leafs deserve credit playoffs talent matters everyone begins working hard',\n",
       " 'moreover riders riding together speed might riding well beyond abilities safety margin left allan know circumstances several falls ride fell next behind made error judgement riding fast knew road damp reacted badly surprised oncoming crash factors subject control deny combination luck skill involved seems blaming luck pain warranted',\n",
       " 'could find description file format specifically need know file find height width image perhaps even number colors used suggestions peter',\n",
       " 'deleted much following article order discuss specific issue whether acceptable divorce thought implications scary whole generation families broken decided okay leave wives children thrill younger attractive woman accept legitimate jane divorced accept anyone decision divorce found someone deep committed relationship marriage state mutual journey life love passive feeling must actively willed acceptable older executive dump wife many years stayed home care children happy sexually unless beautiful young blonde real solution couple make renewed effort hold fast faith lord repeatedly compared relation people faithful enduring husband learn something deep mystical marry remain faithful times trial spouse brain tumor left partially paralyzed resume growing remission thanks perhaps time would come could sexual relations life lord would certainly give permission seek someone else satisfy needs idea alright divorce couple grows apart seems lead monstrous destruction meaning marriage feel must make every effort avoid hint compromise become petty small minded husbands threatening divorce wives unless wives lose weight',\n",
       " 'guess strength math clinton president months words bush wiretapping initiative said anything panicking snapped authur garrett johnson still culture shock wait till garrett ingres settled situation found bearings start panicking douglas adams',\n",
       " 'hams legally watts unlikely however would running kind power rigs cars around watts possible watt radio would cause interference consumer electronic feet away stereos vcrs poor shielding experience problem frequently caused cber radio operator base station nearby interference caused radio transmitter used purposes police fire heard voices stereo think correct assuming source transmitter frequent trouble want ferrite chokes available radio shack interference probably picked speaker wires chokes installed wires easily without cutting good instructions included chokes solve problem want search neighborhood radio operator look antennas roof talk problem things radio operator reduce interference',\n",
       " 'clarify considered upgrade product called although command line compiler lists version product compiler capable producing executables windows significant difference comes many windows hosted tools assist developers creating windows executables much quickly basically automating thousands lines boilerplate code initial impressions favorable everyone registered user received considerable amount info regarding specifics call microsoft sure happy send',\n",
       " 'animal rights people know bike riding dogs cats racoons',\n",
       " 'shots check tires wear bars problem area tires pass penny test bars guide problem call hydroplaning enough tread left channel water tire goes fishy lifts road tires particular soft tire compounds harder thru heat cycles harder compounds grip well soft ones effect noticable tires often competition hits tires',\n",
       " 'probably pack heavy weaponry intent really think allowed keep stuff tell live sure steer well clear understand neccessary licenses permits automatic weapons public also rights placed individual ahead call commie singing different tune exercised right rape daughter broke threat society simple seen proof even evidence broken proof evidence hear said evidence support except',\n",
       " 'difference probably difference windows likely software available emulation inevitable incompatibilities crop spite contrary claims count certain software package quite properly emulation developers want channel resources toward platform large installed base case like platform successfully marketed regardless relative sophistication',\n",
       " 'would scared trying piece piece jacket pants manly athletic build kind thing laughing please seriously trim pants would also think piece provide better protection wrong swiftly ever gently correct pansies knowledge like call regards jack waters',\n",
       " 'gang duck hunting dark alleys black clad helmeted booted troops storming houses violating civil rights color ready defend constitution also crazy fatigue clad survivalist types blasting snot people accidentally stray onto land name self defense well count least dead government action many killed last year manner described facts silly forgot like guns need stinkin facts self righteous toter smug hater mike ruff',\n",
       " 'writes woulda thunk article really piece every time would thought buddy biancalana would home runs colorado rockies babe ruth omar vizquel nolan ryan combined idiot',\n",
       " 'kidding white really john neuharth',\n",
       " 'idiot posted gretzky trade toronto sheeeesh waited garbage maybe would believed half second heard mother goose mario lemieux traded winnpeg domi',\n",
       " 'text deleted value judgement implied shocking says less government interested monitoring public scare mortifies ripem must become widespread enough resist finney imho correctly identified next logical step academic discussion regard concealing cyphertext become real consideration rhetoric clinton administration seems obsessed harmony either propositions tension tells know difficult sell proposition phrase hear believe actually happening call conserative clinton huge mistake paying tommorow many years approached speakeasy public depositiories dark',\n",
       " 'later modification even higher speed cost power consumption effectively obsolete combination speed comparable lower power consumption best round widest variety devices fast blazes power clear choice high speed availability prices generally good hate disagree fellow smart henry years back worked project using lots high speed stuff part slow parallel whew mild mannered designer working fast serial stuff cussed swore time harry reams ultra tiny power line glitch hickup eyeblink across board bang toggled counted whatevered times swore would count even without volt supply guess stood would anything push work around avoid using think consider using replace unless consequences fully understood',\n",
       " 'sorry call four points three must collinear otherwise three could surface sphere four must coplaner otherwise either cannot sphere define infinity define circle perpendicular bisectors meet point centre circle circle must surface desired sphere consider normal plane passing points normal equidistant circle fact diameter desired sphere take plane containing normal lies normal plane containing normal plane right angles point normally circumference circle lies plane need point normal intersection perpendicular bisector normal point exists since plane right angles normal algorithm sphere well defined check coincident failure find line check failure find plane check failure find centre find perpendicular bisectors find point intersection find normal plane passing line find plane containing find point circle plane lies take find perpendicular bisector line find point intersection centre desired sphere pictures plane right angles plane containing line numerically close relative radius circle subject error best choose least larger choice',\n",
       " 'davidian babble turkish government usenet long going keep repeating utterly idiotic increasingly saddening drivel',\n",
       " 'cannot answer questions running decnet following defines must added site building clients work decnet site define connectionflags dtcpconn dunixconn ddnetconn define extralibraries ldnet hoping helps george opinions expressed author represent opinions cuny graduate school agencies personnel timessqr cuny cmcgc cunyvm bitnet',\n",
       " 'round trip ticket good travel canada europe hawaii latin america caribbean fully transferable used originating intended visit grandfather sick died looking best offer fast gone april matter',\n",
       " 'timeshare week rent must july best offer week traded anywhere world hawaii austria east interval international answer questions help trade paperwork phone numbers order',\n",
       " 'live level called upon travel high altitude cities quite frequently business cities question feet altitude especially polluted often feel faint first three days feel lightheaded heart seems pound level also cities tend drink water keep away dehydrating drinks containing caffeine alcohol thing still symptoms ensure short trips usually week acclimatize comfortable possible something else could long time possibly years discussion altitude adjustment anyone saved messages many thanks',\n",
       " 'reading definition wonder recognize something mistake seems proponents pseudo sciences might ideas constitutes mistake discoveries previous mistakes accept',\n",
       " 'believe order innards mouse must remove label bottom says apple desktop mouse find screws either side tried fingernail accross label divots appeared assume elusive screws question cheers john',\n",
       " 'well jason wisconsin close relatives live port washington minutes north milwaukee visit city regularly bradley four times admirals play ncaa hockey championships beautiful building pettits city like promote best facility hockey north america happen admirals milwaukee acquire franchise word team move green play brown county arena admirals independent franchise people milwaukee supporting well games seen crowds anywhere numbers teams islanders hartford jersey would envious nights plus fact city able support minor league franchise without glamour club affiliated testimony amount hockey interest exists city sincerely martin hill sault marie home lssu lakers',\n",
       " 'heard news mike keenan formerly blackhawks flyers general siberian prison signed coach rangers rangers president last year slipped season destined finish last behind lowly flyers flyers fans going disappointed keenans decision interested well caps connin',\n",
       " 'good modeling package found irit look irit however converter format format postet request converter group response considering write program',\n",
       " 'holders driving importantant enough undertaking cellular phones mobile machines vanity mirrors driver side ashtrays smokers seem think fine road fake convertible roofs vinyl roofs gold trim',\n",
       " 'white house office press secretary immediate release april remarks president route camden yards orioles opening game marc train route camden yards president think jesse jackson protest today president think informational protest think fine owners statement days first step know efforts increase minority ownership minority increases management think encouraged baylor appointment colorado think time make move front think legitimate issue think like said informational picket attempt people game think good think moving fast enough president well think good first step think movement think issue deserves attention obviously going give think reverend jackson highlight issue think fine president logjam senate economic stimulus plan think able break cloture president know working mean classic article paper today papers pretty well summed said know political power play senate majority rule like country like like house minority chooses stop majority rule republican senators told people might vote stimulus program enormous partisan political pressure course means time jobs created even though seems economic recovery means political purposes willing deny jobs places like baltimore dallas houston pittsburgh philadelphia portland seattle mean block grant program designed create jobs hurry based local priorities republicans always championed democrat champions program people like grassroots level governors senators think real chosen exert minority muscle keep americans work think mistake press thank',\n",
       " 'well problem pretty annoyed swing strikes make outs especially ball four counts dave',\n",
       " 'money orders operate pretty much like checks parties supposed sign assume show back people money order made traceable practical matter know would depend whether bother computerize recipient name money order bother keying sort thing certainly police buyback people would keep record gave money orders might questions asked suppose somebody brought number weapons time series back programs',\n",
       " 'borrowed version book friend holy moley wealth contacts five hundred pages information electronic artists organizations around globe many email addresses minute database information also available minitel book based france internet minitel gates book printed french english organization listed idea send information annick bureaud idea falguiere paris france free listed sure widely distributed book much costs affiliated impressed collection organizations artists highly encourage involved electronic media video music graphics animation send entry encourage make database available internet',\n",
       " 'profs chief engineer project humble univ colorado colorado springs love idea inflatable mile long sign really neat thing explode bolt even better westford needle comes crashing clicks boom whooooooooshhhhhh sputter sputter okay pretend would make sound hear insert favorite rumor supposedly coincide atlanta olympics',\n",
       " 'hank greenberg would famous jewish faith actually affected play missing late season world series games kippur',\n",
       " 'dillon published letter blue press telling people bankrupt requesting information last time idea went around guns couple people said counts information requestors members anyone confirm deny true impact getting thousand members last heard something like members million true want play duelling mandates well',\n",
       " 'erythromycin effective treating pneumonia effective fact drug choice uncomplicated cases community acquired penumonia',\n",
       " 'limits efficacy suggest using drug either sequentially drugs kind aids treatment cocktail combining number drugs fight virus treating people alone happen real world anymore said mark jacobson university california francisco also recent findings indicating replicates rapidly lymph nodes infection physicians begin pushing even harder early treatment infected patients infectious disease push american medical news center disease control launch worldwide network track spread infectious diseases detect drug resistant strains time help prevent spread network expected cost million million essential part clinton administration health reform plan according outside experts plan require enhance surveillance disease united states establish facilities across world track disease april plans begin aids drug trials earlier stage nature macilwain colin hicnet medical newsletter page volume number april national institutes health announced start treating positive patients soon possible seroconversion resulting recent findings show active body large numbers much earlier previously believed anthony fauci director national institute allergy infectious diseases niaid said must address question treat people early possibly drugs safe enough give people years around microbial resistance said delay would signify questions safety resistance rather lack funds fauci authored papers published last week nature rejects argument authors cecil discovery indicates billion spent vaccine trials waste time money trials started long patients infected ended quickly john medical college virginia richmond claims evidence strongly backs argument early treatment infected patients aids activists welcomed information said scientific community slow understand significance infection lymph tissue known five years glad public domain said jesse dobson california based project inform peter duesberg believes aids independent result drug abuse west said several paradoxes away explanation aids even papers right april risk aids virus doctors found minimal washington post risk transmitted infected health care professionals patients minimal according research published today journal american medical association jama finding supports previous conclusions health experts chance contracting health care worker remote three studies jama demonstrate thousands patients treated positive surgeons dentists without becoming infected virus studies conducted separate research teams hampshire maryland florida study started positive doctor dentist tested patients willing participate hampshire study found none patients undergone invasive procedures positive orthopedic surgeon contracted maryland patients operated breast surgery specialist johns hopkins hospital found negative similarly florida dental hicnet medical newsletter page volume number april patients treated positive general dentist tested found negative florida researchers gordon dickinson university miami school medicine said study indicates risk transmission general dentist patients minimal setting universal precautions strictly observed related story philadelphia inquirer alternative medicine advocates divided research program aids treatment news gilden dave office alternative medicine national institutes health raised questions commitment effort uses unorthodox holistic therapeutic methods small division budget million dollars compared billion whole addition money available research grants even smaller total available year grants kaiya montaocean center natural traditional medicine washington says afraid become involved aids look successful easy answer aids said also common perception focus fields establishment find threatening relaxation techniques acupuncture called advisory committee conference people last year aids community largely missing meeting addition activists general lack contact office added suspicion epidemic ignored greenberg york said advisory panel composed practitioners without real research experience take several years accept nature research nevertheless leanna standish research director aids investigator bastyr college naturopathic medicine seattle said wonderful opportunity fund aids research fair give office time public insist much much public relations herpesvirus decimates immune cell soldiers science news fackelmann kathy scientists conducting test tube experiments found herpesvirus attack human immune system natural killer cells attack causes killer cells malfunction diminishing important component immune system fight diseases also herpesvirus factor immune diseases aids paolo lusso research found herpesvirus attacks another white cell lymphocyte primary target lusso also found herpesvirus hicnet medical newsletter page volume number april kill natural killer cells scientists previously knew natural killer cells patients infected work correctly lusso research represents first time scientists indicated natural killer cells vulnerable kind viral attack according anthony komaroff researcher harvard medical school despite test tube findings scientists uncertain whether result occurs body lusso team also found herpesvirus produces receptor molecule provides access lymphocytes express surface receptor making vulnerable attack researchers concluded herpesvirus cells exacerbate affects april aids priorities global village editor journal american medical association gellert george nordenberg dale health care workers obligated responsible ensuring politicians understand dimensions certain health problems also committed related policies write george gellert dale nordenberg orange county health care agency santa calif emory university school public health atlanta respectively berkley editorial american doctors care aids epidemic beyond united states details several reasons concerted interest countries share combating aids noted aids leads hastening global health interdependence illness diseases malaria many respiratory intestinal pathogens similarly inhibited economic development humanity acted marginalize large populations berkley mentions enormous social economic impact aids many developing countries increased need international assistance result berkley also cites lack political aggressiveness toward aids epidemic first decade administration promise substantial differences approach international health development general aids particular vice president gore proposes book earth balance major environmental initiative includes sustainable international development programs promote literacy improve child survival disseminate contraceptive technology access throughout developing world enacted change policy could drastically change future worldwide health aids priorities global village reply journal american hicnet medical newsletter page volume number april medical association berkley seth every nation tackle early aggressively possible disease reaches endemic state even cost diverting less attention illnesses writes seth berkley rockefeller foundation york reply letter gellert nordenberg although true diseases aids malaria respiratory intestinal illnesses similarly inhibited economic development developing countries deserve much attention getting berkley disagrees contention aids receiving much attention differs diseases developing countries continuing spread endemic diseases outcome neglecting interventions year another year level needless disease death aids increasing spread cost neglect disease burden financially much greater interventions early part rampantly spreading epidemic like highly cost effective individual infection prevented significantly interrupts transmission berkley says agrees gellert nordenberg gigantic social economic effects aids need political leadership concludes assertive political leadership needed united states aids epidemic even developing countries high rates infection complacency epidemic rule hicnet medical newsletter page volume number april aids articles first vaccine trial begins infected children department health human services march first vaccine therapy trial begins infected children national institutes health opened first trial experimental vaccines children infected human immunodeficiency virus virus causes aids trial compare safety three experimental vaccines children recruited least sites nationwide volunteers must infected symptoms disease secretary donna shalala said initial study seen hopeful milestone efforts ameliorate tragedy infected children face certainty develop aids anthony fauci director national institute allergy infectious diseases office aids research said trial first step finding whether vaccines help prevent delay disease progression children sick vaccines prove safe sophisticated questions therapeutic potential assessed phase trials centers disease control prevention estimates children united states decade world health organization projects million children infected worldwide study enroll children ages month years niaid funds aids clinical trials group network anticipates conducting trial nine actg sites around country three sites participating actg funded national institute child health human development preliminary evidence similar studies infected adults shows certain vaccines boost existing specific immune responses hicnet medical newsletter page volume number april stimulate ones several years however researchers know responses affect clinical course disease results pediatric trial known actg examined closely reasons well trial provide first insight immature immune system responds candidate vaccines said daniel hoth director niaid division aids need information design trials test whether experimental vaccines prevent infection children united states infected children live poor inner city areas percent minorities mainly black hispanic nearly infected children acquire virus mothers pregnancy birth infected mother united states four chance transmitting virus baby growing numbers women childbearing become exposed injection drug infected sexual partners researchers expect corresponding increase numbers infected children disease progresses rapidly infants children adults recent information suggests percent infants born develop serious aids related infection years infections include severe frequent bouts common bacterial illnesses childhood result seizures pneumonia diarrhea symptoms leading nutritional problems long hospital stays least half children trial years younger enable comparison immune responses younger older participants volunteers must well documented infection symptoms disease swollen lymph glands mildly swollen liver spleen cannot received anti retroviral immune regulating drugs within month prior entry study study chair john lambert university rochester medical school chair samuel katz duke university school medicine coordinate trial assisted james mcnamara medical officer pediatric medicine branch niaid division aids compare safety vaccines closely monitoring children side effects vaccine produces swollen arms fevers example another said mcnamara also look whether high doses vaccines stimulate immune responses significant laboratory clinical effects emphasized small study size precludes comparing responses effects among three hicnet medical newsletter page volume number april products trial test doses three experimental vaccines made recombinant proteins called subunit vaccines genetically engineered contain piece virus proved well tolerated ongoing trials infected adults vaccine made microgenesys meriden conn contains protein gives rise surface proteins plus alum adjuvant adjuvants boost specific immune responses vaccine presently alum adjuvant used human vaccines licensed food drug administration vaccines made genentech south francisco biocine joint venture chiron ciba geigy emeryville calif contain major surface protein plus adjuvant genentech vaccine contains alum biocine vaccine contains experimental adjuvant proved safe effective phase vaccine trials adults dose product tested first placebo children twelve children assigned random immunized experimental vaccine three children given adjuvant alone considered placebo neither health care workers children told receive dose well tolerated controlled testing higher dose experimental vaccine adjuvant placebo another group children begin child receive immunizations every four weeks months followed weeks last immunization information trial sites eligibility enrollment call aids clinical trials information service trials weekdays service spanish speaking information specialists available information niaid pediatric aids research available office communications agencies public health service press inquiries please call laurie doepel hicnet medical newsletter page volume number april evidence cause disease independently news national institute dental research evidence human immunodeficiency virus cause disease independently ability suppress immune system scientists national institues health report opportunistic infection caused scaling skin conditions develop mice carrying genes although genes active mice compromise animals immunity researchers found conclude caused skin disease findings support growing body evidence cause disease without affecting immune system said lead author jeffrey kopp national institute dental research nidr kopp colleagues described study march issue aids research human retroviruses developing animal models infection difficult since animals including mice cannot infected virus bypass problem scientists developed transgenic mice carry genes well genetic material nidr scientists created transgenic mice injecting genes mouse eggs implanting eggs female mice resulting litters contained normal transgenic animals institute scientists created mice carried complete copy genetic material mice however became sick died soon birth study depth present study scientists used incomplete copy allowed animals live longer transgenic animals developed scaling wart like tumors necks backs transgenic mice developed thickened crusting skin lesions covered bodies resembling psoriasis humans skin lesions developed normal transgenic littermates studies tissue taken wart like skin tumors showed type noncancerous tumor called papilloma although papillomavirus cause skin lesions laboratory tests showed sign virus animals tissue samples taken sick mice throughout study revealed presence protein producing molecule made genetic material hicnet medical newsletter page volume number april evidence protein production proved viral genes turned active said kopp scientists found evidence however compromised immunity mice increase white blood cell count signs common infections fact genes active animals immune systems suppressed confirms virus causing skin lesions kopp said proof gene involvement came test scientists exposed transgenic animals ultraviolet light light increased genetic activity causing papillomas develop formerly healthy skin papilloma formation response increased genetic activity proved genes responsible skin condition scientists said lesions appeared normal mice exposed light transgenic mice used study developed nidr peter dickie national institute allergy infectious diseases collaborating study kopp charles wohlenberg nickolas dorfman joseph bryant abner notkins paul klotman nidr stephen katz national cancer institute james rooney formerly nidr burroughs wellcome hicnet medical newsletter page volume number april clinical consultation telephone service aids department health human services march secretary donna shalala today announced first nationwide clinical consultation telephone service doctors health care professionals questions providing care people infection aids toll free national telephone consulting service staffed physician nurse practitioner pharmacist provides information drugs clinical trials latest treatment methods service funded health resources services administration operates francisco general hospital secretary shalala said goal project share expertise patients best care second goal primary health care providers involved care people aids reduces treatment cost allowing patients remain medical providers community social support networks currently many providers refer patients aids specialists providers experience secretary shalala said clinical expertise especially helpful physicians providers treat people aids communities clinical sites expertise readily available telephone number health care professionals accessible monday friday times consultants answer questions immediately within hour times physicians health care providers leave electronic message questions answered quickly possible health care professionals call service question related providing care including latest aids drug treatment information clinical trials information subspecialty case referral literature searches information service designed health care professionals rather patients families others alternate sources information materials health care professional calls service call taken either clinical pharmacist primary care physician family nurse practitioner staff members extensive experience outpatient inpatient primary care people related diseases consultant asks patient specific information including cell count current medications patient history national service grown month local effort hicnet medical newsletter page volume number april responded nearly calls health care providers northern california initial project funded hrsa bureau health professions community provider aids training cpat project american academy family physicians providers expand knowledge also improve quality care able provide patients said hrsa administrator robert harmon project great resource health care professionals aids patients serve service opened means communication health care professionals experts care management said hrsa associate administrator aids director bureau health resources development stephen bowen providers treat people aids access latest information drugs treatment methods therapies people aids hrsa eight public health service agencies within aids hotline numbers consumers national aids hotline aids information spanish sida aids clinical trials english spanish trials hicnet medical newsletter page last part',\n",
       " 'fascinating content white house announcements said gives almost nothing value threatens take away sincere smile face nice friendly word management fact sheet public encryption management first thing giving stronger encryption says government developed microcircuit provides privacy encryption substantially robust current government standard also permits escrowing keys needed unlock encryption system escrowing keys allow government gain access encrypted information appropriate legal authorization strong enough government break major effect make easier government break best makes difficult break since need escrowed keys brute force search similarly making encryption commercially available encryption already commercially available including forms able break like triple idea phone companies could offer based systems convinced government would could make enough money next thing making encryption legal course encryption always legal president change first amendment merely decree making decision intend prevent private sector developing government approving microcircuits algorithms equally effective assuring privacy secure escrow system clearly means making encryption illegal unless keys soon business buys another thing going congress money lots wiretapping course budget crisis congress might debate policy issues give cash attorney general procure utilize encryption devices extent needed preserve government ability conduct lawful electronic surveillance fulfill need secure enforcement communications attorney general shall utilize funds department justice asset forfeiture super surplus fund effect purchase means money congress control going lots wiretapping equipment detect approved crypto preserve government ability conduct surveillance means',\n",
       " 'sale tektronix color terminal tektronix rasterizer tektronix inkjet printer tektronix printer extras tektronix products paper boxes transparencies boxes maintenance cartridges cart magenta cartridge cart would like sell single preference given offers entire list offers accepted best offer gets equipment',\n",
       " 'well student body president exactly campaign stand tough crime listen people want fund things make sense condoms marijuana exactly worst things available either',\n",
       " 'commericial companies space mineral exploration basically freaks make hard minerals earth think crazy well reality billin congress basically make expensive mine minerals unless inspectors collectors ascially understand talking miner friends mine congress propose gross income mine versus adjusted income also state governments normal taxes time done paying materials workers expenses made basically make spend ofor expenses federal taxes bascially driving miners land peopel benefit freaks basically back beginning statement space cause might expensive mine earth either freaks protectionist interesting times',\n",
       " 'everybody want want good price could anyone found really good deal centris send price want know unless mail order areound cleveland ohio also wait power thanks reply post mail cwru robert novitskey pursuing women similar banging head cwru wall less opportunity reward',\n",
       " 'want inquire taking lupron medication supposed treatment described issue obst',\n",
       " 'believeing blindly sure blindness comes deny reason indeed insist upon reason draws conclusions evidence decide advance reason evidence five physical senses reason possibility reaching conclusion outside physical sphere beyond rather provocative inconclusive conclusion physical sphere self explanatory saying rely feelings experiences since source information left convince somebody feelings experiences correct ones show somebody visible measurable effects experiences exists says leave since going experiences correct within personal realities furthermore trouble feelings experiences lead astray tragic outcome waco illustrates sure many koresh followers really believed think agree misled finally earth come conclusion physical sphere self explanatory rely five senses must using definition evidence familiar evidence something show others unambiguously saying true however agree belief diety matter faith something share around others must experience independantly unfortunately explained puts belief matter experience impression christians monopoly reason evidence faith things risk repeating argument explained previously trouble moslems buddhists jews claim good reason valid system possessed best evidence explaining gods revelations buddhists read explaining existence must prove case disprove messianic good place people strong belief faiths good reasons know people reason never claimed wish make sure arguments well founded goes without saying make blunder expect people correct gone process removing essential contradictory bits hopefully made progress towards truth',\n",
       " 'mean gonna bring back biscayne george howell goucher ampr',\n",
       " 'wrangler sahara paid including rebate driving years fancy stuff pretty nice like wrangler serious roading keep ground clearance limited suspension travel winch would like locker future love',\n",
       " 'lets hear goldin convince rest federal government space program worth investment hope live walk mars need address technical hurdles first sufficient interest maybe consider starting space group devoted technical analysis long duration human spaceflight regulars know interested starting analysis soon possible',\n",
       " 'anyone successfully converted interleaf graphics even heard done love hear mike mcconnell',\n",
       " 'recently purchased diamond stealth video card received wrong drivers anyone know windows video drivers stealth tried drivers cica work right drivers diamond file almost would take download baud information would appreciated please contact doug uiuc thank',\n",
       " 'aids someone fucking everyone interest semi propose motto recently glorious state maryland state whose state song refers abraham lincoln tyrant people gotten wound state motto inherited calverts fatti maschii parole femine read italian says manly deeds womanly words something effect state long four women seven representatives represents problem official solution change translation means strong deeds gentle words personal suggestion changing walk softly carry stick',\n",
       " 'sheesh even trained attack match human advantages agree grab chin careful keep hands away twisting head going tailwag death even occasion unexpectedly jumped german shepherd grabbed upper hand lower holding mouth open strong enough clamp nothing however macho shit aside fact riding bike arrowing intercept unwise stop deal simple fact might leathers working jeans dismount deal properly means kick otherwise attention stop stay kick ride away victory drove territory even qualified victory victory kick stop dogs shit serious back established dominance probably bother llamas however different story stop near llama insist ride lucky like barf bike steal',\n",
       " 'unfortunately much learn statistics presented either rounding could anywhere could anywhere means actual change believe statistics first place anywhere similarly increase cocaine could anywhere increase crack could anywhere even take account margin error provided',\n",
       " 'yeah tore kmart near house putting suptermarket heard beer drinking ghost still haunts place liked read',\n",
       " 'upcoming project want megs dram configured banks data wondering anyone knows dram controller handle refreshing data controller handle bank switching part easy controllers know ones national semiconductor dram management handbook edition would like know another manufacturer produces easier implement circuit anyone wanting hook dram microcontroller dallas semiconductor makes neat chip serial dram nonvolatizer chip uses refreshes controls dram memory external battery refresh dram power price dallas quan wish could chip maximum clock rate slow thanks advance wayne schellekens schellew aecl',\n",
       " 'hmmm sounds vaguely similar problem long time trying kermit building serial connection next think problem handshaking basically need make sure handshaking protocol sides safe place start selecting handshaking either problem zilog serial chip seems permanently wedged talk wrong reset clear know specifics could nonlinearity screws attempts debugging system could well things right eventually wrong move like trying handshaking protocol screw correct actions next machine reset wedged also next send files back forth next without problem pretty high speeds know kind chip uses think zilog pretty standard',\n",
       " 'another guess salvation riddle would saved',\n",
       " 'patrickd lazer writes specs fill page book highlights address space data width integer registers floating point registers copyback capable caches associative typical clocks integer instruction clocks floating point multiply interesting aside multiply floating point numbers less time multiply integers multiple instruction dispatching figure clocks instruction typical guess motorola guys pretty bright less call motorola typing predicting lines reaching ends experimental processors data pathways schedule instructions clock cycle sort trick really done cisc architectures finally details pentium greatly impressed finally done work speed otherwise going speedup using integer units larger caches branch target buffer know talking processors whoop designing board difficult really expensive priced memory chips lately',\n",
       " 'tell story grew catholic issue born christian sweet person proseletyzing imposing tried christian could felt tried depressed felt guilty personal honest feelings tried hard reconcile conflict taught think rationally read books religion general specifically catholicism came crisis point finally clicked staunch atheist loose explanation gist feel better better self esteem generally stronger person well defined goals strong stable sense morals values nazi corrupt politicain believe human rights live live among things anti violent anti hatred debunk myth atheists depraved religion place system tough bertrand russell said cannot know exist prove sense truly agnostic practical purposes',\n",
       " 'religion especially christianity nothing drug people drugs escape reality christians inject jeezus live high logic falty christianity drug would reluctant embrase drug alive enjoy pardon harshness follows told cradle christian please take advantage jesus anybody sake selfish realization search true faith religion belonging fear hell vanity instead serving must serving comprehended truth things egoism jesus religion bible anything anybody means escape getting ecstatic high children must true authentic relationship father obedience faith hope love works last important beware materialistic worldly selfish motives atheists ground believe right call christians',\n",
       " 'adaptec scsi controller hard disk drive comm ethernet card reboot system receive error message boot device cannot found pull comm card reboot everything fine moved controller comm card various slots different positions slot controller slot controller result responded problem help would appreciated',\n",
       " 'compiled distribution sunos also compiled public domain xview olwm distribution party application binaries sunview programs work xview olwm tried using openwindows version svenv program work news access mailing directly also email alias questions comp windows comp windows open look please respond thanks shash',\n",
       " 'midst designing project requires motors illuminator driven pulse width modulation using understand version programmable counter array essentially forgotten problems variant difficult come need three prefix ceramic window version development lots prefix plastic later production tried avnet arrow pioneer might looking samples point willing provide would vendors minimums help appreciated',\n",
       " 'debate second amendment rages arguments continue well regulated militia trkba means practical terms however authority area binding court decision matter even decision area subject overturning higher court anyone facts legal precedent preferably supreme court decision specific meaning amendment',\n",
       " 'brent shows ignorance power weeks never lived rural area thinks electric stoves favor stop working power fails power restoration come much slower country city stoves ovens much prefered handheld',\n",
       " 'guess shooting kind babies right sick bastard',\n",
       " 'file contents listings knowledge media resource library graphics knowledge media resource library audio',\n",
       " 'posting question seem answered suppose idle realized mapped window contains xlib graphics button widget pressed cause item drawn window action clearly call xcopyarea equiv directly instead register existence item memory structure expose event handler handles regular expose events window manager driven exposures take care rendering image using expose event handler proper time handler called xlib window guaranteed mapped problem course expose event generated window already visible mapped need somehow tickle window expose handler arguments enable render part window contains item',\n",
       " 'biggest biggest suprise disappointment angeles kings robitaille donnelly hrudey would chosen alex zhitnik biggest suprise expect would become great defenseman think anyone knew going impressive rookie year speed skating ability puck control exceptional watch kings agree marty mcsorely warren rychel running close second third surprised people noted knickle biggest surprise even though personally really rate well biggest disappointment carson though really unfair since much expected second biggest disappointment melrose adolescent handling goaltending problems putting hrudey bench month stupid contribute team coming slump surely robitaille',\n",
       " 'albany albnyvms bitnet heavy home',\n",
       " 'interesting comparision fast clock cycle chips alpha slow blazes soon available version making comparable think turned around faster clock cycles less power behind cycle mention intel instruction stream byte oriented longest intel instruction bytes number makes hard intelligent memory subsystem cheers nada hacker deluxe',\n",
       " 'history working massage parlors telling workers prostitutes frequent truck stop parking lots without sort',\n",
       " 'know placebo effect patient feels better even gets better belief medicine doctor administering also anti placebo effect patient dislikes distrusts doctors medicine therefore better feel better spite medicine effect doctor believes strongly medicine sees improvement none sees improvement effect called reverse effect doctor believe medicine sees less improvement would effect called effects ever studied common effects thank advance replies',\n",
       " 'happening turn horizontal output begins normal operation powers high voltage rest circuitry problem sensed horizontal oscillator shuts powers cycle repeats',\n",
       " 'first know male homosexuality explicitly mentioned bibles hook think event plenty people many denominations consider person sexual identification lesbian bisexual immoral lifestyle choice another misconception told whole story former minister lesbian know personally professionally several openly lesbian ministers unitarian universalist like others denomination choice looking unitarian universalists liberal religion acceptance sexual identification choice views however many believe spirituality freedom conscience good luck journey',\n",
       " 'zoologists refer fecal shield colonel semen budienny subsequent soviet military fame said armenian genocide million defenseless turkish kurdish women children elderly people visit anatolia june armenians become troublemakers hinchakist dashnakist parties opportunist serving lackeys whatever power happened ascendent september major general thwaites director military intelligence wrote lord hardinge secretary state foreign affairs useless pretend armenians satisfactory allies deserving sympathy claim special collection stanford hoover library donated georgia cutler letter dated states prescot hall wrote large volume prove armenians never could desirable citizens would always unscrupulous merchants source documents volume document archive cabin drawer file section contents division command militia commander ismail hakki eight days armenians forcibly obstructing people leaving homes going village night rounding male inhabitants taking unknown destinations nothing heard informed statements succeeded escaping wounded massacres around taskilise ruins women children openly murdered gathered church square similar places inhuman barbarous acts committed moslems eight days document archive cabin drawer file section contents caucasian army corps command caucasian army corps command communications zone inspectorate commander army general almost russian units opposite front withdrawn population loyal regions behind russian positions facing ever increasing threat suppression well cruelties abuses armenians decided systematically annihilate moslem population regions occupation regularly informed russian command atrocities cruelties gained impression authority seems failing restoring order serdar argic',\n",
       " 'trying massacres deir yassin sabra shatila tell good jokes thing like jewish killing wwii palestinians davidians fourty years fact killed time place people gets killed maybe also vietamiese vietnam killed american napalm pyromaniacs maybe jews liked chambers forced thought like snifing cocaine think stupid well stupid said next time want intelligently sincerely hassan arab civilians yassin massacre first village housed many armed troops secondly irgun stern fighters absolutely intentions killing civilians village attacked military significance fact warning given occupants village leave attack begin rational standards yassin massacre killing unintentional village housed arab snipers arab troops thus attacked military significance attacked intentions killing civilians even compare yassin arabs died holocaust absurd irgun want kill civilians village almost inhabitants survived',\n",
       " 'window installation alone screen screen questions hardware configuration changes devices need made pulling inserting frame buffer called graphics accelerator apposed frame buffer significance server install sunos driver compatable would appreciate information posting behalf john charlton access please reply directly charlton send address forward thank help',\n",
       " 'hello looking voice input capability user interface developing unix workstation would greatly appreciate information anyone would care offer voice input systems easily accessible unix environment names adresses applicable vendors well experiences specific systems would helpful please respond email post summary sufficient interest thanks found several impressive systems would like avoid hassle purchasing maintaining separate possible hinckley virginia university virginia neurosurgical visualization laboratory',\n",
       " 'must government space launch directly mean know could launch small package space including ariadne russian sites know poker flats alaska thou used sounding rockets auroral borealous northern atmospheric items last heard upgraded able sattelites orbit must people fixed using nasas direct resources poker flats runin part nasa also univesity alaska geophysical institute sounds like typical cultural centralism protectionism people wonder multi trillion dollar deficite working spell checker',\n",
       " 'good luck trying',\n",
       " 'think going little disappointed lemieux tocchet mullen tippett jagr buzzed friend forgot scored mullen goal said scored lemieux tocchet tippett jagr funny part said jagr part chalantly process scoring asking question coverage scale give games louis area stupid complain television network even pirates game instead penguins game time year many pittsburghers would surely raise hell texas good start pull year whoops belongs sport baseball',\n",
       " 'back building round tail light bimmers suspendered reganomics generated quiche eating yuppies market became beamers hood ornaments started disappering',\n",
       " 'credit card companies offer double warranty year namely make purchase credit card additional warranty year apply purchase computers wonder anyone used catch thanks advance post results computer purchase points ability american express card read fine print double warranty policies amex citibank visa sure allow double warranty computers citibank maximum claim could imagine trying monitor mother board fixed amex limit claims remember amex must either send copy warranty info days purchase must call register send paperwork within days purchase register arrived today citibank visa requires registration',\n",
       " 'source alper gazigiray osmanlilardan gunumuze kadar vesikalarla ermeni teroru kaynaklari gozen kitabevi istanbul sonra isyan sebinkarahisar basladi senesi haziran sivasli murat hamparsum boyaciyan denilen caninin emri altinda kadar cete sebinkarahisari basti burasi zaman onemli askeri yerdi erzurum bolgesinde ordusu savasan osmanli ordularinin butun ikmal araclari buradan gecmekte ermeniler boyle onemli isgal ettikleri takdirde turk ordularinin ikmali yapilamayacak ordularinin harekati kolaylasacakti sebinkarahisarin islam mahalleleri tamamen atese verildi rastlanan turk iskence olduruldu ayni sekilde isyan devam ediyordu sason daglari ermeni eskiyalariyla dolu isyanlari ordunun arkasini vurmak ordusunun ilerlemesini saglamak icin ermenilerin pasa dedikleri rupen idare ediyordu bundan baska ordularinin turk sinirindan gecerek turk topraklarina girdikleri safhada ordusu icinde bulunan ermeni gonullu alaylariyla ordularinin isgali altina giren ermeni koylerindeki silahli halk turk koylerine hucum ederek koyleri yakip yikmislar turk halkini hatira gelmeyen mezalim iskence oldurmulerdir suretle sehirde kanli olaylar cereyan etti sure sonunda ermeniler tarafindan tamamen isgal olundu buradan kacabilen turklerin ermenilerin davranislari hakkinda verdikleri haberler tuyler urpertici cunku isyancilar halkin cogunu oldurmus kadinlarin irzina gecmis turk kadin kizlarini bazi evlerde topladiktan sonra buralarini genelev haline getirmislerdir zaman kadar kadin cocuktan baska turk kalmamis bunlari oradaki amerikalilar korumustur sehir bastan basa harab olmus carsi kamilen yanmisti serdar argic',\n",
       " 'rules regulations laws would subject attack attempting preempt federal authority regulate radio communications course original poster noted court challenges kind expensive',\n",
       " 'remember rightly syndrome infants lack genes people lack gene supposed persons avoid naturally occuring phenylalanine gene underproduce whatever supposed producing supposed less tolerant aspartame methol formaldahyde thing supposed occur heating',\n",
       " 'anyone know program record keyboard sequences windowed would like something starts telnet program logs accounts windows recorder seem able record sequences',\n",
       " 'back someone several equations could used changing iltered grey scale images true color image possible theory used color scanners looking ious solution color scanner need equat ions becasue starting write software automate conversion process would really appreciate someone would repost equations unknowns thanks help',\n",
       " 'would deal arabs always threaten drive burn half conuntry would talk nicely would please language middle east power force sorry strong israel talk tough notice israel talks acts tough battle willing talk peace true brainwashed people thinking jews sort monsters arab recognition israel support terror also important factor want israel negotating sick people calling israel withdraw territories realistic realize solution must negotiated table patience',\n",
       " 'ones seen fluorescent tubes maybe could find small tube hand held fluoro lanterns blue lights ultra violet definition goes blue spectrum people radio spectrum rays cosmic rays possibly could light fringe visibility people false lenses easily since lenses soak however since people things glow near blue less energetic would probably work well worked lecture basic atomic physics fits electron transitions quantum leaps stuff',\n",
       " 'bought diamond stealth months seems great card especially multimedia presentations runs graphics animation well near full motion video well thing tell lacks speed colors qualit million collors unreal definitly compromise speed seems great card graphics comes great software sure excelerator part used paridise doesnt seem much faster thing like loads vesa driver startup think never load links programs require special vesa drivers startup gromi hintmatt',\n",
       " '',\n",
       " 'deion sanders home today nixon infield single deion batting nixon around would start wise bobby ballyard braves chop chop michael mule',\n",
       " 'recently posted article asking kind rates single male drivers paying performance cars summary replies received anymore close enough dodge stealth twin turbo model tickets accidents house taken defensive driving airbag security alarm single year decut state farm insurance includes additional umbrella policy house base policy standard policy required defensive driving course less bought september company never accident ticket years quoted hope helps steve flynn university delaware kevin hope remembered name correctly asked insurance performance cars well last year similar situation bought made inquiry eagle talon driving record clean state illinois cost turn insurance goes also single incurs higher rate company couple friends awds different companies also maybe lucky hope info helps dans motorola cellular subscriber group live norman oklahoma drive thunderbird never made claim insurance though several times negligent drivers stop signs fiddling radios three moving violations last months going failure clear intersection still damn light yellow going record rates state farm passive restraint deduction liability deductible comprehensive deductible collision roughly year paying year escort james james callison microcomputer coordinator oklahoma center callison uokmax uoknor callison aardvark uoknor disclaimer engineer play work forecast calls thunder bird hell thing killing take away ever gonna munny unforgiven beyond group experience years might interesting owned toyota celica decided gift exotic front runners included toyota supra turbo porsche model years narrowed liked simplicity handling snob appeal driving porsche supra turbo less money features performance almost personal luxury better acceleration higher speed almost ready give buying impulse decided stop insurance agent office asked would happen rate either supra rate classification celica celica considered subcompact year rated safest cars slight increase years newer lower risk division continue handle account porsche change standard higher rate company rate double another story cover rest year cancel supra much faster actually faster standard doens make sense book says insure corvettes either reason underwriters consider supras drivers traditional conservative eventually went supra number reasons porsche dealer nice salesman interested tough high pressure back room equal monthly payments would taken year longer porsche plus higher insurance concluded high insurance related probability auto theft everyone entitled opinion goldberg oasys navy imagination important knowledge albert einstein live idaho many years years bought trans insurance year turned immediately dropped year accidents strictly change rate stayed pretty much sold years pickup year less real amazing thing woke felt much responsible information california male single moving violation alfa spider year bargain single male clean driving record corrado live jose california year allstate good deal thinking getting talon think insurance higher turbo sports honda clean record small mexico town around year nearby city rates higher mine insured robert robert stack institute transportation studies univ california irvine stack translab mazda protege year saturn years state mexico insurance state farm info toyota celica insurance farmer insurance yearly insurance date license residence mountain view california moving violations atleast hope helps please post summary possible vijay vijay anisetti email anisetti informix single years eagle talon turbo full cover reasonable liability tickets violations accidents knock wood mass thing makes huge difference mass town live personally best towns within reasonable distance boston moved absolute best would moved worst would also accident couple tickets would probably another mitsubishi eclipse turbo years tickets went record live illinois outside chicago year full coverage state farm small discount alarm system year live miles chicago actually lived city price would year case interested anyway insuring month thats personal total property deductible glass towing state farm unless driving less years think seriously ripped performance cars listed record clean paying calling insurance dealers could find although rates supposed standardized found places initially call give ridiculously high quote finaly much lower also changed insurance companies rate went renewal accidents tickets gets older maintain rate always careful comes insurance companies',\n",
       " 'anyone familiar doug sturm',\n",
       " 'decoder need demultiplexer although many commercial implementations allow strictly decoder need take lines make output change state according inputs demux hand uses control inputs determine four outputs reflect state input signal three inputs required decoder used demux equipped output enable input since used data input high outputs high selected control inputs output eight decoder created using high order select four demuxes enabled thus achieve output eight reflecting input bits note method cannot used create true eight demux since data input enable line four decoder left commit enable lines intended purpose sixteen decoder obviously requires four four decoders plus mechanism enable four time therefore fifth decoder attached high order bits provide four enable lines course order bits must connected parallel four final stage decoders please give credit submit homework johnh electronics department school mpce macquarie university sydney australia email johnh mpce',\n",
       " 'worked macintosh software loop whatever means doubt quadra specific problem venerable bernoulli last year enough cartridges purchased make whole thing worth whole computer tech support guys ocean microsystems suggested third party drivers might problem case cartridges format mount partition megadrives worked perfectly plus powerbook reason assumed problem something quadra even quadra mostly worked problem occurred ejected cartridge drive would start popping dialog boxes saying cartridge must formatted jasmine driveware even though cartridge drive mark format confirmed apple computer sweden work apple dealer service tech problems quadras wanted format diskette syquest ther nothing drive problem fixed sytem mikael fredriksson email mikael fredriksson macexchange exchange lindome sweden lines fido disclaimer exchange cannot held responsible contents message',\n",
       " 'little luck could sometime near future wondering someone could clear questions speed simms need want know needs vram sure main heard conflicting stories total expandibility megs true perhaps another phrasing would better version come megs logic board megs simm wondering',\n",
       " 'alpha chip sure could call haha actually details article ieee journal solid state circuits think sometime around',\n",
       " 'original message mincha tish yamim omer chamishi nisan thshn universita varsha varsha galut hamara meod shalom visiting ghetto city days might interested following events timetable abridged april kabbalat shabbat service nozyk shul twarda street warsaw mins walk palace science culture tallest building city centre distance central railway station april shacharit shabbat service nozyk shul april fallen ones memorial service nozyk shul april memorial ceremony jewish cemetery okopowa street warsaw april official arts programme congress hall building adjacent palace science culture like shul located quarter walk downtown hotels bristol forum victoria europejski holiday marriott april laying wreaths ghetto heros monument',\n",
       " 'ditto',\n",
       " 'software publishing superbase windows system readright windows system readright unregistered zortech compiler multiscope windows debugger whitewater resource toolkit library source code glockenspiel imagesoft commonview windows applications framework borland spontaneous assembly library source code microsoft macro assembly microsoft windows documentation microsoft foxpro wordperfect developer toolkit kedwell software databoss code generator kedwell installboss installation generator liant software views windows application framework source code developer toolkit cbtree windows library source code symantec timeline windows timeslip timesheet professional windows',\n",
       " 'another book find helpfull learning spice would make good reference book found lacking learning spice others craig',\n",
       " 'sale brand shrinkwrapped harvard graphics windows list price cheapest pince computer shopper mail order price really slick package bike race return credit dilemma fire sale',\n",
       " 'forwarded neal ausman galileo mission director galileo mission director status report post launch april spacecraft april real time commands sent planned reacquire celestial reference completion gain antenna swing dual drive actuator hammer activities april earth jupiter sequence memory load uplinked spacecraft without incident sequence covers spacecraft activity april june includes window radio relay antenna slew test april command loss timer days part sequence memory load april command sent reset command loss timer hours planned value mission phase april cruise science memory readouts mros performed extreme ultraviolet spectrometer dust detector magnetometer instruments preliminary analysis indicates data received properly april ultra stable oscillator test performed verify health status collect gravitational shift experiment data long term trend analysis continuing april modulation index test performed determine optimal signal noise ratio transmitting preliminary analysis data suggests present launch selected modulation index near optimal level april cruise science memory readouts mros performed extreme ultraviolet spectrometer magnetometer instrument preliminary analysis indicates data received properly april periodic retro propulsion module newton thruster flushing maintenance activity performed thrusters flushed activity thruster performance throughout activity nominal imbalance measurements exhibited significant changes greater throughout period measurement reads volts measurement reads volts measurements consistent model developed special anomaly team spacecraft status april follows system power margin watts spin configuration dual spin spin rate sensor star scanner spacecraft attitude approximately degrees lagging degrees earth leading downlink telemetry rate antenna coded general thermal control temperatures within acceptable range tank pressures within acceptable range orbiter science instruments powered probe powered temperatures within acceptable range loss timer setting hours time initiation hours ground data systems galileo participated second deep space network acceptance test telemetry phase upgrade april using compatibility test area purpose test verify flow galileo telemetry data telemetry group controller telemetry channel assembly replacement current telemetry processing assembly seven different telemetry rates test well mccc telemetry subsystem ammos mgds exception rate trouble staying lock appears metering data correctly comparisons mgds data test conducted mission verification test system expected begin trajectory noon thursday april galileo spacecraft trajectory status follows distance earth distance heliocentric speed hour distance jupiter round trip light time minutes seconds special topic',\n",
       " 'frankly offense defense equally important pitcher defense primary role every player offense even shortstops bigger part offensive game defensive game might much part offense another issue said think smith yount deserve pretty well addition defense',\n",
       " 'commodore epson homewriter printer disk drive joysticks mouse lotsa software games apps rapid fire joystick adapter year',\n",
       " 'please respond directly account sale blue toyota pickup truck white blazer topper casette cruise control great camping trips brakes master brake cylinder michelin tires shocks maintenance free battery clutch windshield wipers well maintained toyota parts repairs done dealers little rust body good shape miles asking interested please contact ursula fritsch gene please respond directly account',\n",
       " 'deletion deletion universe created tell less tyrannic creatures likes others definitions created satan full knowledge would happen including every choice satan explain free goes along omniscience know everything would happen even created world concerned tyrant noone would care everything fine whole idea comes possibility abuse power something introduced according description',\n",
       " 'looking package implements standard image processing functions reading writing standard formats clipping zoom implemented public domain private packages interest particular application area mind medical imaging package meant general context would acceptable please reply summarize general interest prateek mishra mishra sbcs sunysb',\n",
       " 'stupid postings brought recently illuminating chose name perhaps stupidest mean calling dismantling arab states apparently answer attempts solve problem traditional military means traditional terrorist means also failed stop trying holy know solution possible encouraging mean gets even funnier fund financed center policy research major organization yeah like marriages among arabs strengthened societies world could less middle eastern grace band listen like followup postings debate tell leave alone',\n",
       " 'someone canada asked send public domain file encryption code legal send thanx eschew obfuscation defriesse mail cadre cadre technologies phone richmond providence',\n",
       " 'according motif style guide cursor shapes give user visual clue happening expected hourglass cursor shown application busy caution cursor shown area input expected another defining cursors widgets done rather level defining cursor widgets application certain subpart rather complicated matter cursors defined windows crosswire cursor drawingarea things even complicated intuition says things easier anyone solid complete solution problem please know topics busy cursors several helpful since work applications windows cursor window attribute none',\n",
       " 'goal need subjective instance goal natural morality propogation species perhaps really intelligent animals came along revisions necessary intelligent animals different needs others hence morality suited must complicated jungle think self actualization subjective might think objectivity assuming ideals system could carried completely',\n",
       " 'think thinking thing original poster accelerator talking almost certainly uses according footnotes supra costs list really doubt inside called supra supra turbo external model internal model anyone know exists griff miller griff miller waii email opinions mine western',\n",
       " 'main advantages method seen described algiorithm seems little long developed method requires points counter clockwise order returns whether looking back front similar plane method uses calculations however basically several comparisons disadvantage must done transformation view coordinates coordinates display screen means little calculation isneeded beforehand method basically figures whether points appear screen clockwise counterclockwise looking back something points occur opposite direction front merely figuring points tell whether looking back front polygon anyone heard method simple doubt first think libertarian atheist semi anarchal techno',\n",
       " 'thoughts think psychologically easier next generation accept genetic manipulation seems people frown upon messing nature ignoring eons practice human intervention arrogance hubris manipulation routinely natural certainly deal interesting human traits probably massively polygenetic full trade offs addition without positive social environment cultivation genetic gifts advantage made people certainly pursue grail know quests turn',\n",
       " 'push media pushpinder singh subject centris video problem also date exactly problem fine switch colors smaller monitor configuration model centris vram cards monitor monitor adaptor resolution discovered problem little plugging monitor seems appear either scrolling window using alpha word enter return guess vrams well really hope design flaw anyone apple listening pushpinder singh push media finding init called basic color monitor clear probs centris type monitors know exists somewhere binhexed copy know never around installing problem sony',\n",
       " 'kind brainless clod posted garbage would kind explain clinton initiative congress least past months',\n",
       " 'sure dietician date crohn ulcerative colitis previously residue diets recommended advice changed also differences advice patients without obstructuon remaining input physician important find dietician important practice send patients dietician course seeing since dieticians know much better diet histories evaluate contents diet',\n",
       " 'begin saying think world first religion major recruitment medium therefore even religion take founding members important historically method soliciting membership eventually become common basis religion apply various aspects current conventional morality characters genesis exodus assume bible accounts facts historical events correct example story adam adam garden eden naked ignorant unlimited supply food provided clothing jobs knowledge says fruit tree knowledge anyway hide bushes finds forces garden several different stories naked bushes might angered traditional philosophy reason need knowledge someone else provide food stupid unemployed married women usually work recent decades authority figures whoever behind vietnam hitler slaveowners always right blindly followed without question ordinary people make decisions interpretation events based traditional philosophy supposed fruit done whatever told like small children needs provided obligated whatever father said forced leave garden work order obtain food punishment lessons traditional interpretation ignorance good knowledge tempting food provided nothing read welfare ideal ting feeding earn punishment public nudity good covering authority figures intrinsically right normal people dumb whatever told without question think people subordinate positions especially obligated refrain learning example illegal slaves learn read philosophy people seek education employment outside home unless named hillary clinton murphy brown people common sense kill people binding issac wars holocaust told interpretation events based current philosophy supposed fruit gave wanted seek knowledge rather handed silver platter gained knowledge seeking showed ability make mature decisions selves longer needed treated like little children rewarded allowed real world lessons interpretation ignorance knowledge good must sought food provided nothing read welfare best temporary measure getting feeding earn ideal public nudity covering good authority figures often wrong normal people intelligent consider whether instructions really good idea alter abolish governments think people subordinate decisions often discouraged knowledge seek anyway harder example poor children without good schools work especially hard order make better life children tentatively named philosophy church eveism decision apple kind first good decision instead first traditionally believed therefore clearly protagonist first appears evil telling people seek knowledge deeper analysis also protagonist rewarded decision defy provided tree first place intention desire clearly knowledge obtained delay actively sought serious discussion begin humor save post disk file server someday considered important writing since commandments want original copy stay tuned religion eveism deduction money donate organization return serious discussion posting follow',\n",
       " 'anas high rank israeli officer killed clash whith hamas anas mujahid terrorist israelis chased killed young mujahid anas using anti tank missiles terrorist zionists mujahid anas body small pieces extend body recognized anas leat houses destroyed atni tank missiles indeed israeli soldiers killed hamas mujahid anti tank missile almost sure terrorist zionists would able body probably desintegrated missile stop polluting fantasies tsiel',\n",
       " 'mildly watched flyers demolish toronto last night realized matter good leafs line need decent lines playoffs course healthy felix potvin',\n",
       " 'philip think ideas well taken constructive thanks articulating forum flaming libertarian paranoid extremist loss specific objections sound frighteningly technical suggestions perhaps somebody could post list might suggest companies implementing schemes limited govt scheme find reasons opposition clipper scheme algoritm insecurity mistrust govt hard sell letters editor nontechnical people hints advice maybe small type thing hate clipper would good idea',\n",
       " 'come arabs sympathetic palestinian israel monitors arab organizations reason monitored communist organizations soviet nationals years groups past associated part anti israel activity propoganda simply monitoring anything comes caught surprise world trade center bombings happen israel aside fact world trade center people like zein palestinian whose american group planned israeli embassy kill many jews caught mordechai levy said paranoid jews live longer probably',\n",
       " 'would like sell following books best offer interested please email offer sure include shipping handling prefer ship purchase consider solo lost legacy solo revenge solo stars splinter minds empire strikes back star wars star trek motion picture star trek wrath kahn official star trek trivia book star trek reader star trek reader book form star trek reader original series star trek reader dune dune messiah children dune emperor dune altered states alien close encounters third kind dragonslayer mists avalon compleat book sowrds lost swords space odyssey odyssey odyssey barlowes complete guide extratresstials best offer thanks',\n",
       " 'listmember andrew killie think wrote response suggestion genocide sometimes works indescribably evil unworthy worship faith nobuya higgy higashiyama replied substance others source moral standards judge behavior often argued standing judge actions clay talk back potter find contrary view scripture proposes destroy city suppose good city destroy righteous along wicked lord thing shall judge earth right told hebrew actually stronger perhaps better rendered dynamic equivalence shame lord thing definition good whatever happens want statement good meaning simply says wants case either love obey good motive left obeying powerful makes sense obey dictator even tells round jews exterminate defy might chamber makes sense obey power punish ethical theory take radical contradiction genesis christianity general theory makes moral judgements worthless makes discussion morality goodness meaningless however follow moral judgements always infallible particular cases still less judgements particular cases course action likely achieve good result read scriptural accounts actions history actions often seem different might expect loves desires best moreover leaving scriptures aside considering natural world find nature often different might believe author nature also author scriptures must expect find scriptures sort difficulties find nature difficulties exist argument existence power wisdom goodness contrary absence would argument suppose watching bobby fisher play chess suppose every time makes move find nodding saying good move expecting move would made playing would sign fisher better chess player given better expect least moves thinking suppose induced even real slip thrown game away similarly understands workings universe better expected sometimes look made mistake difference fisher chessboard controls universe chess game fisher wins revise earlier inference carelessness made lose queen moves earlier however loses particularly time opportunity checkmate moves take know good player thought hand shall life total result actions therefore grounds judging seen move part must always shakier grounds making similar judgement fisher book genesis read joseph older brothers good reason found insufferable conspired sell slavery egypt eventually became viceroy famine canaan able provide family brothers nervously apologized told worry meant evil turned good history jews largely history events look like catastrophes threaten continued survival religion people amazingly events turn saving jews judaism sale joseph brothers looked like breakup family fact ended reconciliation quarrel famine drove family canaan looked like misfortune fact stayed canaan would almost certainly intermarried canaanites assimilated culture oppression egyptians generations arrival egypt looked like disaster used bring egypt promised land people built temple regularly offered sacrifices babylonians captured jerusalem judea destroyed temple city countryside deported people babylon might thought would people religion living canaan people constant danger assimilation turned worship lord worship canaanite fertility cults ritual prostitution ritual human sacrifice babylonian captivity stop never jews show interest polytheism idolatry neither worship canaanites babylonians ever foothold among judaism danger becoming simply system sacrifices temple observances prescribed acts worship consisted coming jerusalem every often offering sacrifice captivity temple gone jews invented synagogue place meeting reading study discussion scriptures came realize clearly danger forgetting continued live judea simply local tribal deity controller land canaan patron jewish people creator world ruler judge humans everywhere time passed babylonian empire replaced persians greeks rather macedonians ruler antiochus epiphanes determined stamp judaism made reading study torah punishable death might think would judaism people worship instead reading torah portion appointed would read passage prophets similar theme discuss time torah called five books moses genesis exodus leviticus numbers deuteronomy books read studied synagogue antiochus books prophets would probably forgotten altogether hatred judaism saved examples omitted brevity sake remember julie andrews first became famous eliza doolittle stage production fair lady warner brothers undertook make movie everyone expected julie magnificent stage would play role movie instead studio decided established screen star cast audrey hepburn julie andrews naturally crushed later realized played screen role would type cast life elize doolittle type would disaster walt disney offered role mary poppins oscar presentation stood smiling looking walt disney said special thanks made possible jack warner memorable line evening similar spirit jews might thank providence preserved judaism kept alive beginning joseph brothers continuing pharaohs nebuchadnezzar antiochus epiphanes formal meeting broken woman came privately said talking holocaust answered example came mind right talking would talk everyone everyone bear assume meant without holocaust would state israel someone hearing rabbi lecture might leap conclusion dependent wickedness accomplish purposes least rabbi thought might suppose wickedness fact stirred joseph brothers murderous hate israelites egypt hardened pharaoh heart oppressed people would raises questions action considered wicked time considered something brought suggest another looking consider sculptor wood proposes carve statue instead smooth even grain throughout large knot spoils appearance surface sculptor considers wood carves statue features knot makes particular interruption grain color wood correspond feature statue observers fortunate sculptor finding piece wood knot like right place presence crowning touch thing makes statue great work reality knot sculptor looking challenge skill wood contained flaw would still made great work different joseph brothers sold would still brought purposes jewish people would done another manner judas betrayed jesus caiaphas fellow leaders rejected jesus rather acknowledged annointed pilate followed conscience rather fears jesus free might appear would crucifixion therefore redemption therefore salvation need judas redeem judas done right christ would still reconciled world know know michelangelo would painted sistine chapel interior instead shaped like grand central station know bobby fisher would fourth game agianst spassky spassky refused exchange bishops attacked fisher knight instead bother look game question making example point none less valid thus used cowardice pilate accomplish purposes said cowardice pilate would thwarted plans behaving justly courageously make place says moses harden pharaoh heart people christians taken mean pharaoh puppet pulling strings stubbornness cruelty work work suppose rather telling moses something like pharaoh willing people discouraged suppose situation control purposes thwarted pharaoh chooses hear people well good resistance plans perfectly future historians theologians suppose would thrown loss pharaoh obeyed return question started possible serbs slaughtering moslems bosnia instruments first point wrong joseph brothers wrong judas wrong intend evil somehow brings good make less subject condemnation punishment second point course bring good good would brought serbians refrained sins robbery rape murder good purposes excuse duty right',\n",
       " 'certainly preparations advertised ridiculous concoctions nostrums premenstrual syndrome ostensibly treat headache bloating simultaneously worthless idea work believe known synergism certain analgesics caffiene treating pain inflammation ibuprofen convert taken time excedrin really works grin nathan steve dyer dyer ursa major spdcc harvard rayssd linus spdcc dyer',\n",
       " 'braves production falls game certainly headed lucky mean finish first',\n",
       " 'exactly dangerous looks hard little protection keeping trouble means knowing limits keeping machine good shape able predict make every stupid move drivers make deal staying alive takes conscious effort',\n",
       " 'also billy jack wild smokey bandit jerry reed runs truck motorcycle gangs bikes video tape documentary hell angels found rental store',\n",
       " 'batman responding dave first official nickname fuller means effective anti recidivism measure deters individual committing capital crime first place true question whether threat death likely actually stop murdering commiting treason capital crimes anywhere death penalty would introduction deter would criminal committing crime doubt first step even strong deterrent short complete deterrent would reject case innocent executed even could eliminate possibility would reject death penalty immoral makes something radical issue although think many opponents captial punishment agree find innocent executed strongest argument make would magically placed charge facilitate state aided suicide criminals life sentences could replacement capital punishment want live rest lives jail would always option',\n",
       " 'well claim radio broadcaster information city cable channel cablevision areas shows information travel times believe major freeways covered computer generated shows green yellow flashing respectively incident might little speeds since memory often look display morning really want fight traffic sepulveda pass work home little wait clear another poster explained origin information sensors embedded wire loops pavement near ramps every half mile caltrans board driven data traffic control center time know selling data anyone equipment necessary transmission display',\n",
       " 'hope comes somewhat unbiased assesment wfan school philadelphia listen stations consistant basis mike lupica noon person name guests interviews local importance dave cheketts fred wilpon show costas magic johnson opinions stations competing talent morning show opinion think imus much better bruno cataldi morganti even though would feel different morganti better crew people work tries copy imus make sports theme terms sports imus lacks blanketing airwaves interjects humor politics show noon think chuck cooperstein lupica equal abilities host radio show think chuck advantage lupica terms dealing caller asking local team going draft sixth round lupica hosts better interview guests heard interested interviews celebrities unless major story would consider even different styles host noon point would give advantage jody mcdonald berman lenny couple weeks think ability transcend homer mentality philadelphia base evident iggles philadelphia spelling play cowboys huge dallas else people call predict score without egging hosts morning guys agree great weekend overnight miss hearing current crop rotating hosts feel best sportstalk host either station good margin fill weekends sometimes time goes francesa russo fatso froot loops become divided loyalties mike entertaining often hour without calls even minutes without talking sports matd great guests basis show like debate another plus appearances mike chris imus morning often hilarious matd fredericks missanelli like mike missanelli stomach steve fredericks know came philly originally homer much philly homer listen much unless game night later reason give advantage midnight makes calls matd time seem like novice charges racism cobb grating nerves listen minutes nuts know biased listen show usually game knicks rangers mets jets john basketball game west coast usually howie rose course think dead would better cobb sixers flyers games season sports station lose iggles wysp home howard stern phil summer talk overall would give advantage wfan exception even advantage rich',\n",
       " 'recently move forgot update address orthodox mailing list anyone mail address changes exactly caps please send original subscription address also thanks ahead time',\n",
       " 'multi threaded xlib version written archie search xlib host export location contrib directory drwxr xlib location contrib xlib file xlib xhib file xlib location contrib xlib file xlib xhib file xlib',\n",
       " 'people owners motor head gurus know engine sounds noisy engine noisy best times even nice nose ugly noises change every months months engine noise sounds relatively quiet driving idling around month mark change tracking thoroughly months starts disgusting noise much driving idling problem also know noticed little performance drop acceleration used help tips would appreciated',\n",
       " 'testing flames please',\n",
       " 'case sent bentsen bensen',\n",
       " 'monitor display case wigglies good ground live house replaced much wiring filters computer monitor plugs computer fluorescent lights upstairs display jiggles motors house display jiggles incandescent lights kitchen display jiggles could bring separate line breaker computer would travel volt line though shield back monitor ground grid plate expertise appreciated thanks much byrnes',\n",
       " 'selke candidate forwards main purpose shift prevent goals scored score lemieux gilmour play number purpose score defence secondary especially considering line plays probably defensive selke candidates someone posted something assumption lost translation months whoever please repost gainey best defensive forward ever stand assessment good player belongs hall fame ever watch play never made technical error babbling deleted pundits gilmour good louis best player game overhyped gilmour months good forward hardly best',\n",
       " 'understanding psycology classes percentage like world wide would really like know source figure',\n",
       " 'deserve reason salvaging little honor west supposed strongest division baseball lost east yesterday astros prevailing stretch farm animal beyond natural length paula koufax paul andresen hewlett packard',\n",
       " 'like method couple semi drivers usually acknowledge sticking hand window middle finger extended also obvious clear lane ahead',\n",
       " 'exactly service incident similar experience recently bought truck picked vehicle wanted little haggling agreed price wrote check payment plus license told back evening pick truck returned wait hour finance could finally everything went smoothly started adding numbers discovered miscalculated license said needed another said already agreed price problem giving money finance brought manager duty proceeded give hard time reminded customer think treated like back could forget whole deal made smart remark told could stick snatched back check left needless pleased turn events early next morning call general sales manager wanting know happened related story apologised profusely asked anything could change mind told gave truck free probably still take dealers town repeat customer learn treat customers still pretty steamed whole affair gave line hating lose customer would find solution told bother thanks somewhere else couple hours later owner dealership called apologetic said would cover plus knock another price truck told think gave private direct phone number secretary name assured valued customer thought hours discussed wife decided hell pretty decent deal called back accepted offer went back next pick truck received royal treatment everyone seemed know incident even everything went smoothly truck mins guess reasonably satisfied customer however happened first place shocked sales person talk like expect grovel sure expect given hard time either mistake anyway happy truck turned couple hundred dollars invoice paid first year license sure whether back dealer',\n",
       " 'praying young preying young comes later bright eyed little altar finds priest really wears chasible thing scotsmen kilt never forget tweleve accidently walked roomfull priests sitting around underware drinking beer watching football kind changed opinion seem menacing',\n",
       " 'confident merely crazed desert thought cable controlled total electrical failure flight machanical backup systems mean overstress wings fail joints enlighten hinterlands',\n",
       " '',\n",
       " 'bill rights refer citizens makes several references people example article right people secure persons houses papers effects unreasonable searches seizures shall violated article person shall held answer capital otherwise infamous crime unless presentment indictment grand jury shall person deprived life liberty property without process article viii excessive bail shall required excessive fines imposed cruel unusual punishments inflicted never heard constitutional rights apply citizens meant apply equally persons living whether slaves considered human know seems case could made treated people defined bill rights since nation nominally based declaration independence states created equal endowed creator certain unalienable rights among life liberty pursuit happiness would also seem slaves would follow definition humanity',\n",
       " 'hello readers misconception copts among oriental orthodox churches believe monophysitism pops discussion comments appreciation moderator believe elaboration needed excerpt article featured first issue copt newsletter authority eastern roman empire constantinople opposed western empire rome patriarchs popes alexandria played leading roles christian theology invited everywhere speak christian faith cyril pope alexandria head ecumenical council held ephesus year said bishops church alexandria nothing spend time meetings leading role however fare well politics started intermingle church affairs started emperor marcianus interfered matters faith church response dioscorus pope alexandria later exiled interference clear nothing church political motives became even apparent chalcedon coptic church unfairly accused following teachings eutyches believed monophysitism doctrine maintains lord jesus christ nature divine natures human well divine coptic church never believed monophysitism portrayed council chalcedon council monophysitism meant believing nature copts believe lord perfect divinity perfect humanity divinity humanity united nature called nature incarnate word reiterated cyril alexandria copts thus believe natures human divine united without mingling without confusion without alteration declaration faith coptic divine liturgy natures separate moment twinkling also declaration faith coptic divine liturgy coptic church misunderstood century council chalcedon perhaps council understood church correctly wanted exile church isolate abolish egyptian independent pope despite coptic church remained strict steadfast faith whether conspiracy western churches exile coptic church punishment refusal politically influenced whether pope dioscurus quite extra mile make point copts monophysite coptic church always felt mandate reconcile semantic differences christian churches aptly expressed current successor mark pope shenouda coptic church faith important anything others must know semantics terminology little importance throughout century coptic church played important role ecumenical movement coptic church founders world council churches remained member council since coptic church member african council churches aacc middle east council churches mecc church plays important role christian movement conducting dialogues aiming resolving theological differences catholic greek orthodox presbyterian evangelical churches final note oriental orthodox eastren orthodox sign common statement christology heresey monophysitism condemned coptic orthodox church believe monophysitism peace nabil nabil ayoub engine research center dept mechanical engineering university wisconsin madison email ayoub erctitan wisc mentioned brief apology comment quoted confused appear nestorius monophysite andrew byler correctly stated nestorians monophysites actually opposite parties point making nabil explains detail groups considered heretical probably chalcedon compromise groups alexandrians antiochenes adopted language intended acceptable moderates camps ruling extremes agree extremes heretical however course complex politics time appears people rejected intend heresy simply used language understood even mispresented seem jointed compromise reasons doctrine groups descended supposedly heretical camps posting discussed descendants alexandrians also remaining nestorians like current called monophysites reason believe current called nestorians heretical either sheltered nestorius unfair treatment claim adopt heresies fact seem follow moderate representatives antiochene tradition',\n",
       " 'allthe devil reincarnateswr meter radios ssave cdac devil reincarnate organization cdac good choice wave read installation instructions wave antenna suggested tune channel channel minimum reading question channel best antenna wave probably best explanation rest makes sense wave cancell beastie best wave antenna followed swring actually trim antenna correct length specific wavelength transmitting since wavelength varies channel recommended using middle channel going anyway beginning antennas nowdays manufactures trim antennas almost spot much point swring fanatic whish anyway',\n",
       " 'following listed tapes priced sell friend mine wants bids tapes back black good condition razor edge excellent poison open excellent flesh blood excellent guns roses appetite destr fair good good skid bside tape case cracked slave grind excellent jackyl jackyl excellent jovi keep faith single excellent',\n",
       " 'found oddity indigo mips chip xlock nolock running working remotely batch mode runtime programs timed using clock code slower xlock running processes seem affect runtimes consistent explanations real imagined',\n",
       " 'true enough ground free spooge directly head otherwise exactly helmet less energy head lump inside compress liner shell drop seat enough crack shell doubt always send inspected',\n",
       " 'common problem highly complex truetype fonts microsoft admits problem older versions postscript printer driver found pretty generic around problem adjusting parameter outlinethreshold truetype section entry specifies number pels windows render truetype fonts outline fonts instead bitmap fonts default generally able fonts work setting outlinethreshold depending printer resolution point size using need different value windows resource warns going presumably might cause fonts print square boxes something smiling',\n",
       " 'suspect think less lethal typical assault weapon wrong compared criminals military ammo fmjs military rifle extremely rare military ammo fmjs magnum civie bullets lethal arms criminals military among least lethal arms existance',\n",
       " 'market internal color video adaptor wondering anyone used powervision adaptor made mirror tell feel speed compatability might also interested boards envisio board please mail opinion thanks advance',\n",
       " 'perhaps getting away cripple chip government seems pushing would come good alternative example scheme using hybrid another strong stream cipher maybe idea could substantially cripple chip except instead registration police could demand give secret court issued warrant could read last months wiretapped messages sent assuming committed crimes could generate pair business find willing right system especially given alternative unwilling give secret probably stay jail anyone real legal precedent would allow court issued warrants used gather information suspected criminals done secrecy would enormously less likelihood corruption theft escrowed keys maybe someone enforcement intelligent community correct seem like loss terms enforcement capabilities comments',\n",
       " 'might sure would also wrong',\n",
       " 'ieee general ieee announce',\n",
       " 'deposition vitaly nikolayevich danielian born attended grade middle school resident building apartment microdistrict sumgait azerbaijan really people town know happening february came home school clock excused leave last period order baku left everything town fine life usual groups people discussing things soccer things sumgait bound baku first cousin birthday father mother spent baku somewhere around home figuring enough time homework next entering town near story high rises stopped large crowd crowd demanded armenians driver says armenians board everyone begins shout armenians board group comes doors people checking passports going people look taken armenians direction home first going building knew place hide whole road packed groups people block microdistrict groups emptying people pockets checking passports people passports beaten well decided home instead near story high rises burning cars great many people standing around driveways yelling death armenians written cars came courtyard live shaped building still quiet went upstairs turn lights tried call baku warn relatives arrive wednesday come knock door neighbors advised come stay place went place basement live first floor basement enter across balcony basement armenian woman beaten away naked neighbors daughter said right armenians deserve stepanakert allegedly people killed girls agdam raped stay long basement tried support another best could looking small window iron grating papa watched said things said fire near building probably fire groups approached driveway demanded shown apartments armenians lived neighbors said armenians group wing building appeared side building later found woman murdered woman away naked died yuri avakian killed crowd left neighbors said could home went back place turn light started gather things order leave sumgait tried call relative lived sumgait answer decided already left home phone rang caller asked speak father called phone jeykhun mamedov father work brigade said disgusted happening town asked address promised help city quite honest papa want give address mother phone told minutes call crowd entryway bursting building broke door came apartment came straight apartment knew exactly armenians came place tried resist nothing could took parents passports began read read surname danielian turned page read armenian alone enough doom said moved quickly courtyard would done another standing next pushed keys piano said death tolled knives steel truncheons knife hand unfortunately knew give knife things would much worse struck parents said knife piano commanded taken outside person giving orders taken outdoors went middle mother behind someone started push walk faster ahead fell behind tried push moment began beating parents realized resistance completely useless taken courtyard neighbors standing balconies happen next crowd surrounds first strike knocked come beat lose consciousness often hear parents since first cold come pick lying next crowd gone people around watching balconies pick left broken start toward drive wanting tell neighbors call ambulance bodies parents still warm attacked around clock regain consciousness make stairs home knock neighbors door push back tell away third floor neighbor puts damp cloth head says call ambulance sends takes apartment often look window ambulance arrived result blows seems parents already taken away calm convince taken away everything still later morning found ambulance picked already dead received attention time possible would still alive later around clock policemen civilian clothing come house assistants call ambulance minutes later arrives taken sumgait emergency hospital stitch wounds head rebind clock armenians hospital sent ambulance baku ward sumgait hospital five people armenians hospital nearly overflowing armenians azerbaijanis whose flipped events semashko hospital baku days released found parents dead first told moscow treated later found dead father older brother told father name nikolai artemovich danielian born mother born seda osipovna danielian papa worked leader roofing brigade mamma compressor operator also beaten head coroner report stated heads smashed open bled profusely confrontation jeykhun mamedov called turned later tipped crowd called specifically find home find exact address dispatch group knew phone number know address events never seen often spoken phone would speak father knew name denies answered phone saying father answered denies called public phone saying called home also true heard noise sounds automobiles later found earlier convicted never served time received suspended sentence years know since confessed sure tipped crowd hundred percent sure parents karabagh father village badar years family moved baku elder brothers school student naval school never graduated went work virgin lands gigantic agricultural projects instituted khrushchev returned lived baku later moved sumgait helping town construction mamma village dagdagan also karabagh worked sumgait first bookstore later construction site sister older lives husband karabagh always loved parents went grade dream would continue studies finished grade wanted enter baku nautical school military school later changed mind rather parents recon sider saying would better finish grade join naval school planning navy almost whole life long since childhood dreamed sailor father wanted anything always recollected youth telling school always said made mistake leaving live karabagh never plan leave stay home grandfather ancestors till days hospital baku learned fates many others suffered well like ishkhan trdatov managed hold residence microdistrict building apartment long time lost father gabriel miracle managed survive also learned uncle sasha building whose daughter raped besides valery forgot last name hospital year younger went school riding parents people throwing rocks parents brought hospital ward even came friends seen around town hospital know another better learned fates others died befallen misfortune today suren harutunian first secretary communist party armenia shown television honest glad armenia agreed recognize nagorno karabagh part armenian soviet socialist republic repelled revolted hear baku announcer read decision azerbaijani supreme soviet presidium karabagh becoming part armenia events sumgait baku best solution give karabagh armenia return armenia since people want live peacefully azerbaijanis everything right arrived karabagh april felt constant headaches strength returned older sister suzanna took think justice prevail people demanding take away parents often spoke nagorno karabagh often visited spent almost vacations even decided karabagh would made part armenia would move sure always said armenian people suffered much done removing nagorno karabagh armenia wrong sooner later mistakes corrected order correct mistake must repeated fate nagorno karabagh lies hands government june stepanakert',\n",
       " 'folks anybody know good compiler supports microsoft windows maybe windows thanx',\n",
       " 'good deal healthy deeply thought idealism deleted parent company business face earth vulnerable govt sanctions stopped first imho years nobody colonists dependent earth pull eventually history shows exactly mean terrorism start international incident dream come true crack eggs make omelet sounds fairly irresponsible binds much stronger space colonists immigrants gone even intrepid asian explorers crossed bering land bridge carry backs keep dream alive maybe dream little cogently',\n",
       " 'announced turkish president ozal died heart attack ankara',\n",
       " 'sale model husqvarna enduro model year engine four stroke extras ignition easy starting suspension aftershock custom carbon fiber kevlar skid plate quick steering geometry stock legal quiet exhaust system bark busters hand guards motion clutch cable price contact denis concordel mail denis apldbio mabell work home selling trusty husky hopefully husaberg good dirt bike maintained perfectly never problems four stroke valves liquid cooled engine heavier stroke still lighter honda better suspension ohlins shock husky fork casual competitive rider engine much better stroke easily hills blast trails minimum gear changes ignition carefully tuned carburation makes bike easy start starts first kick cold custom made carbon kevlar light pound wrap around skid plate protect engine cases water pump steering angle reduced degree increase steering quickness suspension tune phil douglas aftershock multiple time isde rider gives better ride bike plush suspension responsive steering head shake',\n",
       " 'older style fans remind house ventilator cylindrical drum instead bladed rotor usually anyway makes loud buzzing noise vibration somewheres remove screws loosen front back quiets assume housing goofy thing touching back case vibrating anyway suggestions replacement fans stealth experiences welcome',\n",
       " 'want sell mazda excellent working condition passed inspection roof marks body contact soon kohli umass',\n",
       " 'regal interested buying fiberglass hood trunk bumpers anybody know company makes fiberglass parts regals thanks advance',\n",
       " 'lines must making progress ironic note deleted lines emacs continually gave message garbage collecting done think trying tell something lurkers join time know ahhh talk politics guns kindler gentler newsgroup would thought remind shrapnel consider reasonable space limitation make mistake blowing hazard nearby next lane range point distance level threat draw line endangerment others restriction possibility shot hence draw mile restriction nuke draw mile restriction suffer fundamental flaw restrict based upon instrument rather placing responsibility usage squarely upon shoulders user perhaps metzenbaum declaring barrett light fifty assault rifle made apparent since barrett range acurracy going disagree grounds house rebuilt much easily family died assume word would citizens attack planned case tactical strategic implications change quite personally home worth twenty martians intent taking world family balancing hard judge sitting desk seems case already given heavy weapons commonly owned citizenry numbers obviously cost think superior weapons going great effect numerically superior furthermore even doubtful training includes proper tactical movements best utilize tanks whereas commonly rifleman hampered effectiveness envisioned armorer perhaps officers select group like would exercise control heavier complex weapons owns sherman tank certainly give follow orders officers since expense tank large though chances would jointly purchased therefore jointly maintained operated agree point state control heavy weapons justification state centrally located keep spread ability state lock easy otherwise would assume state control would rest authority governor militia officers hard time seeing heavy weapons fairly numbers could easily wielded people government support argued weapons divvied democratic control side situation alleviated select militia holding weapons unorganized militia infantry think better called would argue federal army rely upon select militia unorganized militia bulk infantry units assume would would side government controlled forces equipment infantry force size would trouble like heavy stuff tanks offset local troups anti tank weapons armory would much useful infantry tank would cost training requirements figured suppose quibbling constitutes heavy equipment would resources often available outfit local units well enough thus certainly call others mechanized unit carries stuff faster anything else perhaps ideas heavy weapons different think main battle tanks self propelled artillery field pieces heavy stuff troop carriers trucks humvee tanks howitzers stuff mechanized infantry actually guard units iowa currently fielding units perhaps innate fear real heavy equipment state control little numbers light stuff deterrent allowing main battle tanks states balanced anti tank capability local ranks similarly local units would need band together quickly hence small fast response means mechanized infantry finally militia fighting equipment needed responses federal army convinced minumum infantry relying state local militias functions',\n",
       " 'recapitulate essence marriage people commitment people claim married hearts willing marriage recognized church state prima facie evidence commitment really obvious situations christian marriage possible without civil church wedding stranded desert island state forbids marriage unjust reason laws interracial marriage legal concept common marriage meant ensure state recognize marriages start usual ceremony record keeping pastorally concerned people married eyes excuse living together without formal wedding duty marriage properly recorded witnessed also people wedding ceremony without making genuine commitment therefore married eyes right michael covington associate research scientist artificial intelligence programs mcovingt university georgia phone athens georgia amateur radio',\n",
       " 'ground launch entirely posible launch altitude shuttle originally intended might seriously cheaper also engineered absorbing plants instead many bottles stick lunar cave airlock door',\n",
       " 'oddly enough smithsonian calls lindbergh years golden flight would call granite years reflecting primitive nature romantic swashbuckling daredevils daring young flying machines reality sucked death highly likely occurence environment blew ever early navy pressure suits modified diving suits ready star plan outer space radios aids joke engines castor picked called aviators iron stomachs vertigo oddly enough golden flight shuttle bucks golden mercury gemini apollo romantic honest peeing bags plastic bags glued butt everytime needed bowel movement living days inside romantic commercial points likely golden cigar smoking business loud polyester space suits fill skys strip malls used space ship lots hhhmmmmm maybe retract golden maybe better days course wally schirra telling great grand children walked moon every miles buses kids soft',\n",
       " 'make sure everyone clear never refers protects fails protect lifetime never seen government consistently protect interest citizens except accident',\n",
       " 'steve israelis stupid enough allow second palestinian state first jordon probably wish israelis would coming however palestinians somehow demonstrate could govern live peace jewish neighbors would give idea jerusalem part state would disappointed yashir koach',\n",
       " '',\n",
       " 'please leave heaven sake pray take literally intended taken view many groups appears correct point view however found group truly meeting requirements laid bible means disciple jesus clue please mail really like touch insert deletion ranting religions obviously gone center original context familiar point though want turn everything disciple clue taught done exactly turned everything follow jesus blocked difficult doctrine taught uncaring pharisees teachers however jesus pointed takes follow disciple luke luke question people ignore command treat optional certainly answer insert deletion parents nothing everything attacking responses must disagree tone appears judgmental statements possibly point slander talking people please response state instead flying handle discourse nothing truly discussed sure would much happier time responses',\n",
       " 'usually enough places stuff happen think',\n",
       " 'understanding expected errors basically known bugs warning system software things checked right values till launch suchlike rather code possibly introduce bugs tell crew warning liftoff ignore good grief thought shuttle software known well engineered actually case every member programming team taken shot given heard shuttle software rated level maturity strongly doubt case',\n",
       " 'kratz mean gang member even gang infested areas residents gang members obvious trying target kratz confuse marksmanship trying simulate post excludes self defense shooting rest understand exclusion would error excludes legit games well sounds like practical pistol maybe ipsc also sounds like self defense shooter might well practice things action excludes hunting like post shooting kratz often andy',\n",
       " 'circuit cellar park suite vernon',\n",
       " 'hello looking good scanners gray scale color connected compatibles also automatic tray feeding must somebody point good scanners things look purchasing scanner want hand held scanners preliminary requirements dithering half toning various patterns drivers windows standard file formats automatic feed anything comparative survery byte issue please mail summerize satam satam saathi ernet kirtikumar satam satam saathi ncst ernet scientist network division national center software technology juhu bombay',\n",
       " 'sorry virtually impossible division talent games would amend definition underdog team expected lose wins thanks underestimated talent',\n",
       " 'depends nature rounding allows user arithmetic pixel values foreground backgroun pixel values together calculate foreground color used function gxxor fill change foreground background vice versa rounding preserve types calculations clients break',\n",
       " 'noel made attempts write converter reads adobe type fonts triangulates bevelizes extrudes result generic object could used problem currently stuck theres algorithm triangulates arbitrary polygonal shape delaunay seems limited convex hulls constrained delaunay okay code example another bartman selfmade variation using heightfields create picture text need using postscript previewer heightfield white black heightfield exactly images white parts still open backside close mirror compound original example object union height field height field scale texture glass translate center rotate rotate upwards scale scale bigger thicker translate final placement arbitrary size containing black white times roman points',\n",
       " 'clipper trademark intergraph risc chip used thier workstations wonder intergraph going infringement thier name sake',\n",
       " 'need shrink wanted kill depressed people succesfully treated usually gordon banks skepticism chastity intellect cadre pitt shameful surrender soon',\n",
       " 'archive name space probes last modified date upcoming planetary probes missions schedules information upcoming currently active missions mentioned would welcome sources nasa fact sheets cassini mission design team isas nasda launch schedules press kits asuka astro isas japan astronomy satellite launched earth orbit equipped large area wide wavelength angstrom telescope cameras imaging scintillation proportional counters cassini saturn orbiter titan atmosphere probe cassini joint nasa project designed accomplish exploration saturnian system cassini saturn orbiter huygens titan probe cassini scheduled launch aboard titan centaur october gravity assists venus earth jupiter vvejga trajectory spacecraft arrive saturn june upon arrival cassini spacecraft performs several maneuvers achieve orbit around saturn near initial orbit huygens probe separates orbiter descends atmosphere titan orbiter relays probe data earth hours probe enters traverses cloudy atmosphere surface completion probe mission orbiter continues touring saturnian system three half years titan synchronous orbit trajectories allow flybys titan targeted flybys iapetus dione enceladus objectives mission threefold conduct detailed studies saturn atmosphere rings magnetosphere conduct close studies saturn satellites characterize titan atmosphere surface intriguing aspects titan possibility surface covered part lakes liquid hydrocarbons result photochemical processes upper atmosphere hydrocarbons condense form global smog layer eventually rain onto surface cassini orbiter onboard radar peer titan clouds determine liquid surface experiments aboard orbiter entry probe investigate chemical processes produce unique atmosphere cassini mission named jean dominique cassini first director paris observatory discovered several saturn satellites major division rings titan atmospheric entry probe named dutch physicist christiaan huygens discovered titan first described true nature saturn rings scheduled dates cassini mission vvejga trajectory titan centaur launch venus gravity assist venus gravity assist earth gravity assist jupiter gravity assist saturn arrival titan probe release titan probe entry primary mission schedule last updated galileo jupiter orbiter atmosphere probe transit returned first resolved images asteroid gaspra transit jupiter efforts unfurl stuck high gain antenna essentially abandoned developed backup plan using data compression jpeg like images lossless compression data instruments allow mission achieve approximately original objectives galileo schedule launch space shuttle venus flyby venus data playback earth flyby high gain antenna unfurled asteroid belt passage asteroid gaspra flyby earth flyby asteroid belt passage asteroid flyby probe separation orbiter deflection maneuver orbital tour jovian moons jupiter encounter ganymede ganymede callisto europa ganymede europa europa jupiter magnetotail exploration hiten japanese isas lunar probe launched made multiple lunar flybys released hagoromo smaller satellite lunar orbit mission made japan third nation orbit satellite around moon magellan venus radar mapping mission mapped almost entire surface high resolution currently collecting global gravity mars observer mars orbiter including pixel resolution camera launched titan booster currently transit mars arriving operations start martian year days topex poseidon joint french earth observing satellite launched ariane booster primary objective topex poseidon project make precise accurate global observations level several years substantially increasing understanding global ocean dynamics satellite also increase understanding heat transported ocean ulysses european space agency probe study orbit poles launched late carries particles fields experiments magnetometer electron collectors various energy ranges plasma wave radio receivers camera since human built rocket hefty enough send ulysses ecliptic plane went jupiter instead stole energy planet sliding jupiter north pole gravity assist manuver february bent path solar orbit tilted degrees ecliptic pass south pole summer aphelion surprisingly perihelion right solar studies spacecraft always earth jupiter neigborhood ulysses studied magnetic radiation environment short summary results science september gory technical detail many articles issue space science missions note based posting baalke isas nasda information contributed yoshiro yamada yamada yscvax attempting track changes based updated shuttle manifests corrections updates welcome missions alexis spring pegasus alexis array energy imaging sensors perform wide field survey soft energy spectrum scan entire every months search variations soft emission sources white dwarfs cataclysmic variable stars flare stars also search nearby space exotic objects isolated neutron stars gamma bursters alexis project alamos national laboratory primarily technology development mission uses astrophysical sources demonstrate technology contact project investigator jeffrey bloch beta lanl information wind delta rocket satellite measure solar wind input magnetosphere space radar gather radar images earth surface total ozone mapping spectrometer pegasus rocket study stratospheric ozone space flyer unit isas conducting space experiments observations recovered conducts various scientific engineering experiments launched isas retrieved space shuttle polar auroral plasma physics delta rocket june measure solar wind ions gases surrounding earth nasda international microgravity laboratory adeos nasda advanced earth observing satellite muses space engineering satellite isas conducting research precise mechanism space structure space astronomical observations electromagnetic waves lunar isas elucidating crust structure thermal construction moon interior proposed missions advanced astronomy facility axaf possible launch shuttle axaf space observatory high resolution telescope would orbit years study mysteries fate universe earth observing system possible launch orbiting space platforms provide long term data years earth systems science including planetary evolution mercury observer possible launch lunar observer possible launch would sent long term lunar orbit observer miles moon poles would survey characteristics provide global context results apollo program space infrared telescope facility possible launch shuttle element great observatories program free flying observatory lifetime years would observe comets primitive bodies outer solar system study cosmic birth formation galaxies stars planets distant infrared emitting galaxies mars rover sample return mrsr robotics rover would return samples mars atmosphere surface earch analysis possible launch dates imaging orbiter rover fire possible launch gravity assist flyby earth final gravity assist jupiter probe split fire components fire probe journey taking measurements star upper atmosphere vaporized intense heat probe head towards pluto reaching tiny world study',\n",
       " 'claim system objective',\n",
       " 'study asked engaged homosexual intercourse within last years whereas kinsey asked ever engaged thought engaging homosexual activity sort like difference yogurt morning allergic lactose michal',\n",
       " 'lets youve grid hexagons total rows means hexagons line lined underneath second line lined underneath third line lined neath fourht problem given center arbritrary hexagon line arbritrary slope hexagons line cross line necessarily cross center hexagon even tangent count helpers friend baffeled trying figure',\n",
       " 'interesting opinion piece business section today times thursday april thought post stir flame wars mean reasoned debate preface saying largely agree space romantic sense several decades projects like space station miss point time reading example weekly physics update clear romance lies ever fine grained manipulation matter include biotechnology condensed matter physics spinoffs computer hardware elsewhere amazing things people individual atoms days large extent think romance people still space matter nostalgia feel sure someday precisely mind children spread across space unless wipe think manned space exploration exciting anyway quote article space glory fades view micheal schrage writer consultant research associate america space suffer angst midlife crisis reason space already dead technologies longer define times public grown weary multibillion dollar celestial investments yield minimal psychic economic rewards space exploration mutated central focuse america science technology debate peripheral issue speace meaningful part ongoing industrial competitiveness debate technology infrastructure discussions even defense conversion policy sure america continue invest satellite technologies telecommunications remote sensing cheap deep space probes would nice ideal space meaningful driver scientific industrial innovation dead change administrations would foolish write obituary space bush white house aggressively supported space program proposed spending well billion build space station freedom alone even proposed budget cuts science technology domains office management budget director richard darman outspoken public champion ticket space expenditures reality much civilian space program shuttle hubble telescope space station poorly conceived unimpressively implemented seem matter much political inertia nostalgic sense futurism coherent vision cost effective sensibilities determined multibillion dollar space budgets indeed notable exceptions voyager post apollo story gold plated porkification space exploration programs promises delivered less clinton administration kept highly regarded daniel goldin administrator national aeronautics space administration seems clear space exploration positioned either symbolic substantive centerpiece america technological prowess space station budget rightly slashed space virtually ignored administration champions competitiveness agenda',\n",
       " 'according angeles police department illegal manufacture three primary sources machine guns submachine guns used crimes sumggling theft police military washington police stated remembering figure correctly guns conficate illegally built takes hours tools make least reasonable quality unless drug dealer enjoyes messing around lathe hobby going someone anyway materials plus hours machinist time something legal would blackmarket prices guns usually range least seen cited newspaper articles washington total handguns prohibits assembled rifles within city limits homicide rate almost times national average also illegal resident drive virginia maryland suburbs dealers required federal check make sure buyer another state easily side stepped sure would write fact people write years likely would find friend particularly good programer give copy software example case many people know illegal copies word processors people want something available affordable legally usually illegally quite formula around half million years going restrict sales sulpher charcoal saltpeter alot cruder modern smokless powder works well real problems reduction energy magnum would deadly makes alot smoke course smart black marketeer could make steal ammunition police police often corruptable things known disappear police evidence rooms armories reappear streets perhaps watching news years serbs also tried invade slovinia driven weeks partisans armed home made anti tank weapons afghan rebels frequently made rifles',\n",
       " 'interesting statement quite difference hollywood west real drunks saloons mining camps thugs however mcgrath showed thugs preyed almost exclusively another mcgrath claims fact much cared someone insisted getting fight even lost really care thugs preyed others figured distinctions actually work machine guns strictly regulated since said regulation perfect legally owned machine guns ever used criminally complete waste time criminal machine guns change result arguing guns look like machine guns different guns andy',\n",
       " 'lucky found jacket liked actually fits makes pilot jackets mine similar style made leather jose bought last ever made finding decent womens motorcycling gear easy stuff fringed everywhere made fashion leather made know shop area women rider friendly places francisco jose area recommend buying clothing mail order hard tell bates custom makes leathers might want call cost estimate type jacket wife interested large manufacturers like sell women lines clothing decent quality iffy noemi lisa sieverts talking starting business sort thing know finally decided beth',\n",
       " 'sunlight shining ocean',\n",
       " '',\n",
       " 'crullerian crullerian photography educational except purely satiric sense crullerian photography involves putting donuts grease covered metal plates illuminating krypton stroboscope unique iteration involving dimensional projection torus semi stochastic interactions monomolecular lipid layers covering metal plates best metal iron since repels vampires succubi donuts start developing flutes within moments actually become poly crenellated greasy breadtubes people believe food heart psychics agree nothing like crullers breakfast chemical composition crullers mystery thought evidence charles fort channeling stevie wonder production secret life plants played backwards theatre unnaturally fertile findhorn farms deduced complex carbohydrates ordinarily found spectoscopy magellenic clouds called devi orgone asked really case levitated letter across atlantic tell indeed another case misunderstanding tesla though miskatonic university confirmed anything least crullers taste good recipe kaspar hauser',\n",
       " '',\n",
       " 'like rinstance bought system november first second third tier vendor could touch price hardware software combination selling many systems fast four five pissed customers four five ecstatic ones lots satisfied ones minimize mail order good thing know replacements parts questions asked fedex vast majority cases remember people tails curve motivated write ones love ones hate hear folks middle often',\n",
       " 'anybody food dehydrators seeing late night recently wondering forced heat heat involved anybody know temperature wife would like inclined heater seems able throw dehydrator together bucks heck technology years',\n",
       " 'speech pete worden delivered space foundation conference colorado springs colorado april delightful opportunity cause trouble providing forum would sincerely like thank space foundation topic today single stage rocket technology rocket ssrt intend speak lower cost make rapid progress ssrt mind hope convince erupting rallying generation space faster cheaper better faster cheaper better ssrt represent passing torch technical generation another thing sure also relearning things past masters rolled ssrt baby weeks called experts told violates laws physics made sense example eberhart rachtin former president aerospace corp said ssrt times defies best principles launching payloads space well rachtin made principles ssrt defies well tell violates principle need giant program office build space hardware violates fact takes years build something violates truism cant anything significant less many billions dollars took last generation experts teach lessons werhner braun first rocket saturn general schriever icbm take years demonstrate airplane cost billion took great engineers remind truths hunter remind senior engineer thor irbm program faster better cheaper success story persistent vision single stage reusable space launch system since knew done affordable steps build little test little next persuaded technology demonstration solicit bunch requirements change every years anyway included speech ephemeral requirements would better known shape shifter space lifter spend money rocket cost million last time even built airplane take time build mcdonnell douglas completed months finally government program office consisted worked force major motivated part threat ride strapped lawn chair cost schedule described ssrt keep mind first step several steps steps easily fail field ssto step follow principles small management team years technology demonstration modest budget show details ssrt might evolve charts embarrassed generation compared last generation giants last great space went moon built telescope straight soft landed mars least could soft land earth answer follow build little test little philosophy produce truly affordable routine access space know sayers among ssrt stunt needs thermal protection engines wrong would better land horizontally white sands june bring view graphs bring rocketship next step included speech fail still program offices staff summary sheets requirement analyses decade long programs',\n",
       " 'well provided examples show trend general others provided counterexamples mostly ones surrounding mating practices think cases enough disprove general trend natural morality mating practices need reexamined mating practices special case think indeed natural system objective objective systems natural terms equated natural system subset objective ones claim homosexuality immoral harmful although helpful either mating process homosexuality observed animal kingdom mean bisexuality standard jargon read textbook forms used throughout right goals inherent could would contradict observations postulate something generally always found true think postulate would valid think goals survival happiness work think good goals',\n",
       " 'first promotes dissolution jews intermarriage process says bunch fundamentalist jews object clown even called buying dissolution jewish people idiot mean suggest objects imibicilic notion like fundamentalist simply mean insult orthodox using word fundamentalist orthodox fundamentalist would desire genuine peace region pinhead davidsson ever understand shows willingness dismiss entire culture proves thing brain boggling stupidity willingness display stupidity newsgroup',\n",
       " 'jeffrey hundstad mankato msus switch settings trident graphics adapter layout dram graphics adapter layout dram graphics adapter layout dram switches connector analog monitors connector monitors note jumers layouts layout video bios basic input ouput system tvga chip graphics chip edge connector compatible systems video dram feature connector special applications video jumper blocks board note hardware option feature present board versions switch settings switch figures switch scan rate less default switch fast slow address decode fast address decode default slow address decode switch data path data path default data path jumper settings settings settings size detections autodetect standard interface settings dram configuration dram four dram eight dram dram clock select dram dram',\n",
       " 'could please stop posting stuff general politics sufficient stuff belongs thanks cathy',\n",
       " 'reading debate clipper things first people know activly encryption privately care issues surround debate questions care wether using secure bottom line second look people know form encryption group spans people morons still insist good secure standard people looking trying improve upon existing strategies think anyone would approve blindly strategy leaves methods open abuse clipper people make mistakes nature government made people vulnerable mistakes everyone else third since people know least marginaly familiar vulnerabilities present current software encryption stratigies going blindly trust someone figure good compromise clipper chip despite strengths weaknesses exist high degree confidence developing chip fourth comes criminal abuse sure many stupid people open caught built back door clipper chip however anyone going serious investigation best secure data going problem pretty damned fast would assume start looking around easily obtainible methods encryption nothing else avalible none would issue however truth private encryption users ever simply give damn legal status anything else works going change either think moment anyone serious criminal intent slowed advent clipper chip easy convert encrypted data unintellgible garbage anything clipper chip adds another tool user bottom line people works unavoidibly sure criminals would rather face encryption related charge could potentialy lead death penalty charges case criminals murder part conspiricy thing struck since advent wide useage public encryption begun quite simply interest snooping pandora opened going change seen blindness found utterly stunning clipper chip along presented confirms larger degree sincerly scanlon',\n",
       " 'interesting interpretation revelation given evangelist david wilkerson saying totally agree interpretation certainly believable good food thought interprets babylon revelation none good right america supports claim several ways babylon revelation world leader trade commerce whole world wept babylon fell american dollar despite japanese success century still sought currency world destroyed whole world mourn bible also talks babylon home harlots adultery paraphrasing course babylon affected infected whole world take much looking state moral decay american culture hollywood spread feels good mentality world think though wilkerson uses strongest argument fact revelation calls babylon babylon great portrays powerful nation earth matter dissatisfied state country think would much trouble agreeing still powerful nation earth interpretation necessarily find worthy consideration',\n",
       " 'might familiar insight distribution network multimedia kits seriously considering buying insight talon bundled drive access time multispin multi session photo capability sound card familiar insight know mean believe drive either texel clear actually part bundle least sales people give straight answer drawbacks questions excuse ignorance texel reputable maker market think better drive bottom line worth money currently alternatively thinking might overkill uses however want full multimedia capabilities photo stuff educational programs kids considered lower using difference around something else useful like tape back drive unit basically would like hear actually used kits whatever pros cons might advise preferably directly email address thanks koji',\n",
       " 'looking advice software hardware package making storing processing pictures ideal software would allow cahnge size picture edit means text important would command interface thank advance emanuel marciniak bank york',\n",
       " 'following posted friend send replies address post please attention zenith owners upgrade class machine performance genuine zenith motherboard clone price motherboard card right case keeping existing video disk controllers zenith motherboard featuring layer posted write cache using sram dram included accepts motherboard upgrades available superslots running memory speeds expansion slots feature zenith superslots autodetects adapters latest setup monitor roms serial ports parallel port secondary improved system cooling user guide maintenance guide diagnostics disk included includes insurance replies stann replies forwarded thanks brian',\n",
       " 'course criminal hang around criminals flash large wads cash wilder parts town utter verbal bigotry right public places chances shot much higher avoiding behaviors hand decreases chances shot something like murders criminals killing criminals murders committed people prior known history violence simplistic moral suitable three year inane posters people things repeatedly',\n",
       " 'heat tops cold hearted bastard list unbelievable countries morals sunk death innocent people callously viewed handheld',\n",
       " 'reply dabbott augean eleceng adelaide derek abbott know patient severely chronically depressed tried kill bullet temple essentially gave prefrontal lobotomy curing depression',\n",
       " 'error need diff standard console console supplied symantec think specially modified works macpgp added diffs signature file macpgp srcsignature grady netcom please download anonymous using oops cutting pasting geniuses please port macapp appmaker grady',\n",
       " 'howdy little newsgroup would like knowledge expertise available subject market cruise controls background recently broke ankle road bicycling accident places five screws weeks returning texas home school provo utah imagine trying drive nearly miles broken right ankle epitome good time cruise control would pedalling messed ankle question general opinion market cruise control units realize cheap cruise control boys going good factory professionally installed unit thing uderstand probably expect much accuracy looks sort thing anything gotta better trying drive hosed ankle jeep cherokee speed standard engine kettering ignition know distributor rotor electronic maybe could guessed trying give information completly found unit bucks seems vehicles vacuum system instead electric servor motor good vacuum hose speed sensors magnetic gets signal negative side distributor kinda like tach pick understand either best manual says read store today magnetic axle accurate harder install really difference sensor brake pedal like sensor clutch pedal paying real close attention might push clutch cruise trying speed would wind engine kinda high wits turned thing pretty coordinated bother girlfriends would bother installation also calls attachment steady brake signal switched brake signal think switched brake signal correct side brake light blade fuse right sure steady brake signal matter exactly ideas manufaturer wants think figure things like hook negative side tach type sensing gizmo cabin control unit ground miscellaneous business need little help worth money safety risk device particularly good market professionally installed signifacantly better worth cabbage unit sorry manufacturer model number sufficient simple needs thing installed properly specifically questions father built veep volkswagen powered jeep high school consider fairly good tools electronics cars installation scare want certain thing installed correctly cherokee complicated veep appreciate time reading post would appreciate expertise opinion anybody subject would like share wisdom please email group often check mail time thanks help anyone',\n",
       " 'could someone please post info systems thanks robert novitskey pursuing women similar banging head cwru wall less opportunity reward',\n",
       " 'greyhound apparently gotten around installing radar collision prevention system radar monitor close vehicles fast relative speeds signals warning driver coming something fast getting close remember news reports months back time talking possibility installing system mention worked bumper bumper traffic discriminated camaro approaching olde bridge support median approached curve recall something progressive stages warnings flashing lights audible warnings goes close light hysterically screaming going james',\n",
       " 'name rahul logan query workstation series running true color color monitor connected machine normally capability display colors million since monitor true color million time facility function call enable specify combination screen using xstorecolor pallette colors display true color image true color monitor using xlib function calls generating traced images colors indeed painful limit besides need facility display true color images generating true color system without color quantification please anyone help obliged',\n",
       " 'hello read first newspaper noticed article messianic cult leader named david koresh like know going please email normally read newsgroup thanks',\n",
       " 'cheaper fuel space based sources cheaper reach orbits ground also remember presence repair supply facility adds value space around satellite orbit reached ready source supply make cheaper gain benefit economies scale allen',\n",
       " 'realize course inevitably anal retentive moron going come along fingers jowls outrage personal politics important smcap bold font smcap bold font irrelevant problem windows came system disks hate using disks copied high density using xcopy worked fine fact changing configurations whatnot much decided putting hard disk copy disk directory want simply copy directory makes nicer switching printer emulations around norton much experience friend system crashed restored backup rather originals worked fine would imply norton would create workable backup full install first time whole thing never played windows anything utah good luck disclaimer copy floppy respect elders wages death hefty legal bill offend',\n",
       " 'trident tvga video card need updated drivers site thanks',\n",
       " 'woops sport hockey sport golf hope check newsgroup header next time posting steve',\n",
       " 'ssrt rollout speech delivered simon worden deputy technology sdio mcdonnell douglas huntington beach april children grew miracles inter continental ballistic missiles nuclear energy computers flights moon miracles parent decade pundits told lost generation living accomplishments past even begun believe pessimists listen past generation tells triumphs living history privileged hear tell weeks team listened general bernie schriever told team work struggle build nation intercontinental ballistic missile stories tell blurry eyed telescopes thousand dollar toilet seats even space launch vehicles hearken past great time seem destined remain schriever icbms find hard swell pride best space lifter idea refurbish minuteman poseidon ballistic missiles well pessimists wrong legacy continuing event proof technological parents listened stories caught enthusiasm spirit learned achievements mistakes honor part history impetus behind history hunter greatest engineers firts great space exploration insight discipline built thor icbm later incorporated today successful launch vehicle delta told form launch vehicle single stage reusable rocket built advocated idea tirelessly elegantly simple great breakthroughs showed build convinced could done working side weld components place important reminded prime engineering principle undoubtably learned generation generation built transcontinental aviation build little test little passed people like ladner started program douglas aircraft start even start grandfathers built little tested little even sold little made little money moved next step take decade putting first rubber road hunter take years build thor going take years show cost single stage reusable aerospace transportation real ended cold short years took team today years show strategic defense initiative cold must launched series satellites delta experiments year apiece anything else signaled commitment impasse soviet union made decisions sides underscored importance work bringing international relationship team putting place framework aerospace expansion legacy next generation make space access routine affordable built magnificent flying machine years summer true rocket ship take land earth first time surely build next three years reusable orbital rocket allow space rapidly affordably efficiently nation make little money spend another three years build fully reusable single stage orbit system space reality even able rocket propulsion breakthroughs former cold adversaries wonderful irony product russian efforts counter merge power mankind next step stars sure must guard temptations leap final answer robert goddard first rockets saturn succumb temptation extra dollars years jump immediately full orbital system fail hunter colleagues showed three years cloud dust case rocket exhausts short expect reshape world must brick time minds tasks hand',\n",
       " 'jammer geen fantastische advertentie rolexen maar evenzo duidelijke mededeling hieromtrent aangezien alleen aanbieden deze horloges onder vermelding echte merknaam niet geheel correct bericht duidelijk maken marcel engelbertink niet meer adverteren imitatie horloges merk rolex enig persoon hierin geiinteresseerd jammer genoeg niet meer helpen foreign people even understand dutch spite earlier mailing fake rolex announce information available longer trade name rolex anymore fake models fakefully',\n",
       " 'bill burns looking description differnces catholic lutheran churches recommend prof william whalen book separated brethren overview common denominations intended catholic audience',\n",
       " 'reference newsgroups comp apps comp misc comp system comp wanted comp hardware comp answers news answers subject introductory macintosh frequently asked questions',\n",
       " 'well inch interlacing year brand monitor bullet pressed power switch seconds later power light went gawd half years long would normal monitors last think problem monitor power switch image getting pretty anyway needed contrast screen flicker time time normal hehehe worst luck question fixed save really good cheap monitor rather save money upgrade though thanks',\n",
       " 'thought bill james latest book completely totally sucked bought purchase anything ever without thoroughly looking first tripe book inconsistent filled selective analysis james claims looking forward makes absolutely bizarre statements value impression probably glanced book hour name disappointed grand understatement',\n",
       " 'kratz know know kratz understand safety supposed also confuses things things exist glocks multiple safeties even though visible outside safety supposed keep going unless user wants glocks says want pulling trigger safeties make work real safety matter kratz thinks andy',\n",
       " 'nobody food industry even bothered address previous question need almost every food must assume wife answer closer truth hoped believes added food cause people quit shoud sated different believes people causes toward food like addict chips chow several packages noodle soup idea right moral ethical standards food chemical regulatory groups need addressed considered conditioning substance addictive sort habit forming brings side question mine noticed cats children parent seem fixate particular brand food product within brand brand wondered case preference sort chemical training addiction questions regulate contents food allowed food contain addictive conditioning substances food speak motorola',\n",
       " 'posting friend whose news service fubared usual forward replies want reply directly return path uunet sunfse lmsc lockheed mcfar event handler working buttonpressmask like xtaddeventhandler plot data display buttonpressmask false show mouse position plot data would like able types actions occur left mouse right perhaps middle event handler would look like xtaddeventhandler plot data display left buttonpressmask false show left mouse position plot data xtaddeventhandler plot data display right buttonpressmask false show right mouse position plot data however know make left buttonpressmask seem event mask lists hand although button motionmask looked promising references also mentioned using mask events masks would want case help would appreciated thanks',\n",
       " 'would also great another reason docked could serve server large internal corporate email pinch would also machines instead could couple thought rocketshare dock would mighty powerful dock',\n",
       " 'yesss make proud merkun good thing shot though good texas jeep driver south conroe flipped something really idiotic senseless stretches jeep walks back blocking traffic dallas houston since freeway squeezed single lane says stick finger hand shove sorry throat stared straight ahead unblinking hundred cars honking eventually back jeep face beet anger rest back houston tailed waving honking flipping yelling glad decided shoot',\n",
       " 'parts express dayton ohio also complete line professional arcade buttons joysticks number call number part express dayton ohio love free directory assistance daniel joseph rubin rubin ohio state',\n",
       " 'anyone ever heard food product called space food sticks remember awful things crumbly recall asking third grade teacher miss francisco kept crumbs floating around zero clue seen anything like today space program apollo technology best forgotten jenks nasa space shuttle program office kjenks gothamcity nasa',\n",
       " 'currently process writing number programs sound blaster first voice editor hopefully going available soon soon site anyway next stage midi port enter music play synth remotely problem little info midi port tried using sound blaster freedom project routines however results port locking couple accesses loss note velocity data byte using turbo would grateful info source fragments help berlin summer book seemed information german poor least anyone book could please mail second request help concerns standard file formats file format standard keep secret need know file format instrument bank files roland music files finally anyone source displaying files monitors please help know makes sense',\n",
       " 'might recorder make micro done certain operations windows ability micro accessories window problem runing work good luck',\n",
       " '',\n",
       " 'welcome conservative judiciary think scalia point chance information comes later tough conviced want justice hope governor feeling charitable death texas denied trial dispite evidence inocents swept away reagan revolution',\n",
       " 'archive name space mnemonics last modified date astronomical mnemonics last section posted astro gathered various flurries mnemonic postings astro spectral classification sequence fine girl kiss right sweetheart classic dell astronomical fiasco gonna kill right surely obese balding astronomy found guilty killed many reluctant nonscience students octopus brains favorite gastronomical kitchen menu requires sauce ball astronomers find generally kooky mnemonics really nifty stuff ferocious gorilla kill roomate next saturday flash godzilla kills mothra really surprising grade kills afternoons fermented grapes keep richard nixon smiling backward astronomer forget geocentricity kepler motions reveal nature simplicity astronomy faculty gets killed monday oven baked ants fried gently kept moist retain natural succulence overseas broadcast flash godzilla kills mothra rodan named successor overweight boys girls keep munching bored astronomers find gratification knowing mnemonics bloody astronomy grades kill order planets mercury venus earth terra mars asteroids jupiter saturn uranus neptune pluto earnest mother served nine pizzas mother thoughtfully made jelly sandwich protest erotic mate joyfully satisfies unusual needs passionately easily make jugs serve useful nocturnal purposes early made serve useful noble purposes educated mother showed nine planets eager mother showed nine planets exhausted mother swept planetary nebula voters earn money showing near polls educated mother served nine pizza pies many viscious elephants made john suzy uncle need protection solar mass easily makes jupiter satellites undergo numerous perturbations mein vater erklaert jeden sonntag unsere niedlichen planeten father explains every sunday nine planets verachte einen menschen seinem unglueck punkt never scorn despise person misfortune luck misery period colors spectrum orange yellow green blue indigo violet pronounce name richard york gave battle vain read good book verse galilean satellite jupiter europa ganymede callisto expect cries green cheese embarrass good christians erschrecke guten christen scare good christians saturnian satellites thip miriam enchiladas taste divine recently tell proud mimas enceladus tethys dione rhea titan hyperion iapetus phoebe uranian satellites mauto mispronunciations afflict uranus often angel uriel takes opium miranda ariel umbriel titania oberon note remaining sections appear astro cover material relevance space',\n",
       " 'thing fault would',\n",
       " 'case think viola would made better signing viola younger left handed many left handed starters toronto well agree viola better signing however everyone want lefthanded starters understand lefthanded spot relievers even though usually face righthanded batters lefthanded batters understand people insist lefthanded starters unless park effect yankee stadium batters righthanded righthanded starters platoon advantage often lefthanded starters guess argument lefty starters certain teams vulnerable however probably factor postseason teams seldom juggle starters reason regular season think want best starters regardless whether lefties righties lefthanded starters tend higher righthanded starters precisely managers start inferior lefties perhaps platoon advantage missing something',\n",
       " 'fujitsu uses known interface storage module device older minis used still server models several different speeds think fuji drive rated thats megabits used several companies made couplers interphase texas think market pretty much dried controllers type drive readily available buses though rumor scsi adapter available think designed slower devices words drive pretty much dogmeat cheers corwin',\n",
       " '',\n",
       " 'ajteel dendrite colorado teel writes fine think expose corruption fraud please prevent jury question reassert opening statement indication happened editing always possible would interesting hear responding parties discussion purposes teel noted times care count likely stand court twenty seven eight color glossy pictures stockbridge mass police took evidence arlo guthrie anyone knows alice restaurant aware pleaded guilty littering fined told pick garbage daniel reitman write deed case involved construction conveyance grantees jointly tenants common equal rights interest said land survivor thereof simple hold unto said parties hereto equally jointly tenants common equal rights interest period term lives survivor thereof death',\n",
       " 'sorry missed raymond dahlgren last month virtual reality market manager silicon graphics perhaps help little unfortunately systems used create special effects terminator lawnmower film quality computer graphics rendered software written film frame time frame computer animation films took hours render high parallel processing computer systems thus level graphics would difficult impossible acheive real time frames second depends upon serious advanced application true immersive visualization requires rendering complex visual databases anywhere newly rendered frames second similar requirement traditional flight simulators pilot training frame rate user notices stepping frames move head rapidly around scene motion graphics smooth contiguous thus graphics system must powerful enough sustain high frame rates rendering complex data representations additionally frame rate must constant system renders frames second point frames second next perhaps scene viewing direction simpler visible user heavily distracted medium graphics computer rather focusing data maintain constant frame rate system must able real time unix general support real time operation silicon graphics modified unix kernel multi processor systems able support real time operation bypassing usual unix process priority management schemes uniprocessor systems running unix cannot fundamentally support real time operation sparc series systems even uniprocessor systems like indigo crimson multiprocessor onyx challenge systems support real time operation symmetric multi processing shared memory architecture graphics perspective rendering complex virtual environments requires advanced rendering techniques like texture mapping real time multi sample anti aliasing general purpose graphics systems market today crimson realityengine onyx realityengine systems fully support capabilities anti aliasing particularly important crawling jagged edges aliased polygons unfortunate distraction immersed virtual environment general purpose graphics libraries listed develop applications starting pretty level shelf software packages available going much faster targeted directly application developer popular particular order division redwood city sens sausalito worldtoolkit naval postgraduate school monterey npsnet free gemini technology corp irvine simation series paradigm simulation dallas visionworks audioworks silicon graphics mountain view iris performer others head many list smattering fake space labs menlo park boom virtual technologies stanford cyberglove digital image design york cricket input kaiser electro optics carlsbad helmet displays virtual research sunnyvale flight helmet display virtual reality pleasantville head displays software systems jose modeling software read books market virtual reality pimental texiera virtual mirage artificial reality myron kreuger check newsgroup virtual worlds feel free contact info regards josh',\n",
       " 'complete system sale svga card color tatung monitor floppies watt power supply installed hard drive best offer bits pieces controller card internal baud modem megs simm memory standard card panasonic wide carriage printer brand condition comes plenty ribbons parallel serial ports nice crisp output items beautiful condition fully functional willing provide references needed best offers items snag thanks time ciaran',\n",
       " 'meant defend eric molas find somewhat annoying someone pops atheism tell usually atheistic beliefs certainly christians might annoyed like point things meaning meaning atheistic point view want meaning life make free gifts meaning never quite understood give life meaning actually says exists gives purpose care accept thing digress would truely miserably existance doubt eric endures life enjoyable live like purposefull live something done endeavour make otherwise would terrible probably true remeber almost certainly sees particular illusion want maybe atheist free human person think love choose create begin diverge live forever anyone think either welcome opinion matter tend agree opinion unlike drugs religions normal parts human societies think outlived usefullness evidently quite ordinary normal things proved lethal humanity heard claim quite times anybody know first came shaped hole business might want provide evidence next time make claim like know eric think wise assume less filled abundant life holds certain beliefs johnson said jeeze dull dull genesis',\n",
       " 'foolish thought something fact hitting wakefield kncukle ball otto stuff wonder reggie gave talk instruction rest lineup also suddenly came alive games beastmaster',\n",
       " 'think little inaccurate based feynman account software development process standdown fred basically correct sophisticated tools effort painstaking care right challenger feynman cited software people exemplary compared engine people also noted software people starting feel management pressure corners give much among things software people worked hard things right major flight simulations considered failure simulations nearly flight failure result number major simulation failures could counted hand number flight failures zero fred mentioned elsewhere applies flight software software runs experiments typically mostly together experimenters gets nowhere near level tender loving care none experimenters could afford',\n",
       " 'claim crypto analyist whole good literature subject best people seem publish work rather doubt approach folks brute force sorry implied previous post history things folks find clever ways limiting search bang guess real problem skipjack believe would make publicly available system break wanted charter remember came first published given useful life years think well past point remember based size budget spend technology decryption computer companies spend imagine stuff real interesting friend worked dead said always enjoyed monitoring strategic command crypto traffic rather suspect stuff complex skipjack military stuff like skipjack folks given keys walker case shows systems need either',\n",
       " 'test first reusable tool pointy find stick pants better closer brains',\n",
       " 'last several months threads rbis related topics gotten thinking well predict player rbis using information overall performance number runners scoring position risp bats brock model bill james calculated predicted rbis total bases home runs completely ignores context brock could since context unknown thought take idea starting point look good data comparing home runs risp started team data using data elias picked years could afford could stomach thought increasing elias profits gave years team rbis could year simple least squares data home runs risp correlation significant ridiculously high level feel like good team level started move player level looked players clark ozzie smith carter mattingly hope quite copious free time year badly except equation underpredicts hitter smith fault model could ozzie results years actual predicted carter clark matt smith think make case hope make stronger rbis predicted simply knowing player slugs overall many scoring position comes later harold',\n",
       " 'statement blatantly disgusting free implicit neural activity almost completely ignore sigh amusing watch bigots point fingers imagine bigots believe person meant bean counting trying suggest hispanics beans even monopoly eating beans person seriously promoting obviously tongue cheek must brain somewhere cause fingers type drywid',\n",
       " 'good discussion cryptographically good random number generators check draft ietf security randomness internet draft available local friendly internet drafts repository reasonably source randomness output cryptographic hash function large amount less random data example running slow random enough source random bits bound bits entropy tens hundreds megabytes data modern workstation memory fair amount system timers buffers',\n",
       " 'able operate system take without problems made take know fixed version different possibilities work around easiest easy software status register read high using line lead trouble instantly stops transmission goes high means half byte gerrit',\n",
       " 'hello understand philosophy bears national treasure area sanctuary people enter risk better rare human killed bear bears provoked shot unbear savvy visitors bears population explosion humans better human killed endanger bears agree philosopy understand psychos different national treasure suppose decision made allow provision defense would also allow provision defense bears suppose decided better rare human killed psycho take chance threatening bears personally area would managed reduce safety come think guess live managed wilderness',\n",
       " 'matter interest self promo computer graphics sequence local stations used play quite couple years showed flyover australia west coast east clouds quite recognisable fuzzy flat white mandlebrot sets',\n",
       " 'anarchist nutcase frothed overmuch government proposed secure encryption standard fact come privacy chip rather wiretap chip would happy could done ansi committee picked secure cryptosystem defined protocol interface said start building instead deliberately brain dead version cryptosystem even peer reviewed owns smart people pulled feal well going left phones hands government already gave remember announcement described scheme balancing extremes privacy claiming citizens constitutional right encryption much clinton support right privacy',\n",
       " 'actually started great idea steering column locks became popular saab installed gearshift lock reverse remove stays reverse also suppose thug comes demands keys gunpoint hand gets idea away perhaps shoot anyway heard actually happened somewhere hear saab successor ignition console seats belongs',\n",
       " 'already called senators legislators governor demanding warrants unsealed involved atrocity including president attorney general governor suspended pending investigation seriously doubt however anything ever done welcome amerika',\n",
       " 'wagner audio visual technician malaspina college nanaimo british columbia callsign weapon kentucky rifle snail mail site nanaimo british columbia canada',\n",
       " 'take moment digest sure humour',\n",
       " 'another source poly blitter mode mode sunee uwaterloo also rend even faster renderer extensions',\n",
       " 'trident driver windows anywere mode supported drivers able find windows means wide high opposed help appreciated',\n",
       " 'archive name space math last modified date performing calculations interpreting data formats computing spacecraft orbits trajectories references frequently recommended fundamentals astrodynamics roger bate donald mueller jerry white dover press paperback isbn nasa spaceflight handbooks dating orbital flight handbook parts lunar flight handbook parts planetary flight handbook parts might found university aeronautics libraries ordered govt printing office although information would probably needed order minovitch determination characteristics ballistic interplanetary trajectories influence multiple planetary attractions technical report propulsion laboratory pasadena calif title says starts basics works good companion article minovitch utilizing large planetary perubations design deep space solar probe ecliptic trajectories technical report pasadena calif need read first first realy understand include short summary find second contact availability reports spacecraft attitude dynamics peter hughes john wiley sons celestial mechanics computational guide practitioner lawrence taff wiley interscience york starts basics body problem coordinates works orbit determinations perturbations differential corrections taff also briefly discusses stellar dynamics including short discussion body problems computing planetary positions references flandern pullinen precision formulae planetary positions astrophysical supp series look astronomy physics library also said available willmann bell gives series compute positions accurate minute period years pluto included stated accuracy minutes multiyear interactive computer almanac mica produced naval observatory valid years outside available order macintosh order ntis sales desk believe intended replace usno interactive computer ephemeris interactive computer ephemeris naval observatory distributed floppy disks willmann bell covers dates planetary programs tables bretagnon simon willmann bell floppy disks available separately fundamentals celestial mechanics danby willmann bell good fundamental text includes basic programs companion floppy disks available separately astronomical formulae calculators meeus willmann bell astronomical algorithms meeus willmann bell actively editions astronomical formulae calculators want replace astronomical algorithms book oriented towards computers calculators contains formulae planetary motion based modern work propulsion laboratory naval observatory bureau longitudes previous books based formulae mostly developed last century algorithms available separately diskette practical astronomy calculator duffett smith cambridge university press orbits amateurs microcomputer tattersfield stanley thornes includes example programs basic orbits amateurs tattersfield john wiley sons astronomy scientific software catalog shareware public domain commercial software astronomy software includes planetarium simulations ephemeris generators astronomical databases solar system simulations satellite tracking programs celestial mechanics simulators andromeda software amherst computing crater diameters earth impacting asteroids astrogeologist gene shoemaker proposes following formula based studies cratering caused nuclear tests crater diameter gravity correction factor bodies earth surface gravity target body scaling cited lunar craters hold true bodies correction factor target density alluvium jangle crater site average rock continental shields crater collapse factor craters diameter larger craters earth equivalent empirically determined jangle nuclear test crater delta projectile kinetic energy equivalent given diameter velocity projectile density delta units delta around fairly good asteroid velocity used earth crossing asteroids assumptions body created barringer meteor crater arizona diameter would meters diameter generally gehrels asteroid number objects impact probability impact energy diameter impacts year ergs assuming simple scaling laws note ergs tons equivalent energy released hiroshima bomb references gehrels asteroids comets physics today excellent general overview subject layman shoemaker asteroid comet bombardment earth earth planet long fairly technical comprehensive examination subject shoemaker williams helin wolfe earth crossing asteroids orbital classes collision rates earth origin asteroids gehrels university arizona press tucson cunningham introduction asteroids next frontier richmond willman bell covers aspects asteroid studies excellent introduction subject people experience levels also extensive reference list covering essentially reference material field projections spherical trignometry easy find sources projections encyclopaedia brittanica particularly older volumes tutorial appearing graphics gems academic press latter written simplicity exposition suitability digital computation mind spherical trig formulae also appear digitally plotted examples ever cared know projections john snyder usgs publication projections working manual usgs professional paper contains detailed descriptions projections history features projection formulas spherical earth ellipsoidal earth numerical test cases neat book pages worth might also want companion volume snyder philip voxland album projections usgs professional paper contains less detail projections variants formulas back example plots front pages order ways cheap slow direct usgs earth science information center geological survey national center reston maps quote price tell send money expect week turnaround time much faster week timely discount topos drive suite broomfield call tell want quote price send check usgs customer service counter pick service charge plus shipping perhaps accessible mapping article miller reddy mapping world pascal byte december contains turbo pascal procedures five common projections demo program cartog small point coastline data available compuserve genie many bbss references spherical trignometry spherical astronomy smart cambridge press compendium spherical astronomy newcomb dover spherical astronomy green cambridge press update smart spherical astronomy woolard clemence academic press performing body simulations efficiently computer simulation using particles hockney eastwood adam hilger bristol philadelphia rapid evaluation potential fields particle systems greengard press breakthrough simulation method parallelized greengard rokhlin fast algorithm particle simulations journal computational physics algorithm three dimensional body simulations msee thesis feng zhao ailab technical report galactic dynamics binney tremaine princeton press princeton includes fortran code written aarseth pioneer field hierarchical tree methods described papers appel efficient program many body simulation siam journal scientific statistical computing barnes hierarchical force calculation algorithm nature hernquist hierarchical body methods computer physics communications interpreting fits image format need examine fits images package comp graphics convert preferred format information format software read write astro fits unix ephemeris program edition unix operating system came several software systems distributed older media capacity limitations included ephmeris satellite track speech synthesis software ephmeris available within sites possessing unix source code license program regarded unix source code send proof source code license miya nasa ames research center moffett field eugene orville nasa three dimensional star galaxy coordinates generate coordinates astronomical objects first obtain astronomical database specifies right ascension declination parallax objects convert parallax distance using formula part convert declination coordinates unit sphere references planetary positions spherical trignometry earlier section details scale distance databases useful purpose yale bright star catalog sources listed section catalogue stars within parsecs space stars data stars ames nasa',\n",
       " 'drive cincinnati take look pretty things much better growth went hands georgie pals single dime dammit gonna bled death leeches damage great another thing seems like people columbus drive marysville make japanese cars wonder many american owned companies employ central ohio ohio state university days know wallet',\n",
       " '',\n",
       " 'starting informal poll goalie masks like know mask think looks best always like curtis joseph blues best anyway send nominations post vote mail adress prism gatech thanks time',\n",
       " 'help make money modem takes shipping included price original documentation disks include software unregistered others letter transfer ownership sell software seperately purchase must greater purchases choice software selections footnote windows version version registered letter transfer unregistered special offer windows windows resource bound norton desktop windows excel gateway version docs disks real thing shipped computer microcourier communucations software entertainment pack microprose gunship links includes bountiful golf course wing commander vengeance kilrathi strike eagle risk easyflow brand never used quicken franklin language master spell checker dictionary pops word direct link thesaurus total discount cost call michael leave mail thanks',\n",
       " 'brent feds turned electricity couple weeks perhaps paying attention radio newspapers though',\n",
       " 'well federalist papers propaganda therefore difficult determine precisely maddison certainly emphasised limited role federal government necessarily true position senate less powerful house lords period question stripping powers house lords occur david llloyd george budget even despite house lords considerable power even today rubber stamping body system meant slow react problem ended slow presiden veto meant entirely separate bush abused quite extraordinary manner used accord intent check unreasonable legislation veto clearly regarded completely last gasp measure meant restricted preventing legislature interfering actions executive',\n",
       " 'anything myth heard source trust sure machines computer shopper intel pretty busy pentium right seem introducing competition heard rumor well story differed intel coming tripling clock clone rumor pretty good source designs computer equipment never wrong first time everything hear rumor mill turning winqwk unregistered evaluation copy kmail arbor',\n",
       " 'considering making reasonably large application free distribution probably copylefted going bewildered huge number standards open systems created lived fairly tookit sheltered environment tools produced athena widget intrinsics humble opinion look like crap know however characteristic tookits poor aestetic taste programmers would like look little sculptured like understand however free like tookits getting linux interviews know look impression andrew know looks like either help explain toolkit mess would much obliged free best portable looks nice resource also happen know available linux would help',\n",
       " '',\n",
       " '',\n",
       " 'fairly hard lack power surely make handling great back streets heaps corners fairly light center gravity quite free revving dohc engine driven turbo converted starting perform often thought mazda rotary would well anyone done regards scott scott fisher scott perth local department psychology university western australia perth nedlands perth jaguar flat battery blown seal unsympathetic wife outside small remote town cold winters morning',\n",
       " 'hawks norris sealed fate luck norris hawks sweep blues dreams lose reality predict game blues belfour knees time spend rest time looking behind self butcher pound roenick warthawks tough enough prevent',\n",
       " 'planning buying joystick first time since sold amiga five years idea kind stick many people recommended variety gravis models good best willy',\n",
       " 'writing application running using motif need stuff application quits shut windows session seem send sigterm whatever signal application trapping various signals like therefore thought could signal check level window destroyed however seem destroynotify events whenever move windows check window actually destroyed field check combination events replies mail please summarise thanks help',\n",
       " 'think domestication change behavior large degree domesticated animals exhibit behaviors found wild think viewed good representatives wild animal kingdom since bred thousands years produce certain behaviors',\n",
       " 'yeah corel draw wordperfect presentations pretty limited since really thing decent raster vector conversion program tracing technique simple stuff like logos pretty well complicated stuff goes haywire suspect even though write code good bitmapped vector conversion program would probably application softwares using even come written knowledge mean even hijaak commercial industry standards file conversion attempted',\n",
       " 'years could millions chips networked together sounds like good science fiction story government wants crack foreign whatever messages public individually buying components installing soon could covered largest parallel computer world built current phone',\n",
       " 'trying together vesa local would like cards video scsi heard problem mastering controllers something effect actually slow system anyone heard problem specifically interested ultrastor scsi controller shell bucks thing would like straight scoop someone knows anyone controller problems',\n",
       " 'article yuma acns colostate note measures protect tempest surveillance still classified know think inaccurate tempest equipment commercially even macs sure tempest approved enough money reason look type pricing years tempest rating would raise price radio shack model something around bill',\n",
       " 'computer soundblaster card running microsoft windows driver properly play normal sounds files want play midi files media player included windows know patch maps something midi mapper control panel know nothing midi feet windows play midi files install soundblaster windows drivers correctly latest drivers media player setup play files authored microsoft multimedia midi authoring standard general midi section back voyetra manual soundblaster midi upgrade find midi files exist kinds different mappings expect always sound correct without using kind midi file editor voyetra sequencer plus',\n",
       " 'mentioning nonsense psychology atheism muir asks following question answer affirmative answer might sound little intellectually dishonest think accused heinous crime enough take thinking person time accused politically correct christians besieged group permitted luxury arrogance question world would self respecting atheist want subscribe christian news group difficult enough time keeping think know something subject reminds roommate order disbelieve atheism says need proven wrong well even waste time trying tell take word response tells atheist prayer good luck best regards',\n",
       " 'group group cardiff devils bracknell bees nottingham panthers billingham humberside whitley warriors murrayfield racers fife flyers whitley cardiff devils billingham bombers murrayfield humberside bracknell bees nottingham panthers fife flyers cardiff devils humberside murrayfield racers nottingham bracknell bees whitley fife flyers billingham bracknell bees cardiff devils billingham bombers nottingham whitley humberside fife flyers murrayfield cardiff devils murrayfield racers humberside nottingham panthers whitley billingham bombers bracknell bees fife flyers indicates qualified championship finals relegation promotion relegation promotion basingstoke swindon wildcats sheffield steelers peterborough durham wasps romford raiders slough jets kings basingstoke durham wasps sheffield steelers milton keynes swindon romford raiders milton keynes kings peterborough durham wasps swindon wildcats slough jets sheffield romford basingstoke peterborough slough jets romford durham wasps peterborough sheffield swindon basingstoke milton keynes kings slough jets basingstoke sheffield steelers durham wasps peterborough swindon milton keynes kings romford raiders slough jets',\n",
       " 'shirriff sprite berkeley shirriff message agate berkeley seems likely large subset encrypted communications would archived tape could read sometime future probable cause arises warrant obtained think unlikely data like could used court currently leas install wiretaps large numbers phones record calls without listening post facto obtain warrants listen calls probable cause established strategy stuff admitted court least near term words near tell thing makes evidence inadmissable interception without warrant attempt interpret intercepted without warrant surprised archiving data without consent would interpreted anything analogous wiretap courts note mean think done technically feasible sure many wiretaps done without warrants fish avenues investigate future start surveilance start archiving data trump probable cause decrypt post facto warrant hand investigation gets boost data sadly ever presented jury posting interesting cautionary tale projecting archiving scenario extremes read lacey friends collection stories david drake starts slippery slope archiving everyghing worry folks stored secure repository nobody leas warrants installing cameras major streets nothing already cameras banks teller machines pass laws requiring cameras covering public places private places make crime ever range camera except legally licensed privacy cubicles alone thorough body search still right privacy curtailed rights really think much easier solve crimes situation obtain warrant helmet take walk memory lane nobody tracking need self conscious anything illegal funny though speeding radar detector industry became pretty much thing past somehow elminate crime story somehow politicians exemptions grounds national security rich corporations exemptions execs grounds industrial espionage preservation competition everybody exactly happy system imagine',\n",
       " 'impressive ever came dave kingman infamous moon raker drives',\n",
       " 'disagree mcnall demonstrated gretzky star brings crowds whether team expected well fans real istically expect kings well year although still gretzky marketing strategy selling game selling stars employed baseball notably attitude bettman mcnall leadership bringing league gone record stating trying sell game stars timo salami brett hull perfect examples players real fans know worth damn benificiaries marketing oriented coaching strategies goal totals would indicate casual observer fans wants attract players indeed superstars nearly simple casual think much actually find adult digit believes mcdonalds makes good hamburgers apparently rocket lived marketing responsi bilities hyped initially superstar outside grey game done little maintain enhance assess ment talents argo fans probably feel team would better without cordially always',\n",
       " 'things able salvage junior floppy drives monitor floppies monitor need adaptor cable junior standard cards unless really strapped cash junk thing stuff',\n",
       " 'well might license study guides example advanced class study guide lots lots good electronics theory would imagine books good tony anthony pelliccio read right system garlic went code thhhppptt extra flame retardent sysadmin exactly year calm',\n",
       " 'well quick math part shows bits wide performing transfer every clock cycles provide bytes someone said really takes clock cycles perform transfer reduces transfer rate commonly used figure speed however believe clock transfer possible wait states',\n",
       " 'hudson immoral onesself experience pain hurt maybe unpleasant anything morality violates free hudson hudson making someone less productive member society immoral hudson screwing morality define right wrong also defines acceptable social behavior without overtones good evil picking trash really right wrong moral issue eternal sense good evil moral sense acceptable social behavior definition word morality causing trip since selfish want maximize gains society anything another member society action might much benefit derive society hudson benefit somehow related morality definition causing shoot foot hudson someone feels personal benefit enhanced would damaged depleting overall resources society maybe something might hurt society would help immensly irrational thinking also people think death atomic destruction sublime wonderful thing going execute idea want simply people make minds morals prevent spotting stopping madman hudson even stop interferes life difference want interfere people lives even affecting hudson central character dostoevsky novel crime punishment something reasoned killed jewish woman stole money educate establish financially could make great contribution society reasoned much profit society collected rents hoarded money central points moral system internally consistent killing character accept premise ends justify means accepted premise order consistent must accept idea another person apply standard life unwilling accept premise willing accept behaved inconsistently moral standard football example deleted hudson suppose freshman bench play players field court injured killed freshman wants play game talent scout hurts player team might slightly lessen chances team might gain great personal benefit operating purely selfish immorally selfish motives arranges sniper shoot team player gets play front talent scout freshman behave morally selfish intentions sometimes generate apparently moral actions always problems right problem analogy address goal started winning game playing front talent scout winning game creating analogy keep ultimate goal',\n",
       " 'well apparenly resigned herm winningham contract larry simmons signed contract released buffalo allowing curly gorman circumvent rule resigning free agents clearly neither guys bright enough mike jones high development mjones donald kingston',\n",
       " 'well least damaged bike done someone else property really feel like jerk feel stupid mean cynic want reconsider body work done right away type thing happen wait till used bike well waited whole week take pastic bits take body shop long enough',\n",
       " 'novell least demoing windows apps running unixware others note toolkit windows gives good suite standard unix utilities similar systems vendors well system gives standard unix system calls recompiling unix programs quite thing actually running unix programs directly either case makes almost compatible unix systems many unix systems best free similar system work windows know cost geos windows neither standalone point neither unix requires best unices seen unixware personal edition linux free agree good costs really want check various options available also look desqview desqview cheers',\n",
       " 'thanks tarl neustaedter kindly letting know reference prior post orwell probably huxley brave world sorry',\n",
       " 'opportunity watch flick years since last interested technology demonstrated film handling infectious diseases similar toxic substances clearly faked computer robotic technology certainly time made science fiction alone idea space germ quite coincidentally actually wanted movie watched segment otherwise awful dealing disease researcher description elaborate security measures taken building never cracked speak nature short deliberate bombing perhaps researchers used spacesuits similar film curious people think film short silly facility technically feasible today plot crystalline structure life know whole nother argument arts tech something',\n",
       " 'guys hearing lots talk none many posts actually explain sorry would somebody please explain reply email please thanks andy ajjb adam bnsc',\n",
       " 'apparently microsoft came product braille suppose wytiwig offense',\n",
       " 'well certainly archimedes case description observing phenomena bath seems accurate meditating bath rather buoyancy intense environment',\n",
       " 'bought chip suncoast technology tried build dtmf decoder circuit working anyone pinouts possibly voltage specs sure appreciated someone could email snail mail copy spec sheet chip would even better please email help thanks advance mont pierce',\n",
       " 'creating graphics program using athena widgets xlib routines install custom graphics contex obtaining display window variables xtwindowofobject xtdisplayofobject object widgets problem occurs whenever button pressed menu selected graphic contex reverts orginal tried moving allocation graphic context allocation buttons nothing changed preforming manipulation calling xtappmainloop thank help leslie donaldson',\n",
       " 'boat last year tried four times send email response seem accept mail please know receive cheers nigel',\n",
       " 'instead holding auction decided compute prices comic many suggestions reasonable prices give negotiable would like purchase comic group simply email title issue want price issue shown beside comic first come first served bidding meet price reached email address chopin udel ravel udel bach udel brahms udel haggling price lots comics look list shipping comics price determined volume purchase heavy large orders costs mail bought comics thanks comics near mint unless otherwise noted books graded mile high comics comic professional collectors list incredible hulk another hulk captain marvel double size issue silver surfer thor coastal avengers thing werewolf night copy punisher punisher journal ghost rider ghost rider punisher armory original ghost rider rides reprint ghost rider series johnny blaze copies origin dream ghost rider series print green glow dark cover copy print gold cover glow cover spiderman copies hulk copy left spiderhulk copy left deadly foes spiderman copies amazing spiderman octopus special nacme issue amazing spiderman doom copy left spiderman silver bagged copies wolverine copy left warriors gold cover darkhawk superman steel superman copies adventures superman annual superman annual armegedon action comics avengers west coast hawkeye agent batman robin returns annual armegedon captain america hulk hulk armegedon foolkiller infinity gauntlet double dragon deathlok series transformers last issue wonder flaming carrot ninja turtles comet legend shield justice society america official movie turtles movie sealed jelloman comic robin copies poster print copies guardians galaxy copies copies superman amazing spiderman oversized issue darkhawk copies copies thor juggernaut ghost rider thor loki copies thor annual alpha flight fant mutants last issue look force print copies print gold cover flash annual covers magneto foldout cover uncanny copies sold copy left artist copy left print gold print defenders hulk mariner fantastic four copies wolverine cable copies silver surfer foil cover copy left avengers origin rage factor quasar green lantern copies toxic avenger copies sleepwalker copies kool sealed white copies force bagged cable card bagged shatterstar card superpro strange hawkworld annual print armegedon hawk dove annual armegedon justice league america annual armegedon send bids comments chopin udel thanks comic book collector',\n",
       " 'making mistake confusing drive interface data throughput interface info sheet available sumex stanford info report compare expansion scsi external device expansion interface common allows device hard drive printer scanner nubus card expansion plus monitors apple developed specifications scsi controlers exact controller specifications results added incompatibilities machines main problem external devices internal terminated causes problems devises scsi port scsi chain supposed terminated begining causes problems either scsi devices scsi controller asynchronous synchronous transfer base scsi requires scsi controler chip provide fast scsi wide scsi interfaces scsi scsi devices scsi controller scsi mode scsi fully scsi complient tends implimented fast scsi since needs different controller interface hardware tends expendsive software transfer speeds burst burst burst wide fast scsi scsi mode limited devices reduced fast throughput difference scsi wide scsi ports interfaces limited hard drives design lack development integrated device electronics currently common standard mainly used medium sized drives hard drive asynchronous transfer lowest setting scsi interface asynchronous scsi mode averages maximum asynchronous mode full scsi mode blows poor window street garbage problem becomes drive mechanisim keep rates bottleneck cost scsi comes interface drive mechanisims scsi cost scsi interface self fulliling prophisy people scsi expencive turn convices makes mass producing scsi would reduce cost unwarented scsi expencive effect rule scale items sold less item bare brunt cost manufacture less item cost',\n",
       " 'actually simple person committed crime country within borders time committed matter physical manifestation outside instance hack nasa ames research delete files committed crime united kingdom authorities wish prosecute rather automatic right authorities tried pressure sites holland holland anti cracking legislation viewed hacker system administrators similarly company called television broadcasting pornographic material received britain broadcasting britain would committing crime broadcasting denmark british government powerless anything spite apparent breaking course lawyer could wrong confusingly could right countries others',\n",
       " 'problem floppy drives effort make drive normally drive switched order connections cable serial card floppy controller booted changed cmos settings reflect drive drive drive lights come failure trying read drives switched cables back original positions booted restored original cmos settings lights floppies came process stay long computer disk drive spinning seems disk access norton detect drives detailed information norton tells disk drive anyone offer suggestions desperate need help thank time',\n",
       " 'wife process selecting pediatrician first child june interviewed young doctor last week impressed however discovered actually medical doctor rather doctor osteopathy difference believe pediatrician went many years seem different doctor seen years dictionary says osteopathy medical therapy emphasizes manipulative techniques correcting somatic abnormalities thought cause disease inhibit recovery jeez sounds like chiropractic remember getting shots medicine pediatrician remember manipulative techniques perhaps someone could enlighten real practical difference also interesting hearing opinions choosing pediatrician follows medical philosophy readers please respond directly sbrenner attmail read group regularly probably response post sorry cross posting hoping expertise',\n",
       " 'amir rosenblatt writes zbib writes right mind would sell freedom dignity palestinians exception perhaps heard anti trust business world since debating legality commercial transaction must laws governing guidelines ethics transactions basic anti trust says purchase stocks purpose investing acquire large number shares intent controlling make intentions clear apriori clearly jews purchased properties palastenians designs buying dwelling real estate establishing bridgehead european jews palastenians sold properties jews tradition arab hospitality multi ethnic multi religious society accepting jews neighbours different another religion plus paid fair market value know victims international conspiracy conspiracy theorist hard dismiss amir would categorize sale land shafting sold jews fair assume fallahin would mistreated jews norm commerce read shafting arabs jews claim lebanese syrian landlords sold palestine true even partially omits fact mandate treaty lebanon syria french rule palestine british obiviously landlord would found foreigner palestine would motivated sell regardless price interesting though acknowledge palestinians shafted many israelis jews share opinion absolve purchaser ethical commitments written told answer response question whether intent behind purchase aimed controlling public assets land infra structure imho palestinians grounds contest legality purchase world court',\n",
       " 'next time church check better creed learned first around body without little soul risk offending everybody interject century point view christ descended immediately bosom abraham captives captive preached saved three days drawing back earth expert part matthew says death jesus tombs opened bodies many saints fallen asleep raised coming forth tombs resurrection entered holy city appeared many regarding hell damned speak christ acts although concerning abodes dead want subject brethren anguish direct contact mail genuinely concerned body might something like adam fateful encounter acts trans vulgate filled infused knowledge absent concupiscence immortal would probably little glorified recommend really center earth know normal geothermal gradient regards boundary catechist',\n",
       " 'dmorf dave morph think means dtax dave assembler available msdos uploads directory wuarchive arjed bundled respective xmemory versions dmorfx dtax also find version aaplay view files create dtax downloaded whole bunch last week morphing away afternoons since programmes buggy definitely ready spread masses well written interface frustrating first gets easy figure tricks noticed dmorfx crash horribly morph without using splines option sure since source think written anyone else comes hints getting thing work right tell took several hours first time figure used durned splines would work',\n",
       " 'title suggest okay havne heart doublespace less tight stacker disadvantage advantages comments appreciated',\n",
       " 'latest driver release found cica indiana directory structure checked last nite releases past local card noticed garbage around edges window move anybody else noticed also thomas fisk internet fisk mayo mayo clinic know voice first street going never mail stop rochester',\n",
       " 'doctor gave prescription today something called septra said cause problems sensitive stomach begin anybody ever taken antibiotic good suggestions avoiding upset stomach tips',\n",
       " '',\n",
       " '',\n",
       " 'asked guess bode well cubs',\n",
       " 'punch wrong numbers working many late nites intended stating bytes bios vesa',\n",
       " 'male mallard duck chest like kicked karate instructor accident eyes tearing hard wheezing loudly quite remarkable able come stop rubber side duck lived seemed quite healthy though roadside shook heads minutes bruise went right collar bone belly button regards charles',\n",
       " 'perhaps instead silly argument backup lights agree serve dual purpose letting people behind know reverse also light area behind backing backup lamps current models much brighter used older cars taurus wagon quite bright enough illuminate good area behind much brighter earlier cars insofar vettes side backup lights look model perhaps year earlier side marker lamps white side marker lamps near hindquarters white reflectors',\n",
       " 'think former first baseman mike epstein relation list',\n",
       " 'subject many competing orders point golden dawn outer order tradition inner order roseae rubeae aurae crucis ruby rose gold cross rough translation rosicrucian order derivative groups course real rosicrucians never admit rosicrucian enjoy journey anarthur queer peculiar wyrd',\n",
       " 'dear friend risc means reduced instruction computer risc usually small instruction reduce circuit complex increase clock rate high performance read books computer architecture information risc',\n",
       " 'showing meaningless relatively baseball game overtime game tied less seconds left clock gimme break espn brilliant decisions',\n",
       " 'still concept software sells determine success apparantly dont keep news shown developers others private showings software licensees currently developing software',\n",
       " 'worry masons demonized harrassed almost every major xian church centuries still stand withstand miserable southern boobtists sure even pick little support people start listen boobtists realize subtracting obvious lies claims satanism masons sound pretty good comparison thing known sizable proportion southern babtists masons masons already fired back magazines boobtist witch hunt since consrervatives already divisive element boobtist moderates liberals start mason boobtist brothers hasten downfall southern boobtists realize church stand handful clowns looking holy civil wars purity tests drop leadership positions taken concerned louder ruder outrageous anti masonic crusade goats mount better pocorn center seat circus begin look come clowns pope charles slack',\n",
       " 'sounds like magnavox sick flyback',\n",
       " 'deal nothing want know want know roger need keith keller rangers quakers kkeller mail upenn league champs',\n",
       " 'snip first place death three soldiers patrol occupied lebanese terrritory terrorism murder disingeneous compare death athletes munich terrorism mrder exercise aimed solely diverting issue truth agree death three soldiers patrol terrorism said lets continue snip imagine terrorist camp israelis like view villages small communities kids playing soccer streets women preparing lunch playing cards would argue even villages terrorist camps however come close serving purpose function prior invasion young usually aged years members lebanese resistance even inhabitants village know secretive people often suspect young supported financially iran time sneak arms ammunitions occupied zone booby traps israeli patrols every time israeli soldier killed injured traps israel retalliates indiscriminately bombing villages choosing often killing innocent civilians back announce bombed terrorist hideout year girl happened villages might well among describe large number groups area backed various organizations wide range purposes hizbollah amal larger ones still retaliation mistakes made still indiscriminate bombing would produced major casualties israel retalliation policy cold hearted reality come accept deal lebanese resistance hand going stop attacks occupying israeli soldiers withdraw real leverage force israel withdraw well disagree think israel would willingly withdraw lebanese able field reliable force area police prevent attacks realistic solution time israel realize concept buffer zone aimed protecting northern cities failed fact caused much israeli deaths occasional shelling northern israel would resulted actually clear agree death toll longer civilian primarily military though seems little incentive syrian lebanese goovernment allow hizbollah bomb israel proper circumstances lebanese government proven capable controlling disarming militias parts lebanon syrian happy israel sink another lebanese morass could elaborate necessary agree case isareli soldiers killing cannot qualified murder matter regretable whole situation',\n",
       " 'favorite reply literal minded complaint bible really inspired really important would make damn certain translators scribes people interpreting copying getting right literally merit something corrupted even originally inspired pthe corrupted theory pretty weak comparison pcurrent hebrew text versions translations shows text phas fact changed little space millennia pshouldn suprising people believe text manner pare likely makes pains make good copies',\n",
       " 'paragraphs different posts splicing together intention change steve meaning misrepresent think done part started earlier example illinois requiring anyone automobile transfers year think become licensed used dealer addition requirs anyone used dealer license least cars time time continue example answer steve questions steve talent inclination resell cars either gotten good enough spare time bump limits would like full time stupid arbitrary laws prevent starting small pulling protected hungry neighborhood competitor willing take profit working extra hard fulfill needs protected want life libertarianism offering money truly belongs truly belongs money since sell life truly belongs matters someone thinks wrong sell cars within months rather cars dissaprove life money life money money truly mine belongs perhaps perhaps someone somewhere dissaproves selling presumably buying someone could government insist government make stop government would powerless stop like property abscence fraud agression would powerless stop associating seem utopian dream basic human decency common sense real grass roots example freedom liberty people acting masters approving rejecting basic transactions strike wonderful improve human condition',\n",
       " 'read print reason joystick stuff take time even efficient truth joystick reading slow read directly hardware port note exposes intermittent disturbance interrupts want read twice keep lower results turn interrupts prove detrimental health high speed comms devices example example read joystick port polling hardware port directly uses outp byte port access timeout count counts zero sample reads port presented comments read merging time either joystick connected need optimize routine since runs long joystick circuitry needs written eyal lebedinsky eyal canberra include stdio include stdlib include conio extern readjoy define joyport define xjoy joystick define yjoy joystick define xymask xjoy yjoy define joystick define joystick returns readjoy register count register char temp temp char xymask count outp joyport trigger temp char joyport temp xjoy count temp yjoy count count temp xymask return count main demonstration main',\n",
       " '',\n",
       " 'think mystique buying extra',\n",
       " 'recently thumbing lemon guide found would given recommended picture sentences later noting driver passenger virtually guaranteed killed front collision highly recommended small civic worst crash rating small cars listed many cases great vehicles survive accident safety important factors buying',\n",
       " 'know much bible could tell relations christians christians bible relations christian nations relations christian nations nations christians question concept religion bible religion include necessitate extracted bible religion belief nothing government sides example government nation wrongdoings according bible treated statement bible saying bible guide every aspects life thank',\n",
       " 'true rumor fact three deal eric lindros going ottawa senators senators mill montreal montreal gets alexander daigle first round pick senators philly gets damphousse bellow patrick draft pick',\n",
       " 'wanted create postcript file print laserwriter created postcript file version adobe laser accept adobe resolve problem',\n",
       " 'people stupid breaker cause record people sooooo stuppid first list breaker breaker different record thought people good hockey might great math tell teams ahve points different record retard believe people actually first breaker',\n",
       " 'correct numminen lumme kurri points kurri true game different europe compared north ricans better small rinks europeans large rinks average european player sweden finland russian tsech slovakia better skater puckhandler colleague especially defenders mainly slow clumsy also said finnish league game based skill finland many breakaways defenders average much better skaters also alpo suhonen said speed accentuates clumsy defensemen admit best players come canada regulars skilful regulars best european leagues also europeans level best north americans except lemieux class',\n",
       " 'loved coverage production excellent appearance excellent sleek modern look first time heard thorne clement thought great request leave micheals annoys hoping leads regular season contract guess would roughly weekly game april playoffs envy canadians maybe dish pick canadian much things',\n",
       " 'conner disk model info thing know normally used compaq machines please send information switch settings geometry looks like normal disk possible standard controller michael',\n",
       " 'existence repeated earth lives destiny karma mean everything happens predetermined past deeds oriental view tends direction subscribe view choose individual another instrument plans preclude development individual earthly life result longer course development rudolf steiner subscribe oriental view inexorable mechanistic karma determining everything befalls kind shriveled caricature much greater context deed christ golgotha ultimate salvation freedom human working christ seen master theme indeed impulse completely free karma christ incarnated flesh debt karma oriental concepts reincarnation karma even trivialized mechanized teachings incorrectly assume jesus christ reincarnation master avatar teaching reincarnation karma also concept continuing individuality life next buddhism important concept resurrection body ultimate continuity whole human ultimate resurrection judgement last another biblical passage also bearing tenth chapter john devoted almost entirely born blind clearly jesus tells disciples past karma parents blindness rather impulse revealed note refute disciples question fact matter course question stated self evident possibilities existed either sins obviously incarnation sins parents fact even asked first possibility indicates awareness idea part form christ answer indicates disagree also matthew jesus says straight john baptist care accept elias come also emphasizes gospels positive teaching either reincarnation fact happens human death last even jesus push teaching people ready embrace care accept took care point bible teaches reincarnation deny either much scripture fundamental christian doctrine becomes understandable reincarnation understood right pointedly used repeated earth lives distinguish little oriental doctrines usually associated word reincarnation phrase rudolf steiner wiederholte erdenleben noted idea needed arise insight west completely free eastern tradition eighteenth nineteenth centuries important expression lessing education human race return original point paul statement jacob esau contradict idea repeated earth lives karma principles receive fulfillment incarnation death resurrection ascension return jesus christ view',\n",
       " 'craziest thing ever heard serious take much work moral really people discuss morality daily basis kind evolutionary hangover like little must novel phrase based sufficiently familiar mean based significance argument well would like know particular moral beliefs raise topic never considered quite happy invent moral belief thin',\n",
       " 'research power supplies series currently wired control lines sense fail high margin current monitor list price research asking pair',\n",
       " 'anyone tell find mpeg viewer either windows thanks advance alan jackson mail ajackson',\n",
       " 'rick tocchet captain flyers several years traded pens john santore break surface tension wild kinetic dreams rush grand designs philadelphia flyers john santore jsbh andrew',\n",
       " 'news feed broken received news hours days reply please send private email address esther demand reply line address know work depends upon software generally expect reply cause email sent addition posting probably need something specific vary depending upon news software rate need support much thanks jayne already supporting kind words prayers working company eight years various engineering jobs female yesterday counted realized seven different occasions sexually harrassed company seven times eight years yesterday recent someone left rated photo nude woman desk drawer really upset suppose could worse could sheep something note know someone idea innocent joke went awry someone sick idea flirting emotional terrorism worked dreaded coming back work today boss comes kind question know answer take military specification shelf look answer falls picture sheep generally bible desk occasional inspiration open corinthians find picture north american love association want throw thinking stuff lock desk lock every book office trust someone shove something briefcase coat pocket looking home find picture threat raunchy note someone wants body make worse entire department went lunch yesterday treat marvelous secretary lunch appointed hour leaving working another building wanted lunch returned find ever single person already left lunch left could bothered call building even though number posted came back department looked like neutron bomb gone sole survivor despite fact everyone knew felt naked woman left desk drawer need prayers stop crying deeply wounded ridiculous feel like kind human piece garbage people reduce sisters simply organs feel like human piece garbage worthy simple phone call saying leaving mary lunch little early back meeting please pray resentments either away miraculously turned something positive please pray whoever torturing stop find healing please pray healed latest wound falls whole slew wounds please pray find place corporate culture best prevent harrassment happening first place swiftly acts appropriately something occurs despite best precautions company opinion pretty words sexual harrassment tolerated right female engineer touched inappropriately left obsene threatening notes left obscene pictures spoken lewdly seven times eight years place pretty words company good terrified healing latest assault please pray turn automaton habit ignore away worth anyone time talking anyone right human piece garbage deserve treated object prostitute mind company others expect prostitute body well makes think women possessions nothing organs ability perform kind thinking catapault major depressive episode please pray thoughts come head stay triggering depression please pray latest trauma come wound like invitation deeper connection also possible trigger spiritual crisis separate mentally know drop loving hand awfully easy walk edge hand look think falling forget still holding although probably entirely appropriate newsgroup really kind loving support provide reason hope good moderator allows latest indulgence allowed thermometer note wall topics thanks advance everyone support prayers peace esther',\n",
       " 'note following released white house today conjunction announcement clipper chip encryption technology fact sheet public encryption management president approved directive public encryption management directive provides following advanced telecommunications commercially available encryption part wave computer communications technology encryption products scramble information protect privacy communications data preventing unauthorized access advanced telecommunications systems digital technology rapidly precisely handle high volume communications advanced telecommunications systems integral infrastructure needed ensure economic competitiveness information despite benefits communications technology also frustrate lawful government electronic surveillance sophisticated encryption effect united states exported abroad used thwart foreign intelligence activities critical national interests past possible preserve government capability conduct electronic surveillance furtherance legitimate enforcement national security interests time protecting privacy civil liberties citizens encryption technology improves require innovative approaches area communications encryption government developed microcircuit provides privacy encryption substantially robust current government standard also permits escrowing keys needed unlock encryption system escrowing keys allow government gain access encrypted information appropriate legal authorization assist enforcement government agencies collect decrypt legal authority electronically transmitted information hereby direct following action taken installation government developed microcircuits attorney general united states representative shall request manufacturers communications hardware incorporates encryption install government developed escrow microcircuits products fact enforcement access escrowed keys concealed american public appropriate steps shall taken ensure existing future versions escrow microcircuit made widely available communications hardware manufacturers consistent need ensure security escrow system making decision intend prevent private sector developing government approving microcircuits algorithms equally effective assuring privacy secure escrow system escrow attorney general shall make arrangements appropriate entities hold keys escrow microcircuits installed communications equipment case holder must agree strict security procedures prevent unauthorized release keys keys shall released government agencies established authority acquire content communications encrypted devices containing microcircuits attorney general shall review legal sufficiency procedures agency establishes authority acquire content communications procurement encryption devices secretary commerce consultation appropriate agencies shall initiate process write standards facilitate procurement encryption devices fitted escrow microcircuits federal communications systems process sensitive unclassified information expect process proceed schedule permit promulgation final standard within months directive',\n",
       " 'used combination recorder think remember corel export scodal format select export main file menu implemented earlier versions course case also seem think time strange undesirable things part outside screen area corel spent afternoon painfully discovering pixel somehow strayed screen causing whole slide blank also handle grad fill grad fill graduated colour background grad fill object fill appears final slide circle think totally ignores shape object filled course recorder ignore feel suitably',\n",
       " 'excellent automatic found subaru legacy switches sport mode electronics figure driver sets switch proper sport mode entail several things revving line limiter case legacy delayed upshifts lift briefly remain gear handy charging corners would like without distraction upshifts another curve approaching part throttle downshifts based speed pedal depressed rather position pedal modern electronics measure easily switch sport mode wonderful want charge green light turn audi senses well downshift little half throttle right foot fast enough also think smart automatic deliver better mileage dumb driver stick else equal remember idea stick economical automatic makes assumption driver smart enough know gear situation many times ridden inattentive driver cruising highway gear speed many people drive manuals really know best gear every conceivable situation sure know suspect chip controlled automatic possible scenario ratio combinations stored likely better also previous assumptions proved wrong instantaneous readout high gear revs wide open throttle economical gear high revs small throttle opening explanation quite simple sits think obvious first sight',\n",
       " 'howdy posting friend reply friend simms sale also conner hard drive runs name john reached called classified connection sysop call hear awesome voice adios',\n",
       " 'desoto first year manufacture indeed export special left hand controls standard',\n",
       " 'guess also repository house keys keys safety deposit keys',\n",
       " 'somewhere thread said windows multi user well multi threading certainly seen case seperate accounts person even seperate directories desired implentation simultaneuos though scott',\n",
       " 'well question goals probably obvious goals like happiness liberty golden rule goals inherent defined objective system possible difficult goals mind absolute knoweldge everyone intent omniscience fine long information given away resolution free problem interactive omniscient changes situation well speaking objective system general mention specific goal would necessary determine morality action',\n",
       " 'well told last message came without anything leading edge flaky motherboard friend game replace docs mother board cheertron board award bios sticker says tell switches blue blocks mean except idea jumpers replaced hard drives modems installed math processes league without docs really lost anyone could give help really appreciate news regularly help please mail passman world thanks',\n",
       " 'repeat statement condone indiscriminate israeli acts ever villagers know guerillas stated earlier expect israelis know difficult identify guerillas prefer lose general population dressing acting agree lebanon either unwilling unable stop attacks territory israel simply quietly accept situation israel asked lebanese government control third party state within lebanese territory attacks kept occuring point israel state right something stop attacks never also responsibility state allow outside party territory attacks neighboring state angola power south africa refused stop anti angolan guerillas based soil attacking angola south africa refused troops stationed territory angola would angola justified entering saying angola accept situation nothing absorb attacks refered times palestinian attacks israel lebanese soil lebanese attacks israel hopes lebanese government strong enough patrol border reason believe stronger changed largely driven lebanon lebanese syria important making easier control future palestinian attacks lebanese soil change brought israeli action would never ejected lebanese arab state actions fully recognize lebanese want used either side continue fundamental issue state cannot control borders make real efforts expect others hopefully cowardice regarding bosnia weak',\n",
       " 'compared quayle gore mark said never heard incident thrower ceremonial ball booed mentioned another incident media liberal bias sure would heard quayle incident compare quayle anyone likely would elmer fudd',\n",
       " 'anyone russian contacts space contacts ussr eastern europe post talk questions think cost email high would keep content specific topics basically want save russia need make contacts contacts form info lets informing michael adams nsmca acad alaska high jacked',\n",
       " 'thrown cage tiger mauled blame tiger',\n",
       " 'looking company make custom keys instance need says help main menu going instead anyone point company also special keyboard keys ones',\n",
       " 'shopping passenger helmet noticed many cases external dimensions helmets difference amount inside padding solution large helmet construct removable liner sheet closed cell foam satin glued inside surface result reasonably snug smallest headed pillion liner comfortable largest headed pillion liner everyone else gets linered best',\n",
       " 'anyone still interested mattel electronic game left sale trade baseball case includes volt battery original manual able sell soccer basketball traded football game genesis cart happy entertain offers cash genesis carts baseball excellent condition works perfectly',\n",
       " 'consumer reports wrote blazer shook rattled like tired taxi noise expecially irritating back window squeaks believe whole tailgate assembly window solid anyway anyone problem found fixes relate tried everything greasing every point grease cheap hinges tailgate seems quiet time grease works hinges hinge pins appear made penny nails another vibration seems worse vibration transmission gear miles bought treated easily fast road stuff build chevies like used ford explorers look nice look price',\n",
       " 'good mussina better sutcliffe mcdonald bullpen steinbrenner charge talent starter evetually higher ranked generally better prospect arthur rhodes happens well oriole starter militello still early',\n",
       " 'sure almost sounds like figure nucleus within coma couple hundred miles well imagine rest',\n",
       " 'habit really want break willing make whatever sacrifice need make break habits mine decided forth effort break done habits decided worth effort break choice either master choose want weigh benefits actions consequences experience help deal unexpected turn make experienced always succeed never fail either learn habits break arrived understanding christianity probably arrived understanding islam likely different moslem thinks religion unable master lack desire understand even slightest concept quran different different accuse accuse desire understand even slightest concept atheism course disgusting centuries religions discriminating treating women second class humans reasons renounced christianity insult people period nature something want either life ground practice getting start perfect strive something better know shortcomings know strengths live life according decisions make content abide consequences decisions easily accept praise times life made mistakes never make mistake twice regard christ myth feel many people offering many interpretations supposedly said person really judge choose roads travel decide whether want reach given road turn back long always turn back shame need help seek friends clue saying either open eyes open ears listen spouting empty words life gives meaning going track mother loves know point definite things done even bring face face deity loves know even convince exists dangles heaven like carrot promising untold pleasures suspend disbelief ignore rationality would choose hell placate another matter powerful note also several gods trying lure yahweh allah zeus odin please give solid reason choose others description kendigism deleted paragraph demonstrates listened single word said ever gone amusement park mean hours closes nothing different except dollars lighter going amusement park good meaningless thing answer think play skee ball like better even though going anything better stuffed animal even blow dollars ride roller coaster thrilling experience even though scares dickens think life intend leave amusement park life close night holy book token therefore santa claus delivers toys every xmas reason believe true please give reason similarly apply santa claus existence means nothing communications bearing importance life remove cease significant thereby inferring deity nothing collection verses book cannot supported without invoking mean existence deity fact deity written real existence believe believe',\n",
       " 'perhaps using wrong brand sorry fans hard time convinced scopes match rest excellent gear principal functions look considering whether turn interpolation important feature disable repetitive waveform acquisition able lock instrument real time capture mode agree consolation manufacturers beginning attention ergonomics designing menus however fair seems first time scope users students seem adjust menus easier navigating around twenty knobs required real scope area newer dsos addressing recently evaluated latest seems worthy alternative standard analogue instrument spec meaning always real time capture mode pricing also matches equivalent analogue scopes range downer instrument uses menus least appear logically laid thing simpler front panels instruments tend digital rotary encoders knobs vast improvement switch single common cause failure scopes students blowing inputs mechanical wear switches look panels great step toward increasing longevity instruments johnh electronics department school mpce macquarie university sydney australia email johnh mpce',\n",
       " 'anyone interested history amorc think spencer lewis published books beginning mission alexandria bookstore name book store operated amorc selection provide interested reader insight cheers kent',\n",
       " 'recent discussion dungeons dragons role playing games since crossover gamers science fiction fantasy fans mention editor publisher radio free thulcanra christian oriented science fiction fanzine christian magazine special interest science fiction science fiction fanzine special interest christianity gaming major topic discussion come letters arguments whether satanic people think likely reading anyway working april issue send sample copy reader religion christian requests printed paper requests include snail mail address marty helgesen bitnet mnhcc cunyvm internet mnhcc cunyvm cuny',\n",
       " 'well particular thread vituperation slopped venom atheism spend time entertaining arguments belief system without resorting accusing others bigotry somewhat ironic exposure bigotry happens instance originated scouting since always understood scouting teach tolerance diversity understand bigotry irrational prejudice people happen different race religion ethnic background inconsequential characteristics evidence seen indicates sexual orientation lack belief gods exactly inconsequential characteristics thus pending evidence conclude show prejudice people bigots organizations exclude people discriminatory',\n",
       " 'tollfree hotline epilepsy foundation america able answer questions send information references seizure types medication also give references pediatric neorologist area also number local foundation touch parent support group social workers good luck',\n",
       " 'probably would much problems slight shift emphasis weekends might inviolate common work days week business instead american atheists would similar religious organizations persons religious belief seems crutch justification actions guide determine actions course people would come fascinating rationalizations actions could watch seems people religion america matter much extreemists ends large majority make much issue long admittedly never suffer bible belt north fringes reasonable people things tend reasonable religion well bother according higher value thinking anybodys thinking want fall trap start decide better says best also inferior modes thinking idic infinite diversity infinite combinations argue soda much inflation done',\n",
       " 'selling ticket washington champaign home university illinois willing offer good price interested please email eshneken uiuc',\n",
       " 'according software engineering professor actually rated level five unit produced part software shuttle means interesting note software development groups surveyed level shuttle groups level',\n",
       " 'note original poster answering think important evil result human sinfulness rather whoo going careful language think voluntarily giving omniscience world decide free sense allows evil occur sense held responsible chaplain says however course saved going save take step direction save read last sentence carefully saying save saying accept salvation believe predestination would appear stuff deleted trouble guess things resolved argument accept interpretation deleted indicates believe predestination correct believe predestination believe choose whether accept gift salvation fundamental difference really resolved deleted judge mete punishment last judgement evil done human beings best taht good comes somehow thing worries argument convince people stop rape killing think christ like jesus stopped stoning adulterous woman perhaps good parallel going anyway stop murder violation people innocent',\n",
       " 'compute many astronomical things ephem written elwood downey export',\n",
       " 'even fetch bytes time instruction move fetches bytes time instead means pixels instead cheers nada hacker deluxe',\n",
       " 'according seen several times postings dale adams apple computer require simms centris requires simms',\n",
       " 'know exact coverage states canada covered maybe espn grab coverage know picks ottawa picks means almost alexander daigle either stay traded montreal quebec would take kariya alot leadership ncaa world championships daigle show junior team jose kariya tampa either russian kozlov think defenseman niedemeyer probably spelt last name wrong expansion name blue chip prospects chris gratton chris pridham swedish player remember name draft order ottawa jose tampa south florida anahiem south florida anahiem hartford edmonton dallas rangers philadelphia thru picks could wrong standings guessing mind notch prospects draft kariya leading going',\n",
       " 'stop hold problems official history says first accusations homosexuality came outside nazi party long nazis ever came power objection herring even established history wrong point moreover none histories read ever made mention hitler anyone else ever using homosexuality pretext purging roehm point reiterated hitler party covered accusations going accuse official history fabrication least facts right pretext purging roehm planning coup hitler nowhere mention using allegations homosexuality pretext purge justification afterwards possible histories read mentioned doubt would hitler best interest admit world former right hand homosexual anyway said always possible missed references nazis making charges homosexuality night long knives prove false even nazis could tell truth advantage case deal accusations homosexuality forgot posted conspiracy smell paranoia since nazis never officially charged roehm homosexuality least according read like know tainted evidence talking since accusations made persons outside nazi party long came power accusations common knowledge journalists others germany would possible nazis back time plant tainted evidence exactly doctor newspapers circulated around world without discrepancies obvious actual incidences nazi doctoring evidence matter know testimony people involved matters nazis point making false accusation homosexuality publicize since point seems discredit established history burden proof falls revisionist revisionists better homework making accusations otherwise simply look like conspiracy nuts thing agree suspect notion might people roehm buddies homosexuals must disturb people feeling seems nasty individual accused homosexuality must attempt bash homosexuals fear often justified lies behind distrust official history seems good justification trashing accepted accounts subject really think historians incompetent write sources subject tell footnotes graduate student history writing professors tracking sources time limited specialty neither anyone else said anything would cast shred doubt existing evidence going waste time trying debunk someone paranoia research given already consider evidence tainted earth would constitute concrete particulars since concrete particulars considered shrewd guesses suggest trust popular historians irving historians writing popular audience rule provide copious footnotes instead reading academic historians usually provide footnotes sources immmense detail place start looking assuming really wants know truth folks pagan tired subject already apologies seem gone tangent forget gods responsible keeping strings within appropriate newsgroup subject boundaries',\n",
       " 'look couple components catalogues came across range peltier effect heat pumps intended cooling components heard effect current devices pumps heat side reverse current reverse effect think temperature difference give well anyway struck could make nice cool picnics power regulator thermostat couple heat sinks biggest device shift efficiency although would flatten battery half hour unfortunately catalogue list anything basic specs heat pump imagine would back temperature gradient across device increases presumably power decreases back increases eventually steady state current consumed assuming leakage final temperature difference sides could supply voltage nothing although would lousy control would like know guesses correct open circuit thermal resistance typical device want sure coolbox going warm fast unplug peltier effect heat pump actually work looks like magic things domestic fridges freezers thanks advance paul',\n",
       " 'think misnomer shows painful execution considered cruel unusual punishment shows cruel used constitution refer whether punishment causes physical pain rather must different meaning cheat hillary',\n",
       " 'sandiego graig nettles',\n",
       " 'impressive performance graphite winmark wintach result paint performance judging wintach tests hardly imagine cheat driver',\n",
       " 'jason haines said wondering people good uses simms bunch apple know lots people tried sell gotten interest collecting together everyones selling thing give recycler inovative want simms would interested hearing free send real cheap would intrested hehehe chip chip devices speed seen disc storage devices pricey plus still little worried data stored disk stephen cyberman buffalo mangled',\n",
       " 'large padded cordura maker unknown exterior black straps interior five outside pocket plus compartment overlaps internal dividers repositioned held whole bronica system metz flash small nikon shoulder sorry sold shippe small nikon belt pouch khaki like similar design army ammo pouch belt clips holds flash small zoom lens cleaner domke belt pouch black also metal loops want attach strap velcro closure similar concept bigger holds zoom flash small accessories hardly used cost originally sell coast camera brown strap main front pocket hold small zoom plus flash film matl looks like gore think really terms payment advance money order bank check cash buyer pays shipping must others send adequate self addressed mailing envelope padded recommended enough postage everyone entitled opinion goldberg oasys navy imagination important knowledge albert einstein',\n",
       " 'trying copy official rules baseball someone sent isbn number since lost anyone give information tell find book none local bookstores',\n",
       " 'format tape drive comes eisa controller colorado controllers thanks mail please',\n",
       " 'anybody interested buying labtec speaker labtec amplified stereo speaker system built amplifier volt input works without batteries individual volume controls treble boost switch great medium quality sound adlib soundblaster walkman included shipping mail',\n",
       " 'overcomes inherit',\n",
       " 'someone tell words less compile posix message catalogs catgets catopen know format catalogs know compile please reply chas blackwhite thanks advance chas',\n",
       " 'writting letters congresscritters wondering reason support following bills previous comments checking mail letter make sure support something really strongly support following laws currently considered congress would either positive effect towards reducing crime enforce constitutional right amendment campbell amend title united states code provide mandatory minimum sentence unlawful possession firearm convicted felon fugitive justice person addicted unlawful user controlled substance transferor receiver stolen firearm increase general penalty violation federal firearms laws increase enhanced penalties provided possession firearm connection crime violence drug trafficking crime purposes smith restore second amendment rights americans specter provide federal penalties drive shootings kohl amend section title united states code make federal crime steal firearm explosives interstate foreign commerce bill vojak vojak icebucket stortek colorado firearms coalition story bout named brady took bullet head even though perfectly normal prefers pretend brain dead story bout woman named brady nothing around husband became media martyr wants take guns away brady bunch brady bunch stuck brady bunch',\n",
       " 'cannot thing relates among navy tatoos love makes virile bobby mozumder ultb april',\n",
       " '',\n",
       " 'perhaps quote argument',\n",
       " 'posting someone else please respond address listed please also excuse duplication message crossposted thanks request ideas applications remote sensing databases internet nasa planning expand domain users earth space science data effort evolving infrastructure global change research program including mission planet earth mtpe earth observing system data information system eosdis programs internet particularly high performance computing communications program nren national research education network means providing access distribution science data images value added products provide broad access utilization remotely sensed images cooperation agencies especially noaa usgs usda support remote sensing image data users development communities user development communities included limited part effort educators commercial application developers television weather forecasters librarians publishers agriculture specialists transportation forestry state local government planners aqua business program initiated assistance requested identify potential applications remote sensing images data would like ideas potential application areas assist development implementation plan please note request proposals seeking ideas areas potential commercial remote sensing data images potential noncommercial remote sensing data images education especially levels noncommercial areas types line capabilities protocols make data accessible additional points contacts ideas addresses names request proposals convenience standard format responses included feel free amend necessary either mail responses mail internet rsdwg orion ossa nasa ascii binary attachments please ernie lucier rsdwg nasa survey responses following formats also placed directory rsdwg orion nasa please indicate format acceptable formats word windows macintosh word response format request ideas applications remote sensing databases internet potential commercial remote sensing data images possible identify relevant types data science products user tools standards uses remote sensing data images education especially levels noncommercial areas possible identify relevant types data science products user tools standards types line capabilities protocols make data images accessible possible identify relevant types formats standards user tools additional suggested persons organizations resources ideas applications areas please include name organization address telephone number organizations mailing lists electronic paper periodicals solicitation proposals sent developed please include name organization address telephone number would benefit knowing users know nasa remote sensing data data ties nasa investigators high cost lack accessibility incompatible data formats poor area interest coverage inadequate spatial spectral resolution',\n",
       " 'mentioned many times islanders play talent level opponent since hartford pitiful islanders played pitiful since pittsburgh great isles likely play great likely inexperience poor shooting greg noticed islanders broad side barn puck feet front anyone shooting percentages know would help since often miss completely might shed light subject playoff pool running exact rules posted tomorrow hesitate send picks keith keller rangers quakers kkeller mail upenn league champs',\n",
       " 'question familiar quadra vram vram simms quadra slots closest simm slots results whatsoever told built video support least maybe color macintosh color display however monitors control panel still lists colors highest possible make difference slots simms something activate something monitors control panel running system megs',\n",
       " 'heading true frank ashamed nothing makes people respect rights others voice opinions idol lenny bruce commented asshole time magazine advocated censorship material time actually sided cops arresting bruce shows whereby routinely would cocksucker cops would rush stage arrest times changed help think lenny would received today politically correct arena heck even support right nazis speak opinions march streets frank anyone else makes wisecracks anti semitism jewish longtime member aipac contributed apiece fine groups regular contributor every israel group find still support right people like speak vomit propaganda want know people basing assumption frank indeed write sysadmin requesting teel admonished case hereby retract nasties directed toward stand frank trashing first amendment',\n",
       " 'looking simm centris best place purchase stock shipping warrenty possible phone numbers order soon possible thanks steven hope intelligent life somewhere space monty python cause bugger earth meaning life',\n",
       " 'shell waiting window manager respond positioning request window manager responding thinks window already right place exactly components sulk unclear information greatly received',\n",
       " 'wheelwriter typewriter raffle campus since nice computer really need cash putting sale offer local reseller best offer plus shipping brian',\n",
       " 'know japan bashing weeks finding postings third time hope shows know fools insist posting every group agrevates people',\n",
       " 'specify rootwindow creating xlib draw multiple windows application something similar rubber banding curs move xcreatefontcursor disp data crosshair geom vals foreground blck pixl grey dark geom vals plane mask allplanes geom vals line width geom vals function gxxor geom vals subwindow mode includeinferiors evnt mask gcforeground gcplanemask gclinewidth gcfunction gcsubwindowmode geom gcon xcreategc disp data root iden evnt mask geom vals later move rubber band bands using following logic void tselect move bands delt xloc delt yloc stuff deleted xdrawrectangle disp data root iden geom gcon sele pntr rootx sele pntr rooty sele pntr xlnth sele pntr ylnth undraw sele pntr papax delt xloc sele pntr papay delt yloc sele pntr rootx delt xloc sele pntr rooty delt yloc xdrawrectangle disp data root iden geom gcon sele pntr rootx sele pntr rooty sele pntr xlnth sele pntr ylnth draw stuff deleted hope helps brian dealy knowing dealy kong gsfc nasa important knowing uunet dftsrv kong dealy dylan',\n",
       " 'sound actually self extracting script includes file works great',\n",
       " 'folks anyone give information location information reference material following file formats wiff ioca quite appropriate place questions please know appropriate accept apologies advance thanks help',\n",
       " 'would like know popular type capabilities channels prices great thanks',\n",
       " 'second motion favor days charles psuvm posted names addresses phone numbers voice almost congress members info along witha great number cabinet captured many others sure single people list bombard lobbying clipper chip nate',\n",
       " 'question going east west misisipi either choice would loose palestine broklyn thought gonna fromn misisipi back misisipi establish islamic state first free occupied lands first dream expansion gideon',\n",
       " 'killed handgun killed dead much care shot stabbed death think accurate indicator safe england compared switzerland concentrating handgun murders completely ignoring murders weapons mention rate violent crimes guns circulation follows people killed cause available person intent committing crime regardless whether knife bare hands control lobby seem understand point people intent committing crime whatever means available',\n",
       " 'info licensing kept file organization address moved wanted change find could find name organization robert dubinski aliases include robb regal marquette university math computer science double major internet address dubinski milwaukee',\n",
       " 'minor problems article posted proof christ resurrection first scriptural quotations sort reasoning beleive justified beleif vain might well beleive quotations people beleive people would justify positions second logical proof period time elapsed event growing larger increase odds hoax would discovered fact longer hoax perpetuated stronger becomes finally proof resurrection christ except spirits communion father matter faith belief without logical proof incedently largest stumbling blocks rational western included',\n",
       " 'opinion long stuff returns earth turns true time seriously active terrorism unbelievable people think selling every promises make money guess really deserve wiped radiation folks stupidity wins guess true pure numbers another depressed planetary citizen hoover',\n",
       " 'make piss possibly provide semen hair samples undergo tests gunpowder residues hand chemical engineer arrested explosion thrust hands toilet filled urine cops breaking door nitrogen urine would mask residue explosives found interesting news reported acts reasons somewhere perhaps privacy group discussed legal ramifications using password like shot jimmy hoffa body storage locker camden back impression real judges would dismiss arguments password self incrimination first year school sophistry fact statement password bearing veracity phrase asked incrimidate bury body asked provide information necessary execute legal search warrant refusing provide password akin refusing provide storage locker except could always force locker course mean help understand find point things overlooked search',\n",
       " 'better worse source michael barnsley article science fractal images peitgen fair middling intro barnsley book fractals everywhere thorough treatment book covers iterated function systems general application image compression clear text',\n",
       " 'commonwealth virginia exactly butted issue grounds claim matter traffic safety allowed functioning radar detector dashboard operating motor vehicle argument bogus successfully challenged court',\n",
       " 'good point obviously knew participated development clipper chip amounts unfair business practice gives early monopoly market hopefully existant market companies compete cellular market motorola grounds file complaint would seem fact government overlooked whole fiasco economic standpoint others mentioned difficulty clipper chip faces economic face average consumer care know clipper idea perceived need cellular encryption companies provide likely standard emerge clipper expensive chip much develope cheaper give full support hope clipper chip goes beta video tape format also hope sued using name clipper cyberspace',\n",
       " 'great back home last night fantastic skiing colorado battery back fxstc cleaned plugs opened petcock waited minute starter bingo started like charm spent restless night anticipating first ride saison went morning state inspection done bike stock except slash pipes went well hampshire state inspection meaning lights worked dude produces decibel meter tells noise start fail register allowed fail pipes gonna whole lotta seriously pissed bikers round inspection experience never really felt like menace society parked dismounted walked building slight swagger step narrow lidded look sensed faculty colleagues unease intimidating status women glances seemed linger little longer perhaps imagination sigh need install pipes single fire ignition wonder',\n",
       " 'looking decent windows news reader given winvn since work well winsock status trumpet windows windows sockets liked abandon since started using ndis access token ring results invalid class error',\n",
       " 'encyclopedia religion mircea eliade magi sneak preview later still eschatology apocalyptics fertile meeting ground iranian judeo christian religions seen famous oracles hystaspes work whose iranian roots undeniable likely dates beginning christian probably second century widengren zoroastrian doctrine savior future saoshyant basis story coming magi bethlehem gospel matthew persian word magu rendered greek magos uncertain etymology originally meant member tribe avestan compound mogu tbish hostile member tribe meaning would resticted among medes member priestly tribe perhaps priest benveniste boyce term probably median origin given herodotus mentions magoi tribes medes variety reasons consider magi members priestly tribe median origin western iran among persians responsible liturgical functions well maintaining knowledge holy occult likely supremacy median priesthood western iran became established time median monarchy dominated persians eighth century first half sixth century revolt cyrus great persians indebted medes political civil institutions well even hypotheses advanced concerning existence magi persian origin achaemenid period boyce must still maintain median origin demonstrated eposide revolt gaumata magian mentioned darius inscription bisutun iran well greek sources indeed herodotus insists idea usurpatory power medes persians conspiracy magi fact magi members tribe handed sacerdotal arts hereditary fashion naturally exclude possibility undertook secular prefessions seems attested elamite tablets persepolis theses forth giuseppe messina denies magi members ethnic group suggesting simply members priesthood priesthood purely zoroastrian origin thesis untenable hand hypothesis name related avestan term magavan derived gathic maga vedic magha gift without foundation mole meaning maga probably found conformity pahlavi tradition within context concept purity separation mixture opposed principles spirit matter maga erroneously interpreted chorus root mangh said mean sing magic song nyberg rendered simply expression like unio mystica seems ecstatic condition opens mind spiritual vision case though relation persian term magu avestan terms magavan maga must maintain clear distinction magi avestan priesthood avesta ignores median persian term despite recent hypothesis proposed bailey persian inscriptions ignore avestan term priest athravan vedic athravan even perhaps present achaeminid setting elamite tablets persepolis gershevitch term magu present zoroastrianism throughout history pahlavi terms mogh mard mobad represent continuation latter particular derives older form magupati head magi sasanid period third seventh centuries formation hierarchically organized church title mobadan mobad high priest high priests came used designate summit ecclesiastical hierarchy magi practiced consanguineous marriage khvaetvadatha pahl khwedodah also performed characteristic funeral rite exposure corpse animals vultures remove flesh thereby cleanse corpse supposed decompose lest contaminated demons putrefaction practice later became typical entire zoroastrian community rise complex funeral ritual iran among parsis india stone towers known dakhmas built especially rite time herodotus practice exposure corpse vogue among magi persians generally sprinkled corpse buried practice widespread however among peoples central asia magi technicians experts worship impossible offer sacrifices without presence magus performance ritual sacrifice magus sang theogony magi possibly custodians tradition sacred poetry know nothing relationship tradition various parts avesta called upon interpret dreams divine future magi also known practice killing harmful ahrimanical animals khrafstra snakes ants dressed median style wearing pants tunics coats sleeves wore characteristic head covering felt tiara strips sides could used cover nose mouth rituals avoid contaminating consecrated objects breath boyce color caps conformity tradition probably indo european origin according georges dumezil priesthood white likelihood achaemenid period magi possession well defined body doctrine probable gradually adopted zoroastrianism likely clergy consisting professional priests tied rigid orthodoxy naturally inclined eclecticism syncretism nonetheless must jealous guardians patrimony zorastrian traditions virtue educators royal princes wisest responsible teaching prince magic zarathushtra horomazes thus cult gods magi excelled virtues entrusted education prince would learn courageous master achaemenid period magi maintained position great influence although certainly subordinate emperor despite several dramatic events massacre suffered death gaumata magian according herodotus calls smerdis persians killed large number magi avenge usurpation magi nevertheless managed maintain influence court media persia various regions empire stationed consequence persian civilian military administration priesthood antiquity famous magi renowned followers zarathushtra zoroaster teachers greatest greek thinkers pythagoras democritus plato wise arrived guided star manger newborn savior bethlehem propagators cult india also known chaldeans priesthood babylon known occultism perhaps reason term magos pejorative sense greek like goes expert magic arts bidez cumont indeed chaldeans experts types magical arts especially astrology reputation wisdom well knowledge understand reasons various sometimes discordant views necessary distinguish magi iran proper called western magi later hellenized achaemenid period must least part zoroastrian western magi iranian diaspora asia minor syria mesopotamia armenia came contact diverse religious traditions must sooner later varying degrees influenced syncretic concepts greeks familiar kinds magi depending varying concerns would emphasize aspect classical historians geographers including herodotus strabo document customs philosophers dwell doctrines dualism belief hereafter magian cosmology cosmogony theology eschatology sources interested doctrines magi even speak zarathushtra magus repeating magi said median achaemenid periods adopted zoroastrianism time embraced zarathushtra placed venerable name zoroastrianism already undergone several profound transformations eastern community time acheamenids already adapting elements archaic religion refused said quite often attempt characterize precise role magi zoroastrian tradition vendidad daevo data abjuring daivas part avesta attributed collection texts various periods primarily concerned purificatory rules practices nonetheless hypothesis hardly plausible since first chapter vendidad list sixteen lands created ahura mazda supreme zoroastrianism contaminated attack ahriman pahl gathic avestan angra mainyu supreme ultimate source evil suffering mention western iran persia media land ragha mentioned text cannot median raghiana furthermore noted gershevitch authors magi absence reference western iranian institutions including priesthood would strange magi means zoroastrian tradition corpus avesta transmitted second half first millennium principal merit attribute directly magi formulation iranian dualism assumed known especially greek sources part pahlavi literature ninth tenth centuries according formulation poles dualism longer gathas spenta mainyu beneficent spirit angra mainyu hostile spirit ahura mazda angra mainyu gershevitch ahura mazda angra mainyu trans formation immense consequence historical development zoro astrianism likely determined contact magi mesopotamian religious world dualism later known greeks aristotle eudemus rhodes theopompus others affirmation current thought within zoroastrianism give name zurvanism zurvanism thanks adherence zoroastrianism magi played enormously important role transmission zarathushtra treachings well definition forms would assume historically natural propensity eclecticism syncretism also helped diffusion zoroastrian ideas communities iranian diaspora greeks began study doctrines take interest xanthus lydia hermodorus aristotle theopompus hermippus dinon even writing treatises persian religion titles fragments survived hellenistic period magi seen secular school wisdom writings magic astrology alchemy lent authority prestigious names zarathushtra ostanes hystaspes forming abundant apocryphal literature bidez cumont later still eschatology apocalyptics fertile meeting ground iranian judeo christian religions seen famous oracles hystaspes work whose iranian roots undeniable likely dates beginning christian probably second century widengren zoroastrian doctrine savior future saoshyant basis story coming magi bethlehem gospel matthew saoshyant sasanid period magi play determining role religious history iran concerned back western magi menasce eager consolidate zoroastrianism national religion iran priests iranian sanctuaries media persia able establish true state church strongly hierarchical endowed orthodoxy based formation canon scriptures leading figures development state religion zoroastrian orthodoxy tosar kerder persecutors mani third century',\n",
       " 'sdio contracted naval research laboratory clementine mission call dspse deep space project science experiment building spacecraft designing detailed mission integration operations help goddard prob folks left tamp trajectory analysis mission planning team responsable traj goddard designing sdio reasons safety constraints tight lidar radiation data sensors data passages allen belts since going piggy back general science intercept problem easied long distances long times sure things forgotten told reasons talk',\n",
       " 'adda bible scholars agree copy book certain time time author wrote unfortunately like works time period earlier exists today copies parts books scraps really date around second century complete books letters middle third century first complete collection testament dates early century throughout period writings various early church fathers leaders quoted various scriptures writings mean someone discovered thousands bibles perfect copies dating last part century mean thousands early manuscripts within dates given letter perfect probable text reconstructed documents earliest original autographs lost probably written starting sometime shortly original authors call matthew mark luke john peter paul james identified long make regards',\n",
       " 'john edgar hoover harm overreacting largest single threat civil liberties lifetime done pretty heinous things past recovered certainly seems historical trend towards less liberty occasional perturbations time break quotes american political radicals lyle transarc grant street gulf tower pittsburgh',\n",
       " 'stragegy government interesting real fear comes voluntary program thus harder object surface strategy business rather legal pushing standard place secret standard standard drive competitors market legal sell better untapable encryption registered keys difficult thus plan phone companies clipper chip phones able talk cellular company phones ports follow standard already announced clipper chip encryption product government marketed hard major vendors chips enough market share rule thus little market systems tapped police public concerned freely calls anybody listen today extra bucks proprietary phones secure police well people phones work proprietary phones market small phones expensive unless made numbers large enough sell cheap means want track customer lists better encryption phones reason person would want evade police interesting',\n",
       " 'candida albicans cause severe life threatening infections usually people otherwise quite however sort illness probably discussing systemic yeast syndrome body allergic yeast considered quack diagnosis mainstream medicine book yeast connection talks illness convincing evidence disease exists',\n",
       " 'give three days comes',\n",
       " 'hardly call giving chance vice president chance populist party ticket winning essentially still imply want associated duke',\n",
       " 'points mary taken heaven life earth piece evidence mary assumption heaven fact christian church ever claimed sight buried christian churches claimed located final resting places peter mark saints ever claimed possess body mary greatest saints everyone knew taken heaven although definitive scriptural proof assumption mary passages seem suggestive like passage revelation describes woman giving birth later crowned heavens course woman passage interpretations also taken symbol church assumption mary makes sense relationship christ jesus perfect perfect fulfilled requirements perfectly gave honor mother father christ taking mother heaven part fulfillment also took flesh seems appropriate decide allow flesh grave last point catholic attempted explain catholic doctrine assumption asserting connected belief mary correct summary catholics believe dogma assumption carefully phrased avoid saying whether mary fact consensus among catholic theologians seems mary fact would make sense christ died mother waited foot cross would want share death',\n",
       " '',\n",
       " 'mike johnson mentorg',\n",
       " 'dear netters want send signals running person computer signal wide running person signal sent hundred meters seems frequency intended make transmitters light possible suppose best send signals analog form application rather specialized expect able exact transmitter units need hand imagine receiver somewhere need multichannel channels receiver complete receivers rack system many receivers needed particular case anybody know existing receiver system market',\n",
       " 'turks sure know keep track deaths seem lose count around million',\n",
       " 'insert deletion unnecessary quote first take sort pleasure punishing people mercy mercy compassion compassion however enjoyed punishing people sending hell would send jesus seek save lost luke asked peter talks ungodly punished matthew also clear righteous eyes sent hell eternity thessalonians states cause trouble disciples punished everlasting destruction shut presence lord thessalonians talks refuse love truth condemned revelation talks difference overcomes listed verse fiery lake burning sulfur revelation gives indication follow beast tormented burning sulfur rest night psalm wicked return grave nations forget think sufficient prove point fisher following mostly playing devil advocate advocating either position concern people understand possible passages different ways possible eternal destruction destruction often uses term second death obvious understanding would seem final extinction problem speaks eternal punishment second death uses terms understood either concern convince view help people understand wide enough variety images possible understand either albrecht commented primary point best keep people eternal fire whatever details make things interesting luke implies damned resurrected presumably stay dead aware possible understand passage literal peter talking angels talks holding hell final judgement eternal punishement matthew talks sending cursed eternal fire prepared devil angels fact fire eternal mean people last flames forever particularly interesting comment fire prepared devil angels talk eternal fire well beast false prophet tormented forever talking people thrown referred second death sounds like extinction eternal torment possible fire different effects supernatural entities devil humans thessalonians similarly everlasting destruction necessarily eternal torment clearly understood either think least possible think everlasting used contrast kind destruction occur life final destruction occurs eternity thessalonians talks destruction revelation comment revelation probably best quotes even explicitly people suffer forever says smoke presumably fire eternal respite people tormented forever psalm says anything relevant issue',\n",
       " 'tried installing software otherwise would dubious simple ways change screen designed embarassment would pirates charles',\n",
       " 'stuff deleted',\n",
       " 'change part continuously downsizing government organization code branch changes year finished changing registration information using norton utilities sent original requester offset user containing information reply indicated several similar answers encoded legality nothing keeps changing information certainly reach alter serial number printed inside manual',\n",
       " 'unfortunately negative impaired sentence says believe bike move course course michael',\n",
       " 'well said michael catholic traditon list behaviours called spiritual works mercy admonish sinner instruct ignorant counsel doubtful comfort sorrowful bear wrongs patiently forgive injury pray living dead know controversy want argue things direct application usenet people questions express doubts need comfort prayers imagine would happen flame wars bore wrongs patiently forgave injuries would probably appropriate admonishing private email publicly',\n",
       " 'smoking normal student needs furnished place live memphis summer working firm downtown pass character examination worry stuff broken stolen call chris leave mail',\n",
       " 'chop vesterman kids take pictures dead presidents parents wallets mail',\n",
       " 'laughing part driven thru soho manahattan know talking bout durham better well maybe little anyway takes money road taxes puts pockets pockets guys building large condos need roads back fixing roads local paper report last summer glad work cause shat bigtime wonder lost jobs idea',\n",
       " 'recall issue posted message related back provoke argument could straight dope article would probably give definitive answers want',\n",
       " 'excuse sticking nose parent parents allready immunize children especially already free deserve frigging dime money health care public health care service know immunization program coming national health care issue slightly seperate issues anybody help kids deserve help',\n",
       " 'wondering anyone could point vesa specifications relevant books subject regards jimmy',\n",
       " 'tough freedom necessitates responsibility freedom absolute anyone defends arafat read open fire jewish immigrants soviet union ethiopia anywhere else give instructions violence immigrants willjail anyone refuses yassir arafat muharar least racist anti jewish',\n",
       " 'necessarily thinking chip scheme provide real security must sort exchange either using public encryption scheme using exchange scheme like diffie hellman band transmission shared session protects band eavesdropping phone company online central authority generates session sends users point going trouble complicated depositories phone company copy session call probably practical user keep online copy every public used anyone anywhere right probably getting keys verified might digitally signed chip manufacturer copy public unit stored unit might also online directory access everyone public keys would introduce another weakness security scheme course presumably designated verified connection standard chips might useful modified chip would allow either original public private pair pair verification scheme unfortunately would allow call people establish secure communications',\n",
       " 'lack build quality thing notced first months back panel gaps large uniform cars kind thing expect accept mustang chrysler savior drove cars thought adequate prefer taurus brief experience craig',\n",
       " 'panasonic combo black cordless speaker phone shipping curtis mathes remote included works universal remotes works great replaced stereo paid years sell delivered radio shack stereo inputs tone left right volume speakers included plus shipping interested either mail radley gibbs',\n",
       " 'accounts anti armenian human right violations azerbaijan prelude current events nagorno karabakh right slaughter armenians need afraid moscow behind even heard moscow behind well watched listened realized joke deposition yuri vagarshakovich musaelian born line electrician sumgait streetcar trolleybus administration resident building apartment block narimanov street sumgait azerbaijan spent almost february overhaul short work worked eleven eleven thirty left home decided short walk went primorsky park walked past eternal flame group people standing walked another yards heard screech automobile brakes behind turned head toward sound light blue volga people standing gone woman expensively dressed suit woman raincoat anything head hair sightly reddish hair heavy woman years something trunk people start help become curious pulling close heard turn something probably tape recorder ground near eternal flame honoring baku commissars formed tight circle around going someone tells come listen well azerbaijanis asked azerbaijani hear appeals brother muslims time come something else along line understand walked around group trying look owner tape recorder circle drew tighter people started coming various directions five seven comments started right slaughter armenians need afraid moscow behind even heard moscow behind well watched listened realized joke quietly left went home work heard something going karabagh demonstrations well people saying kinds things idea really going wife home daughter aunt house baku anything wife drank sometime around clock right behind house suddenly noise whistling shouting looked window crowd crowd moving slowly like show blacks south africa striking demonstration move slowly wife asks going know outdoor clothes went find crowd people shouting armenians death armenians waited entire crowd pass first went narimanov street side club city party committee turned went traffic street baku commissars toward streetcar line went home told wife demonstration going fact thought kind demonstrations yerevan karabagh aside things shouting surprised young people crowd minors draft wife wanted upstairs visit friend kind uneasy said stay home instead hour went maybe hour half well keeping track time exactly long look another crowd narimanov side microdistricts bazaar rossiya movie theater outside clothes went noise uproar outside crowd grown people whereas first time individual shouts time focused aggressive think something wrong demonstration would stop walk quickly make sharp dashes walking along sidewalk street followed thinking watch knew leading came lenin square square club side city party committee went toward square heard noise shouting though whole town turned sort rally going closer hear exclamations appeals heard anti armenian anti soviet appeals need perestroika want living like mean living like azerbaijanis work like everyone else many people live expense government expense others speculation theft cheating time azerbaijan everywhere republics never seen anywhere else like azerbaijan rally someone says around armenians apartments drive beat drive true hear kill microphone heard beat drive stayed square minutes longer first another going onto stage tries stop crowd side crowd small groups three four people think ministry internal affairs state security also uniformed policemen pacify crowd people kept coming onto stage well finally decided could badly demonstration protect family left square return home suddenly noticed truck next city party committee narimanov street stood next shop truck wooden panels thing unloaded crates sort decided look appeals apprehensive thought might weapons pulled crates onto square toward city party committee toward club went right cases vodka people handing cases truck ground many people handing truck case carried people people case vodka standing right next truck handing roundish black lumps maybe size fist maybe little bigger smaller anasha passed next person stood side yard half people standing near package hand pulling anasha handing never smoked tried seen people smoke seen many times know strolled around asked glass bazaar heard howling warlike shouting turned around running well keep going like thought caught carrying flags recognized person carrying flag side street young years carrying flag ermeni oryum written azerbaijani means death armenians used live courtyard really know name know father well father name rafik used cook became head chef used dark blue zhiguli sold white zhiguli family said lived courtyard building narimanov street street baku commissars apartment entryway fifth floor door left rafik little brother lives rafik heard apartment either forth eighth microdistrict word carrying flag said death armenians surprised gotten impression nonsense done people sumgait azerbaijanis agdam kafan well anyway went home wife upset told pass young kids gotten whooped naturally want overly upset surge crowd went time breaking glass could hear breaking well think machine motion handing vodka anasha nothing people drinking smoking spot certainly unloaded vodka hashish store window thought flashed head machine running would stop even trying although police police breaking joking good time true time even imagine government much vaunted leadership afraid words many people died many women abused many abominations imagine much vaunted authorities specific would much touted authorities city sumgait imagine things could take place started breaking glass told wife upstairs went neighbors grigorians fourth floor evening crowds started going past went outside stopped corner place called right next bazaar look crowd yards entrance bazaar three respectable looking around years crowd running three waved pointed toward bazaar whole crowd though person wheeled raced toward bazaar soul went past three though limits well everything churned noise glass flying spent night neighbors apartment first floor really defend morning went bread happening town someone hunched still never found happened people standing near bread back gathered around person lying hunched sort enclosing standing even morning february everyone knows rest yerevan reference sumgait tragedy pogroms armenians soviet azerbaijan volume eyewitness accounts edited samuel shahmuradian forward yelena bonner published aristide caratzas pages',\n",
       " 'perhaps witnesses left compound testified batf shot first identify tossing concussion grenades anyone inside could heard identification near concussion grenade announcement batf sealed warrant operating search warrant arrest warrant short perhaps batf wildly control perhaps calmer heads realized bombing compound full woman children improve position real chance koresh able prove self defense court leave four officers dead blame batf followups directed activism discussion raged nearly long seige shows every sign giving nearly soon larry smith smith ctron speak cabletron need',\n",
       " 'produced error last week chorion abhor publishing trash abhor even others since present authority subject feel dishonest though openly admit ignorance incompetence example thus felt honor bound better research specifically word first noted greek grammar tough first assumed nontrivial means still competent opaque thought turns index bauer arndt gingrich greek lexicon renders verse order word within verse greek alphabetical order thus meaning verse decipherable syntax clear hand greek english intralinear bible makes things comprehendable word field acts indeed chorion checked several greek english lexicons greek english lexicon testament louw nida robinson greek english lexicon testament greek english lexicon testament grimm word study concordance tynsdale greek english lexicon testament early christian writings bauer arndt gingrich analytical greek lexicon perschbacher case meaning word chorion given variously space place region district field area country place land farm estate tillage similar meanings nowhere books mention anything grave books great detail would surprised find books inadequate archer competent scholar greek think likely archer investigations contradictions friend said lacking substance thus archer shown worthless expert witness decenso would honorably presented results matter even found support archer contentions among lexicons robinson definition agros word used matthew describe field bought word agros defined field country chorion specifically noted synonym agros significant evidence silly bullinger exegisis stated word field matthew agros different word field acts chorion thus must talking different fields course already admit stupid bullinger exegisis small serendipity drives point home unless decenso show compelling reasons believe otherwise reputable scholar reputable references consider particular issue closed decenso answer questions denials peter crucifixion tyre fact author matthew quoted wrong prophet discussing potter field later dave butler',\n",
       " 'sounds like opel neat cars drive sold buick remember correctly believe engine mods made parts interchangeable older models parts thus much harder come later models parts general difficult find time whitney carried stuff including brand remfg long block either kharman ghia spelling looks hosed next project',\n",
       " 'talk adding insult injury believe civil forfeiture abolished decent administration continued instead looks like gotten gain used help wiretap equipment',\n",
       " 'hpcc motorcycles groverc gold grover cleveland shop bike sacramento area prices always much higher elsewhere state affirmative check sacramento fresno modesto stockton bakersfield newspapers prices motos classifieds large main public library ought number town papers graeme harrison hewlett packard communications components division trimble jose gharriso hpcc corp',\n",
       " 'seems understand anything realities liar lunatic real thing narrow view possibilities jesus message sigh seems religion makes mind brain filter anything personal scheme anyone thinks possibilities jesus bound classical lewis notion liar lunatic saint indeed bound become christian cheers kent',\n",
       " 'posting provoked checking save file memorable posts first captured arromdee subject atheist article question article average articles last three years others noted current posting rate kill file depressing large among posting saved early days articles following notables interesting bunch wonder',\n",
       " 'considering purchase system linux system asus brand motherboard anyone comments asus motherboards thanks',\n",
       " 'degrees imagination alleged dichotomy imagination knowledge pernicious fallacys michael thanks generous offer quite enough dreams thank hand letting dreams waste failing maths thermodynamics chemistry choices would give imagination wings show flame leave quote invasion body snatchers become know',\n",
       " 'recommend book adams texas story adams sentenced death crime commit book story long appeals process problems delays caused able introduce evidence certain courts',\n",
       " 'hello know discussed time need teselate sphere kind soul code finally decided upon best recall nice iterative subdivision meathod would appreciative thomas deweese deweeset rdrc',\n",
       " 'according always questionable newspaper silver dollar minted canada back commemorates anniversary stanley know full well coins used every canada easily fish pocket change right fact question since loon dollar coin know legal tender commemorative coin monetary exchange value sort thing hockey buffs coin collectors might covet chance circulated uncirculated coin current cost potential value curious knows take culture canada collecting whatever thanks',\n",
       " 'baseball mentioned band wondering anyone could clue whether dead members sang national anthem todays giant opener would imagine early anyone know answer would greatly appreciated curious robert',\n",
       " 'sent response white house mcimail white house received nice automatic reply micmail noting passing included snail address would reply course care reply protect voice network privately developed crypto always available always think enforcement given fact hope legislate needs crypto system designer clipper chip want freely export uses algorithms like already freely available destination country',\n",
       " 'everyone since people quickly solved problem determining sphere points suddenly recalled problem find ellipse offset example given points offset find original ellipse analytically spent months solving problem using analytical method last year failed pressure method nonlinear programming technique deal problem approximately ideas greatly appreciated please post others share interests',\n",
       " 'unable type first word matter fact make difference almost half million users joined internet last year many commercial businesses commercial internet breeding post commercial material account provided ones employer school unless provider account gives permission internet access constrained innate good taste administrator guide',\n",
       " 'somalia right across gulf aden wealthiest arab nations planet always become point stuff mind helping invariably happens everybody expects work take risks even events occuring people back yards resources deal quite well thank mean like either serbia somalia represent overwhelming military force neighbors handle logistics deal bigger logistical challenge troops supplies york somalia saudi arabia harder texas serbia turkey austria serbia',\n",
       " 'guess changes opinion thought would warn prospective customers fwiw work focus enhancements people sell etherlan scsi ethernet interface disgruntled users also need know anyone successful comparable product dayna focus really want nubus slot sigh wish better news focus etherlan currently incompatible duos change future apple register compatible cards compatible duodocks though send questions focus applelink apple',\n",
       " 'scientific facts never heard thing science never proves disproves theory history',\n",
       " 'wetteland comes april evaluated throwing well without pain side deshields suffered chicken lost official total pounds back hopefully next week walker back tonight tomorrow',\n",
       " 'brings interesting subject discussed much probably studied much aware posted articles lately personality typing mbti test vehicle come speed read psychology personality personality type summary file observation people significantly different personalities question seem essentially born respect church attendance participation people thrive people real difficulty prefer solitary contemplative lifestyle energized confronted excessive closeness outside activities lots people course measured extroversion introversion impression many churches totally blind fact create environments scare away many naturally introverted many introverted characters bible know quite introverted preference find pressure many churches participate meet together large groups uncomfortable knowing know churches overly influenced highly extroverted people thrive sort thing nothing wrong either extroversion introversion preferences place body maybe define extrovert introvert carefully since words usually used correctly culture extrovert introvert scale measure person energized following excerpted summary energizing person energized extroversion preference drawing energy outside world people activities things introversion preference drawing energy internal world ideas emotions impressions hopefully elicit discussion churches structure meet real needs people comprise body christ instead trying change people personalities particular framework sure aspects churches properly understood personality variances among members detriment noring charter member infj club',\n",
       " 'commercial uses transportation system already settled civilized areas obvious spaceflight position correct analogy aviation long transocean voyages discovery require fund long something known potential profit destination practice funded private wise investor would spend large amount money risky investment idea possible payoff sure thriving spaceflight industry eventually develop large numbers people live work earth specific justifications increased resource base give know enough launch rate demanded existing space industries bring costs much much dark revolutionary space industries practical much invested start',\n",
       " 'darn okay okay stop slamming ipser making people',\n",
       " 'compartment syndrome occurs swelling happens compartment bounded fascia pressure rises compartment blood supply nerves compromised treatment open compartment surgically common places compartment syndromes forearm calf emergency since pressure relieved stuff gordon banks skepticism chastity intellect cadre pitt shameful surrender soon',\n",
       " 'peir yuan asks part torah first five books torah jewish history recorded testament shown archaeology kings revivals temples torah know five books moses come prophets prophets plus joshua judges samuel kings writings psalms proverbs lamentations ruth esther ezra nehemiah ecclesiates song songs chronicles veracity isaiah quoted moslem friend quite well known complete manuscript exists dates back past kept museum israel found among dead scrolls greatly enhanced knowledge veracity testament date back around time christ whereas oldest complete manuscript hebrew around moslem friend sorely mistaken understandably jesus crucified atoned sins must death could atone sins humanity isaiah predicts messiah called mighty must rose paul wrote possible death could hold jesus rose dead moslem friend would little reason moslem denies authenticity testament',\n",
       " 'anyone found following problem client software sunos server hardware server software sunos open windows patch motif application periodically hang openwindows server xnews pulldown displayed button actions effect sometimes pressing return unstick application usually looks like pulldown grabbing focus never letting windows display continue updated server hanging another terminal kill motif application everything gets back normal application servers including xsun decwindows tektronix terminal problems obviously openwindows problem need work around since customers openwindows users tried following things installing latest version openwindows server patch using version instead olwm applying patch specified motif question effect disabling point click method menu interaction opposed click drag method screwing menu mnemonics keys seem help still able application hang repeat intermittent problem several times click release menu heading pulldown menu click release menu item repeat application hangs help would appreciated thanks advance',\n",
       " 'sounds like another abutaha different real causes challenger accident know never slightest shred evidence harmonic resonance occurred windshear induced maneuvering probably contribute opening leak path joint seems sealed puffs smoke liftoff existing explanation related events seems account evidence adequately',\n",
       " 'allen sometimes think sometimes tend rashly leap making statement without thinking wanna guess today need launch hlvs send large amounts stuff know private titan',\n",
       " 'story related seven apparitions approved church worthy belief happened salle france moral lesson story lamb sacrificed blood used cleanse sins every moment perceives worthy done heaven mary weeps lamb rest offsprings continue disobey mary messenger given task make aware evil serpent communism wars famine unfaithful disobedience running rest offsprings children went astray disobedience dragon brought back peace loving messages reparations sins obey commandments worthy presence lamb conceived without worthy bearing womb mary preparing church body christ second coming making sure protected dragon also preparing eden reversing deed ancient eden sanctuary righteous judged christ next coming relate story believe mary apparitions century appeared children tends goats cows forgot exact place weeping telling children afraid going lose mourning townfolks fault would drought harvest much good food year last year mary tells children townfolks place worked whole week even sundays church honoring townfolks swears uses name words heavy pain asked pray children said hardly asked pray every morning night children went back work tell somebody news spred thorough investigation incident townfolks converted faith obedience restored community lamb succeeds',\n",
       " 'could someone please send instructions installing simms vram cwru gotten wants drop extra simms vram',\n",
       " 'center policy research subject questions israel questions israelis would thankful live israel could help provide accurate answers following specific questions indeed provocative questions asked time people around true israeli authorities recognize israeli nationality cards israeli citizens must carry times identify people jews arabs israelis true state israel fixed borders israeli governments today refused state ultimate borders state israel true israeli stocks nuclear weapons could provide evidence true israeli prisons number individuals tried secret identities date trial imprisonment state secrets true jews reside occupied territories subject different laws jews true jews left palestine avoid automatically allowed return christian neighbors allowed return true israel prime minister rabin signed order ethnical cleansing done today bosnia herzegovina true israeli arab citizens admitted members kibbutzim true israeli attempts discourage marriages jews jews true hotel hilton aviv built site muslim cemetery thanks',\n",
       " 'certainly traditional ideas mithraic cult although many elements seem borrowed catholicism mass communion sharing sacred meal consecration bread wine quite amusing novel uses idea check covenant flame david morrell quite interesting occult bits lots killing spoil revealing ending relevant mithraism',\n",
       " 'anyone know bigger raster fonts using monitor diamond mode would prefer larger characters windows heading practically everything already using character sets mark',\n",
       " 'standard colormaps spec intention window managers would make available mean every window manager author world immediately dropped everything implemented priority esge server ship makes best available startup wait window managers hardware clut since standard colormaps typically devour entries avoid displacing entire default colormap hardware clut believe standard colormaps intended aboid possible colormap flashing clients using default coilormap rather colormap flashing avoided clients standard colormap example would clients need full color range would best whatever called trying avoid colormap flashing default colormap best load colors colormap flashing clut framebuffer window manager used standard colormap client flashing could also avoided perhaps window managers command line options selecting standard colormaps',\n",
       " 'thing eagle talon heard freind talons released true differences opinions would appreciate replies would also prefer mail thanks',\n",
       " 'well actually davidians koreshians started fire last heard around eight people feilds surrounding compound captured admitted setting fire napalm theory although would made great commercial hell would wood stove burning warm flame throwers liquid petroleum napalm dispute theory diluted inserted around understood correctly place start burning around calm vernon koresh real name said would leave compound alive inhabitants thereof accepted fact well kill least eight survivors caller rush limbaugh today suggested rest even hiding underground bunkers wild idea considering weaponry resolve sheesh heard read ranting since hindenberg burned ended days glad dollars finally stopped working bunch guys stand around give press conferences back important things like catching cigarrette smugglers',\n",
       " 'chance used appletalk card create network home machines however card tells remember back card rather mini expect sounds like thicknet ethernet card transciever like quadras would reasonable price expect cards keeping mind micro channel architecture means take best guess double email replies would appreciated ideas thanks richr',\n",
       " 'gues keesler others ring bell might involved well sometime keesler langley teaching course space debris memory think even reference book subject egalon larc nasa',\n",
       " 'slab mtholyoke jbotz mtholyoke jurgen botz good thing already csspub mailing list csspab mail ncsl nist address clipper mailing list seems contain basically members nist security board addition names already posted true names follows burrows james burrows director nist national computer systems laboratory mcnulty lynn mcnulty associate director computer security national institute standards technology computer systems laboratory gangemi dockmaster ncsc gaetano gangemi director security basics deborah russell gangemi reilly associates slambert cgin citicorp sandra lambert vice president information security citibank lipner mitre lipner mitre corp director information systems gallagher dockmaster ncsc patrick gallagher director national security agency national computer security center security board member walker stephen walker computer security expert president trusted information systems glenwood willis rand willis ware rand corp executive chairs security board whitehurst vnet william whitehurst security board member director corp data security programs harry shapiro habs panix list administrator extropy institute mailing list private communication extropian community since',\n",
       " 'hinderland trust japanese trust president stupid fortune companies proud since japanese corps part government governors trusted htere people getting tired patriotic whatever without question taxes attitude comes america political party caste',\n",
       " 'beleive state considered eliminating tolls motor cycles based simply fact motos clog toll booths mario realized foolishness trading hundred year relief traffic congestion take sumpreme court justice thought might forever',\n",
       " 'description external tank option redesign deleted keep things external tank wingless orbiter options deleted redesign options list today edition york times reports connor told panel redesign proposals dropped using giant external fuel tanks used launching space shuttles building station around existing space shuttle wings tail removed currently three options considered presented advisory panel meeting yesterday reported today times option cost modular approach option studied team msfc aside redesign teams msfc larc supporting station redesign team crystal city lerc reston folks also site locations helping respective teams redesign activities features option uses modular developed lockheed qualified provides propulsion communications data management lockheed developed force power station capability obtained shuttle flights solar arrays used provide power vehicle flies arrow mode optimize microgravity environment shuttle spacelab missions would utilize vehilce power source missions human tended capability opposed sexist term tended capability achieved addition common module modified version existing module docking ports added international partners labs taking place nodes shuttle docked station missions orbiter would provide crew habitability capability international human tended nasda modules another power permanent human presence capability power module habitation module acrv assured crew return vehicle option space station freedom derived option team based larc lead mike griffin option looks alot like existing design come know love option assumes lightweight external tank available assembly flights option also number flights computed inclination orbit options build occurs phases initial research capability reached flights power transferred vehicle orbiter spacelab visits tended capability griffin adopted sexist language achieved flights deployed solar power module provides power permanent human presence capability occurs flights keeping orbiter orbit acrv sometimes would orbiters orbit acrv second comes logistics supply fault tolerance capability achieved flights addition power module another thermal control system radiator propulsion modules flights internationals board power habitation module acrv added finish assembly flights systems currently used option exception data management system major changes',\n",
       " 'pascal perret article eicn etna wrote funny thing internet idea might except might something windows know used think good email ryanph dsto common abbreviation quarterdeck corporation desqview software used reading blurbs quarterdeck sent sounds pretty great allows multiple machines without requiring going emptive multi tasking network computing proper windows client server application means program used windows computers network windows programs used computer although version unix effectively many unix features mostly able compile unix type programs using djgpp compilers advertise regularly major computing programming magazines also internet support online support qdeck hope helps anyone wanting know',\n",
       " 'think george referring switch drivers video directory description reads switcher windows video mode switcher',\n",
       " 'evidence independent indicates branch davidians fire survivors said press anything unfortunately precedent government saving children roasting alive precedent religious self imolation well',\n",
       " '',\n",
       " 'well difference happen manual handy viscosity general decreases temperature numbers based typical curve oils used running viscosity room temperature weight room temperature weight typical weight oils designed operation normal temperatures weight specification oils designed operation exceedingly cold temperatures tacked winter cold place stick winter summer approximate appropriate viscosity throughout year modern multi viscosity oils change viscosity much less temperature result viscosity graphs cross several curves multi specification pegs curve temperatures normal operating temperature cold though remember numbers event weights indicate significant difference remember engine temperature regulated thermostat radiator fins time unless overheat something weight better carbonized thin general lubricate well temperature thicker like lubricate better temperature well startup engine wear occurs planning making long drives probably fine summer making short drives stick',\n",
       " 'paulson larc nasa sharon paulson describe fourteen year daugter experienced seizure november eating kellog frosted flakes well going along fine morning april bowl another kellog frosted kind cereal fruit loops mentioned first time possible reason seizure neurologist basically negated idea second episode similar nature first even scratching head data sugar coated cereals cause seizures even seen anything anecdotal given common eaten know child adolescent stuff think relationship would know also nothing weird cereals brain concerned except infantile metabolic disorders galactosemia sugar sugar regardless coated cereal sprinkled onto cereal dissolved soda coffee whatever interest years aspartame lowering seizure thresholds believe anything ever came',\n",
       " 'hello folks since last sold thangs last time went problems moving keyboard stands need anymore want drag back across country ultimate support stand probably sold gone saturday pick date steady tier keyboard stand best offer shaped bottom unit sets arms attach support keyboard main shipping included prices details worked interested items keldsen ccwf utexas',\n",
       " 'agree says deleted parts course serious reservations advice maintaining friends level relationship much easier said done people usually getting hurt especially likely happen start feelings attraction people feel attracted feelings cloud judgement experience going quickly believing date christians believing dating would okay believing premarital fine people really love relationship ended beliefs immediately returned original state especially extreme case young away home fellowship think would work exactly people however important underestimate power feelings attraction',\n",
       " 'behanna chris behanna dropped shoei seat bike trying rock onto centerstand chipped heck paint stupid leave helmet seat fall boom helmets ground table chair shelf surface large enough support easily knocked another good place helmet mirror typical standard bike fairly average mirrors screw handlebars helmet mirror fairly stable doubt mention trick quite smart goldwing gsxr bike fairing mounted mirrors little surprised though find helmet seat centerstanding bike usually leave helmet bike parked reason want helmet surface start tilting jerking ryan cousinetc yamaha vision black inverness live ride kotrb king work squid could afford bike flame ryan cousineau compdyn questor vancouver canada live quote pair nankai race replica leathers think sort phrase typically known japlish slmr drive agressively rash magnificently nankai leathers',\n",
       " 'oclock widget written using shape extension widgets current widgets support shape subclass functionality',\n",
       " 'would problems hooking toshiba external drive',\n",
       " 'leave room times said night baseball games every break took back studio mentioned followed gonna show hockey instead wife hoping rain every baseball game feed tommorrow night point glad showed hockey baseball available anywhere else would watched baseball last night',\n",
       " 'anyone experience using xrunner capbak prevuex automated test tool please email directly opinions positive negative freeman siemens industrial automation johnson city',\n",
       " 'things sell items great condition prices include shipping questions contact mail call darryl equipment mixer case rails patch cords meters gold tips records casualties inch single eric rakim inch single tribe black magic salt pepa heart break edition right stuff vanessa williams misc toshiba cordless phone',\n",
       " 'average amerikan today seems think government able eavesdrop everyone else opinion polls show people belive bill rights grant much freedom people identified anyone knows cite love mean people willing give everyone else rights even know bill rights actually says show average person average usenet reader people actually entitiled rights many people care government taking control little time',\n",
       " 'finished reading burton mack book lost gospel christian origins thought totally cool anyone else read want talk',\n",
       " 'could expand definition knowing seems monolithic sure intend need example distinguish knowing plus equals apples plus apples equals apples french knowing jerry lewis auteur means know socrates said',\n",
       " 'long think good things rather come want miss point love come love loves find good sign even harder romans sign seek aware jesus presence usually want wants strenth love empowers weakness',\n",
       " 'happen know political position people advocating harm good please point advantages draw backs requiring proof part government take action citizens part reason believe weapons available arguing absolute sanctity constitution fact fillibuster talking constitution objected suggestion senate intended exercise power clearly given point reagan republican majority senate first term coalition house came apart time bush never real support congress real point everybody everywhere pork corporations last night leaving convenience store armful junk food bought food stamps spent food stamps junk make week government assitance lessee pull almanac total government budget outlays billion dollars trillion dollars increase approx billion dollars national defense cost billion dollars billion dollars increase billion dollars leaves increase billion dollars unaccounted represented increase income security includes retirement programs housing assitance unemployment benefits believe welfare cost billion dollars billion dollars national defense started represented increase federal government spent billion dollars medicare spent billion dollars increase feds spent billion dollars housing credits subsidies like billion health care services research billion dollars billion dollars agriculture billion billion science billion billion resource conservation billion billion education billion billion veteran benefits billion billion trasnportation billion billion things seriously decreased energy category primarily supply community development area disaster relief represent loss less billion dollars huge diversion stretch current government pushed president create mess expect begin equalize pressure gone assuming role positive role want continue little positive constitution designed frustrate democratic process voters could absolutely sure getting wanted time happened putting brakes democratic process inherently thing califronia riding edge every time pull ballot initiative nonsense gets worse sometimes perhaps time people told pointed local government phill would great favor repeating talk politics guns cute eliminate violations eliminating free speech alone dangerous phill phill gotta show clear pattern reduction homicide rates across several countries current mind reduction chaining anything freedom speech calling freedom phill master subtly changing subject based argument democracy constitution tried explain good idea time referred constitution point contain restrictions veto senate appear believe meant make constitution contain fillibuster rule believe rule good idea dismiss venerating constitution constitution',\n",
       " 'version believe needed machine able newest version calling tech support modem driver dean',\n",
       " 'ites yeah catch',\n",
       " 'right cops buying antique muscle cars chase cars otherwise police cars attention large animal elephant bureaucracy helps know george patterson part feels pain sure though want full attention kelvin throop',\n",
       " 'holding bake craft sale communiversity princeton nassau street saturday april benefit recurrent respiratory papillomatosis foundation nonprofit foundation established encourage research toward cure recurrent respiratory papillomatosis three year daughter suffers disease press release appeared local newspapers hope join saturday april part communiversity princeton local family bake craft sale raise money create public awareness rare disease called recurrent respiratory papillomatosis bill marlene stern daughter lindsay afflicted disease characterized tumors attacking inside larynx vocal cords trachea caused virus tumors grow block passages would lead death suffocation without continual surgery remove growths three year lindsay undergone operations thus since diagnosis last year faces prospect hundred operations throughout lifetime even though disease hardly household word affected lives enough people inspire formation recurrent respiratory papillomatosis foundation profit foundation whose goals provide support patients families networking patients publishing newsletter enhance awareness local national level prevention cure treatment since medical researchers know virus causing disease similar viruses causing warts feel cure would within reach money available research rare gets scant attention also paltry funds search cure part foundation mission change anyone interested contributing items bake craft sale please call marlene bill monetary donations made foundation booth communiversity april downtown princeton sent directly',\n",
       " 'screws torx screws tool hard find matter finding long enough shaft trick good idea take cause stuff heat internal hard drives motherboard name cause damage known people hard drive failures fans work right',\n",
       " 'really understand watched satellite network feeds perhaps people died eyes huey fanned flames stopped firetrucks gate something wrong scene perhaps watched rambo movies might dulled pain fellow humans dying thank still feel sorry think deserved really believe even koresh sadistic said others deserve fate fact even reason believe duped followers therefore innocent brainwashed victims scenaro justifies death clear deaths would occured batf fucked initially impaitent pushed korech edge latest version story hook line sinker believed along could live embarrassment batf would severe remember suspicion evasion warrant witnesses except information filtered allow remote controlled pool camera installed near building press could done would able back story close video incurring risk press unless want public something complete lack source information really causes concern sick stomach getting sicker government apologists handheld',\n",
       " 'acura integra speed miles positively worst ever owned prelude miles sold still going strong religious attention maintenance changes cars driven exactly manner gone clutches underrated sets tires really eats tires front even careful align struts started leaking miles windshield wiper motor burned service note seek stop working radio miles timing belts constant error signals computer finally bearing went piston seriously damaging crankshaft contaminating engine overhaul done last week required crankshaft shaft camshaft shattered tried mill camshaft took weeks national back order everything engine unique year went design parts expensive',\n",
       " 'date paul dietz dietz rochester essence holding match nozzle nuts thing absolutely must engine guarantee propellants ignite soon within milliseconds otherwise fill engine high explosive mixture finally ignite blows everything hell definitely reports early test conducted rocketdyne santa susanna field hill fernando simi valleys result hung start described structural failure combustion chamber inspection picture showed pumps nothing vaporized described class took typical engineering understatement',\n",
       " 'general chairman paul bialla official general dynamics emphasis seems scaled fast plan people moon impoverished spaceflight funding climate think would golden opportunity lots precusor work modest money using agressive series robot spacecraft hint brochure hanging right people apparently',\n",
       " 'hello anyone built cxterm mips platform please send email read group bunch questions thanks',\n",
       " 'mask drawings band aids presumably every puck goalie stopped face head remember even quite games funniest mask seen funny cool',\n",
       " 'going cast vote groucho thought gonna superior power handling',\n",
       " 'sale extended services extended database support extended networking support remote host support extended communication support plus copy package brand uninstalled manuals disks included package retails selling something like needs changed thus eliminating need package bought interested please email',\n",
       " 'greetings fellow motorcycle roadracing enthusiasts background racing listserver boogie ebay contains discussions devoted racing racing related topics pretty broad interest group individuals variety backgrounds motojournalism roadracing perspective crew racers engineering motosports enthusiasts size list grows weekly currently little hundred eighty five members contributors zealand australia germany france england canada finland switzerland united states list formed october response perceived need provide technical discussion riding edge performance roadracing improve signal noise ratio found motorcycles anyone free join discussion necessarily limited rules list issues related racing motorcycles flame free daily distribution welcome subscribe subscribe send request race request boogie ebay traffic currently runs five twenty five messages depending topic please send subscription request list directly contacted list administrator receive rsvp request please respond request timely manner added list request generated order insure valid mail pathway site upon receipt rsvp added either daily digest distribution initial request digest distribution possible receive list digest form single email message roadracing digest mailed whenever contains enough interesting content given frequency postings appears every wish receive list digest every please send subscription request digest request boogie ebay post list open forum post article list send race boogie ebay depending mail site mail posted want though necessarily guarantee went include metoo line mailrc file unix based mail systems bounces time inclination replace list distribution mechanism still problem bounces returning poster message occasionally sites users line either leaving place employment prematurely hardware problems receive bounces race list check headers carefully find bounce originated whence administer list contact administration race request boogie ebay ignore bounce lists strokes strokes microunity harleys harley request thinkage uunet watmath thinkage harley request european bikes majordomo onion rain body message write subscribe euro moto thanks seeing rich race list administrator rich boogie ebay',\n",
       " 'somebody tell letter spesifications motorcycle models really mean example means honda suzuki wanna distribute club magazine want lists types already knows harley thanks advance vidar vidar solberg norway rock hard ride free proud true metallibashers',\n",
       " 'ducati quuncd theodore kaldis begin part afkin apyt great backdrop apollo thingy many people stop admire course tell much trouble contact archive sites stuff like anybody else good gifs please please hesitate post thing still going nick idiot biker concise oxford bras',\n",
       " 'want start list syclone typhoon owners interested participating please contact mail',\n",
       " 'digitizing ntsc signal displaying video monitor known display response tubes linear sometimes said follow gamma certain linearities gamma corrected encoding ntsc signals display supposed correct also grey levels example coded program intensity levels appear linear brightness monitor words monitor display circuitry correct gamma errrors response much appreciated amjad',\n",
       " 'looking algorithm determine given point bound polygon anyone code reference book containing information subject regards simon function puntbinnenpolygoon auteur cornelis wessels datum omschrijving bepaalt aangeboden vector binnen rand polygoon valt wijzigingen clibstatus puntbinnenpolygoon polygoon vector vector index aantal snijpunten aantal snijpunten geefpolygoonlengte geefpolygoonrandpunt geefpolygoonrandpunt interpoleerlineair return clibsucces else aantal snijpunten kopieervector aantal snijpunten return cliberbuiten else return clibsucces',\n",
       " 'guess subject says would like references introductory material image databases please send pointers mini point thanx advance',\n",
       " 'acorn software tape drives currently used system sale scsi tape drives working condition wangdat wangdat compression exabyte plus shipping certified checks please units sold without warrantee contact interested dick munroe internet munroe doyle munroe consultants uucp uunet thehulk munroe office hudson',\n",
       " 'well actually mention weeks documentary hockey harlem canadian club york something like sponsors league kids harlem based report seemed playing regular equipment jerseys proper outdoor rink looked like kids playing hockey anywhere else',\n",
       " 'syria bombing israeli settlements golan sending terrorist squads israel years need provide specifics give hasan really starting tired empty lies defend position ideology documented facts arguments rather crap regularly post take example someone like brendan mckay agree uses logic documentation argue position must insist constantly spouting baseless lies piss people prove anything anything worthy discussion arguments prove poor debater weak case really',\n",
       " 'think dialogue would better least gays showed awareness practical issue example women different toilets hence likely abuse girls avenue closed many situations easy prevent sexual abuse sexes measures social conventions harder prevent gays gays abuse children want became aware practical problem solve good sides protection parents children time protection gays ways importance pursuit happiness thought rohit parikh sorry rohit responding someone well recognized flaming clayton cramer must abused living life attempt vilify like something slightly similar assailant liked alter misrepresent anything finds prove homosexuals wish rape little boys like coming woodwork hope probability secretly compounds neurosis mind thinking someone else made personally someone like could walk chew time mentally crippled dominated fantasies would believe figures percentage people like sometime time smaller virtually assert everyone queer trying actually believes despite evidence homosexuals huge disproportionate amount child sexual abuse even though insists male population population francisco would currently empty significant portion sought tolerant atmosphere city numbers simply work home town origins nothing gained communicating clayton cramer unable listen anyone richard steven walz rstevew deeptht armory maple street without safe free abortion women santa cruz organ surrogates unwanted parasites real would never accept organ slavery protect women sorry response applies posted unless badly mistaken rohit suggesting protecting boys different protecting girls situations boys girls apart members opposite social convention whatever thus safe least sense situations necessarily protect children abuse members understand tremendous leap suggest think hard someone come practical solution even partial solution situations children made vulnerable homosexuals wish abuse working together good sides able start solving problems without restricting anyone freedoms walz hand using rohit post excuse personal attacks cramer walz long stretch flame cramer less childish serves weaken arguments make future',\n",
       " 'qvos vergolin euler david vergolini writes quite wings fans lurking tend thoughtful rather woofers suppose every family must roger clinton though remember paraphrase favorite star trek lines adopt ways leaf fans leaf fans',\n",
       " 'following precedent areas government likely encryption technology imposed becomes federal matter suspicision unlicensed cryptographic tool bring batf tossing grenades house batf appears logical agency enforce regulations federal control alocohol tobacco firearms similary based taxes look allow sale receiever receive bands supposed private nothing desire prevent harmful interference government make radio receiver illegal makes think claim right control encryption',\n",
       " 'gives right keep york home united nations well home myriad ethnic groups actually comparable gaza strip controlling authority would probably pleased punch unload someone else seems want historical bullshit shamir fought british incidentally shipped whole shiploads jews back nazis extermination hung jewish fighters captured want deal anymore shamir attack civilians airliners cruise ships airports sports events movie theaters markets buses children schoolyards comparison master murderer like nidal blind',\n",
       " 'tried library since look first floor professor posted ieee believe spec sheet around pages long sure library info request matter finding hope helps bret chase',\n",
       " 'hello goucher college soon retiring microvax world case hard drives port maybe system memory idea much expect machine open market please reply privately marshall goucher ampr thanks advance',\n",
       " 'seen speculation salyut design bureau planning second stage proton would boost payload geostationary goes gals launcher version scheme competing energia last year heard except recently read central specialized working successor soyuz booster must energia early results energia guess nothing clear russia sure salyut gets funds someone continue development centaur altas meters proton good existing upper stage block sets inside shround meters know launch loads since centaur survives titan launches probably worse proton titan probably shake things pretty good seems feasible except centaur fragile thing require integration available protons assembled transported horizontially anyone know much stress payload centaur could support bolted proton horizontally taken rail road track erected would also need facilities added proton pads unless proton second stage actually built course centaur support systems facilities doubt imported great cost systems viloate political problems solve addition instabilities mention',\n",
       " 'weighs maybe handle presume thumbs grapple tear head sheesh even trained attack match human advantages regards charles',\n",
       " 'dave luecking post dispatch staff thursday night scoreboard watchers arena began cheer cheer quickly turned roar finally sellout crowd rose rock barn oakland avenue salute playoff bound blues scoreboard flashed news detroit wings stars north stars loss blues officially clinched fourth place final playoff spot norris division good thing blues quit playing held lead tampa detroit minnesota final appeared minutes remaining second period promptly went sleep barely held victory nearly slipped away buzzer tampa beers tipped pass shawn chambers officiating supervisor john amico video goal judge rich schweigler ruled shot gone time expired glad blues coach berry said goal counted upset blues disappearance final minutes holding victory making playoffs tempered berry anger pretty said played great minutes good played year slipped away still blues prompting another ovation crowd game despite shoddy effort third period turmoil season blues still made playoffs meet chicago blackhawks best seven norris division semifinal beginning noon sunday chicago stadium blues finished regular season record points fourth consecutive plus season minnesota finished three points behind fifth place record points tampa played spoiler last week tying blues tampa ended first season record points poor finish cast unnecessary shadow joyous blues locker room instead mood relief disappointment shame said kevin miller three blues score goals brendan shanahan bassen others need letdown kept working would ended everyone would happy instead players happy make playoffs matters said brett hull scoreless minus night really tough play players problem score announced line quit said rich sutter played bassen miller still game play allow five goals like right disappointing going bassen almost frantic bench blues effort somehow missed announcement minnesota loss know final said kind looking around bench realize final reason playoffs great little disappointing play like letdown precisely reason berry instructed scoreboard operators keep minnesota detroit score board score showed first popped detroit leading third period blues already time told want score want know score berry said felt game approach took minnesota took lead berry feared pressure might bother blues detroit worried blues might quit announcement blues played splendidly shanahan crowd going first period scoring season miller bassen took charge late period teams playing four four miller broke left wing deked defenseman roman hamrlik beat former blues goalie jablonski rebound shot seconds remaining period seconds later bassen rifled long slap shot past jablonski defenseman rick zombo intercepted tampa pass neutral zone bassen made seconds second period scoring rebound bret hedican shot goal gave first goal game season reminded special friend last year bassen befriended young oliver mulvihill died rare form cancer thinking buddy oliver bassen said heaven know watching know happy miller increased blues lead break away goal zombo steve maltais broke curtis joseph shutout seconds later making less minute north stars final announced bergland scored lead shanahan scored converting pass nelson emerson seconds remaining second period lightning adam creighton scored seconds third period prompting berry rest overworked joseph hebert allowed goals shawn chambers danton cole span midway third period goals chambers cole made shanahan second goal stand winner shanahan said game',\n",
       " 'think wait tries dunston leadoff spot also wonder manager never believed managers much winning much losing',\n",
       " 'following singles sale collectable inch records picture sleeves price include postage first record rolling stones nervous brakdown london picture sleeve rolling stones jumpin jack flash london picture sleeve rolling stones mothers little helper london picture sleeve rolling stones paint black london picture sleeve intereste please contact',\n",
       " 'afraid lost thread suggest government regulations subject referenda follow comments mean ideology treats government regulation equally undesirable seeks abolish regulations unlikely draw support among miniscule portion electorate furthermore suggesting plan feasible industrial society weight litigation misery would produce would effectively crush productive effort surprised think interesting hand libertarians assume limited government decreed posit entire government made people carry guns realize many libertarians assume government counterbalanced fully armed citizenry worth noting widespread civilian ownership guns necessarily prevent establishment totalitarian government iraq sure since also support constitutional requirement government provide general welfare article section willing justify programs basis well first place support socialized economic system think within limits capitalism fine idea case third party likely ignorant corrupt buyer seller multitudes examples statement demonstrably false regulation stock market transactions provide reasonable basis buyers avoid fraud example',\n",
       " 'quick answer revelation heaven michael angels fought dragon angels fought back dragon strong enough lost place heaven great dragon hurled ancient serpent called devil satan leads whole world astray hurled earth angels earlier part chapter deals symbolically satan rose battle michael good angels first place',\n",
       " 'worse current unsecure system becomes much worse course government uses clinton clipper argue restrictions unapproved encryption main concern think camel nose tent excuse already happened couple humps tent already folks qualcomm became trivial encryption scheme proposed cdma digitial cellular phone standard already restrictions place slightly wrong dumped encryption system could export could produce legal restraints citizen strong cryptography perry metzger pmetzger shearson',\n",
       " 'sale dining table wooden chairs dining table scandinavian style steel desk free',\n",
       " 'clearly depends type questions asking many cases fine critical information neuron firing frequency maximum action potentials seconds amplitude signal details signal shape resolution convertor sufficient coupling problem either since many cases interested level amplifier coupled also critical point lowest frequency pass cutoff point high action potentials slightly distorted even normally matter since occurrence spike important however want know exactly expect start battling toolbox going clue start looking technical specifications',\n",
       " 'owners ford probe world mailing list commented problem seen happen month probe think something ford corrected since initial batch cars also someone said ford issued service bulletin inform dealers correct problem able dealer seen problems seen mentioned mailing list might luck definitely problems like either able find obvious places screwed hmmm keys something tells stiffed dealer actually count credit card came owner binder keys since credit card teeth guess count latter probably pretty much takes space expect find horn speaking horn surprised find probe comes nice merican sounding horns instead japanese sounding kind previous probes japanese horns yeah badly enough annoying sometimes agree strongly especially engine interior nice pleasing ergonomically sound stiff suspension everyone personally like find little harsh otherwise like strongly suggest looking problem back seat room plenty head room though shorter people back without complaints long seat sitting behind pulled forward give place feet power moonroof greatly improve ventilation throughout really enjoy moonroof always sucker open driving leakage problems anything like heard know early probes maybe problems prematurely rusting mufflers ford replace charge heard anything like concerning probes real trouble outside joint boot leaking dealer took care promptly even gave free rental half without quite happy handled especially considering expecting worst heard sounds like ford mazda problems probe probably first went production think problems mostly corrected point almost always expected completely like though hope helps chuck',\n",
       " 'shades edsel pushbuttons steering wheel controlled auto tranny disconcerting shift reverse turning corner wires shorted',\n",
       " 'looking cell line adrenal gland cortical cell type looking atcc without success would much appreciate help thank reading christophe roos institute biotechnology pobox valimotie mail christophe roos helsinki university helsinki christophe roos finland helsinki fumail',\n",
       " 'unless notes mixed comes close regular blue collar worker regular company hauled court convicted appeals circuit makes right arguments brief cited teel example winning brief shot circuit appeals supreme court certiorari denied defendant goes jail well',\n",
       " 'repeated lives earth',\n",
       " 'notice posted weekly space astro space shuttle frequently asked questions list space astro posted approximately monthly also covers many questions come space shuttle shuttle launch dates posted long expiration date copy news spool directory look articles space ways copy without waiting next posting machine internet obtained anonymous space archive ames nasa directory space otherwise send email archive server ames nasa containing single line help archive server return directions index files directory send email containing lines send space index send space files guide files retrieve answer questions shuttle launch dates posted hollis periodically space shuttle copy manifest available ames archive space manifest requested email archive server send space manifest please document instead posting requests information launches landings',\n",
       " 'unwilling public marriage ceremony willing actually done distinguish real logistical problems like stranded desert island excuses waiting brother come back army ceremony',\n",
       " 'first huge software packages files produce longer sufficient limit micropolis seems broken limit available greg greene kepler',\n",
       " 'hope gave fairly solid answer simply agree embodied version satan separate creation force quite physical descriptions heaven hell holy bible times spiritual intellectual evolution modern human physical descriptions heaven hell satan taken quite literally worked time mentioned tradition cited example sufficient absence theory germs disease spread worms simply describe evil passed consumer spoiled food satanic begs question satan case metaphorical certain allah bottom line however describing spiritual plane human language something like describing color person blind birth want read book flatland already dragon first intended light hearted description mathematical cept deleted space saving language fails cannot used adequately describe another dimension cannot experienced speakers conventions metaphor allegory like come necessary unseen described terms reference meaning reader listener like models compro mise must made speaking metaphorically clarity directness meaning equivalence perception like crippled else asked would know exists spirit rather metaphorical mean okay well satan metaphorical justify belief justify metaphor something else many many instances satan described tormentor testament book temptor testament gospels described spirit know metaphorical belief evil consider case satanists even satan metaphorical satanist would believe justify belief case someone believe religious standards evil bobby address question also deleted metaphor stephen atheist libertarian individuality responsibility jazz',\n",
       " 'jews agree malcolm cheers kent',\n",
       " 'seems supposed reading think major difference opinion legitimacy sevres first thattreaty signed ottoman empire therefore legally bind republic turkey independence movement young turks naturally rejected hand accept germans absurd cosequences harsh treaties hitler second sevres treaty even worse versailles divided ottoman empire several influence zones capital occupied economy allied control army minished nothing police force short country name wonder would like live conditions record donot feel sorry soldiers killed izmir harbour evacuating city greek forces burned serves right fooled allied promises fault come anatolia enforce sevres take part plunder well burak ucer',\n",
       " 'looks like dorothy denning wrong headed ideas gotten administration even sooner feared long odds around clinton pull plan bodily orifices working years possible denning prominent people happened start arguing system seems likely suggestion involved guess wrong apologize sure dorothy denning honest person simply think question involvement careful phrase jesuitical evasion true wholly misleading answer country experts answering questions instance british journalist jonathon moyle killed south america couple years parliament asked employee turns afterwards paid therefore employee could equally said agent went abroad private business brief interviewed debriefed length return',\n",
       " 'hello everyone motorcycles flames please bike need pieces information work would cover everything bike helmet anything else ignorant know need buying bike going insurance turn month parents taking care insurance till need comprehensive list costs buying motorcycle going insure live washington makes difference recommendations look imagine every state state bitter take written test first learners permit however wondering goes learning ride bike proficiently enough liscence kill oneself know anyone bike could teach advice heard either live near field friend pickup truck answers ride around neighborhood hope best kind live residential area suburbs still city mile downtown seem viable stories learned thanks replies advance greg humphreys meant damn autoindent',\n",
       " '',\n",
       " 'bugunlerde jewish jokes muhabbetlerinden esinlenerek sunu yazayim dedim israel able divert jewish lobby greeks example persuading supporting armenian resolution came senate february could help sour turco israeli relations addition israeli embassy washington active ensuring resolution failed instance assisting turkish jews travel wahington underline affinity israel turkey doubt debt turkey felt owed israel matter even four months solution came consideration enior member turkish foreign ministry said country grateful israel cooperation view refelecting maturity bilateral relationship experience armenian issue convinced senior figures turkey israel network washington indeed deliver desired results robins philip turkey middle east chathm house papers papers fast rather warped sense logic telling israel wishes good relations turkey even expense armenians armenia makes turks tell racist jokes jews thus infer israel poor relations turkey would alright post horrible jokes jews impress nobody',\n",
       " 'helps idea source distortion least reasonable model class distortion short description process questions feel free poke mail assume locally smooth distortion compute delaunay triangulation points defines neighbors point data naturally convex long edges convex hull consider deleting edges goals move distorteddata reference keep length measured current close possible digitizedlength measured using digitized every point compute displacement based example points know reference move alpha reference current slowly move distortedreference towards reference points examine current length edge edge compute displacement would make edge correct length correct digitizedlength take vector edge displacements move point alpha sumofedgedisplacements keep triangulated mesh consistent digitized mesh iterate happy example point moves much alpha alpha need determined experimentation consider much believe reference absolutely insist final points exactly matching references want balance error matching reference changes length edges warning couple geometric invariants must observed essentially allow convex hull change allow triangles fold neighboring triangles handled either special case checks motion individual points periodically triangulating points using current positions still calculating digitizedlength original positions first triangulation time prohibitive motivated change code working production mode years might back triangulate every iteration compute power know might consider every point interact every point first read linear solutions body problem lots papers last years siggraph proceedings springs constraints energy calculations relevant method described less detail inproceedings sloan author sloan kenneth david meyers christine curcio title reconstruction display retina booktitle proceedings graphics interface vision interface address vancouver canada pages month year techreport curcio author christine curcio kenneth sloan david meyers title computer methods sampling reconstruction display analysis retinal whole mounts number institution department computer science university washington address seattle month december year article curcio author christine curcio kenneth sloan david meyers title computer methods sampling reconstruction display analysis retinal whole mounts journal vision research volume number pages year',\n",
       " 'laserwriter disappeared completely network name show zone print serial interface seen discussion changing zone including code lets change zone maybe code back factory default settings feeling needed heal',\n",
       " 'want alarm thinking getting ungo anyone knowledge experience alarms price ranges different models good alarms please email responces lehigh',\n",
       " 'anyone experience using lciii midi along heard iivx suitable midi heard anyon anything definitive lciii midi experience midi interface used anyone used finale software setting please mail summarize thanks',\n",
       " 'devallano went earlier extensively russian strategy anyone else first waste high draft choices young russians devallano would still succombed demers pleading make oates federko trade deal sealed fate murray made decent trades doubt stupidity cheapness teams brilliance part washington cheap ciccarelli essentially gave away carson really anchor team able sucker rookie give paul coffey deadweight detroit still fails year defenseman short wasted opportunity manson available unable pull trigger judgement enough yzerman many years prime',\n",
       " 'mistaken usual sort precaution loss communications timer counting continuously ever hits zero means galileo heard earth suspiciously long time galileo fault time fallback mode minimizes chances spacecraft damage maximizes chances restoring contact know exactly galileo situation common example switch receivers theory maybe listening died',\n",
       " 'sorry bother newsgroup suggestions might find subject letter origin morphine first isolsted attempted experiment agian suggestion would appreciated instructer insists rescources newsgroup please send info think helpful facts know know book attention like seeing letters newsgroup direct complaints instructor bshayler calstat kilimanjaro pretty tricky climb reach tends slope away rather sharply george head',\n",
       " 'posted friend okay looked faqs know come xalloccolor supposed following order find exact match read color cell within hardware limits allocate read colorcell match else fails return colorcell best match read colors already allocated colormap sounds good theory seem work though exact match already colormap unallocated cells xalloccolor fails even already allocated several cells already dozens read cells already colormap feature misunderstanding part help appreciated',\n",
       " 'reference line trimmed well murderer intentionally committed murder instance bullet thought contain blanks someone killed person actually performed action murderer guess actually made clear definition mean reasonable include word defined definition even though series recursively infinite think meaning still deduced math lesson deleted okay look situation suppose longstanding feud families claim committed travesty distant past time member family kills member family thinks justified killing member first family suppose sequence occurred infinite number times like dealing infinities suppose member family goes back time essentially begins whole thing never ending loop slayings based existent travesty resolve well murders suppose totally applicable problem still possible reduce uninduced system case nested murderer definition murder cannot infintely recursive given finite existence humanity murder cannot committed without killing involved first person intentionally cause someone killed necessarily murderer enough induction solve apparently unreducable definition totally objective system information available nested definition really problem',\n",
       " 'kevinh wibbled rolls royce owned british firm gods would civilization know ford owns aston martin jaguar general motors owns lotus vauxhall rover owned honda minor blasphemy companies would likes jaguar lotus outright sacrilege british ownership fundamental thing think legal clause name regardless owns must british company owner sell company name kevinh hasler ascom believe anything seperate company aero engine company think government stake unfortunately owned stake jaguar decided make quick buck sold ford bastards definitely ultimate arthur daley government nick cynical biker concise oxford leaky gearbox',\n",
       " 'looking package implements standard image processing functions reading writing standard formats clipping zoom implemented public domain private packages interest particular application area mind medical imaging package meant general context would acceptable please reply summarize general interest',\n",
       " 'current orbital elements norad line element sets carried celestial updated daily possible documentation tracking software also available system service satellite user community current elements current shuttle mission provided celestial accessed hours using data bits stop parity element sets also updated daily shuttle elements documentation software also available anonymous archive afit directory space',\n",
       " 'edited newsgroup line like crosspost much compare recently deskjet pleased output remember used imagens laser postscript printers school looks good careful touching smudge deskjet slow comparison printers mentioned idea bubblejet compares interface printer dandy problems hope helps cindy cindy tittle moore',\n",
       " 'take look cica indiana util misc program caleld vswitch close want want hope helps',\n",
       " 'called cool boxes advetised several years recall damark advertising recent catalog problem units keeping food cold warm peliter devices used seem enough punch keep want something need heat hours later food thats moderately warm goes cold items probably better getting good coleman cooler stocking blue blocks enough punch keep things cold mike behnke senior tech advisor quid illuidin aqua fermi accel equipment suuport batavia computing pistrix pistrix behnke fnalf fnal opinions like call',\n",
       " 'happened waco fault batf would proper equipment personal could captured compound initial assault none would happened batf needs people better weapons armored transports meet hostile fire able force instead retreating stand going right batf protect must proper equipment people increased crime streets batf needed ever blast away good fokes price order country look good people died wars protect great country',\n",
       " 'tried true method utilized guerilla terrorists groups conduct operations midst local populace thus forcing opposing state possible harm innocent civilians search order avoid deaths civilians abandon search certainly people population cover also blaim dragging innocent civilians harm suggesting guerillas population cover israel totally back easiest away attacking another innocent shield hope respects innocent lives damn right israel insists sort demilitarized buffer zone many years attacks territory arab states watched states nothing exactly surprizing israel decided stop actions whole attacks israel neighboring arab states start also hope happen occur arab states show prepared take responsibility duty stop guerilla attacks israel soil prove provide guaratees israel going accept word past attitude tolerance towards anti israel guerillas residence good lord brad world goves idea troops stop anything stationed country country allows leave time nasser somehow limitation troops powers think israel going comfortable without genuine commitment peace arab states concrete intellectual political exercises jargon guarantees parties worthless israel perhaps useful ruse perhaps aware communities people feeling better many fighting attack silently accept fate however call israel sense suffering fewer casualties suggest apply palestinian arab islamic groups israel perspective concessions gets nothing except realization given something hope side decides likewise words taken back merely take back tangible items land control land requires sort action israel stay away israel attacks arab state territories decades essentially putting stop invasion lebanon entire basis reality exactly state israel would express outrage attacks protest arab state involved state promptly ignored entire matter secure knowledge could held responsible acts committed private groups israel would prepare next round attacks would israel want return days idiotic suggest trust motivations present arab states different present situation tells arab states pursue past antagonistic policies towards israel talk vague political factors tangible like israel gave factors guarantee responsibility states assessment difference based whole assumptions states feel confortable basing existence sort thing without support active involvement syria lebanon would able accomplish occurred syria leaves lebanon able retain control syria stays thay even dangerous israel',\n",
       " 'third final call votes creation newsgroup misc health diabetes mass acknowledgement valid votes received april appears posting please check list sure vote registered read instructions voting carefully follow precisely certain place proper vote instructions voting place vote creation misc health diabetes send email message navy place vote creation misc health diabetes send email message navy contents message contain line vote misc health diabetes proposed email messages sent addresses must constitute unambiguous unconditional votes newsgroup creation proposed conditional votes accepted votes emailed addresses counted mailed replies posting returned event vote placed individual recent vote counted voting continue votes accepted date administrative inquiries pertaining made email swkirch navy proposed charter appears charter misc health diabetes unmoderated purpose misc health diabetes provide forum discussion issues pertaining diabetes management diet activities medicine schedules blood glucose control exercise medical breakthroughs group addresses issues management type insulin dependent type insulin dependent diabetes technical discussions general support discussions relevant diabetes welcome postings misc heath diabetes intended discussion purposes construed medical advice diabetes serious medical condition requiring direct supervision primary health care physician charter following individuals sent valid votes bill satterlee loki williams freenet carleton colin henein axel dunkel academ itesm jesus eugenio nchez anugula badlands nodak ramakrishna reddy anugula apps sneaks kodak robert apps arperd alicia perdue baind dave bain balamut morris morris balamut juliet caltech bgaines ollamh brian gaines bjorn larsen delab sintef bobw hpsadwc waltenspiel bruce liverpool bruce bspencer binkley mcgill brian spencer cline usceast scarolina ernest cline coleman twin twinsun mike coleman compass tomd compass thomas donnelly coast ucsd charles coughran curtech stephanie bradley swift debrum brenda msgate corp apple debrum brenda fanny wash inmet david barton midway uchicago deborah lynn gillaspie dougb comm douglas bank titipu resun edward reid edmoore hpvclc moore kaja alaska eric olson emcguire intellection mcguire hplb enrico coiera feathr bluejay ampakz enet franklig arizona gregory franklin fsspr acad alaska hardcore alaskan gabe angus gabe helou gasp medg isaac kohane gasp medg isaac kohane geir millstein tele ggurman cory berkeley gail gurman wolves durham gregory woodbury greenlaw oasys navy leila thomas andrew gretchen miller halderc handelap duvm bitnet pucc princeton phil handel hansenr ohsu nyongwa heddings chrisco navy hubert heddings herbison lassie hmpetro mosaic uncc herbert petro hosch iscsvax hrubin stat purdue herman rubin hudsoib auducadm auburn ingrid hudson huff mcclb edward huff huffman ingres gary huffman huynh estd navy minh huynh ishbeld compulink ishbel donkin james langdell james langdell jamyers netcom john myers crosfield jerry cullingford jesup cbmvax commodore randell jesup jjmorris gandalf rutgers joyce morris joep csiro petranovic john burton acenet auburn john burton johncha comm jorgensonke uvcc jpsum joey ucsfvm ucsf john maynard julien skcla monsanto kaminski netcom peter kaminski kerry citr kerry raymond kieran world aaron dickey knauer uiuc knauerhase kolar spot colorado jennifer lynn kolar kriguer marc kriguer stephen boylan cwru lunie lehigh lusgr chili lehigh stephen roseman beamish marilyn beamish rich maurice rich maas cdfsga fnal peter maas macridis kosmos govt gerry macridis markv hpvcivm mark vanderford maschler huji michael berch mcday uiuc mcookson flute calpoly harvard mauricio contreras martha gunnarson mhollowa libserv sunysb michael holloway misha abacus concordia misha glouberman brown manish butte moflngan muir idiom berkeley david muir sharnoff nancy block nancy block ndallen node nigel allen rohrer nathan owens cookiemonster buffalo bill owens pams hpfcmp sullivan papresco undergrad math uwaterloo paul prescod paslowp pillinc christopher pilling pkane cisco peter kane popelka odysseus uchicago glenn popelka pulkka washington aaron pulkka pwatkins watkins rbnsn mosaic shearson robinson rick crick ssctr richard miller robyn media robyn kozierok rolf green mathematik stuttgart rolf schreiber sageman portal sasjcs joan stout scottjor delphi scrl hplb vectis demon stuart squibb techops cray sharan kalwani sharen iscnvx lmsc lockheed sharen rund shazam matthew thompson shipman csab larc nasa floyd shipman shoppa erin caltech shoppa slillie bradley susan lillie steveo world steven surendar surendar chandra swkirch navy steven kirchoefer fagan taryn arizvm ccit arizona taryn westergaard thomas taylor gagme thomas taylor tima cfsmo honeywell timothy aanerud tsamuel gollum relay nswc navy tony samuel uicvm jacobs vstern vanessa stern wahlgren haida james wahlgren waterfal pyrsea pyramid douglas waterfall weineja teomail jhuapl wgrant informix william grant yeager mscf upenn yozzo watson ralph yozzo beach utmb molly hamilton',\n",
       " 'quick summary recent findings high speed modems three contenders seem paradyne zyxel robotics zyxel biggest cult following ignored need something software work without tweaking dataport earns nearly unanimous praises reliability backordered moment probably special price effect capabilities worse modems warning modem comes cables lifetime warranty applies order directly paradyne called elektek distributors wanted charge cable gave year warranty sportster also highly highly recommended clubmac willing roll cable care faxstf software generic model outlets assuming rich uncle afford motorola codex ended ordering dataport works weeks',\n",
       " 'browser group time concerned clipper chip proposal hoping someone knowledge help would influential people write protesting obvious next step hinted proposal heads committees major flaws plan cryptological standpoint',\n",
       " 'anyone done model version seem someone else already done',\n",
       " 'boss considering purchase powerbook leaning towards math coprocessor mathematica would could find mini dock coprocessor third parties announced beast',\n",
       " 'water head never said israel diverted lebanese rivers fact said israel went southern lebanon make sure water used lebanese side water would jordan river israel head',\n",
       " 'explicit necessary image attributed geosphere company likelihood permission given reprint unlikely owner individuals however interesting images make computer demos pirate might flak image considered interesting many people would like whenever global needed lots temptation mail person said since source data satellite imagery copyrighted derived image true distinctive creative expression data protected image certainly fits since else taken tremendous effort create precedent recent telephone book court case bell tried copyright data books prevent competitors copying trick entries book court permitted copyright expression data data cant xerox sell telephone book attention digital copyrights future computer becomes mass product moguls bill gates currently hoarding digital copyrights',\n",
       " 'true israeli stocks nuclear weapons could provide evidence israel nuclear weapons however restricted killing deer addicted cherrie soldiers locked cellar garinei afula factory since gingi lost anymore even gingi finds chief rabbis time lock bombs allow activated sabbath weeks follow victories betar jerusalem soccer team quick glance national league score table reveal strategic importance fact',\n",
       " 'using several months several others also monitor problems personally would spend extra money monitor sacrifice features based comments others might want view series running windows refresh rate appears might feel differently finally speaking spending money size today files tape backup certainly worth recently friend vesa local redraw time graphics program factor faster doubt warrants extra cost',\n",
       " 'actually govrnment telling want product manufacturer actually better trusted pair escrow agencies already situation makers keys cars quickly number doubt presented court order surrender copies government chances many locksmiths code numbers house locks installed emergency keys thus also provide keys government pursuant court order state difficulty gaining access safe deposit court order analogy argue proposal rather better distinctions required thinking house safe deposit keys david',\n",
       " 'brad clarinet brad templeton public system would almost impossible handle might mean paid patent general concept public encryption well particular implementation known first thought using diffie hellman exponential session exchange equivalent however diffie hellman patent like hellman merkle public systems claims equivalents basic point stands interestingly quote bidzos showed media real soon announcement sounded pissed maybe realized might struck gold someone admit general scheme clipper uses',\n",
       " 'deleted glad atheist seems tragic people choose meaningless existence terrible living fears death life feel sorry eric attempts share life would considered evidence infectious nature christianity christian free human person think love choose create live forever christ kind drug drugs replacement christ empty spot shaped hole hearts must something ease pain effective substance abuse recovery programs involve meeting peoples spiritual needs thank eric post helped appreciate much blessed hope someday filled abundant life',\n",
       " 'thanks people recommended workspace managers windows found shareware workspace managers australia windows archive monu monash mirrors sites three found workspaces wspace smallest simplest workspace managers found easy displays small window containing buttons plus extra button configuration purposes annoying feature title window first presented must press mouse button thing away also would nice always setting little window containing workspace buttons maybe user specified strings buttons instead numbers might nice feature simplicity ease workspace manager makes attractive package workshift wrksft workspace manager offered features workspaces lacked quite time consuming things workspaces first workspace initially empty workshift need take snapshots want workspaces look like applications contain also main window quite large allow small view workspace workspaces facility viewing workspace without switching workshift provides viewing functionality quite useful bigdesk backmenu backdesk interesting package contains goodies well workspace manager goodies include backmenu provides root menu press certain mouse button like windows menu totally configurable offering unlimited depth cascading menus provides quite handy access applications could menu based alternative program manager also bundled backdesk program called wrun allows windows applications shell windows instead using file manager applications actual workspace manager called bigdesk bigdesk works quite differently workspace managers provide certain number disjoint separate workspaces fact basically enlarges desktop configurable amount choose region desktop want screen focus means windows overlapping different viewing regions unlike first workspace managers workspace isolated bigdesk control window allows move windows around enlarged desktop basically control window provides small scale view viewing area actual computer screen provides large scale blow particular section',\n",
       " '',\n",
       " 'monster rally right carry weapons tomorrow sunday april denver libertarian party sponsor rally state capitol support individual right carry weapons speakers include former colorado deputy attorney general david kopel radio host hamblin chair david segal pistol instructor lenda jackson novelist neil smith presence participation highly welcome information call david segal cathy smith',\n",
       " 'comment kings obvious candidate pleasant surprise alex zhitnik came highly touted defensive defenseman clearly much great skater hard shot though wish accurate fact pretty much allowed kings trade away huge defensive liability paul coffey kelly hrudey biggest disappointment thought good begin best mediocre goaltender better choice would tomas sandstrom though fault thugs toronto decided threaten career order avoid conceding goal award goes robert lang uninspiring czech robitaille could easily prefer give blake quietly becoming league premier defensemen kings manage hold onto rest young defense could mean fewer goals hartford honorable mentions majestic marty warren rychel',\n",
       " 'bible says true atheism mistaken seems pretty obvious socrates said many gods true monotheism atheism mistaken even socrates never existed think must come late discussion part least began benedikt questioning historical acuuracy making point standards used validate secular history used discredit history virtually nothing known first century seem saying bible cannot true speaks existence fact objection nothing history merely another statement atheism',\n",
       " 'comment like people decide good think going decide anything better carrying badge made capable determining hell anybody going anywhere find necessary problem instead minding business someone minding business give room want make things easy even letting front politely directional hand someone like decides want block general asshole make life miserable possible long affect anyone else minding business phrase describe someone like self appointed traffic police mind business stay right lane belong mustang pitas bpita epping cambridge geddy disclaimer opinions mine obviously since',\n",
       " 'arghhhhhhhhhh read memos said personally people order exact food different times restaurant people ordered food tell time food time food time reaction time reaction came time food difference restaurant ingredients lots chinese food love chinese food learned following food restaurants prepare food without order food restaurant hold never soup unless restaurant cooks without reaction okay understand reaction reaction trouble understand please tell words understand look dictionary great secret successful marriage treat disasters incidents none incidents disasters harold nicholson',\n",
       " 'would consider staying',\n",
       " 'article queernet rogerk queernet roger klorese nambla presence pride parade says quite says either parade organizers want show support nambla fundamental misunderstanding rights responsibilities would really really like believe latter would need help perhaps though exclusion perotistas pride parade would make think clue regard dozens examples know',\n",
       " 'amusing seems sdcns realize much baseball team game combining efforts every player consider game last night bottom game clemens pitched strong nine innings allowing runs ryan pitched couple shutout innings though needed excellent defensive plays behind quantrill pitched couple innings gave ahead credited scored bottom inning looks like team effort quantrill credit offense dawson vaughn think early game without either would lost nine quintana solid single zupcic pinch quintana providing speed first third cooper ripped second single inning melvin avoided getting home much help something scrub richardson double scoring speedy cooper first hill lack defense helped cooper zupcic credited runs melvin richardson credited rbis seems quintana whole inning melvin really contribute much richardson furthermore people seem consider rbis significant runs melvin contribute cooper cooper provided game winning baserunner moved tying third base assigning credit based runs rbis clearly ridiculous argue show came clutch better least claim tell contributed last night victory',\n",
       " 'good feeling problem special case solution worried four coplanar points shape square unique sphere surface similarly colinear point finite sized sphere surface algorithms geometrical designed rather algebraically design meet problems neatly determining plane points colinear algorithm afil return infinite intersecting lines possibilities line points planar circle different lines parallel sphere radius last case achieved colinier points point taking point pairs first parallel lines produced also achieved points coplanar circle seems algorithm fails points coplanar algorithm always fails points coplanar points colinear coplanar testing point coplanar plane first points found trivial',\n",
       " 'argument well make well started questionable premise fire necessarily insanity rather negligence accident recall survivor claims fire started tank knocked kerosene lamp kind makes arguments regarding relative sanity somewhat moot nice evasive maneuver chekov still tail plainly complaints david koresh religious sexual proclivities justified armed raid bureau alcohol tobacco firearms entirely fetched nobody outside compound would know everybody inside compound forget batf admits agents inside compound case simply devil advocate reasonable doubt boatload standing anybody totally swallowing official government story waco',\n",
       " 'someone recommend ship motorcycle francisco seattle much might cost remember thread shipping someone saved instructions bike prep please post email thanks',\n",
       " 'apple monitor past months gone brighter brighter colors rich anyone encountered similar problem dows anyone happen know problem',\n",
       " 'hope realize trivial manufacture compounds given equipment chemicals commercially available given knowledge graduating could synthesize enough compounds make serious dent population several major cities also noted knowledge production nuclear weapons even restricted thing expense going around making things cause simply marginal benefit killing anyone enact respect going give ability charge someone make said weapons case chemical agents seriously doubt would even know someone weapons used part trouble chemical weapons treaty ussr many precursors chemical weapons sarin valid commercial uses easy divert precursors chemical weapons manufacture without anyone knowing',\n",
       " 'told local computer guru unless perform level format existing hard drive system hard drives beginning took word tried find going back everything another anyone knows sure scoop would like know also thanks advance also',\n",
       " 'lord good tender mercies works',\n",
       " 'able pick cable computer wiring store give address alberta computer cable calgary victoria canada think address calgary would help much basically however phoned charged approx custom made extension cable mouse hope helps',\n",
       " 'missed presentations given morning session shea gave rambling almost inaudible presentation attend afternoon session meeting small conference room speaker wired mike microphones table panel members peons like foyer outside conference room watched presentations closed circuit general sound system fair poor speakers like committee member italian space agency also almost inaudible shea lead formal presentation sense running guiding presentation even attend afternoon session vest show president chair advisory panel',\n",
       " 'code stream might independently attacked based knowledge clipper chip protocols revealed plaintext could invalidated changing temporal spatial relationship clipper stream actual transmitted stream control secure generator synchronized endpoints useful life time captured enforcement blocks might limited based hostile forces using targets following transmission interception would need large number supposed millions things right adding time stamps encrypted enforcement block probably impractical wants encryption chip real time clock entire idea enforcement block invalidated thought could capture enforcement blocks session keys actual transmissions session authenticators proviso mind serial number discovered denning sent information version clipper chip hash function embedded clipper transmission block reflecting enforcement block better fall block boundaries recognizeable datum could like randomizer inclusion remember reading intel approved random noise source silicon hence ability inside',\n",
       " 'external hard drive wish startup disk problem switch boots internal restart warm boot boots external make boot directly external please email replies possible thanks advance',\n",
       " 'well armenian jewish scholars denying obvious source hovannisian richard armenia road independence university california press berkeley angeles addition kars batum oblasts empire increased area transcaucasia square miles estimated population entire region percent armenian percent georgian percent moslem latter group tatars paradoxically barely third transcaucasia armenians lived erevan guberniia christians constituted majority three seven uezds erevan uezd administrative center province armenians compared moslems time russian census however armenians established scant majority percent guberniia risen percent inhabitants impressive change province ethnic character notwithstanding creation armenian republic solid block tartars continued dominate southern districts outskirts ereven border persia also historic armenia administrative subdivisions transcaucasia percent turk closed roads mountain passes might serve ways escape tartars proceeded work extermination troops surrounded village village little resistance offered artillery knocked huts heaps stone dust villages became untenable inhabitants fled fields bullets bayonets completed work tartars escaped course found refuge mountains succeeded crossing border turkey rest killed whole length borderland russian armenia nakhitchevan akhalkalaki plains ararat cold mountain plateau north dotted mute mournful ruins tartar villages quiet villages except howling wolves jackals visit scattered bones dead ohanus appressian like soviet armenia today longer exists single turkish soul power tear away veil illusion create certainly possible severe artificial life support system imagined ethnic purity falsely trust structure support heart beats alien land sahak melkonian preserving armenian purity walter bellcore nyquist bellcore daniel dusan chukurov kidding armenians tore apart ottoman empire eastern provinces massacred million defenseless turkish women children elderly people burned thousands turkish kurdish villages exterminated entire turkish population armenian dictatorship outrageous sleight hand still employed today armenia brings depth verification turkish genocide hard match hundred years armenians thought could whatever wanted sheer terror like russian anarchists accepted role models several armenian terror groups like asala sdpa terrorism revisionism triangle resorted tactics butchering scores innocent turks families united states europe seems different scale fascist soviet armenia today merciless massacre civilian population small azeri town khojali karabagh azerbaijan reported taken place night coordinated military operation mechanized division army armenian insurgents close people reported massacred elderly children spared many badly beaten shot close range sense rage helplessness overwhelmed azeri population face well armed equipped armenian insurgency neighboring azeri city aghdam outside karabagh region come heavy armenian artillery shelling city hospital pregnant women well born infant killed azerbaijan appealing international community condemn barbaric ruthless attacks population sovereignty serdar argic',\n",
       " 'using work fine hopefully someday wfwg communicate tcpip right load netbeui',\n",
       " 'made mode graphics library available originally wrote routines kind exercise perhaps someone find useful certainly useable missing higher level functionality intended intro mode programming starting point library assumes processor trivial modify enough people make mods post different version routines written assembly tasm callable fairly simple found fast purposes anyway routines included enter exit mode define virtual screen pixels pixmap rectangular image transparent spots sprite image thru areas copy areas virtual screen video memory also included simple routine draw line well routine load color image buffer also wrote quick dirty demo program bounces bunch sprites around behind three windows whole package available spang camosun zipped pkzip completely public domain concerned whatever like however nice credit maybe mail telling like like bother',\n",
       " 'help working project involves using text foreign language characters case norwegian manipulating data excell exporting data comma seperated variable files workstation norwegian characters show fine windows appear funny characters workstation workstation setup national language support problem entering norwegian characters workstation keyboard investigation found character codes used windows different characters specified msdos code page msdos codes seem workstation gives around please reply mail office next days reading news thanks',\n",
       " 'xtici worked system using clientside ultrix serious floatingpoint compilation problem',\n",
       " 'wrong think even claims unlawful distribute code implementing appears unlawful agree last sentence correct',\n",
       " 'good thing stuck couple question marks seem recall somebody built least proposed wasp waisetd passenger civil transport thought maybe sure funny passenger compartment hand seemed save fuel thought area rules applied even transonic speeds badly',\n",
       " 'eisa vesa royal among others celling system penio penev internet penev venezia rockefeller',\n",
       " 'immunization program useful first step among things money creating maintaning computerized innoculation database children code named mother kidding name children defense database something like money spent little tangible results achieved goverment start knocking doors neigborhoods bribe parents others probably ones paying kids attending school fantastic idea disclaimer opinions expressed mine employer',\n",
       " 'site speaker sound driver sound file claims driver suspicious since file thats file self extracting archive extracts file michael',\n",
       " 'well would depend much wanted much wanted',\n",
       " 'exist number licensed philips make variant chip includes extra featurfes ports making microcontroller like',\n",
       " 'sorry disappoint wings earned victory easily watched game espn soon realized televising game beginning second maple leafs flat flat meanwhile wings skating freely dictating pace game detect penalty calls hellemond usual good toronto looked like expected first playoff game years nervous leafs sake hope butterflies game game indicative series gonna quick',\n",
       " 'stimulation vagus nerve slows heart drops blood pressure gordon banks skepticism chastity intellect cadre pitt shameful surrender soon',\n",
       " 'like philadelphia making dust dead leafs roger continue embarass brash predictions whitewashed last place team granted philly pretty decent best team cambell conference would beaten last place team',\n",
       " 'played scandinavium gothenburg april sweden finland peter popovic markus naslund ville siren keijo sailynoja juha riihijarvi timo saarikoski vesa viitakoski jari korpisalo kari harila rauli raitanen larsson mikael renberg stefan nilsson hakan ahlund thomas rundqvist roger akerstrom roger hansson stefan nilsson patrik juhlin charles berglund keijo sailynoja keijo sailynoja mikael renberg hakan ahlund thomas rundqvist jari korpisalo shots goal penalties attendance referee sweden peter andersson finland sweden sweden opened scoring markus naslund made drop pass finnish blue line popovic picked advanced towards finnish goal shot nice hard wrist shot ketterer corner ville siren slap shot blue line power play made juha riihijarvi scored nice goal another power play close front goal puck high aslin first period finns started second period really good pressure korpisalo made another goal close range high aslin finnish pressure sweden turned game around mikael renberg worked hard behind finnish goal passed puck larsson front backhanded puck rundqvist entered finnish zone passed ahlund finnish defense ahlund skate take shot ketterer dropped goal next roger hansson behind goal sent puck back blue line roger akerstrom took slap shot ketterer puck since traffic front third period started nice goal stefan shadow nilsson stefan patrik juhlin entered finnish zone patrik passed puck back stefan alone ketterer made mistake keijo sailynoja show started reduce equalized lead seconds first scored goal came alone aslin tripped aslin penalty shot sailynoja made nice penalty shot showed forehand backhand shot swedes seemed head mikael renberg scored goal late game nice power play combination renberg waited slot showed wanted puck backhand side ahlund passed puck renberg took turnaround shot ketterer goal side jari korpisalo plans seconds later scored game final goal make korpisalo took slap shot narrow angle maybe aslin saved decent game defense best teams juggled around lines second third period combinations renberg rundqvist plays well together swedish team larsson nilsson juhlin best line overall seems working line stillman good defense players good enough though hakan ahlund faell hjaelmen jobba roger hansson challe berglund kenny jonsson likely leave pros goal scorers jari korpisalo keijo sailynoja played well finnish team markus ketterer good game seen better lindfors probably finland starting goalie heard tikkanen join finnish team would inter resting know pros coach matikainen counts starting lines sweden finland peter aslin markus ketterer kenneth kennholt mikko haapakoski fredrik stillman ville siren hakan ahlund jarkko varvio thomas rundqvist mika nieminen mikael renberg keijo sailynoja roger akerstrom erik hamalainen arto blomsten kari harila larsson rauli raitanen stefan nilsson petri varis patrik juhlin jari korpisalo peter popovic timo jutila stefan larsson harri laurila roger hansson juha riihijarvi fredrik nilsson timo saarikoski peter ottosson vesa viitakoski pasi sormunen janne laukkanen markus naslund juha ylonen peter forsberg timo peltomaa jonas bergqvist marko palo played parts game charles berglund mika alatalo kenny jonsson saku koivu marko palo',\n",
       " 'hmmm listening local radio expert amazingly enough honest expert amazing knows said based conversations inventor slick longer comapny kind conflict avoids like plague recommend teflon based type additives though james',\n",
       " 'maybe little tired seem follow logic whatever held true earth held true heaven priest apparently required fact read next verse correctly matthew understand marriage take place required agree earth touching thing shall done todd',\n",
       " 'casio digital dairy organizer sale unit expansion card slot good condition asking plus shipping',\n",
       " 'ever hear cutting electricity done effective electric stove',\n",
       " 'carry step doctors would claim infallible indeed would generally admit could conceivably wrong case blood tranfusion might turn necessary however doctors would enough confidence conviction claim genuine concern necessary fallible human beings must acknowledge possibility wrong however would also doubts reasonable stand convictions',\n",
       " 'following addresses lymenet mailing list rejecting mail since list server originally accepted addresses successfully assume addresses since eliminated improperly functioning mail gateways might also responsible listed would still like remain list please write otherwise remove addresses list next newsletter goes general rule please remember unsubscribe mailing lists account closed save listserv maintainer many headaches lezliel sitka kenneth hall roch xerox westmx ayoub uunet absol absol panix',\n",
       " 'archive name intel unix last modified note major organization replacement frequently asked questions list article includes answers options software intel based unix system free options commercial options xfree xfree supported video hardware supported accelerated boards xfree support color modes hardware software requirements source xfree binaries xfree general things know running xfree installation directories configuration files determining clocks monitor modes rebuilding reconfiguring server link specific things know running xfree linux mach things know building xfree source anything special building clients xfree compatibility library ansiccoptions article include answers general questions since already covered regularly posted david lewis craft uunet anything change know especially problem someone else able help send changes steve toronto please somewhere subject line mail filter correct mail folder please questions answered time respond individually instead post question send question answer together frequently asked questions intel based unix answers options software intel based unix system free options best option xfree enhanced version version slower performance difficult compile information obtain xfree listed port server system done thomas roell roell sgcs supports wide variety svga boards major free versions based included distribution need patch source current commercial offering sgcs commercial options metro link mcnab road pompano beach email sales metrolink summary unixware lynxos desqview venix solaris pyramid sunos svga tiga targa mach fujistu matrox microfield graphics motif openlook xview imaging extension video extension audio drivers multi media sgcs snitily graphics consulting services brookgrove lane cupertino email info sgcs mips info summary ultra diamond stealth svga motif dual headed server consensys corporation booker universal city phone email info consensys summary consensys consensys version unix system release server support svga moolit motif clients santa cruz operation santa cruz california unix email info summary unix server support svga assorted local hardware compatabilty guide actual card vendors motif answer software consulting columbus ohio xlab email sales coher summary coherent greater works vesa compliant video note commercial vendors including vendors describing bundled software welcome submit summary information summary information xfree xfree xfree enhanced version distributed release consists many fixes speed improvements enhancements highlights enhancements speedup package glenn integral part xfree selectable time xconfig file speedups require based svga others require virtual screen width speedups suitable configuration selected default high quality board vram yield improvement xstones benchmark packages tsillas included default operating mode speedup selected mode equivalent performance approximately faster support localconn compile time selectable server clients support advanced compatibility package local connections xsight clients supported drivers trident tvga tvga svga chipsets refer files readme readme trident details trident drivers support compressed bitmap fonts added thomas eberhardt code contrib directory export type font code contrib tape included compile time selectable contributed type fonts contrib directory export configuration method allows server drivers font renderers reconfigured source binary distributions integrated support mach linux monochrome version server generic cards included following features added release xfree xfree monochrome server enhanced bank switching available svga memory allow virtual screens manual page information support hercules mono card added monochrome server ability support headed server hercules tested also reported work linux shared libraries tested support special considerations consider bugs readme file information support mice logitech mouseman trackman versions devices previously compatible tutorial develop correct video card monitor timing data written eric raymond derived previous documentation experimentation greatly improved support international keyboards including implementation compose functionality found many vendor servers keybd manual page information accuracy server detects svga pixel clocks improved timings stored accuracies users want consider removing existing clocks line xconfig file probing using server many enhancements error handling parsing xconfig configuration file error messages much informative intuitive validation done many options enabled xconfig file manual page information format file plus number small things refer changelog file source distribution full details also included tutorial monitor timing eric raymond current mode database sample configuration david wexelblat supported xfree supports consensys microport dell esix consensys linux mach supported work active person greg lehey grog lemis note esix supported anyone feel free submit patches interested tackling send mail xfree physics video hardware supported time xfree supports following svga chipsets tseng tseng paradise pvga western digital supersets pvga driver genoa gvga trident tvga tvga supported color monochrome modes exception chipsets supported color mode monochrome server also supports generic cards using video memory single bank hercules card video memory supported monochrome server gvga tested appears svga card manufacturers going traditional mechanisms selecting pixel clock frequencies avoid modify server accommodate schemes xfree adds support using external program select pixel clock allows programs written mechanisms discovered refer readme clkprog file information programs work need write develop program xfree team would interested including future xfree releases purchasing hardware purpose using xfree suggested purchase based board orchid prodesigner avoid recent diamond boards xfree work diamond provide programming details fact xfree project actively supporting diamond products long policies remain effect contributions code accepted potential liabilities would like change tell diamond people asked xfree would work local eisa video cards theoretically means communication video card irrelevant xfree compatibility could eisa local matter chipset video card unfortunately developers access eisa machines largely untested theory however reports things working buses several reports xfree working fine accelerated boards time support xfree accelerated boards like ultra tiga support available commercial products sgcs metrolink server available linux contact hasty netcom robots linux beta server available linux contact martin robots note servers part xfree xfree support color modes reason supported implements color modes color modes byte frame buffer memory contains pixel color modes implemented planes byte frame buffer memory contains pixels four planes frame buffer code designed deal handled color modes packing pixels byte code could modified support already sure things complete frame buffer implementation required beta testers looking nothing available project hardware software requirements obviously supported svga board required efficiently memory considered minimum various binary releases take disk space depending whether supports shared libraries build sources least free disk space required although considered comfortable lower bound source xfree source patches current version based available anonymous export contrib xfree physics xfree xfree rest location called refer readme file specified directory information files need build distribution binaries xfree binaries available anonymous physics binaries xfree binaries xfree ferkel ucsb binaries xfree stasi bradley binaries xfree blancmange utexas binaries berlin binaries xfree linux binaries linux packages agate berkeley binaries ports xfree mach binaries ensure getting xfree sites archive older releases well binary distribution contain readme file describes files need take archive compile time option selections made building distribution general things know running xfree installation directories level installation directory specified projectroot default variable config site binaries include files libraries installed projectroot include changed rebuilding sources modified symbolic links support directory nonstandard chosen allow xfree installed alongside commercial vendor supplied implementation configuration files xfree server reads configuration file xconfig startup search path contents syntax file documented server manpage consulted asking questions determining clocks monitor modes david wexelblat dwex mtgzfs maintains database known clock settings cards monitor settings database installed modedb source tree server database also available latest copy kept export contrib modedb updated occasionally obtain copy database might settings need create settings please send david inclusion database help videomodes eric raymond file xfree contains tutorials come timings helpful start settings almost work description right send information david wexelblat inclusion database note clock program supported completely unnecessary need determine clock values board remove clocks line xconfig file present start server server probe clocks print values clocks line xconfig file necessary speed starting server future rebuilding reconfiguring server link installed server binary link possible reconfigure drivers font renderers server fully explained readme file available link specific things know running xfree first server must installed suid root mode xterm properly kernel built consem module define consem environment otherwise xterm users setenv consem esix console driver patch known cause keymapping problems xfree recommended patch installed alternatively keymap fixed xmodmap make sure look readme running make sure look readme also separate maintained richard murphey rich rice latest version available file xfree following sites agate berkeley ports xfree wuarchive wustl mirrors ports xfree grasp univ lyon ports xfree linux must running linux greater jump libraries installed make sure binaries mono xload xterm setuid root kernel support compiled server default startup configuration assumes available change files startx xservers removing argument make sure console either link major number minor number also note console owned user running xconsole xterm permit console output redirection properly change owner startx running local need provide example console detailed information please read file readme present distribution mach make sure look readme mach things know building xfree source section removed since fully explained readme specific readmes please look files information building xfree anything special building clients xfree compatibility library clients make functions like bcopy default configuration files link libxbsd contains emulation bcopy bzero bcmp random seed better providing functions include xfuncs source files call xfuncs provides macro definitions terms sysv functions linking vendor supplied library calls functions link libxbsd ansiccoptions something added allow developer ansi ness defined default ccoptions without rewrite entire ccoptions line example stock something like ccoptions ansi fwritable strings ansi ness developer would ccoptions fwritable strings imakefile change would default ansiccoptions ansi ccoptions fwritable strings developer would imakefile ansiccoptions ansi ness many clients horrible death ansi effect even dramatic practice ccoptions actually quite complex issue must ansiccoptions ansiccoptions passcdebugflags definition xfree contact information ongoing development planning support coordinated xfree core team time core team consists original gang four david dawes dawes physics glenn glenn utexas tsillas jtsilla damon northeastern david wexelblat dwex mtgzfs supporting sysv operating systems robert baron robert baron ernst mach mach rich murphey rich rice orest zborowski kodak linux mail sent xfree physics reach core team thanks people already sent corrections additions especially david wexelblat major contributors updates',\n",
       " 'notice electronics questions people obviously tuned electronics many rather simple answers many require circuit diagram rather muck network write send self addressed stamped envelop answer questions willis fern circle clemson network quicker easier free least christopher wolf electrical engineer cmwolf',\n",
       " 'argument luke genealogy mary weak according luke began ministry jesus thirty years supposedly joseph aside fact mary mentioned possible interpretations either joseph father brother clearly acceptable third would joseph father happened name betrothed would seem grasping straws straightforward interpretation luke intention tracing mary genealogy case would named traces husband david nathan matthew descendant list definitely traces david solomon joseph matthew reads jacob born joseph husband mary born jesus called christ apparent problems first reconcile paternal genealogies diverge sons david solomon nathan second genealogy joseph relavent joseph nothing joseph jesus physical father original poster quite correct claims jesus messianic heritage based truth appearances whatever jesus divine nature second problem easy mind assume joseph involved conception jesus however holy spirit capable working physical conception mary also capable employing physical agency joseph seed work materialistic times interpret viginity loss solely terms physical whereas really matter purity much higher level well important thing neither mary joseph conscious union known thus first gospel dedication half opening chapter genealogy joseph quite relevant jesus virgin birth withstanding first question answer creates begin problems resolves evangelists relating births entirely different children entirely different sets parents except names parents child birthplace bethlehem point common stories matthew luke converge accounts thirty years later baptism jesus jordan rudolf steiner offered explanation accounts begin children converge accounts jesus nazareth derive resolution biblical study speculation external documents discussion could might bring beyond limits appropriateness newsgroup case details described steiner spiritual guidance human humanity gospel luke gospel matthew whether rudolf steiner methods explanation accepted valid least interpretation resolves apparent contradictions genealogies leaving text intact passing jewishness mother never issue jesus ever questioned mary jewishness issue genealogies paternal line descent david king',\n",
       " '',\n",
       " 'truth religions even science christianity claim know claim certain things true though contradict religions truth claims true',\n",
       " 'defect monitors bring dealer replace flyback free think heard problem work today fixing free',\n",
       " 'would hardly consider christian acting direct contradiction scripture jesus second coming something everyone know jesus also predicted false messiahs name prophecy fulfilled agree already given life tells life save another life judge christians acts would call christian contradicted scripture actions christian simple perhaps read much media portrayed true believing christian find deny association even adventists denied ties cult judge muslims acts committed saddam hussein supposedly devout muslim saddam dictator using religious beliefs people ends malcolm',\n",
       " 'close roger banana avocado artichoke geracie murky news said kingston quarterback still trying determine kidding happen pound enuff pints sometime week back check stooper idiot purdy said column ought worth leafs mean laughs really depressed read comicle mark',\n",
       " 'recent observations taken hubble space telescope faint object spectrograph used make ultraviolet observations planet pluto moon charon peakups successful observations executed scheduled problems reported observations made using high speed photometer planet uranus occultation faint star capricornus observations help understanding planet atmospheric radiative dynamical processes event occurred close last quarter moon special arrangements made modify lunar limit tests allow observations observations currently reviewed observations looked okay',\n",
       " 'anyone think judge wopner would karadzic trial nevah happen thought',\n",
       " 'sorry repeat posts thought posting newsgroup appeared figure appearing newsgroup stupid slap hands bang head wall sorry bloody public anouncements mumble mumble mumble david matthew deane deane binah brandeis',\n",
       " 'slavery makes economic sense never makes moral sense human muscle power economically valuable asset agricultural slavery might lasted right first mechanical cotton reaper reapers cheaper slaves winter argument makes several fundamental errors first agricultural slavery limited production cotton american south slave labor used extensively grow tobacco sugar rice remained labor intensive enterprises well century course states like kentucky virginia well suited large scale plantations slave labor used make valuable agricultural products slaves ways treatment humans beings breeding livestock horrifying aspect american slavery second although mechanization cotton production could expected reduce demands labor eventually mechanization cotton production south largely eliminated labor intensive character operation long first mechanical cotton reaper invented interesting question steinbeck grapes wrath published uses agricultural mechanization cotton production arkansas cause joad family evicted land many years involved mechanization cotton farming first appear mitchell powers delegated united states steve hendricks domain steveh thor',\n",
       " 'mark kaufman responds mark millions americans cheering slaughter iraqi civilians forces comment could also apply applaud killing human including prisoners sentenced death illustrious justice department peace marc',\n",
       " 'knock vaughn spring training hitter regular season hitter around games played indication good hitter quality pitching ryan robbins penobscot hall university maine',\n",
       " 'argument mainly proposal think plausible argument extra marital personally believe truth main purpose posting show plausible argument made extra marital stage saying particular viewpoint proven anything like plausible convince particular point view would probably work researching done field order gather evidence simply time also note said think extra marital prime cause opinion generally greater levels psychological problems especially depression western societies saying prime cause cause prime cause significant contributions trend think think view simplistic forgotten admit probably factors think extra marital subsequent destabilization family significant factor rise psychological problems like depression western society century',\n",
       " 'post deleted easy post flyers stall doors bottom nice large capitals emergency toilet paper',\n",
       " 'used equipment sale everything negotiable baud compuadd internal modem docs software unix disks docs uucp utils floppy drive functional dead drive know whats wrong joystick remember brand name boat anchor monitor full length card serial card test drive accolade',\n",
       " 'labor tough labor defined economically efforts mental physical humans capital defined intermediate goods used create goods services slave considered intermediate good slave dehumanized simply machine good anti slave human rights argument slaves humans produce labor sorry question defining slave labor tough defining labor horse livestock legally economically slave economy slaves humans livestock provide evidence slave states regarded slaves humans outside society similar phrases basically meant recognized rights free person never considered human knowledge like horse pulls plow slave labor return capital required purchase feed parallel obvious sure missed liberty property motivated southern planters emphasize importance states rights case slave states would passed many laws restricted freedom slave owners wished property examples laws prohibiting manumission without legislative grant laws prohibiting teaching slaves read write craig steve hendricks domain steveh thor',\n",
       " 'claimed bought semi automatic assault rifles koresh like managed build collection fully automatic semi automatic rifles quite feat would still making charges sexual abuse course nobody seems noticed treasury department nothing crimes maybe feds recently instituted crimes yeah batf looking unregistered guns weapon fighting also heard claiming cautious koresh heated ammunition stockpile seem recall smokeless powder tends decompose even moderate temperatures would rather surprised fire nature stockpile unexploded unburned seem recall aluminum powder common component fireworks folks pyro could probably tell think anything legal proper license curios relics permit believe could legally handgrenades launcher charles scripter cescript dept physics michigan tech houghton',\n",
       " 'panel judges deliberated question answer send requester copy gang',\n",
       " 'brother market high performance video card supports vesa local anyone suggestions ideas diamond stealth local orchid farenheit graphics ultra high performance card please post email thank matt',\n",
       " 'pick particular course kind domino theory little country falls neighbor surely follow know mining salt siberia turning captain crunch secret decoder rings surely hypothesis relying least wild assumptions take face value lads fort asked cook something pretty secure escrowed neatly government plans sell thing reasons state evil guys probably effort abuse system news evil guys decide want persecute gonna gonna hate fact want listen phone calls using triple parabolic microphone point head pretty clearly effort government exactly saying typical governments mismanaged full holes compromises typical government could worse interpretation andrew',\n",
       " 'background radiation living denver office limestone building standing next power reactor full power standing next nuclear warhead armed look shielding dictionary need feet lead make decent shielding dead skin cell layer excellent alpha particles neutrons slowed mere water think militia overthrow illegal government indeed useful weapons militia useful certain areas leveling pentagon would good thing said overthrow likely carrying backpack would stand better chance thousand armed colt peacemakers self defense become reason sole means justification overthrow government ceases legal government need want every weapon easily rifle larger needed kill human right human wearing armor riding things different weapon problem manner contention guess either alarm clock never heard terms timer martyr either forget remote detonation devices radio pickup next easily transmit miles decent weather blast radius many portable nuclear devices radioactive decay worried',\n",
       " 'anybody know mailing list newsgroup power systems related areas thanks',\n",
       " 'would neat nowhere bible gift tounges gift tounges ability understood everyone matter languages know would need gift interpretation corinthians would written pretty harsh assumption make several million christians world wide sure want glory speak tounges among gift people like corinthian church also mean true gift speak tounges glory sight would venture large percentage speak tounges often private prayer public link hudson',\n",
       " 'something people think cops always responsible rest population found article rocky mountain collegian colorado state university newspaper suspended police officer arrested revenge triple homicide providence police officer afraid would fired allegedly assaulting teen ager walked auto body shop wher youth worked said going fatally shot others police said fourth youth wounded fifth escaped injury hiding wounded youth blocks house shooting midnight tuesday called police hospitalized satisfactory condition wednesday suspended police officer robert sabetta cranston arrested gunpoint three hours shooting wilson auto enterprises foster rural town people northwest rhode island well goes show cops capable snapping like everyone else said cops guns',\n",
       " 'good advice couple years involved speed getoff landed back pavement head helmeted pavement clunk leaving couple dings chips paint point impact visible damage called helmet manufacturer inquired damage said fiberglass shell works first give delaminate crack fiberglass serves spread force impact wider area fiberglass done thing crushable foam liner takes care absorbing hopefully remaining impact force told second stage fiberglass functionality delamination glass resin layers occur visible signs either inside outside helmet suggested send helmet would inspect including raying sent back helmet letter stating could find damage would compromise ability helmet provide maximum protection suspect letter would eliminate able claim prior damage helmet event bottom line though appears helmets integrity compromised visible signs know sure send back inspected note helmet manufacturers provide inspections services another point consider purchasing',\n",
       " 'stiff deleted stiff deleted speed quantifiable measure resulting methods result value measured matter reference bullet zero velocity sitting table train moving moving speed someone train someone stationary next train reference frame makes speed relative interesting every person train stationary bullet every person bullet moving know train people every time filled moral problem exactly',\n",
       " 'expert cryptography science basic things seem evident things clinton clipper address pertain opportunites abuse conclusions based seen membership group except notable persons agree anything possible government theory almost always ends happening fact make abuse impossible question authority remember power corrupt think regard whole idea sense expanded include data forms data transfer stored data treated expanded expansion almost impossible stop using clipper precident hint proposal remember said please bear articulate take words others could much briefly thank suggested hint proposal similar proposals considered forms encryptions data transfer data files largely dependent thing accepted flies think would wise treat manner would gets expanded areas cellular phones think guaranteed happen proposal gets salami politics used several areas certain used government going easily give idea able eavesedrop whenever want court order required proven rather flimsy guarantee case warrants always sieze material force give jail forever periodically renewed contempt charges denying justice system information ability lock someone guilty refuses divulge means access info protected fifth forced perform acts would result divulging incriminating evidence blocking restrictions private encryption preventing legitimate enforcement make illegitimate enforcement bunch difficult especially fishing expeditions without target knowlege give right safe negotiable clinton know probably quietly developed thing figuring come consulted could roughly described insiders cannot quietely impliment though schemes ensure exclusive hence nice document reassure everyone government really earned kind trust past future secure free must keep government honest make abuse impossible unlikely difficult could information gained keys saved last case finished means master backdoor easily broken algorithm find evidence given judge would authorize possible otherwise common manner abuse wiretaps past local cops might workable keep honest feds workaround somehow anyone really believe example government scheme cannot listen scanning keywords either easily defeated realtime master sure whole thing sounds like something eliminate need fashioned police work build case past eavesdropping rather easy without court order think enforcement community become spoiled resist changes require revert using fashioned detective work find somewhat surprising coming bunch cares much civil individual rights puts people first question people first innards revealed sure exist master keyword scan conversations routinely monitor without specific court order remember cellular phone limitiation temporary heard police telling people tapped nothing incriminating found keep simply keeping keys file next time awhile would quite collection kept especially folks deem disruptive would reduce search space unless scheme remember nixon years need court orders really slowed unless escrow accounts government controlled chance ending treasury justice could worth serious bucks folks keys competitor clinton clipper descendent idea expanded used government encryption enough bucks would keys innards algorithm perhaps important concern given past government behavior problems expanded data storage encryption clipper accepted next agenda even hinted proposal read carefully expect argumet well nothing hide fine using argument object video cameras installed every room home granted exteme expansion idea principle holds private stuff remain private even govt fishing expedition laws rules change future safeguards comes government safeguards pretty meaningless want something work hard give rather treasured rights establish precidents please price could hell later people would fight laws forbidding years crisis situation must addressed drastic action added reasonable restriction bother someting hide please clinton clipper good make algrithm public many people exchange ideas examine rather isolated respected experts respected perhaps certain professor likes banks would selected experts seem expand ideas person advocating recall would anybody know experts examine used clipper chip kept secret perhaps clipper crippled version master provision features present version subjected study evaluation experts chooses expertes government conflict interest requirement decent encryption scheme effectiveness reduced algrorithm widely known lead believe assume side everything except recall ideas presented group rejected requirement exists algorithm secret another question since safe clipper thing would used government security regarding real secure good enough common folk think would like full description statement good enough means think saying strong good enough really means excuse countries restrictions acceptable countries bill rights constitution people governments countries often regard envy rights revokable privileges expect retain rights protections must allow gutted gotta thing fight crime allready bill rights pretty much torn shreds permit weakining another noble cause instead trying repair damage crime problem number causes many rights safeguards signifigant broken court system poor police work much signifigant cause many rights disregarding addressing root causes crime suggest attack clinton believe would going ballistic reagardless seriously proposed thing another step gradual erosion rights constitution bill rights last couple decades stop series runs around protections constitution stop good time late allready',\n",
       " 'remain choice choicers compare abortion clinic religious ritual church start wondering life criticism abortion modern human sacrifice grain truth clayton found someone bash tell many choicers compared abortion clinic religious ritual church seen overwhelming support opinion newsgroup another seen comparison drawn choicers politics worrisome reading politics recall seeing comparison read postings carefully surprised pretty shocking part sympathy though agreement lifers increasing handful lunatic opinions expressed politics make think opinion widely held clayton wish knew made tick math sucks take single instances fringe opinions proclaim existence pernicious trend quarter billion people living country small number almost guaranteed hold opinions find positively repellent long small number truly small number long neighbor highly likely worried hold high public office worry cite experts remember carl sagan paul ehrlich experts never heard experts consider source clearly unable master elementary statistics uses statistical inference ignore david chase mean come conclusions emotional state requires',\n",
       " 'darkness deleted nope royals team majors finished last place course include marlins rockies good chance finishing last also',\n",
       " 'hello trying bump onto sphere seem work image mapping works bump mapping simple file working could kind soul tell whats wrong include colors include shapes include textures camera location direction right look object light source color white object sphere texture bump surf note surf plasma fractal fractint using landscape palette thanks advance daniel',\n",
       " 'stuff desoto deleted australians still drive wrong side road believe sweden changed heard swapped traffic signs around sunday',\n",
       " 'netters friend seriously thinking getting subaru local dealer seattle selling touring package msrp thinks good deal think since knows access would like anyone opinion especially area reliability maintenanability please send mail friend access opinion auto everything tranny climate control windows locks folddow rear seet full wheel drive fast spped heavy thanks advacne',\n",
       " 'greetings could kind sole email specs western digital drive model know sectors track information feed bios running thanx help roking lynx northeastern',\n",
       " 'list brings mind possible worst trade since babe nono nannette milt pappas frank robinson think robinson proceeded triple crown beaten injured slide second collided mighty weis chisox',\n",
       " 'computing science course real newcastle university conversion course least teach real programming space months taught pascal simula prolog miranda also basic level stuff covered well also concurrent programming operating systems software engineering plus quite optional units including database theory stuff comms pascal replaced think next year learn windows programming well anyway good selection project final three months depending tastes selection skills learn quite wide reaching critiscism would level course would thought invaluable lack option project period industry would probably need slightly longer project period months would enhance prestige usefulness already excellent thorough course know sounds like plug course',\n",
       " 'think vastly oversimplifying things know early christians suffered totures witness christ example speech persuaded called apostles flogged ordered speak name jesus apostles left sanhedrin rejoicing counted worthy suffering disgrace name appears jewish rulers time particular aversion even hearing jesus name gave strict orders teach name said filled jerusalem teaching determined make guilty blood finally first apostle death james zebedee certainly rome hand first martyr stephen problem believed resurrection must believe jesus truly stood preached ministry earth would extremely difficult people especially plotted kill',\n",
       " 'despite walks loses ryan deserves hall fame imho based hitters strike records extra people think andre dawson name kubey reading editing printing text address kubey without express written consent disclaimer usual major league baseball prohibited',\n",
       " 'mets good examples reds really think anyone expected sweep know people even think game alone series proved wrong though year ignore record rocky start nothing colorado shall rise hunt reds october continues respect',\n",
       " 'typical statement irrational brainwashed person bible written male chavnist thousands years holy books follow parts think suitable modern life ignore others heaven sake take literally think easy muslim buddhist buddha commandments older christ opinion tougher follow moreover buddha says intrinsically good christ sinners allow distracted meditating awaken also concept buddhism opinion atheist buddhist awaken easy task stay away eating meat still think nothing meditate sometime everyday buddhists supposed pray five times fast month every year ramzan willing give income tithe muslims fact think jesus ordinary buddha mohamed probably philosopy ahead times lived considering fact christianity young religion compared hindiusm judaism zorasterism buddihsm also probable bible merely collection borrowed ideas good deal trade eastern lands middle east time christ perhaps leave crap woman created helper aras ever turn robertson brain washers number turn pledges seems alive well inside boxes',\n",
       " 'many recent advertisements seen based systems first really exists imply circuitry motherboard works speed opposite latter internals working many thanx advance andrew andrew version considering buying definitely nice size external cache performance greater internal cache work potentially much larger cache work neither systems could actually program main memory since dram still slow high speed winqwk unregistered evaluation copy kmail arbor',\n",
       " 'article ptolq werple apana petert zikzak apana peter thought mine since hook line aprox hook usually drops series zener around hook hook would work anyone tries tried please know draw enough current light equipment phone company think gone hook hook state supposed draw current means digital voltmeter phone company equipment detect might think something wrong cable look guys problem want light goes phone hook need series line mentioned previous post want light goes phone hook need voltage threshold detector going series diode thing easiest make sure take current recall hand something like greggo',\n",
       " 'well josh agree respect less spelling errors always must even kill every women child must costs happens country lets make excuses worthless press cover everything officials take heat management stupidity',\n",
       " 'anybody willing discuss careers army deal space graduate commitment serve army would like spend space related field post long time force space command made fleeting reference army counter part info would appreciated looking things like branch intelligence signal voice interest space qualifications necessary major computer science engineering please reply reef',\n",
       " 'first heard academic politics thought seems apply bmwmoa politics dirty stakes small cares dues worth occasional technical articles news skip generally drab articles someone trek across iowa folks thrilled power bmwmoa deserve whatever thrills lives provide voted blood keep things stirred',\n",
       " 'hallo renderers bocax card displaying true colors rendering tried options univesa driver happens correct anybody help',\n",
       " 'interested anyone point towards review following book scholarly christian journal whether conservative liberal protestant catholic lost years jesus documentary evidence jesus year journey east elizabeth clare prophet supposedly theory refuted past examined thought another novel book listed text class religious studies also endorsements seem come credible sources wondering scholars reviewed anyone matter',\n",
       " 'nope seen film taylor biography curve binding energy contains short section orion test flight apparently quite impressi braun excited real life mike williams perpetual grad student mail virginia indenture',\n",
       " 'according defensive average stats posted sherri baerga highest percentage turned league alomar worst however alomar higher defensive average would better using alomar opportunities groundballs possible double plays alomar groundouts turned baerga would groundouts using baerga opportunites groundballs possible double plays alomar would groundouts baerga groundouts baerga looks better though possible would lower different baerga consistently turn twice many double plays however alomar established high level defense baerga would alomar better next year last year baerga good overall dale stephenson steph uiuc grad student large',\n",
       " 'actual horizontal placement resoution deskjet inch electronics dynamics cartridge however limit generating dots inch almost paper wicks inch anyway method depositing fusing toner laster printer results much less spread drop technology take much investigation mechanical electronic complement laser printer complex inexpensive printers recall also laser printers offer much higher throughput laser versus printer something else think cost consumables life printer page yield toner cartridge discount high capacity page yield cartridges discount could life cycle printer consumables laser printers less printers getting progressively closer technologies laser printers usually desinged higher duty cycles pages month longer product replacement cycles',\n",
       " 'know nowhere near christmas time gonna loose access days maybe week lucky wanted post interested people save till xmas note bell labs good place good boss neither subject xmas light levels brightness another version variable brightness xmas light starts blinker bulb string diagram orginal modified level brightness string string note mods wiring right point blinker used note blinker would much current thru string bulbs second string bulbs parallel resistor extra current thru blinker make current shunted thru second string blinker glowing second string glowing blinker goes open resistor slight effect brightness strings slightly dimmer slightly brighter bulb place resistor caution replace standard bulb draw much current burn blinker approx working powerup string light full brightness bypassing current second string making light open placing strings series making string glow brightness string glow reduced brightness',\n",
       " 'likely nothing chunks plaque sounds like neurovascular compromise need medical attention weight lifting gordon banks skepticism chastity intellect cadre pitt shameful surrender soon',\n",
       " 'specifically terrorists drug dealers proponents escrow cite threats highly motivated steal cipher phone legitimate user kill person hold hostage discovery compromise device delayed rough manner much professional steal chip phone even replace compatible nothing chip encrypt chances victim notice anything especially done professionally assuming guys easily obtain substitute chips cause noticeable effect either user person line significant difficulty obtaining chips criminals decide fall back murder kidnap method suitable collection devices stolen criminals communicate impunity assuming cipher system carries trapdoors apart escrow unless compromise discovered means feds still able decrypt conversations true blame wrong guys nevertheless cannot something like drugs arrive tommorrow ship terminus feds listening even cannot identify speaker assumes feds tapping clipper phones belonging ordinary citizens getting phone whole point crime discussion sure past raising possibility crime benefit forcing feds either fess intentions advance state using clipper exposes user additional criminal threat criminals secure encryption proposal stop criminals ensures government able wiretap average citizen stops casual snooper also clearly looks step towards outlawing strong encryption devices',\n",
       " 'owners wordperfect mormons tony rose robert weiss standards mormons christians',\n",
       " 'distribution reply lihan ccwf utexas bugging everyone thing chip chipset decode code barcode couple reasons mainly want reasonably compact encoding scheme write information magstripe cards code appears right right something else reasonably easy someone know might chance reply quickly earlier post within couple days think',\n",
       " 'honda accord magic mile mark sorts things beginning latest problem experiencing brakes still stop fine stopped completely brake pedal sink another inches feels really strange worried brakes quit working days checked brake fluid reservoir full fluid looked really dirty like dirty called mechanic told need brake master cylinder cost whopping wondering anyone experienced sort thing mechanic honest simply need brakes bled fluid help could provide would appreciated please send replies directly rarely chance read list post responses interest thanks',\n",
       " 'since subject question trident video card want know latest video driver find driver dated garbo uwasa anyone info please mail psuvm',\n",
       " 'reference limits acceleration guns launching solid rockets payloads thiokol provided samples data reinforcement solid motor grains high accelerations solid motor propellants usually substantial percentage aluminum example space shuttle srbs percent aluminum technique foamed aluminum structure structure looks like inverse bubbles suspect bubbling process used form words made bunch bubbles molten aluminum froze forms strong network effectively aluminum wires directions remaining solid fuel infiltrated voids aluminum reinforced solid propellant foamed aluminum makes percent total propellant still aluminum particles bulk grain major improvement higher resistance grain cracking principal failure mode solid propellant dani eder',\n",
       " 'christians leary atheist spokesman seems clandestine removed course keith busy explaining fellow captives really persecuted since feeding resistance part would viewed trouble making understand make fuss tatooed trust forehead though beauchaine bobbe vice said queens could stay blew bronx away sank manhattan',\n",
       " '',\n",
       " 'know make sense since napoleon sense anyway striking bigoted racist attitude certain greeks still exists greeks insist even today year capital ottoman empire called rightful name istanbul half millennium moniker cons whatever everyone knows york city called amsterdam dutch people persist calling today name stalingrad long gone replaced volgagrad china peking traded name beiging long ciudad trujillo dominican republic santa domingo zimbabve colonial capital salisburry became harrare changes accepted officially everyone world greeks still determined calling turkish istanbul name cons explain total intransigence makes greeks different mortals year questionable democracy seem reconcile fact instance istanbul changed hands years predates discovery world years declaration independence come years later half millennium considered enough time cons called turkish city logic greek reasoning long laurels ancient civilization ancient greece exist civilizations existed soil anatolia undereducated wieneramus live illusion mentality allows rationalize cyprus greek island history book shows ever belonged ottoman turks lock stock barrel period well years fact prior turks acquisition following bloody naval battles venetians island cyprus belonged invariably several nations assyrians sumerians phoenicians egyptians ottoman turks course order owned territory never possession government greece even history world moreover cyprus located miles greek mainland miles turkiye southern coastline saddam hussein claims kuwait iraqi territory greek cypriot government terrorist greek governments think cyprus also part greek hegemony arromdians involved grandiose hallucination wake sweet daydreams confront reality wishful thinking unproductive facts count selanik jews survived assaults southeastern europe fled particularly salonica whose jewish population increased substantially result half total population though even increased persecution local greeks many jews flee elsewhere ottoman empire particularly great port izmir despite pressure ottomans foreign jews alike ritual murders assaults christians jews went greek efforts decimate jewish population salonica culminated following greek conquest salonica first balkan many jews either killed terrorized leaving though greece obligated post world treaties allow jews minorities languages education practice religions without hindrance issued forbad inhabitants working sunday stimulating jewish exodus intended series anti semitic riots salonica cambel quarter remaining jews lived burned ground followed regulations requiring greek prohibiting hebrew judea spanish jewish schools start made also expropriating land principal jewish cemetery salonica university order derive jews killing driving large numbers jews greeks left substantial greek majority city first time starting salonica jewry final decimation nazis occupation greece starting salonica izmir course places refuge jewish refugees entering empire last century existence istanbul edirne parts rumelia anatolia received thousands jews refugees received helped government sultan thousands muslims accompanied flight similar persecutions wherever balkan christian states gained independence expanded russian conquest crimea caucasus starting late eighteenth century particularly crimean combined independence movements southeastern europe caused much suffering flight among jews caused thousands helpless poverty stricken muslim refugees accompany ever shrinking boundaries ottoman empire istanbul government struggling mightly vainly house feed best could many crimean tatars circassians muslims north east black entered anatolia alone many came next twenty years refugees entered result ottoman wars russia balkan states equal number gaining refuge european portions empire robert mantran structure sociale communaute juive salonqiue neuvieme siecle nehama joseph nehama salonica paris archives january archives describing daily battles jewish greek children streets salonica benghiat director ecole moise allatini salonica paris december archives describing greek attacks jews boycotts jewish shops manufacturers greek press campaigns leading blood libel attacks cohen ecole secondaire moise allatini salonica paris december archives describes week terror followed greek army occupation salonica soldiers pillaging jewish quarters destroying jewish synagogues accompanied described explosion hatred local greek population local jews muslims mizrahi president salonica reported paris july archives irregulars comitadjis massacred pillaged burned army soldiers chief police high civil officials also took active part horrors moise tovi salonica paris august archives describes greek pillage jewish quarter night august alliance israelite universelle paris serdar argic',\n",
       " 'article ifas ifas irrational fools rkba plenty people support government overthrown long happens huge millitia composed available women care country defeat forces evil klintonistas people prevail think armed citizens alone overthrow government consider think enforcement officials members armed forces turn people entrusted serve hardly count people army marines force navy national guard police officers joining cause defend liberties freedoms american citizens count government able disarm everyone without starting civil wrong people hide guns officers like jack booted stormtroopers able find unless idiots realize next including believe describe happens coming guns disarming citizens would require everyone cherished freedoms liberties suspended temporarily likely never restored unless people something scott kennedy brewer patriot',\n",
       " 'spending summer washington working bowie anyone summer sublease like unload area august please mail pertinent info kimgh mentor purdue',\n",
       " 'okay argued thoroughly weeks women different physically physiologically psychologically much recent evidence statement present book brainsex anne moir david jessel recommend find copy read book overview recent scientific research topic well referenced women different ways adequately take account needs areas different also taking account ways women different maternity leave example takes account women pregnant give women rules would give treat women like treats instance would unjust simply obvious example women intrinsically different people make naive argument sexism oppression however maternity leave sexist pregnant access leave women extent degree therefore sexist matter however much wants pregnant maternity leave never therefore sexist access maternity leave matter hard tries pregnant hope clear maternity leave example sexist sexism reflects sexism nature making women different many differences women subtle pregnancy find recommend look book brainsex point perhaps also pregnant fallacious become pregnant biologically become women womb factors required pregnancy usually wrapped definition woman argument examined seen fallacious saying sexist maternity leave privilege women also become women actually supports statement maternity leave sexist official priesthood islam much function taken islamic scholars female islamic scholars female islamic scholars always existed islam example early islamic history prophet widow aisha recognized time recognized time islamic scholar evidence blanket statement religions dispute could women islam recently reposted something heading islam women still news site suggest read reposted religion islam disappeared atheism still might religion islam forgot original title though email like statement religions different think statement based simply lack knowledge religions christianity perhaps judaism aisha mentioned earlier islamic scholar also stage military leader prophet first wife died hijra prophet journey mecca medina successful businesswoman lucio cannot make strong case viewpoint viewpoint based ignorance world religions',\n",
       " 'also supports basing regulations ignorance miller disappeared nobody bothered present side supreme court particular sawed shotguns used world trenches tight spots ever since guns invented would turn clean alley louis',\n",
       " 'chuck yeager earlier flights',\n",
       " 'disclaimer sufferer doctor sure really sharp distinction allergic vasomotor rhinitis basically vasomotor rhinitis means nose stuffy reason even identifiable allergy decongestants steroid sprays work vasomotor rhinitis also surprising relief purely superficial measures saline moisturizing spray moisturizing',\n",
       " 'says hear sure understand bill hereby award golden shovel award biggist pile bullshit seen whils afraid religion macroevolution made rather grand statement science explain origins large extent already',\n",
       " 'robert gordon university programming main time consuming start course first years consisted five subjects software engineering pascal unix computer engineering assembler computer theory lisp prolog mathematics statistics communication skills pass interviews intelligence tests group discussions survive helicopter crash north third year industrial placement spent working computer company year company could anywhere europe special travel allowance scheme cover visiting costs professors fourth year included operating systems modula software engineering assembler real time laboratory assembler computing theory lisp also group projects years students worked teams select project decide work outside company disadvantage specifications would change suddenly first four years weighting courseworks exams subjects however honours year reduced split individual project final exams coursework assessment computer science courses like started students first year left honours year also every course tutored separately easy trying sleep student class cheers michael',\n",
       " 'anyone table size wire amount current carry probably range friend interested converting mazda electric needed information estimation thanks advance',\n",
       " 'yankee stadium gifs well please thanx advance',\n",
       " 'preliminary data regarding similar research kangaroo overpopulation australia support cost effectiveness approach cost effective deer quietly overlook fact cost state deer hunting negative profit majority hunters licences cost comparisons probably done assuming people employed cull animals fact case figure people going licences implant contraceptive pellets spread baits fair discussion recently kangaroo population grounds governor general residence reached plague proportions despite whines rampant animal libbers effective method controlling population still considered controlled shooting people take satisfaction imho legitimate satisfaction eating food harvested pleasure derived hunting eating fruit vegetables grown garden general game meat probably much freer unpleasant chemicals butcher supermarket cannot justified guess mean personally justification fine makes opinion important certainly last point correct politicians votes opposing stupid legislation developing supporting measures might effective reducing incidence violent crime things',\n",
       " 'even brad says turns accurate administration made clear vendors would much best interests institute voluntary policy refusing sell anything clinton cripple equipped equipment anyone authorized government agencies enforcement individuals corporations determined administration valid need case case basis effective system note much like language used many control bills laws administration pushing otherwise supporting logic actual rationale opposed excuses media cases items technology question different think accident comes philosophy government rules controls people people controlling government unconnected citizens sophisticated enough know best government must tell people need need know best idea commoner defend government eavesdropping unlawful attack totally unacceptable people outlook combine pushing national identity cards smart chips encode anything please internal passport guise streamlining state people health care system certain jewels come sees extremely ominous trend years late still turning amazingly accurate prophecy unless people wake hurry always every warning light bell danger flag come government seeks apart regard rights unconnected unprivileged citizen saying subject instead average person good secure system data security dependent nebulous safeguards maintaining security average person able defend agency gone rogue sure feds could break data really wanted would take work using logic allowed good safe unless duplicate combination submitted safekeeping government really difference philosophically encrypted data sure evaporate high tech tools tape recorder',\n",
       " 'course bunch arrogant lawyers know whats best rest wonderful judicial system getting criminals superior intellect mention fees collect poor slobs tickets speeding state police officers soak court love lawyer jokes',\n",
       " 'wondering mean juan berenguer traded mark davis middle last season exchanged stiff another berenguer come back injury think retired anyhow middle relief marvin least pitch couple innings work know much mcmichael mexican league everybody else inning except maybe mercker eric roush fierkelab bchm biochem duke marxist groucho sort grafitti paris tanstaafl although internet comes close',\n",
       " 'xman source would like binaries xman would settle source xport direcotry contrib',\n",
       " 'anyone know size cold roll control thruster tanks sounding rockets',\n",
       " 'smartcam version sale purchased august latest version also willing sell hard drive multi scan monitor paid software computer also includes maintanence contract updated every year year make offer call',\n",
       " 'quadra clock acceleration anyone heard anything like quadra please reply mail news often thanks',\n",
       " 'need port several applications openwindows motif desperately need information short complete rewrite tool make porting easer references talent hire even take presentation emulator replies except flames welcome brian colaric',\n",
       " 'recently acquired shot accellerator board sans documentation anyone know switches back card come software help information card would greatly appreciated thanks robert bultman speed scientific school university louisville internet rmbult starbase louisville',\n",
       " 'believe quacks exist quack diagnoses licensed physician enough guarantee someone quack even licensed physician quack people give example commonly diagnosed ailment think quack diagnosis gotten point civilization longer need worry unscrupulous healers taking advantage people',\n",
       " 'cheap solar charger keep purchased mail order catalog year battery oldsmobile would summer riding bike driving knowing selling year purchased charger believe thing worked battery held charge energetically started many times weeks sitting eventually purchase battery anyway winter strong enough angle think paid charger powerful expensive ones purchased cheapest could find never used bike charger keep plugged time bike garaged',\n",
       " 'yesterday another yester catch conspiracy charges easily explained simple fact days instantaneous news transmission kinds stuff gets said people really know hell going story changes facts suddenly cries whitewash start naturally everybody wants cover damnfino tend take issue absolute statements viously wrong face tend inflame inform isolation significant total semper',\n",
       " 'second addition find hazards often used horn speeds interstates quite common mountains trucks states require flashers rural areas flashers behind know tractor rather large implement behind whenever need communicate things deviate norm painted green since green triumph friend owned sold name free adoption name thunderpickle grab',\n",
       " 'falls apart attempt apply mean objective system exist means cannot implemented',\n",
       " 'friend mine going later week tests emphysema lung capacity decreased time father died disease works woodworking believe occasional cigarette perhaps cigarette even less tells never seen light pretty healthy life style habits good diet exercise meditation retreats therapy anyhow concerned check know really nothing disease believe interferes lining lung able exchange oxygen',\n",
       " 'cars worth problem maintenance costs cars running year insurance year wrong within last months follows costs occured dodge dodge attempt american german replace head gasket radiator chevy nova chevy attempt japan import tune change valve gasket middle exhaust pipe misc note also chevy nova horsepwer anyone chevy nova enough power even small hill without knocking something wrong even octane consider going octane find anyway best maintenance items equipment needed',\n",
       " 'sale based electronic organizer brand sharp wizard link software cable ounces measures fits pockets available user touch screen input pointing drawing keyboard enough touch type screen windows menus excellent scheduler alarms telephone directories user configurable databases full word processor formatting drawing utility outliner list calculator clock calendar terminal emulatorw dialing directory directory filing system serial port infrared port card slot uses batteries months daily manuals organizer link software cable exchanging data wizard best offer shipping steven friedman horizon institute policy solutions',\n",
       " 'also watch mirrors time turning another close last night preparing right turn lane road right turn signals starting turn lady behind hits throttle starts pass right happened twice happen often enough always look ride work morning come stop light lanes direction left turns straight right turns clearly marked plus clearly marked bicycle lane ride right turn lane signal stop stop line looking left make right turn start move discovered idiot pulled bike lane trying pass right grrr always head check bike lanes always bicycles',\n",
       " 'think going able differences sphere unless greatly exaggerated even equatorial bulge part never notice error globe deviations spherical shape much smaller',\n",
       " 'official legal term rape crime forcing female submit sexual intercourse please supply references aware states word female rape statutes sure others surprised well know thats works practice nice fair unaware statutes applying females uniformly throughout agree mostly chris unfortunately true figures rape based uniform crime report report female rapes however states illinois tabluated refuse comply sexist definition',\n",
       " 'using vmode command need type vmode vesa prompt vmode included speedstar used vesa mode autodesk animator',\n",
       " 'anyone information effects origin oxaprozin marketed name daypro appears anti inflammatory similar naproxin stronger',\n",
       " 'grey level images mean items images work work screen screen intensity linear pixel could timing gives levels linear screen intensity linear works find best compinations levels choises best must chosen different compinations level varies levels keeps order readers verify wrote',\n",
       " 'stuff deleted agree heard tonight want pick someone else bruins maybe year different look good time tell though lots deleted randy',\n",
       " 'hello purchased video card called true color card provide colors question find corresponding drivers windows using colors driver works fine think better driver please tell whether driver available thanks advance',\n",
       " 'went orthopedist tuesday diagnosed intersection syndrome prescribed feldene want know disease drug thanks',\n",
       " '',\n",
       " 'billion lesse probably launch tons million five years gives tons lunar surface five tons return vehicle fuel bigger mercury something might tons leaving fifteen tons habitat year supplies sort mass margins build systems shelf another hundred million tops leaves million profit like idea guys push someone make happen slightly seriously',\n",
       " 'greetings steve summers chief hours last night shmoozing sports unfortunately missed please provide synopsis thanx czar mainframe computing musicb mcgill mcgill university sexy cobol habs look good expos peter peter pumkin eater knew chick meet brother fine sucked cock andrew dice clay',\n",
       " 'specifically changes talking arguing motto interpreted offensive larger portion population years',\n",
       " 'sort mystified christian might respond start parable christian woman hires carpenter build birdhouse comes begin talking religion believe understand asks replies build birdhouse',\n",
       " 'stowell missed point stowell seems jumped rather strangely truth absolutes necessarily follows truths also absolutes scripture truths therefore absolutes answer either questions perhaps explain determine parts scripture truths truths absolutes qualified make determinations hardly consensus even evangelical christianity mention rest christianity regarding biblical interpretation find stowell statement terribly simple minded',\n",
       " 'yeah seen grand mother could',\n",
       " '',\n",
       " 'turkish karabag next cyprus turkiye stepped cyprus preserve lives turkish population nothing simple historical fact unfortunately intervention late least victims mass graves containing numerous bodies women children already showed fate planned peaceful minority problems cyprus origin decades oppression turkish population greek cypriot officials violation founder status turks constitution coup etat engineered greece execute final solution turkish problem savage blow invoked turkiye intervention turkiye intervened reluctantly last resort exhausting avenues consulting britain greece signatories treaty protect integrity cyprus simply expansionist motivation turkish action dramatic contrast greek motivation openly expansionist stated enosis union greece since creation independent cyprus turkish population although smaller legally status founder republic greek population greek cypriots support enosis minded greeks mainland consistently ignored status portrayed island greek island minority population turks turks cyprus minority greek republic found could show assert autonomy separate republic turkiye satisfied status would rather involved island given dismal record brutal greek oppression turkish population cyprus simply cannot leave fate island turks hands greeks turkish side satisfied whatever accord communities finally reach guarantee history repeat turkish cypriots rights liberties lives source cyprus tale island rizvi throughout cyprus following greek cypriot premeditated onslaught december turkish sectors cyprus completely besieged greeks telephonic telegraphic postal communications sectors turkish cypriot community contact outside world thus prevented turkish quarter nicosia suburbs greek cypriot armed elements broke hundreds turkish homes fired unarmed occupants automatic weapons killing random many turks including women children elderly persons turks killed wounded also carried away hostages turks including women children forced walk bare footed night dresses across rough fields river beds throughout cyprus greek cypriot administration deprived turkish cypriots including ministers turkish members public services republic right freedom movement report december security council secretary general stated respect following restrictions free movement civilians major features situation cyprus since early stages disturbances restrictions inflicted considerable hardship population especially turkish cypriot community kept tension high throughout cyprus supply petrol completely denied turkish sections makarios addresses security council july ousted greek junta coup beginning wish express sincere thanks members security council great interest shown critical situation created cyprus coup organized military regime greece carried greek army officers serving national guard commanding road travelling south freedom north turkish woman seriously wounded four month baby riddled bullets automatic weapon fired greek cypriot mobile patrol ambushed mother baby travelling turkish region baby died mother arms wanton murder four month baby shocked foreign observers much turkish community committed irresponsible persons members greek cypriot security forces according mother statement greek police patrol chased deliberately fired upon serdar argic',\n",
       " '',\n",
       " 'definitely going write congressman nobody ever going make respect violates freedom speech feds enforce protect freedoms force ever comes hopefully doug holland',\n",
       " 'everybody guess subject said getting boring looking files came windows wondering body beautiful file share maybe somebody tell site files like scenery files animals files used unfortunately delete anyway could give help please thanks',\n",
       " 'used information provided recent resource listings tried aukland architec vision facet received unknown host message mail paul bourke pdbourke aukland bounces basically problem rick',\n",
       " 'article magpie linknet manes magpie linknet steve know anyone state control could effect homicide rates accidental handgun homicides america licensed weapons american children accidentally shot children last year handgun homicides great britain source national safety council please dictionary arguments rates total numbers okay offered emphasis comparison great debater chose sources information claim superior made claim please direct attention towards posting mine claimed superior sources information probably bothered post references others seem content post numbers pulled ozone confused fact twisting apologize take twisted numbers twist trying well fair opportunity prove twisted numbers grounds contradict references citations sources take similar gratuitous shots compare absolute numbers countries major population differences whine afraid someone might attack process claim numbers emphasis comparison emphasis nitpicking scolding whiney debating style anything else blowing smoke seddit brudda',\n",
       " 'netland thought read existance virtual like vtwm usual sites gatakeeper export find trace program could anybody give hint find program confirm deny existance program regards',\n",
       " 'note ohio legislation unlike federal legislation shows entire would changed legislation parts capitals rest current regular type introduced general asembly regular session represenative beatty bill amend sections enact section revised code expand defintion dangerous ordnance include military weapons bolt action increase penalty violation prohibition possession dangerous ordnance prohibit person acquiring military weapon effective date require licensure military weapons acquired aproper purpose prior effective prohibit person importing manufacturing selling military weapon declare emergency enacted general assembly state ohio section sections amended section revised code enacted read follows used section revised code deadly weapon means instrument device thing capable inflicting death designed specially adapted weapon possessed carried used weapon firearm means deadly weapon capable expelling propelling projectiles action explosive combustible propellant firarms includes unloaded firearm firearm inoperable readily rendered operable determining whether firearm capable expelling propelling projectiles action explosive combustible propellant trier fact rely upon circumstancial evidence including limited representations actions individual exercising control firearm handgun means firearm designed fired held hand semi automatic firearm means firearm designed specially adapted fire single cartridge automatically chamber suceeding cartridge ready fire single function trigger automatic firearm means firearm designed specially adapted fire succession cartridges single function trigger automatic firearm also means semi automatic firearm designed specially adapted fire thirty cartridges without reloading firearm chambering caliber short long long rifle cartridges sawed firearm means shotgun barrel less eighteen inches long rifle barrel less sixteen inches long shotgun rifle less twenty inches long overall means following firearm crude extemporized manufacture device including without limitation starter pistol designed firearm specially adapted firearm industrial tool signalling device safety device designed firearm designed capable firearm possessed carried used firearm explosive device means device designed specially adapted cause physical harm persons property means explosion consisting explosive substance agency means detonate explosive device includes without limitation bomb explosive demolition device blasting detonator containing explosive charge pressure vessel knowingly tampered arranged explode incendiary device means firebomb device designed specially adapted cause physical harm persons property means fire consisting incendiary substance agency means ignite ballistic knife means knife detachable blade propelled spring operated mechanism dangerous ordinance means following except provided division section automatic sawed firearms ballistic knife explosive device incendiary device nitroglycerin nitrocellulose nitrostarch petn cyclonite picric acid high explosives amatol tritonal tetrytol pentolite pecretol cyclotol high explosive compositions plastic explosives dynamite blasting gelatin gelatin dynamite sensitized ammonium nitrate liquid oxygen blasting explosives blasting powder blasting agents explosive substance sufficient brisance power particularly suitable military explosive mining quarrying excavating demolitions firearm rocket launcher mortar artillery piece grenade mine bomb torpedo similar weapon designed manufactured military purposes ammunition weapon firearm muffler silencer military weapon detachable magazine magazine drum belt feed strip similar device capacity readily restored converted accept fifteen rounds ammunition combination parts intended owner converting firearm device dangerous ordinance dangerous ordnance include following firearm including military weapon ammunition weapon regardless actual employs percussion obsolete ignition system designed safe black powder pistol rifle shotgun designed suitable sporting purposes unless firearm either following military weapon issued modified ammunition weapon automatic sawed firearm cannon artilery piece regardless actual type accepted prior mechanical hydraulic pneumatic system absorbing recoil returning tube battery without displacing carriage designed safe black powder black powder priming quills percussion caps possessed lawfully used fire cannon type defined division section displays celebrations organized matches shoots target practice smokeless black powder primers percussion caps possed lawfully used propellant ignition device small arms small arms ammunition dangerous ordinance inoperable inert cannot readily rendered operable activated kept trophy souvenir curio museum piece device expressly excepted definition destructive device pursuant control stat amended regulations issued military weapon means following firearm originally manufactured military copy firearm firearm bolt action firearm model following firearms semi automatic firearm rifle model copy following firearms semi automatic firearm rifle armalite auto ordnance thompson models avtomat kalashnikov poly tech china sports bullpup mitchell barrett light fifty model baretta bushmaster auto rifle calico colt commando arms carbine mark mark mark universal carbine enforcer american arms daewoo fabrique nationale famas feather federal galil goncz high tech carbine heckler koch mandall carbine ruger mini folding stock model series springfield armory alpine carbine sterling mark steyr carbine mini carbine valmet bullpup carbine weaver arms nighthawk military military carbine springfield armory assault thompson drum magazine plainfield commando universe carbine cobray without silencer spectre auto carbine cobray armi jager commando armscorp america israeli clayco carbine dragunov sniper iver johnson paratrooper norinco partisan avenger sigarms squires bingham wilkinson terry carbine model following firearms semi automatic firearm pistol model copy following firearms semi automatic firearm pistol bushmaster auto pistol calico auto pistol ebcin feather mini goncz high tech pistol holmes intratec scorpion iver johnson enforcer ingram mitchell arms spectre auto scarab skorpion sterling pistol universal enforcer wilkinson linda auto pistol model following firearms semi automatic firearm shotgun model copy following firearms semi automatic firearm shotgun franchi spas striker street sweeper benelli super mossberg bullpup usas auto shotgun person shall knowingly acquire carry dangerous ordnance person shall knowingly dangerous ordnance section apply following officers agents employees state united states members armed forces united states organized militia state enforcement officers extent person authorized acquire carry dangerous ordnance acting within scope duties importers manufacturers dealers users explosives license user permit issued effect pursuant organized crime control stat amendments additions reenactments respect explosives explosive devices lawfully acquired possessed carried used laws state applicable federal importers manufactuers dealers license deal destructive devices ammunition issued effect pursuant control stat amendments additions reenactments respect dangerous ordnance lawfully acquired possessed carried used laws state applicable federal persons surplus ordnance sold loaned given secretary army pursuant stat amendments additions reenactments respect dangerous ordnance lawfully possessed used purpose specified section owners dangerous ordnance registered national firearms registration transfer record pursuant october stat amendments additions reenactments regulations issued carriers warehousemen others engaged business transporting storing goods hire respect dangerous ordnance lawfully transported stored usual course business compliance laws state applicable federal holders license temporary permit issued effect pursuant section revised code respect dangerous ordnance lawfully acquired possessed carried used purposes manner specified license permit division section apply acquisition carrying dangerous ordnance military weapon following apply person acquires carries dangerous ordnance question acquired effective date amendment collector item legitimate research scientific educational industrial proper purpose later close business seventh effective date amendment person acquired dangerous ordnance question accordance division section submitted application pursuant section revised code license carry application denied valid license issued person divisions section apply acquisition carrying using dangerous ordnance described division section revised code acquired prior effective date amendment whoever violates section quilty unlawful possession dangerous ordnance aggravated felony first degree person acquired military weapon effective date section shall file written application license carry military weapon sheriff county safety director police chief municipal corporation applicant resides principal place business application shall filed later close business seventh effective date section shall accompanied filing fifty dollars person shall file separate application separate filing military weapon intends carry application shall contain following information name address occupation business address applicant applicant natural person name address principal place business applicant applicant corporation description military weapon license requested including serial number identification marks statement purpose military weapon acquired possessed carried used information issuing authority require giving effect section oath applicant information application true later close business fourteenth application license carry military weapon filed division section issuing authority shall either approve application issue license applicant deny application send letter denial ordinary mail applicant conducting necessary investigation issuing authority shall issue license applicant determines satisfies following criteria applicant twenty years older applicant natural person appears applicant possess carry military weapon collector item legitimate scientific educational industrial proper purpose appears applicant sufficient competence carry military weapon proper precautions taken ensure security military weapon safety persons property applicant otherswise prohibited carrying dangerous ordnance license issued pursuant division section shall valid year date issuance license shall renewed pursuant division section except provided division section person issued license division section shall renew license filing application renewal regular mail sheriff county safety director police chief municipal corporation issuing authority license application renewal shall filed annually later year date license issued last renewed sheriff safety director peace officer municipal corporation shall make available applications renewal license issued division section application applicant oath shall update information submitted previous application license renewal license application renewal license shall accompanied five dollars applicant shall file seperate application renewal seperate renewal military weapon intends continue carry person changed residence principal place business location outside jurisdiction issuing authority subsequent issuance renewal license section shall renew license filing application manner prescribed division section sheriff county safety director police chief municipal corporation resides principal place business making application renew license change residence place business applicant shall give notice change address regular mail original issuing authority license state fire marshall notification forms prescribed sheriff safety director police chief seeks renewal license carry military weapon shall identify person issued identify military weapon issued state purpose identified division section military weapon possessed carried state expiration date list restrictions carrying military weapon prescribed laws state applicable federal person issued license carry military weapon section changes address shall notify issuing authority change address later ninety days change occurred issuing authority shall forward state fire marshall copy license issued renewed section state fire marshall shall keep permanent file licenses issued renewed section issuing authority shall cause application fifty dollars filed division section deposited general fund county muncipal corporation served issuing authority issuing authority shall cause dollars fifty cents renewal filed division section deposited general fund county municipal corporation served issuing authority shall send dollars fifty cents renewal treasurer state deposit state treasury credit general revenue fund whoever violates division section guilty failing apply licensure military weapon felony fourth degree whoever violates division section guilty failing apply renewal license military weapon misdemeanor first degree military weapon licensed required section contraband defined section revised code subject forfeiture section revised code person shall following import manufacture possess sale sell furnish person military weapon recklessly sell lend give furnish firearm person prohibited section revised code acquiring using firearm recklessly sell lend give furnish dangerous ordnance person prohibited section revised code acquiring using dangerous ordnance possess firearm dangerous ordnance purpose dispose violation division section manufacture possess sale sell furnish person enforcement agency authorized police work brass knuckles cestus billy blackjack sandbag switchblade knife springblade knife gravity knife similar weapon transferring dangerous ordnance another negligently fail require transferes exhibit identification license permit showing authorized acquire dangerous ordnance pursuant section revised code negligently fail take complete record transaction forthwith forward copy record sheriff county safety director police chief municipality transaction takes place knowingly fail report enforcement authorities forthwith loss theft firearm dangerous ordnance person possession control whoever violates section quilty unlawful transactions weapons violation division section aggravated felony first degree violation division section felony third degree violation division section misdemeanor second degree violation division section midemeanor fourth degree section existing section revised code hereby repealed section hereby declared emergency measure necessary immediate preservation public peace health safety reason necessity immediate action prohibit continued purchase possession military weapons result ameliorate substantial threat death injury public caused misuse improper weapons therefore shall immediate effect',\n",
       " 'currently writing paper computer protocols security would appreciate help currently insight topics except relate security multilevel security network please semd references books faqs contact persons names internet addresses topics interested firewall gateway model implemented internet gateways kerberos authentication service please send private mail eldar post board thanks',\n",
       " 'interested program easy strongly suggest approach extremely easy make reports paradox almost never paradox need build complicated application paradox heard horror stories access programming extremely cryptic since seem like probably fairly small stuff work home used database recommend approach found small thing would like easily database order records entered must different logical ordering permanently reorder dbase command records requires sorting records appropriately problem since almost always order exporting database another database still approach database copying exported files back original filename small weakness considering items really like approach also little slower paradox loading paradox takes forever minute load paradox also takes memory hard disk around',\n",
       " 'anyone know apple ambiguous message regarding price lists seen every message optional know discussed newsgroup built except configuration would unclear issue price list planning pretty soon getting confused whether comes optional built please anybody help understand game regards',\n",
       " 'appreciate greatly someone could mail following know fine specs compares pentium specs estimated cost release date interested speeds systems windows risc whatever costs info register info technical info hoping another battle intel people thanks info give thanks',\n",
       " 'remember seeing complete instructions making phonenet adapters midi adapters macrecorder lookalike short search archive info failed pointers',\n",
       " 'sports without sports suspension stiff little practicality comfort nissan turbo good good dose luxury lexus perfect manual transmission course however toyota supra coming soon like looks performance supposed great almost race like particulary like mitsubishi dodge stealths heavy nimble handlers sports motion picture major brooks institute photography santa barbara foreign student kuala lumpur malaysia',\n",
       " 'guess really asking like government servent tell soveriegn cannot possess would seem possessing machine less criminal definition possessing television also would seem would better pass laws harm kill someone machine television would specific penalties sorry close',\n",
       " 'hello already tried national news group without success tried replace friend original floppy disk normal teac drive already identified power supply pins shorted switch inserted pullup resistors pins computer complain missing light stays time drive spins insert disk access teac works fine normal points missed thank volkmar',\n",
       " 'almost window managers olwm derivates support escape sequences purpose following login using tcsh modify term xterm echo logname host host endif note stands enter pressing ctrl means ctrl press ctrl ctrl first sequence puts string title second icon also current working directory title make alias alias echo logname host greetings thomas',\n",
       " 'learn know million dollars money know rickey henderson career baseball know baseball making near money understand athlete plays sport living millions dollars paid enough nobody sign asking price hurting still without remeber many athletes nothing athletic ability nothing getting paid much hard working citizens complaining enough',\n",
       " 'unworthy comment would died come hands empty undeniable truth heart bleeds much children never released given days ample opportunities heart also bleeds people blinded religious devotion common sense leave compound tanks came started dropping tear early morning think however fire started place spread quickly wanted motion batf going investigated justice dept likely arlen spectre congress good bungled affair start',\n",
       " 'roth recommends hypoglycemia confirmed proper channels might consider ther following diet omitted consider proper channels sounds suspiciously like blood chemistry glucose tolerance like suddenly chemistry exists know perfectly well person saved needless trouble expense simple muscle testing hair analysis diagnose confirm aberrant physiology maybe meantby proper channels able understand dick king post diseases thesame thing patients reply inability critically evaluate statistic cited england journal medicine couldyou figure implied remark course ethically bound knowingly dispense placebos ever thought never post misc health alterna tive insist instead upon insinuating untrained medical often delusional notions health disease forum suspect apparent anger toward heteropathic medicine underlying father problem course confirm surrogate muscle testing patients ponder theory previously weak indicator muscles strengthens reservations unique methods diagnosis forgot said earlier post neither concerned whether study designs meet anyone else criteria acceptance john badanes romdas uclink berkeley',\n",
       " 'third party media adapters usually cheaper least toronto apple bought adapters asante instead apple true decstation comes thinwire coaxial ethernet connector single ethernet connector distinctly remembered first thought going thinwire eventually back ordered destas oversized version adapter must used transciever cable rest stations advise original poster beverly want create workstations machines ever thinwire regardless media type going unshielded twisted pair wiring requires concentrator means extra money believe units come least ports thicknet nightmare cabling expensive avoid unless choice machines floors parts side need thinwire media adapter apple third party macx make sure version system mactcp comes macx macx getting mactcp earlier versions centris need terminator depending thinwire media adapter sales adapter self terminated configure mactcp ethernet decstation side need model need connector models need adapter plugged directly port decstation save cost transciever cable male female cable terminator machine network look like decstation centris decstation centris terminator connector thinwire coaxial cable thick thin adapter thickwire media adapter assuming self terminated andy',\n",
       " 'however sample bolt took store rather well following open wrench wrench point normal socket take meaning bolt head socket want thing later',\n",
       " 'dont know list openlook application buttons first button turns gets highlighted soon sprite mouse moved application window suppress',\n",
       " 'friend diagnosed lupus know nothing disease thing know sort skin disease friend shows skin rashes fact used blood test determine wrong going sacro illiac joint problem finding hard time finding information disease could anyone please enlighten particulars disease please feel free mail bytor cruzio santa cruz',\n",
       " 'think rename waco wacko',\n",
       " 'subject could think parade wrigley field chicago maybe marc cooper graphics programmer sverdrup tech child fsmarc lerc nasa imaginary playmate nasa lewis research center brookpark robbins cleveland even cowgirls blues',\n",
       " 'like backs instead minds make living usually ignorant intolerant anything outside group level understanding tuba irwin honk therefore computrac richardson irwin cmptrc lonestar',\n",
       " 'subject external extremely cheap brand external floppy drive still sell shipping firm half market price check page computer shopper issue price please know interested',\n",
       " 'several problems game presented fans feel geographical names would enhance regional loyalties names honouring personages course would appear nearly confusing approaching sport first time another thing bothers points system percentages used major sports clearly informative look standings first thing make quick calculation account games hand almost always case object percentages claiming perhaps americanization sport feel using percentages informative whether american irrelevant even contributed without likes norris would agree norris contributed without likes taking poll fans would quickly tell fans feel made meaningful contribution look division names going hold either',\n",
       " 'remember name program looking called icofrite cica last quite',\n",
       " 'read development eisa time dismissed light intense interest vesa however recently disheartened hear cannot address limit many soon recall eisa support transfer among enhancements standard developed',\n",
       " 'claim expert branch davidians might know branch davidian group koresh actually shoots group known shephard shephard defunct know broke church shephard broke away church felt church becoming weak falling apostacy felt remnant spoken revelation koresh group koresh gained control control made center proclaimed christ koresh came background excommunicated young adult local congregation trying exert much control youth church joined branch davidians survivalist cult stockpile weapons food bomb shelter intent raiding government anything preparing armaggedon putting self defense position opinion left well enough alone blood children crying ashes waco want know shephard might want visit local church talk older people could give insight koresh theology',\n",
       " 'eurowiper boots white throw away first pair since found cleaning looked almost black second pair white ones dirty need clean removing since remove black ones thanks joel joel sprechman sprec acsu buffalo university buffalo ubvms buffalo',\n",
       " 'better tell mental health branch israeli army medical corps would without davidson sigh four deer aviv well probably accurate rest fantasy yisrael shahak crackpot chemist figures often rechavia jerusalem post office really figure actually feel sorry concentration camp holocaust must affected deeply',\n",
       " 'threat affected note available psych info says feelings security increase victimization stats increase rational nope happen instead switch among change behaviors property crimes improvement even economic take unchanged sure everyone switches killing andy',\n",
       " 'looking viewer vpic',\n",
       " 'thinking getting infiniti consumer reports ranked high many catagories including highest reliability index compact cars mitsubushi galant second followed honda accord couple things though looking around anyone driving lots honda toyota special deal infinity fully loaded dealer cost check numbers match releasing update version includes dual bags want guess question good deal also anyone give feedback infiniti thanks carl hoffman',\n",
       " 'find wrong flat subaru flat matter',\n",
       " 'replaced motherboard system similar questions cents worth speaker connector wires going speaker speaker coil bidirectional makes difference attach turbo switch three wires control want turbo become active switch pushed switch think middle wire common meter figure wire connects common wire switch pushed wires connected switch place appropriate wires turbo berg connector motherboard turbo directional depending wires attached light motherboard turbo switch wires attached berg connector board board power default turbo mode motherboard like attace wires board light power reverse connectors work attach turbo switch board hope helps',\n",
       " 'lighten harry skip like couple years harry great personality reason like cubs broadcasts certainly quality team chop chop michael mule',\n",
       " 'anyone else playing wincmd utility magazine trouble concatenating string variables together need help example temp path temp file fullpath temp fullpath output fullpath fullpath temp fullpath output file seems dropping first characters concatenations memory maybe variables total article mention memory limits email idea would like actual source output thanks help',\n",
       " 'file would problem dblspace',\n",
       " 'organized religion religion built organized values ford tempo tempo built ford values rational response response built rational values unconditional surrender surrender built unconditional values uncle',\n",
       " 'foolish person know fuck talking gladly demonstrate ignorants wish legalization drugs provide benefits highly taunted proponents safer cheaper drugs along revenues taxes drugs reduced crime reduced organized crime specifically would like prove clueless wasted posts think group intended something easily solved little research making look damn easy vast social historical differences alcohol drugs make comparison worthless shall government people decides vices detrimental society whole',\n",
       " 'bill james sounds like suggesting bill james something overhyping death contraire fairly critical campaign noting world catcher hitter called basically average everyone else media predicting next johnny bench campanella reports like hernandez piazza catch ball gotta play imho much better hitter although hernandez hitter right sounds like piazza catch time hernandez candiotti caddy since catch knuckler long play abilities dodgers could good catching tandem think overrated defensively nichols catcher defense something difficult prove disprove viewpoint mine tangible thing look opponent clouded well pitchers hold runners catchers possibility subject many biases playing team much need another disagree chink braves armor weak offensively several positions belliard plays unless bream hunter form another super platoon weak defensively blauser plays like braves give least nieves javy lopez chipper jones shot much like talent rich jays recent years conservative stick saying wrong conservative',\n",
       " 'another floated clinton administration free social programs really begun suspect canadians long resentful place american shadow brainwashed american draft dodger fled canada time tutored ways canadian socialism awarded smokeless marijuana cigarettes correct answers returned states control domineering wife assigned case attain high public office destroy evil individualistic free market forces america thus shaping america canadian image',\n",
       " 'movie sale dance wovies tape open buyer shipping cost interested please send offer koutd hirama hiram thanks',\n",
       " 'leaders stupid independent relevant whether agree reasonable thought appreciate point however would make remarks forgot hate government level arab governments taugh talk arrogance adults listen tough talk american politicians switch channel would rather intimidated dummy talking tough bomb ready blow seat',\n",
       " 'following example noticed tunk rear bumper quite small left side much larger right blech',\n",
       " 'sure juha another center rauli raitanen drafted jets raitanen good year played finnish nationalteam believe best finns year matikainen head coach elects team',\n",
       " 'september issue tufts university diet nutrition letter three page article artificial sweeteners follows excerpts deal specifically nutrasweet reproduced without permission controversy aspartame began years england group researchers found aspartame marketed tradename nutrasweet appears stimulate appetite presumably eating calories long person simply consumed sugar researchers asked group people drink plain water aspartame sweetened water sugared water said overall felt hungriest drinking artificially sweetened beverage study received widespread media attention stirred good deal concern among artificial sweetener using public however results questionable best since researchers measure whether increase appetite actually translate increase eating necessarily hand hand years followed dozen studies examining effect aspartame appetite eating conducted reviewing every director laboratory study human ingestive behavior johns hopkins university barbara rolls concluded consuming aspartame sweetened foods drinks associated increase amount food eaten afterward artificial sweetener typically accused causing cancer aspartame certainly blamed host ills since introduction government received thousands complaints accusing causing everything headaches nausea mood swings anxiety still years careful scientific study conducted sweetener entering market failed confirm bring adverse health effects centers disease control government agency charged monitoring public health american medical association council scientific affairs food drug administration given aspartame studied food additives clean bill health granted forth acceptable daily intake milligrams aspartame kilogram body weight exceed limit however pound woman would take milligrams aspartame amount cans aspartame sweetened soda cups gelatin cups yogurt ounce servings aspartame containing cocoa pound would consume milligrams sweetener amount cans soda cups yogurt limit chart aspartame content selected foods omitted small group people must certain stay away aspartame born rare metabolic disorder called phenylketonuria estimated person every unable properly metabolize essential amino acid aspartame called phenylalanine child consumes builds body ultimately cause severe problems mental retardation help people avoid substance labels cans soda aspartame sweetened foods must carry warning phenylketonurics contains phenylalanine',\n",
       " 'good idea need amps minutes good wetware memory using autocad thought idea days fairly battery take along camping sits around useless home wish could batteryless heavy duty volt regulator supply guess need batteries alternative would leave battery charger hooked battery converter running time power goes converter keeps running battery could take converter computer camping trips',\n",
       " 'identifies software available either commercially public domain',\n",
       " 'need definitions spec dhrystone benchmarks background material would also welcome anyoneand email something point anonymous server appreciate thanks dykes',\n",
       " 'make easy thief saves trouble popping ignition',\n",
       " 'first move incident bomb several members killed gunfire circa mayor white frank rizzo second bomb included mayor wilson goode indeed black',\n",
       " 'step join american motorcycling association call join step become member ship bike uncrated anywhere across fruited plain hundred bucks used service continually pleased usually take days whole thing prepare bike draining mention normal shipping costs time crate bike ship another company around',\n",
       " 'notice offer alternative number size year american taxpayers given israel dollar every star milky galaxy',\n",
       " 'colonists replaced bolt bottom barrel wanted coffee could engine boiling pour water used ethylene glycol antifreeze rather methanol tastes sweeter',\n",
       " 'another useful method based least sqyares estimation sphere equation parameters points spherical surface radius center written equation rewritten following form approximate left hand part datapoints determine parameters minimise average error numerical recipes found algorithms solve parameters best fitting sphere center radius sqrt last solve sphere estination problem least situations think',\n",
       " 'hats cubs actually muster courage braves fans mean braves done gone consecutive world series also cubs really hand braves fans capable driving crazy infernal cheer however protest anyone saying cubs fans stupid either stupid acknowledge observation plain wrong might confused bear fans anyway weeks everyone saying cubs would finish last division even behind florida sheesh people predicting braves clean respective division well games season people little less vocal wonder well east grabs whoever wants going take exception florida every team seems good batting pitching philly presently leading pack point cubs take east without benefit competent manager however pains pennant going west chest',\n",
       " 'second suggestion although portable deskjet deskjet gives nicest outputs minor loss quality intensive purposes papers letters resumes treat deskjet like laser printer look closely blurs characters grudge gives smudge rather quickly presence moisture even though waterproof however would spend laser quality cannon bubblejets nice however seem much support drivers popular programs jets also deskjet regular plus accepts xerox paper believe sheet feeder option cannon bubblejet mind refilling printer cheap fountain deskjets cheap maintain paid last bottle expect last months kimball work loves printer much',\n",
       " '',\n",
       " 'many nubus slots applied engineering something called quadralink card serial ports comms toolbox addition built ones also comes software fooling applications open port think open built port also expensive card better performance think someone else card handles ports simultaneously said nubus green learn comms resource manager various installed cards cheers',\n",
       " 'evidence would convince credulous evidence identical sort evidence used justify sorts quack treatments quack diseases past like implication must quacks making millions diseases biased rather doubt existence understand real world seems easy picture centure snake salesman saying thing however trenches long enough seen multiple quack diseases rise fall popularity systemic yeast syndome seems making resurgence fallen years diseases sure best selling books expensive therapies well course convincing guess better start diagnosing illnesses people want keep lips',\n",
       " 'cyrix could anyone please repost email missed thanks advance alexander poylisher internet apoylis inode fidonet',\n",
       " 'word missing whole discourse word word even words word loser right boil crap argument winning losing nothing else explain remember eighties excuses nobody handle mail buffer claim young remember ronald reagan eighties america learned know well nothing left cold endure nuclear holocaust worlds conquer forgot outer space long kind overwhelming holds barred success killed alexander great little problems along stock market meltdown bailout revolts crazy middle eastern dictators contend tacitus would tell augustus never good meantime guilt winning maybe fear deserve bounty success kinder gentler type politician days bill clinton affirmative action lots discourse people winning business kind talk mildly irritating still suggestion losing find mildy stereotype white male winner woody hayes rose bowl punching photojournalists california fruits nuts steal another hail mary pass fourth quarter whole idea behind three yards cloud dust wear opponent collapses final period woody used fists uzzies seem weapon choice days fens anyway answer plain horn rims face michael douglas posing loser known controversial casting baggy short sleeved white shirt sure look natural mike gordon gekko never look though woody always dressed really expect gekko take easy enjoy kind wardrobe without putting fuss starting lose sight bashing fens game bashing poor african american slug clint eastwood used blow away time arch wasp male gender george scott declaimed americans traditionally love love winner tolerate loser political implications simple many socialists democrats consider society finite apportioned equitable worry winner loser tell whose side could black women today asian homosexuals tommorrow indeed white determined balance finally swung minority blow whole thing conservatives libertarians care winning losing cases might something make sure game fair equality opportunity condition latter case might able identify neoconservative neoliberal depending much want limit either winner longer popular least graduate high school still popular high school reunions beats nerd would imagine michael douglas would agree long even hollywood treats losers worse place america except york washington even columbus ohio produced alex keaton champion football teams eighties first quarter nineties like winners society regardless race gender religious preference sexual orientation maybe even white definitely buckeyes rose bowl someday bill',\n",
       " 'playing around gateway local machine last night became apparent windows give option access virtual memory using permanent swap file disk drive local interface expected investigating option appears thanks help',\n",
       " 'wyse terminal emulator comms toolbox available somewhere thanks',\n",
       " 'suppose media want something happen otherwise would report duhhh much surprising want riot amazing carry desire across subtle ways least carlos',\n",
       " 'forgot shamsky former mets player batted injuries fell short qualifying injuries platoon swoboda swobo jewish',\n",
       " 'mean disrespectful concerns seems getting wound issue many knowledgeable people pointed naturally occurring substance foods food manufacturers preparation known flavor enhancer wife theory added food stimulate appetite well true believe always reason added people largely part charge appetites know much cats cats take advantage resign never understand tastes whimsical also suspect though since checked ingredients commercial food much stringent requirements food additives human stupid idea human beings intelligence look interests',\n",
       " 'hello networld looking mailreader xelm andreas',\n",
       " 'mean anything approach article recent avation week remember exact date recent allen',\n",
       " 'news steve status since lost starting would appreciated',\n",
       " 'case panics jumps getting facts straight',\n",
       " 'rite like described joseph campbell occidental mythology also described levels initiation think know campbell info remember thinking little eclectic quite read campbell give',\n",
       " 'reply pitt gordon banks made decision back bullied getting studies like think indicated patient accept explanation think study would waste time money suggest second opinion',\n",
       " 'looking game games please mail list offers thanks also game want please tell',\n",
       " 'chevrolet brothers respected racers test drivers buick durant directors kicked durant took chevrolet others mentioned founded successful chevrolet company little known fact chevrolet actually took durant back charge legally company chevrolet buying division chevrolet sloan shuffled things board superior always degree autonomy given chevy division presumably initial structure look organization chart sloan book chevy division reports directly floor passenger division covers buick olds cadillac oakland pontiac',\n",
       " 'free program called xkernel seth robertson seth columbia takes boots limited kernel allows converted machines semester speedup enormously appreciable find faster inch black white xterminal playing bigger screen boot matter fact department bought auction convert xkernel available anonymous columbia xkernel xkernel shar xkernel symlink latest version xkernel note compiled version available compiling work quite easy connected xkernel except satisfied installer user able answer questions feel free email',\n",
       " 'good point held sometime allow people develop paths choose desire even heterosexuals tend leave hanging sense knowledge information sexuality relationships difficult young person develop build positive view themself constantly told implicitly explicitly wrong immoral',\n",
       " 'indeed really designed algorithm secure likely secure idea however system whole resistant practical cryptanalysis puzzle palace bamford describes several employees turned foreign presumably agents despite security measures doubt accounting firm could match confidential data subject requested thousands police organizations courts across land anyone mention ronald william pelton embarrassing',\n",
       " 'told person care worried going start putting health money homeopathy without really knowing getting reason posted first place homeopathy britain homeopathy available national health service homeopathic practices true false important documented investigations homeopathic principles reading book homeopathy weekend turned section principles behind homeopathic medicine paragraphs informed homeopaths feel obliged provide sort explanation author stated pride though sort virtue sceptical homeopathy narrow minded bigot homeopathy really looks like witch doctory anything else',\n",
       " 'posted apps group response trying latex help feature available emacs windows read need separate latexhlp file along file convert windows help anyone found files gotten command help work',\n",
       " 'like backs instead minds make living usually ignorant intolerant anything outside group level understanding seems confusion rednecks white trash confusion understandable substantial overlap sets clarify rednecks primarily backs instead minds make living usually somewhat ignorant somebody standards anyway never held education basic reading writing math skills important eventual vocation note stupid ignorant might stupid high percentage group white trash white trash stereotype referred word nigger better black person ever added bonus white trash mean hell father genuinely lazy work qualified good nothing dishonest white people mean snakes squeal like boys deliverance rednecks sure hell white trash white trash assuredly intolerant anything outside group level understanding rednecks',\n",
       " 'aware foreign doctors admitted training ineligible apply resident alien status order green card return country apply embassy course many somehow around problem often agreeing practice town need congressman district tacks rider onto bill saying allowed permanent residency bills congress riders attached marrying citizen common although even cracking trying tell citizens must follow spouse back phillipines whereever gordon banks skepticism chastity intellect cadre pitt shameful surrender soon',\n",
       " ...]"
      ]
     },
     "execution_count": 159,
     "metadata": {},
     "output_type": "execute_result"
    }
   ],
   "source": [
    "detokenized_doc"
   ]
  },
  {
   "cell_type": "code",
   "execution_count": 160,
   "metadata": {},
   "outputs": [],
   "source": [
    "news_df['clean_doc'] = detokenized_doc"
   ]
  },
  {
   "cell_type": "code",
   "execution_count": 161,
   "metadata": {},
   "outputs": [
    {
     "data": {
      "text/plain": [
       "'well sure story seem biased disagree statement media ruin israels reputation rediculous media israeli media world lived europe realize incidences described letter occured media whole seem ignore subsidizing israels existance europeans least degree think might reason report clearly atrocities shame austria daily reports inhuman acts commited israeli soldiers blessing received government makes holocaust guilt away look jews treating races power unfortunate'"
      ]
     },
     "execution_count": 161,
     "metadata": {},
     "output_type": "execute_result"
    }
   ],
   "source": [
    "news_df['clean_doc'][0]"
   ]
  },
  {
   "cell_type": "code",
   "execution_count": 164,
   "metadata": {},
   "outputs": [],
   "source": [
    "from sklearn.feature_extraction.text import TfidfVectorizer"
   ]
  },
  {
   "cell_type": "code",
   "execution_count": 165,
   "metadata": {},
   "outputs": [],
   "source": [
    "vectorizer = TfidfVectorizer(stop_words='english',\n",
    "                            max_features = 1000, # 상위 1000개 단어 보존\n",
    "                            max_df = 0.5,\n",
    "                            smooth_idf=True)"
   ]
  },
  {
   "cell_type": "code",
   "execution_count": 166,
   "metadata": {},
   "outputs": [],
   "source": [
    "X = vectorizer.fit_transform(news_df['clean_doc'])"
   ]
  },
  {
   "cell_type": "code",
   "execution_count": 167,
   "metadata": {},
   "outputs": [
    {
     "data": {
      "text/plain": [
       "(11314, 1000)"
      ]
     },
     "execution_count": 167,
     "metadata": {},
     "output_type": "execute_result"
    }
   ],
   "source": [
    "X.shape"
   ]
  },
  {
   "cell_type": "code",
   "execution_count": 172,
   "metadata": {},
   "outputs": [
    {
     "data": {
      "text/plain": [
       "array([[0.        , 0.        , 0.        , ..., 0.        , 0.        ,\n",
       "        0.        ],\n",
       "       [0.        , 0.        , 0.20185845, ..., 0.        , 0.        ,\n",
       "        0.        ],\n",
       "       [0.        , 0.        , 0.        , ..., 0.        , 0.        ,\n",
       "        0.        ],\n",
       "       ...,\n",
       "       [0.        , 0.        , 0.        , ..., 0.        , 0.        ,\n",
       "        0.        ],\n",
       "       [0.        , 0.        , 0.        , ..., 0.        , 0.        ,\n",
       "        0.        ],\n",
       "       [0.        , 0.        , 0.        , ..., 0.23080563, 0.        ,\n",
       "        0.        ]])"
      ]
     },
     "execution_count": 172,
     "metadata": {},
     "output_type": "execute_result"
    }
   ],
   "source": [
    "# tfidf 값\n",
    "X.toarray()"
   ]
  },
  {
   "cell_type": "markdown",
   "metadata": {},
   "source": [
    "#### 토픽 모델링. 절단된 SVD(Truncated SVD) 사용\n",
    "뉴스그룹 데이터가 20개 카테고리를 갖고 있으므로 20개 토픽으로 가정"
   ]
  },
  {
   "cell_type": "code",
   "execution_count": 173,
   "metadata": {},
   "outputs": [],
   "source": [
    "from sklearn.decomposition import TruncatedSVD"
   ]
  },
  {
   "cell_type": "code",
   "execution_count": 174,
   "metadata": {},
   "outputs": [],
   "source": [
    "svd_model = TruncatedSVD(n_components = 20, algorithm = 'randomized', n_iter = 100,\n",
    "                        random_state = 122)"
   ]
  },
  {
   "cell_type": "code",
   "execution_count": 175,
   "metadata": {},
   "outputs": [
    {
     "data": {
      "text/plain": [
       "TruncatedSVD(n_components=20, n_iter=100, random_state=122)"
      ]
     },
     "execution_count": 175,
     "metadata": {},
     "output_type": "execute_result"
    }
   ],
   "source": [
    "svd_model.fit(X)"
   ]
  },
  {
   "cell_type": "code",
   "execution_count": 176,
   "metadata": {},
   "outputs": [
    {
     "data": {
      "text/plain": [
       "20"
      ]
     },
     "execution_count": 176,
     "metadata": {},
     "output_type": "execute_result"
    }
   ],
   "source": [
    "# components_는 VT에 해당\n",
    "len(svd_model.components_)"
   ]
  },
  {
   "cell_type": "code",
   "execution_count": 177,
   "metadata": {},
   "outputs": [
    {
     "data": {
      "text/plain": [
       "(20, 1000)"
      ]
     },
     "execution_count": 177,
     "metadata": {},
     "output_type": "execute_result"
    }
   ],
   "source": [
    "np.shape(svd_model.components_)"
   ]
  },
  {
   "cell_type": "code",
   "execution_count": 178,
   "metadata": {},
   "outputs": [],
   "source": [
    "# 단어 집합. 1,000개의 단어가 저장\n",
    "terms =vectorizer.get_feature_names()"
   ]
  },
  {
   "cell_type": "code",
   "execution_count": 179,
   "metadata": {
    "collapsed": true,
    "jupyter": {
     "outputs_hidden": true
    }
   },
   "outputs": [
    {
     "data": {
      "text/plain": [
       "['ability',\n",
       " 'able',\n",
       " 'accept',\n",
       " 'access',\n",
       " 'according',\n",
       " 'account',\n",
       " 'action',\n",
       " 'actions',\n",
       " 'actual',\n",
       " 'actually',\n",
       " 'added',\n",
       " 'addition',\n",
       " 'additional',\n",
       " 'address',\n",
       " 'administration',\n",
       " 'advance',\n",
       " 'advice',\n",
       " 'agencies',\n",
       " 'agree',\n",
       " 'algorithm',\n",
       " 'allow',\n",
       " 'allowed',\n",
       " 'allows',\n",
       " 'amendment',\n",
       " 'america',\n",
       " 'american',\n",
       " 'americans',\n",
       " 'analysis',\n",
       " 'angeles',\n",
       " 'anonymous',\n",
       " 'answer',\n",
       " 'answers',\n",
       " 'anti',\n",
       " 'anybody',\n",
       " 'apparently',\n",
       " 'appear',\n",
       " 'appears',\n",
       " 'apple',\n",
       " 'application',\n",
       " 'applications',\n",
       " 'apply',\n",
       " 'appreciate',\n",
       " 'appreciated',\n",
       " 'approach',\n",
       " 'appropriate',\n",
       " 'april',\n",
       " 'arab',\n",
       " 'archive',\n",
       " 'area',\n",
       " 'areas',\n",
       " 'argument',\n",
       " 'arguments',\n",
       " 'armenia',\n",
       " 'armenian',\n",
       " 'armenians',\n",
       " 'arms',\n",
       " 'army',\n",
       " 'article',\n",
       " 'articles',\n",
       " 'asked',\n",
       " 'asking',\n",
       " 'assume',\n",
       " 'assuming',\n",
       " 'atheism',\n",
       " 'atheists',\n",
       " 'attack',\n",
       " 'attempt',\n",
       " 'author',\n",
       " 'authority',\n",
       " 'available',\n",
       " 'average',\n",
       " 'avoid',\n",
       " 'away',\n",
       " 'background',\n",
       " 'base',\n",
       " 'baseball',\n",
       " 'based',\n",
       " 'basic',\n",
       " 'basically',\n",
       " 'basis',\n",
       " 'begin',\n",
       " 'beginning',\n",
       " 'belief',\n",
       " 'beliefs',\n",
       " 'believe',\n",
       " 'best',\n",
       " 'better',\n",
       " 'bible',\n",
       " 'bike',\n",
       " 'bios',\n",
       " 'bits',\n",
       " 'black',\n",
       " 'block',\n",
       " 'blood',\n",
       " 'blue',\n",
       " 'board',\n",
       " 'body',\n",
       " 'book',\n",
       " 'books',\n",
       " 'boston',\n",
       " 'bought',\n",
       " 'break',\n",
       " 'bring',\n",
       " 'brought',\n",
       " 'build',\n",
       " 'building',\n",
       " 'built',\n",
       " 'business',\n",
       " 'cable',\n",
       " 'california',\n",
       " 'called',\n",
       " 'calling',\n",
       " 'calls',\n",
       " 'came',\n",
       " 'canada',\n",
       " 'card',\n",
       " 'cards',\n",
       " 'care',\n",
       " 'carry',\n",
       " 'cars',\n",
       " 'case',\n",
       " 'cases',\n",
       " 'cause',\n",
       " 'center',\n",
       " 'certain',\n",
       " 'certainly',\n",
       " 'chance',\n",
       " 'change',\n",
       " 'changed',\n",
       " 'changes',\n",
       " 'char',\n",
       " 'character',\n",
       " 'cheap',\n",
       " 'check',\n",
       " 'chicago',\n",
       " 'child',\n",
       " 'children',\n",
       " 'chip',\n",
       " 'chips',\n",
       " 'choice',\n",
       " 'choose',\n",
       " 'christ',\n",
       " 'christian',\n",
       " 'christianity',\n",
       " 'christians',\n",
       " 'church',\n",
       " 'citizens',\n",
       " 'city',\n",
       " 'civil',\n",
       " 'claim',\n",
       " 'claims',\n",
       " 'class',\n",
       " 'clear',\n",
       " 'clearly',\n",
       " 'clinton',\n",
       " 'clipper',\n",
       " 'clock',\n",
       " 'close',\n",
       " 'code',\n",
       " 'color',\n",
       " 'colorado',\n",
       " 'colors',\n",
       " 'come',\n",
       " 'comes',\n",
       " 'coming',\n",
       " 'command',\n",
       " 'comment',\n",
       " 'comments',\n",
       " 'commercial',\n",
       " 'committee',\n",
       " 'common',\n",
       " 'communications',\n",
       " 'community',\n",
       " 'comp',\n",
       " 'companies',\n",
       " 'company',\n",
       " 'complete',\n",
       " 'completely',\n",
       " 'computer',\n",
       " 'conclusion',\n",
       " 'condition',\n",
       " 'conference',\n",
       " 'congress',\n",
       " 'connection',\n",
       " 'consider',\n",
       " 'considered',\n",
       " 'considering',\n",
       " 'contact',\n",
       " 'contains',\n",
       " 'context',\n",
       " 'continue',\n",
       " 'contrib',\n",
       " 'control',\n",
       " 'controller',\n",
       " 'convert',\n",
       " 'copies',\n",
       " 'copy',\n",
       " 'correct',\n",
       " 'cost',\n",
       " 'costs',\n",
       " 'count',\n",
       " 'countries',\n",
       " 'country',\n",
       " 'couple',\n",
       " 'course',\n",
       " 'court',\n",
       " 'cover',\n",
       " 'create',\n",
       " 'created',\n",
       " 'crime',\n",
       " 'criminals',\n",
       " 'cross',\n",
       " 'current',\n",
       " 'currently',\n",
       " 'data',\n",
       " 'date',\n",
       " 'dave',\n",
       " 'david',\n",
       " 'days',\n",
       " 'dead',\n",
       " 'deal',\n",
       " 'death',\n",
       " 'decided',\n",
       " 'decision',\n",
       " 'default',\n",
       " 'defense',\n",
       " 'define',\n",
       " 'deleted',\n",
       " 'department',\n",
       " 'described',\n",
       " 'description',\n",
       " 'design',\n",
       " 'designed',\n",
       " 'details',\n",
       " 'detroit',\n",
       " 'developed',\n",
       " 'development',\n",
       " 'device',\n",
       " 'devices',\n",
       " 'died',\n",
       " 'difference',\n",
       " 'different',\n",
       " 'difficult',\n",
       " 'digital',\n",
       " 'direct',\n",
       " 'directly',\n",
       " 'directory',\n",
       " 'discussion',\n",
       " 'disease',\n",
       " 'disk',\n",
       " 'disks',\n",
       " 'display',\n",
       " 'distribution',\n",
       " 'division',\n",
       " 'doctor',\n",
       " 'door',\n",
       " 'double',\n",
       " 'doubt',\n",
       " 'draw',\n",
       " 'drive',\n",
       " 'driver',\n",
       " 'drivers',\n",
       " 'drives',\n",
       " 'driving',\n",
       " 'drug',\n",
       " 'drugs',\n",
       " 'earlier',\n",
       " 'early',\n",
       " 'earth',\n",
       " 'easily',\n",
       " 'east',\n",
       " 'easy',\n",
       " 'education',\n",
       " 'effect',\n",
       " 'effective',\n",
       " 'effort',\n",
       " 'electronic',\n",
       " 'email',\n",
       " 'encryption',\n",
       " 'energy',\n",
       " 'enforcement',\n",
       " 'engine',\n",
       " 'entire',\n",
       " 'entry',\n",
       " 'environment',\n",
       " 'equipment',\n",
       " 'error',\n",
       " 'errors',\n",
       " 'escrow',\n",
       " 'especially',\n",
       " 'europe',\n",
       " 'event',\n",
       " 'events',\n",
       " 'evidence',\n",
       " 'exactly',\n",
       " 'example',\n",
       " 'excellent',\n",
       " 'exist',\n",
       " 'existence',\n",
       " 'exists',\n",
       " 'expect',\n",
       " 'expected',\n",
       " 'expensive',\n",
       " 'experience',\n",
       " 'explain',\n",
       " 'export',\n",
       " 'extra',\n",
       " 'face',\n",
       " 'fact',\n",
       " 'fairly',\n",
       " 'faith',\n",
       " 'fall',\n",
       " 'false',\n",
       " 'family',\n",
       " 'fast',\n",
       " 'faster',\n",
       " 'father',\n",
       " 'features',\n",
       " 'federal',\n",
       " 'feel',\n",
       " 'field',\n",
       " 'figure',\n",
       " 'file',\n",
       " 'files',\n",
       " 'final',\n",
       " 'finally',\n",
       " 'fine',\n",
       " 'firearms',\n",
       " 'floppy',\n",
       " 'folks',\n",
       " 'follow',\n",
       " 'following',\n",
       " 'font',\n",
       " 'fonts',\n",
       " 'food',\n",
       " 'force',\n",
       " 'forget',\n",
       " 'form',\n",
       " 'format',\n",
       " 'forward',\n",
       " 'free',\n",
       " 'freedom',\n",
       " 'friend',\n",
       " 'friends',\n",
       " 'fully',\n",
       " 'function',\n",
       " 'functions',\n",
       " 'future',\n",
       " 'game',\n",
       " 'games',\n",
       " 'gave',\n",
       " 'general',\n",
       " 'generally',\n",
       " 'genocide',\n",
       " 'germany',\n",
       " 'gets',\n",
       " 'getting',\n",
       " 'given',\n",
       " 'gives',\n",
       " 'giving',\n",
       " 'goal',\n",
       " 'goals',\n",
       " 'goes',\n",
       " 'going',\n",
       " 'gone',\n",
       " 'good',\n",
       " 'government',\n",
       " 'graphics',\n",
       " 'great',\n",
       " 'greatly',\n",
       " 'greek',\n",
       " 'ground',\n",
       " 'group',\n",
       " 'groups',\n",
       " 'guess',\n",
       " 'guns',\n",
       " 'guys',\n",
       " 'half',\n",
       " 'hand',\n",
       " 'handle',\n",
       " 'hands',\n",
       " 'happen',\n",
       " 'happened',\n",
       " 'happens',\n",
       " 'happy',\n",
       " 'hard',\n",
       " 'hardware',\n",
       " 'head',\n",
       " 'health',\n",
       " 'hear',\n",
       " 'heard',\n",
       " 'heaven',\n",
       " 'held',\n",
       " 'hell',\n",
       " 'hello',\n",
       " 'help',\n",
       " 'high',\n",
       " 'higher',\n",
       " 'history',\n",
       " 'hockey',\n",
       " 'hold',\n",
       " 'holy',\n",
       " 'home',\n",
       " 'hope',\n",
       " 'hours',\n",
       " 'house',\n",
       " 'human',\n",
       " 'idea',\n",
       " 'ideas',\n",
       " 'image',\n",
       " 'images',\n",
       " 'imagine',\n",
       " 'important',\n",
       " 'include',\n",
       " 'included',\n",
       " 'includes',\n",
       " 'including',\n",
       " 'increase',\n",
       " 'independent',\n",
       " 'individual',\n",
       " 'info',\n",
       " 'information',\n",
       " 'input',\n",
       " 'inside',\n",
       " 'installed',\n",
       " 'instead',\n",
       " 'institute',\n",
       " 'insurance',\n",
       " 'intended',\n",
       " 'interested',\n",
       " 'interesting',\n",
       " 'interface',\n",
       " 'internal',\n",
       " 'international',\n",
       " 'internet',\n",
       " 'involved',\n",
       " 'israel',\n",
       " 'israeli',\n",
       " 'issue',\n",
       " 'issues',\n",
       " 'james',\n",
       " 'jesus',\n",
       " 'jewish',\n",
       " 'jews',\n",
       " 'jobs',\n",
       " 'john',\n",
       " 'jpeg',\n",
       " 'kept',\n",
       " 'keyboard',\n",
       " 'keys',\n",
       " 'kill',\n",
       " 'killed',\n",
       " 'killing',\n",
       " 'kind',\n",
       " 'king',\n",
       " 'knew',\n",
       " 'know',\n",
       " 'knowledge',\n",
       " 'known',\n",
       " 'knows',\n",
       " 'lack',\n",
       " 'land',\n",
       " 'language',\n",
       " 'large',\n",
       " 'late',\n",
       " 'later',\n",
       " 'latest',\n",
       " 'launch',\n",
       " 'laws',\n",
       " 'lead',\n",
       " 'league',\n",
       " 'learn',\n",
       " 'leave',\n",
       " 'left',\n",
       " 'legal',\n",
       " 'letter',\n",
       " 'level',\n",
       " 'library',\n",
       " 'license',\n",
       " 'life',\n",
       " 'light',\n",
       " 'like',\n",
       " 'likely',\n",
       " 'limited',\n",
       " 'line',\n",
       " 'lines',\n",
       " 'list',\n",
       " 'little',\n",
       " 'live',\n",
       " 'lives',\n",
       " 'living',\n",
       " 'local',\n",
       " 'logic',\n",
       " 'long',\n",
       " 'longer',\n",
       " 'look',\n",
       " 'looked',\n",
       " 'looking',\n",
       " 'looks',\n",
       " 'lord',\n",
       " 'lost',\n",
       " 'lots',\n",
       " 'love',\n",
       " 'lower',\n",
       " 'lunar',\n",
       " 'machine',\n",
       " 'machines',\n",
       " 'magazine',\n",
       " 'mail',\n",
       " 'mailing',\n",
       " 'main',\n",
       " 'major',\n",
       " 'majority',\n",
       " 'make',\n",
       " 'makes',\n",
       " 'making',\n",
       " 'manager',\n",
       " 'manual',\n",
       " 'march',\n",
       " 'mark',\n",
       " 'market',\n",
       " 'mass',\n",
       " 'master',\n",
       " 'material',\n",
       " 'matter',\n",
       " 'matthew',\n",
       " 'maybe',\n",
       " 'mean',\n",
       " 'meaning',\n",
       " 'means',\n",
       " 'media',\n",
       " 'medical',\n",
       " 'member',\n",
       " 'members',\n",
       " 'memory',\n",
       " 'mention',\n",
       " 'mentioned',\n",
       " 'message',\n",
       " 'messages',\n",
       " 'method',\n",
       " 'michael',\n",
       " 'middle',\n",
       " 'mike',\n",
       " 'miles',\n",
       " 'military',\n",
       " 'million',\n",
       " 'mind',\n",
       " 'minutes',\n",
       " 'misc',\n",
       " 'mission',\n",
       " 'mode',\n",
       " 'model',\n",
       " 'models',\n",
       " 'modem',\n",
       " 'modern',\n",
       " 'money',\n",
       " 'monitor',\n",
       " 'month',\n",
       " 'months',\n",
       " 'moon',\n",
       " 'moral',\n",
       " 'morning',\n",
       " 'mother',\n",
       " 'motif',\n",
       " 'mouse',\n",
       " 'multi',\n",
       " 'multiple',\n",
       " 'muslim',\n",
       " 'names',\n",
       " 'nasa',\n",
       " 'national',\n",
       " 'natural',\n",
       " 'nature',\n",
       " 'near',\n",
       " 'necessary',\n",
       " 'need',\n",
       " 'needed',\n",
       " 'needs',\n",
       " 'network',\n",
       " 'news',\n",
       " 'newsgroup',\n",
       " 'nice',\n",
       " 'night',\n",
       " 'normal',\n",
       " 'north',\n",
       " 'note',\n",
       " 'nuclear',\n",
       " 'null',\n",
       " 'number',\n",
       " 'numbers',\n",
       " 'object',\n",
       " 'objective',\n",
       " 'obvious',\n",
       " 'obviously',\n",
       " 'offer',\n",
       " 'offers',\n",
       " 'office',\n",
       " 'official',\n",
       " 'ones',\n",
       " 'open',\n",
       " 'operation',\n",
       " 'opinion',\n",
       " 'opinions',\n",
       " 'option',\n",
       " 'options',\n",
       " 'orbit',\n",
       " 'order',\n",
       " 'organization',\n",
       " 'original',\n",
       " 'output',\n",
       " 'outside',\n",
       " 'package',\n",
       " 'page',\n",
       " 'paid',\n",
       " 'pain',\n",
       " 'paper',\n",
       " 'particular',\n",
       " 'particularly',\n",
       " 'parts',\n",
       " 'party',\n",
       " 'pass',\n",
       " 'passed',\n",
       " 'past',\n",
       " 'patients',\n",
       " 'paul',\n",
       " 'peace',\n",
       " 'people',\n",
       " 'perfect',\n",
       " 'performance',\n",
       " 'period',\n",
       " 'person',\n",
       " 'personal',\n",
       " 'peter',\n",
       " 'phone',\n",
       " 'physical',\n",
       " 'pick',\n",
       " 'picture',\n",
       " 'pittsburgh',\n",
       " 'place',\n",
       " 'places',\n",
       " 'plan',\n",
       " 'play',\n",
       " 'played',\n",
       " 'player',\n",
       " 'players',\n",
       " 'playing',\n",
       " 'plus',\n",
       " 'point',\n",
       " 'points',\n",
       " 'police',\n",
       " 'policy',\n",
       " 'political',\n",
       " 'poor',\n",
       " 'population',\n",
       " 'port',\n",
       " 'position',\n",
       " 'possible',\n",
       " 'possibly',\n",
       " 'post',\n",
       " 'posted',\n",
       " 'posting',\n",
       " 'posts',\n",
       " 'postscript',\n",
       " 'power',\n",
       " 'practice',\n",
       " 'present',\n",
       " 'president',\n",
       " 'press',\n",
       " 'pretty',\n",
       " 'prevent',\n",
       " 'previous',\n",
       " 'price',\n",
       " 'print',\n",
       " 'printer',\n",
       " 'privacy',\n",
       " 'private',\n",
       " 'probably',\n",
       " 'problem',\n",
       " 'problems',\n",
       " 'process',\n",
       " 'processing',\n",
       " 'produce',\n",
       " 'product',\n",
       " 'products',\n",
       " 'program',\n",
       " 'programming',\n",
       " 'programs',\n",
       " 'project',\n",
       " 'property',\n",
       " 'protect',\n",
       " 'protection',\n",
       " 'prove',\n",
       " 'provide',\n",
       " 'provided',\n",
       " 'provides',\n",
       " 'public',\n",
       " 'published',\n",
       " 'purpose',\n",
       " 'quality',\n",
       " 'question',\n",
       " 'questions',\n",
       " 'quite',\n",
       " 'quote',\n",
       " 'radio',\n",
       " 'range',\n",
       " 'rate',\n",
       " 'rates',\n",
       " 'read',\n",
       " 'reading',\n",
       " 'real',\n",
       " 'reality',\n",
       " 'realize',\n",
       " 'really',\n",
       " 'reason',\n",
       " 'reasonable',\n",
       " 'reasons',\n",
       " 'receive',\n",
       " 'received',\n",
       " 'recent',\n",
       " 'recently',\n",
       " 'record',\n",
       " 'reference',\n",
       " 'references',\n",
       " 'regarding',\n",
       " 'regular',\n",
       " 'related',\n",
       " 'release',\n",
       " 'religion',\n",
       " 'religious',\n",
       " 'remember',\n",
       " 'remote',\n",
       " 'reply',\n",
       " 'report',\n",
       " 'reported',\n",
       " 'reports',\n",
       " 'request',\n",
       " 'require',\n",
       " 'required',\n",
       " 'requires',\n",
       " 'research',\n",
       " 'resource',\n",
       " 'resources',\n",
       " 'respect',\n",
       " 'response',\n",
       " 'rest',\n",
       " 'result',\n",
       " 'results',\n",
       " 'return',\n",
       " 'right',\n",
       " 'rights',\n",
       " 'risk',\n",
       " 'road',\n",
       " 'robert',\n",
       " 'room',\n",
       " 'round',\n",
       " 'rule',\n",
       " 'rules',\n",
       " 'running',\n",
       " 'runs',\n",
       " 'russia',\n",
       " 'russian',\n",
       " 'safe',\n",
       " 'safety',\n",
       " 'said',\n",
       " 'sale',\n",
       " 'satellite',\n",
       " 'save',\n",
       " 'saying',\n",
       " 'says',\n",
       " 'school',\n",
       " 'science',\n",
       " 'scientific',\n",
       " 'screen',\n",
       " 'scsi',\n",
       " 'search',\n",
       " 'season',\n",
       " 'second',\n",
       " 'secret',\n",
       " 'section',\n",
       " 'secure',\n",
       " 'security',\n",
       " 'seen',\n",
       " 'self',\n",
       " 'sell',\n",
       " 'send',\n",
       " 'sense',\n",
       " 'sent',\n",
       " 'serial',\n",
       " 'series',\n",
       " 'seriously',\n",
       " 'server',\n",
       " 'service',\n",
       " 'services',\n",
       " 'setting',\n",
       " 'shall',\n",
       " 'shipping',\n",
       " 'short',\n",
       " 'shot',\n",
       " 'shows',\n",
       " 'shuttle',\n",
       " 'similar',\n",
       " 'simple',\n",
       " 'simply',\n",
       " 'single',\n",
       " 'site',\n",
       " 'sites',\n",
       " 'situation',\n",
       " 'size',\n",
       " 'slow',\n",
       " 'small',\n",
       " 'smith',\n",
       " 'social',\n",
       " 'society',\n",
       " 'software',\n",
       " 'sold',\n",
       " 'soldiers',\n",
       " 'solution',\n",
       " 'somebody',\n",
       " 'soon',\n",
       " 'sorry',\n",
       " 'sort',\n",
       " 'sound',\n",
       " 'sounds',\n",
       " 'source',\n",
       " 'sources',\n",
       " 'south',\n",
       " 'soviet',\n",
       " 'space',\n",
       " 'speak',\n",
       " 'special',\n",
       " 'specific',\n",
       " 'specifically',\n",
       " 'speed',\n",
       " 'spirit',\n",
       " 'stand',\n",
       " 'standard',\n",
       " 'standards',\n",
       " 'start',\n",
       " 'started',\n",
       " 'starting',\n",
       " 'state',\n",
       " 'stated',\n",
       " 'statement',\n",
       " 'states',\n",
       " 'station',\n",
       " 'stay',\n",
       " 'step',\n",
       " 'stephanopoulos',\n",
       " 'steve',\n",
       " 'stop',\n",
       " 'story',\n",
       " 'stream',\n",
       " 'street',\n",
       " 'strong',\n",
       " 'studies',\n",
       " 'study',\n",
       " 'stuff',\n",
       " 'stupid',\n",
       " 'subject',\n",
       " 'suggest',\n",
       " 'suggestions',\n",
       " 'summer',\n",
       " 'supply',\n",
       " 'support',\n",
       " 'supported',\n",
       " 'supports',\n",
       " 'suppose',\n",
       " 'supposed',\n",
       " 'sure',\n",
       " 'surface',\n",
       " 'suspect',\n",
       " 'switch',\n",
       " 'systems',\n",
       " 'table',\n",
       " 'taken',\n",
       " 'takes',\n",
       " 'taking',\n",
       " 'talk',\n",
       " 'talking',\n",
       " 'tape',\n",
       " 'team',\n",
       " 'teams',\n",
       " 'technical',\n",
       " 'technology',\n",
       " 'tell',\n",
       " 'term',\n",
       " 'terms',\n",
       " 'test',\n",
       " 'text',\n",
       " 'thank',\n",
       " 'thanks',\n",
       " 'theory',\n",
       " 'thing',\n",
       " 'things',\n",
       " 'think',\n",
       " 'thinking',\n",
       " 'thought',\n",
       " 'time',\n",
       " 'times',\n",
       " 'title',\n",
       " 'today',\n",
       " 'told',\n",
       " 'took',\n",
       " 'tools',\n",
       " 'toronto',\n",
       " 'total',\n",
       " 'town',\n",
       " 'trade',\n",
       " 'traffic',\n",
       " 'transfer',\n",
       " 'tried',\n",
       " 'trouble',\n",
       " 'true',\n",
       " 'trust',\n",
       " 'truth',\n",
       " 'trying',\n",
       " 'turkey',\n",
       " 'turkish',\n",
       " 'turks',\n",
       " 'turn',\n",
       " 'turned',\n",
       " 'type',\n",
       " 'types',\n",
       " 'understand',\n",
       " 'understanding',\n",
       " 'unfortunately',\n",
       " 'unit',\n",
       " 'united',\n",
       " 'universe',\n",
       " 'university',\n",
       " 'unix',\n",
       " 'unless',\n",
       " 'used',\n",
       " 'useful',\n",
       " 'usenet',\n",
       " 'user',\n",
       " 'users',\n",
       " 'uses',\n",
       " 'using',\n",
       " 'usually',\n",
       " 'valid',\n",
       " 'value',\n",
       " 'values',\n",
       " 'vancouver',\n",
       " 'various',\n",
       " 'vehicle',\n",
       " 'version',\n",
       " 'versions',\n",
       " 'video',\n",
       " 'view',\n",
       " 'voice',\n",
       " 'volume',\n",
       " 'wait',\n",
       " 'want',\n",
       " 'wanted',\n",
       " 'wants',\n",
       " 'washington',\n",
       " 'watch',\n",
       " 'water',\n",
       " 'ways',\n",
       " 'weapon',\n",
       " 'weapons',\n",
       " 'week',\n",
       " 'weeks',\n",
       " 'went',\n",
       " 'west',\n",
       " 'western',\n",
       " 'white',\n",
       " 'wide',\n",
       " 'widget',\n",
       " 'wife',\n",
       " 'willing',\n",
       " 'window',\n",
       " 'windows',\n",
       " 'wire',\n",
       " 'wish',\n",
       " 'woman',\n",
       " 'women',\n",
       " 'wonder',\n",
       " 'wondering',\n",
       " 'word',\n",
       " 'words',\n",
       " 'work',\n",
       " 'worked',\n",
       " 'working',\n",
       " 'works',\n",
       " 'world',\n",
       " 'worse',\n",
       " 'worth',\n",
       " 'write',\n",
       " 'writing',\n",
       " 'written',\n",
       " 'wrong',\n",
       " 'wrote',\n",
       " 'xterm',\n",
       " 'yeah',\n",
       " 'year',\n",
       " 'years',\n",
       " 'york',\n",
       " 'young']"
      ]
     },
     "execution_count": 179,
     "metadata": {},
     "output_type": "execute_result"
    }
   ],
   "source": [
    "terms"
   ]
  },
  {
   "cell_type": "code",
   "execution_count": 182,
   "metadata": {},
   "outputs": [],
   "source": [
    "def get_topics(components, feature_names, n = 5):\n",
    "    for idx, topic in enumerate(components):\n",
    "        print(\"Topic %d:\" % (idx+1), [(feature_names[i], topic[i].round(5)) for i in topic.argsort()[:-n - 1:-1]])\n",
    "        # .argsort: sorting한 것의 인덱스를 리턴"
   ]
  },
  {
   "cell_type": "code",
   "execution_count": 183,
   "metadata": {
    "collapsed": true,
    "jupyter": {
     "outputs_hidden": true
    }
   },
   "outputs": [
    {
     "name": "stdout",
     "output_type": "stream",
     "text": [
      "Topic 1: [('like', 0.21386), ('know', 0.20046), ('people', 0.19293), ('think', 0.17805), ('good', 0.15128)]\n",
      "Topic 2: [('thanks', 0.32888), ('windows', 0.29088), ('card', 0.18069), ('drive', 0.17455), ('mail', 0.15111)]\n",
      "Topic 3: [('game', 0.37064), ('team', 0.32443), ('year', 0.28154), ('games', 0.2537), ('season', 0.18419)]\n",
      "Topic 4: [('drive', 0.53324), ('scsi', 0.20165), ('hard', 0.15628), ('disk', 0.15578), ('card', 0.13994)]\n",
      "Topic 5: [('windows', 0.40399), ('file', 0.25436), ('window', 0.18044), ('files', 0.16078), ('program', 0.13894)]\n",
      "Topic 6: [('chip', 0.16114), ('government', 0.16009), ('mail', 0.15625), ('space', 0.1507), ('information', 0.13562)]\n",
      "Topic 7: [('like', 0.67086), ('bike', 0.14236), ('chip', 0.11169), ('know', 0.11139), ('sounds', 0.10371)]\n",
      "Topic 8: [('card', 0.46633), ('video', 0.22137), ('sale', 0.21266), ('monitor', 0.15463), ('offer', 0.14643)]\n",
      "Topic 9: [('know', 0.46047), ('card', 0.33605), ('chip', 0.17558), ('government', 0.1522), ('video', 0.14356)]\n",
      "Topic 10: [('good', 0.42756), ('know', 0.23039), ('time', 0.1882), ('bike', 0.11406), ('jesus', 0.09027)]\n",
      "Topic 11: [('think', 0.78469), ('chip', 0.10899), ('good', 0.10635), ('thanks', 0.09123), ('clipper', 0.07946)]\n",
      "Topic 12: [('thanks', 0.36824), ('good', 0.22729), ('right', 0.21559), ('bike', 0.21037), ('problem', 0.20894)]\n",
      "Topic 13: [('good', 0.36212), ('people', 0.33985), ('windows', 0.28385), ('know', 0.26232), ('file', 0.18422)]\n",
      "Topic 14: [('space', 0.39946), ('think', 0.23258), ('know', 0.18074), ('nasa', 0.15174), ('problem', 0.12957)]\n",
      "Topic 15: [('space', 0.31613), ('good', 0.3094), ('card', 0.22603), ('people', 0.17476), ('time', 0.14496)]\n",
      "Topic 16: [('people', 0.48156), ('problem', 0.19961), ('window', 0.15281), ('time', 0.14664), ('game', 0.12871)]\n",
      "Topic 17: [('time', 0.34465), ('bike', 0.27303), ('right', 0.25557), ('windows', 0.1997), ('file', 0.19118)]\n",
      "Topic 18: [('time', 0.5973), ('problem', 0.15504), ('file', 0.14956), ('think', 0.12847), ('israel', 0.10903)]\n",
      "Topic 19: [('file', 0.44163), ('need', 0.26633), ('card', 0.18388), ('files', 0.17453), ('right', 0.15448)]\n",
      "Topic 20: [('problem', 0.33006), ('file', 0.27651), ('thanks', 0.23578), ('used', 0.19206), ('space', 0.13185)]\n"
     ]
    }
   ],
   "source": [
    "# 각 20개의 행의 각 1,000개의 열 중 가장 값이 큰 5개의 값을 찾아서 단어로 출력\n",
    "get_topics(svd_model.components_, terms)"
   ]
  },
  {
   "cell_type": "markdown",
   "metadata": {},
   "source": [
    "### 실습1"
   ]
  },
  {
   "cell_type": "code",
   "execution_count": 186,
   "metadata": {},
   "outputs": [
    {
     "data": {
      "text/plain": [
       "0    [well, sure, story, seem, biased, disagree, st...\n",
       "1    [yeah, expect, people, read, actually, accept,...\n",
       "2    [although, realize, principle, strongest, poin...\n",
       "3    [notwithstanding, legitimate, fuss, proposal, ...\n",
       "4    [well, change, scoring, playoff, pool, unfortu...\n",
       "Name: clean_doc, dtype: object"
      ]
     },
     "execution_count": 186,
     "metadata": {},
     "output_type": "execute_result"
    }
   ],
   "source": [
    "tokenized_doc[:5]"
   ]
  },
  {
   "cell_type": "code",
   "execution_count": 185,
   "metadata": {},
   "outputs": [],
   "source": [
    "from gensim import corpora"
   ]
  },
  {
   "cell_type": "code",
   "execution_count": 187,
   "metadata": {},
   "outputs": [],
   "source": [
    "dictionary = corpora.Dictionary(tokenized_doc)"
   ]
  },
  {
   "cell_type": "code",
   "execution_count": 188,
   "metadata": {},
   "outputs": [
    {
     "data": {
      "text/plain": [
       "<gensim.corpora.dictionary.Dictionary at 0x1cd8cebd490>"
      ]
     },
     "execution_count": 188,
     "metadata": {},
     "output_type": "execute_result"
    }
   ],
   "source": [
    "dictionary"
   ]
  },
  {
   "cell_type": "code",
   "execution_count": 189,
   "metadata": {},
   "outputs": [],
   "source": [
    "corpus = [dictionary.doc2bow(text) for text in tokenized_doc]"
   ]
  },
  {
   "cell_type": "code",
   "execution_count": 193,
   "metadata": {},
   "outputs": [
    {
     "data": {
      "text/plain": [
       "[(52, 1),\n",
       " (55, 1),\n",
       " (56, 1),\n",
       " (57, 1),\n",
       " (58, 1),\n",
       " (59, 1),\n",
       " (60, 1),\n",
       " (61, 1),\n",
       " (62, 1),\n",
       " (63, 1),\n",
       " (64, 1),\n",
       " (65, 1),\n",
       " (66, 2),\n",
       " (67, 1),\n",
       " (68, 1),\n",
       " (69, 1),\n",
       " (70, 1),\n",
       " (71, 2),\n",
       " (72, 1),\n",
       " (73, 1),\n",
       " (74, 1),\n",
       " (75, 1),\n",
       " (76, 1),\n",
       " (77, 1),\n",
       " (78, 2),\n",
       " (79, 1),\n",
       " (80, 1),\n",
       " (81, 1),\n",
       " (82, 1),\n",
       " (83, 1),\n",
       " (84, 1),\n",
       " (85, 2),\n",
       " (86, 1),\n",
       " (87, 1),\n",
       " (88, 1),\n",
       " (89, 1)]"
      ]
     },
     "execution_count": 193,
     "metadata": {},
     "output_type": "execute_result"
    }
   ],
   "source": [
    "# 두번째 뉴스 출력. 단어 인덱스와 개수\n",
    "corpus[1]"
   ]
  },
  {
   "cell_type": "code",
   "execution_count": 194,
   "metadata": {},
   "outputs": [
    {
     "data": {
      "text/plain": [
       "'unfortunately'"
      ]
     },
     "execution_count": 194,
     "metadata": {},
     "output_type": "execute_result"
    }
   ],
   "source": [
    "dictionary[211]"
   ]
  },
  {
   "cell_type": "code",
   "execution_count": 195,
   "metadata": {},
   "outputs": [
    {
     "data": {
      "text/plain": [
       "64281"
      ]
     },
     "execution_count": 195,
     "metadata": {},
     "output_type": "execute_result"
    }
   ],
   "source": [
    "len(dictionary)"
   ]
  },
  {
   "cell_type": "code",
   "execution_count": 208,
   "metadata": {},
   "outputs": [],
   "source": [
    "import gensim"
   ]
  },
  {
   "cell_type": "code",
   "execution_count": 209,
   "metadata": {},
   "outputs": [],
   "source": [
    "NUM_TOPICS = 20 # 20개의 토픽"
   ]
  },
  {
   "cell_type": "code",
   "execution_count": 210,
   "metadata": {},
   "outputs": [],
   "source": [
    "# LDA 확률을 무작위로 할당하여 확률을 반복해서 수정\n",
    "ldamodel = gensim.models.ldamodel.LdaModel(corpus, num_topics = NUM_TOPICS, id2word = dictionary, passes = 15)\n",
    "# id2word: 숫자를 문자로 변환. dictionary를 참고하여"
   ]
  },
  {
   "cell_type": "code",
   "execution_count": 211,
   "metadata": {},
   "outputs": [],
   "source": [
    "topics = ldamodel.print_topics(num_words=4)"
   ]
  },
  {
   "cell_type": "code",
   "execution_count": 212,
   "metadata": {},
   "outputs": [
    {
     "name": "stdout",
     "output_type": "stream",
     "text": [
      "(0, '0.009*\"system\" + 0.008*\"part\" + 0.007*\"ripem\" + 0.007*\"theory\"')\n",
      "(1, '0.017*\"gordon\" + 0.017*\"pitt\" + 0.016*\"banks\" + 0.015*\"soon\"')\n",
      "(2, '0.030*\"game\" + 0.023*\"team\" + 0.023*\"games\" + 0.016*\"play\"')\n",
      "(3, '0.012*\"candida\" + 0.009*\"terminals\" + 0.008*\"accelerator\" + 0.007*\"syndrome\"')\n",
      "(4, '0.025*\"year\" + 0.015*\"players\" + 0.014*\"league\" + 0.013*\"last\"')\n",
      "(5, '0.020*\"president\" + 0.011*\"going\" + 0.008*\"jobs\" + 0.008*\"think\"')\n",
      "(6, '0.038*\"scsi\" + 0.018*\"remark\" + 0.011*\"judges\" + 0.011*\"byte\"')\n",
      "(7, '0.010*\"like\" + 0.009*\"would\" + 0.008*\"time\" + 0.006*\"good\"')\n",
      "(8, '0.045*\"jesus\" + 0.023*\"bible\" + 0.022*\"christian\" + 0.019*\"christ\"')\n",
      "(9, '0.033*\"space\" + 0.012*\"nasa\" + 0.008*\"data\" + 0.007*\"entries\"')\n",
      "(10, '0.016*\"would\" + 0.014*\"people\" + 0.008*\"think\" + 0.007*\"know\"')\n",
      "(11, '0.018*\"period\" + 0.013*\"chicago\" + 0.013*\"boston\" + 0.012*\"power\"')\n",
      "(12, '0.026*\"health\" + 0.022*\"medical\" + 0.014*\"disease\" + 0.012*\"patients\"')\n",
      "(13, '0.016*\"armenian\" + 0.014*\"israel\" + 0.014*\"armenians\" + 0.013*\"jews\"')\n",
      "(14, '0.018*\"wire\" + 0.015*\"ground\" + 0.015*\"unit\" + 0.011*\"serial\"')\n",
      "(15, '0.010*\"thanks\" + 0.010*\"would\" + 0.009*\"windows\" + 0.009*\"know\"')\n",
      "(16, '0.012*\"cover\" + 0.008*\"copies\" + 0.006*\"weaver\" + 0.006*\"rockefeller\"')\n",
      "(17, '0.019*\"file\" + 0.012*\"program\" + 0.010*\"available\" + 0.009*\"files\"')\n",
      "(18, '0.020*\"encryption\" + 0.017*\"chip\" + 0.015*\"keys\" + 0.015*\"clipper\"')\n",
      "(19, '0.009*\"state\" + 0.008*\"states\" + 0.008*\"national\" + 0.007*\"control\"')\n"
     ]
    }
   ],
   "source": [
    "for topic in topics:\n",
    "    print(topic)"
   ]
  },
  {
   "cell_type": "code",
   "execution_count": 213,
   "metadata": {},
   "outputs": [],
   "source": [
    "import pyLDAvis.gensim\n",
    "pyLDAvis.enable_notebook()"
   ]
  },
  {
   "cell_type": "code",
   "execution_count": 214,
   "metadata": {},
   "outputs": [
    {
     "ename": "ValidationError",
     "evalue": "\n * Not all rows (distributions) in topic_term_dists sum to 1.",
     "output_type": "error",
     "traceback": [
      "\u001b[1;31m---------------------------------------------------------------------------\u001b[0m",
      "\u001b[1;31mValidationError\u001b[0m                           Traceback (most recent call last)",
      "\u001b[1;32m<ipython-input-214-ed3636d2da6d>\u001b[0m in \u001b[0;36m<module>\u001b[1;34m\u001b[0m\n\u001b[1;32m----> 1\u001b[1;33m \u001b[0mvis\u001b[0m \u001b[1;33m=\u001b[0m \u001b[0mpyLDAvis\u001b[0m\u001b[1;33m.\u001b[0m\u001b[0mgensim\u001b[0m\u001b[1;33m.\u001b[0m\u001b[0mprepare\u001b[0m\u001b[1;33m(\u001b[0m\u001b[0mldamodel\u001b[0m\u001b[1;33m,\u001b[0m \u001b[0mcorpus\u001b[0m\u001b[1;33m,\u001b[0m \u001b[0mdictionary\u001b[0m\u001b[1;33m)\u001b[0m\u001b[1;33m\u001b[0m\u001b[1;33m\u001b[0m\u001b[0m\n\u001b[0m",
      "\u001b[1;32mC:\\ProgramData\\Anaconda3\\lib\\site-packages\\pyLDAvis\\gensim.py\u001b[0m in \u001b[0;36mprepare\u001b[1;34m(topic_model, corpus, dictionary, doc_topic_dist, **kwargs)\u001b[0m\n\u001b[0;32m    117\u001b[0m     \"\"\"\n\u001b[0;32m    118\u001b[0m     \u001b[0mopts\u001b[0m \u001b[1;33m=\u001b[0m \u001b[0mfp\u001b[0m\u001b[1;33m.\u001b[0m\u001b[0mmerge\u001b[0m\u001b[1;33m(\u001b[0m\u001b[0m_extract_data\u001b[0m\u001b[1;33m(\u001b[0m\u001b[0mtopic_model\u001b[0m\u001b[1;33m,\u001b[0m \u001b[0mcorpus\u001b[0m\u001b[1;33m,\u001b[0m \u001b[0mdictionary\u001b[0m\u001b[1;33m,\u001b[0m \u001b[0mdoc_topic_dist\u001b[0m\u001b[1;33m)\u001b[0m\u001b[1;33m,\u001b[0m \u001b[0mkwargs\u001b[0m\u001b[1;33m)\u001b[0m\u001b[1;33m\u001b[0m\u001b[1;33m\u001b[0m\u001b[0m\n\u001b[1;32m--> 119\u001b[1;33m     \u001b[1;32mreturn\u001b[0m \u001b[0mvis_prepare\u001b[0m\u001b[1;33m(\u001b[0m\u001b[1;33m**\u001b[0m\u001b[0mopts\u001b[0m\u001b[1;33m)\u001b[0m\u001b[1;33m\u001b[0m\u001b[1;33m\u001b[0m\u001b[0m\n\u001b[0m",
      "\u001b[1;32mC:\\ProgramData\\Anaconda3\\lib\\site-packages\\pyLDAvis\\_prepare.py\u001b[0m in \u001b[0;36mprepare\u001b[1;34m(topic_term_dists, doc_topic_dists, doc_lengths, vocab, term_frequency, R, lambda_step, mds, n_jobs, plot_opts, sort_topics)\u001b[0m\n\u001b[0;32m    372\u001b[0m    \u001b[0mdoc_lengths\u001b[0m      \u001b[1;33m=\u001b[0m \u001b[0m_series_with_name\u001b[0m\u001b[1;33m(\u001b[0m\u001b[0mdoc_lengths\u001b[0m\u001b[1;33m,\u001b[0m \u001b[1;34m'doc_length'\u001b[0m\u001b[1;33m)\u001b[0m\u001b[1;33m\u001b[0m\u001b[1;33m\u001b[0m\u001b[0m\n\u001b[0;32m    373\u001b[0m    \u001b[0mvocab\u001b[0m            \u001b[1;33m=\u001b[0m \u001b[0m_series_with_name\u001b[0m\u001b[1;33m(\u001b[0m\u001b[0mvocab\u001b[0m\u001b[1;33m,\u001b[0m \u001b[1;34m'vocab'\u001b[0m\u001b[1;33m)\u001b[0m\u001b[1;33m\u001b[0m\u001b[1;33m\u001b[0m\u001b[0m\n\u001b[1;32m--> 374\u001b[1;33m    \u001b[0m_input_validate\u001b[0m\u001b[1;33m(\u001b[0m\u001b[0mtopic_term_dists\u001b[0m\u001b[1;33m,\u001b[0m \u001b[0mdoc_topic_dists\u001b[0m\u001b[1;33m,\u001b[0m \u001b[0mdoc_lengths\u001b[0m\u001b[1;33m,\u001b[0m \u001b[0mvocab\u001b[0m\u001b[1;33m,\u001b[0m \u001b[0mterm_frequency\u001b[0m\u001b[1;33m)\u001b[0m\u001b[1;33m\u001b[0m\u001b[1;33m\u001b[0m\u001b[0m\n\u001b[0m\u001b[0;32m    375\u001b[0m    \u001b[0mR\u001b[0m \u001b[1;33m=\u001b[0m \u001b[0mmin\u001b[0m\u001b[1;33m(\u001b[0m\u001b[0mR\u001b[0m\u001b[1;33m,\u001b[0m \u001b[0mlen\u001b[0m\u001b[1;33m(\u001b[0m\u001b[0mvocab\u001b[0m\u001b[1;33m)\u001b[0m\u001b[1;33m)\u001b[0m\u001b[1;33m\u001b[0m\u001b[1;33m\u001b[0m\u001b[0m\n\u001b[0;32m    376\u001b[0m \u001b[1;33m\u001b[0m\u001b[0m\n",
      "\u001b[1;32mC:\\ProgramData\\Anaconda3\\lib\\site-packages\\pyLDAvis\\_prepare.py\u001b[0m in \u001b[0;36m_input_validate\u001b[1;34m(*args)\u001b[0m\n\u001b[0;32m     63\u001b[0m    \u001b[0mres\u001b[0m \u001b[1;33m=\u001b[0m \u001b[0m_input_check\u001b[0m\u001b[1;33m(\u001b[0m\u001b[1;33m*\u001b[0m\u001b[0margs\u001b[0m\u001b[1;33m)\u001b[0m\u001b[1;33m\u001b[0m\u001b[1;33m\u001b[0m\u001b[0m\n\u001b[0;32m     64\u001b[0m    \u001b[1;32mif\u001b[0m \u001b[0mres\u001b[0m\u001b[1;33m:\u001b[0m\u001b[1;33m\u001b[0m\u001b[1;33m\u001b[0m\u001b[0m\n\u001b[1;32m---> 65\u001b[1;33m       \u001b[1;32mraise\u001b[0m \u001b[0mValidationError\u001b[0m\u001b[1;33m(\u001b[0m\u001b[1;34m'\\n'\u001b[0m \u001b[1;33m+\u001b[0m \u001b[1;34m'\\n'\u001b[0m\u001b[1;33m.\u001b[0m\u001b[0mjoin\u001b[0m\u001b[1;33m(\u001b[0m\u001b[1;33m[\u001b[0m\u001b[1;34m' * '\u001b[0m \u001b[1;33m+\u001b[0m \u001b[0ms\u001b[0m \u001b[1;32mfor\u001b[0m \u001b[0ms\u001b[0m \u001b[1;32min\u001b[0m \u001b[0mres\u001b[0m\u001b[1;33m]\u001b[0m\u001b[1;33m)\u001b[0m\u001b[1;33m)\u001b[0m\u001b[1;33m\u001b[0m\u001b[1;33m\u001b[0m\u001b[0m\n\u001b[0m\u001b[0;32m     66\u001b[0m \u001b[1;33m\u001b[0m\u001b[0m\n\u001b[0;32m     67\u001b[0m \u001b[1;33m\u001b[0m\u001b[0m\n",
      "\u001b[1;31mValidationError\u001b[0m: \n * Not all rows (distributions) in topic_term_dists sum to 1."
     ]
    }
   ],
   "source": [
    "vis = pyLDAvis.gensim.prepare(ldamodel, corpus, dictionary)"
   ]
  },
  {
   "cell_type": "code",
   "execution_count": null,
   "metadata": {},
   "outputs": [],
   "source": [
    "pyLDAvis.display(vis)"
   ]
  },
  {
   "cell_type": "code",
   "execution_count": null,
   "metadata": {},
   "outputs": [],
   "source": []
  }
 ],
 "metadata": {
  "kernelspec": {
   "display_name": "Python 3",
   "language": "python",
   "name": "python3"
  },
  "language_info": {
   "codemirror_mode": {
    "name": "ipython",
    "version": 3
   },
   "file_extension": ".py",
   "mimetype": "text/x-python",
   "name": "python",
   "nbconvert_exporter": "python",
   "pygments_lexer": "ipython3",
   "version": "3.8.2"
  }
 },
 "nbformat": 4,
 "nbformat_minor": 4
}
